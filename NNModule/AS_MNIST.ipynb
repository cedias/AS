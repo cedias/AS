{
 "metadata": {
  "name": "",
  "signature": "sha256:ec936d1273150950fbf93f0042d39fd35a488a408ea503db90dafe0dc6daeebc"
 },
 "nbformat": 3,
 "nbformat_minor": 0,
 "worksheets": [
  {
   "cells": [
    {
     "cell_type": "markdown",
     "metadata": {},
     "source": [
      "#Loss & Modules"
     ]
    },
    {
     "cell_type": "code",
     "collapsed": false,
     "input": [
      "from NNPy import *"
     ],
     "language": "python",
     "metadata": {},
     "outputs": [],
     "prompt_number": 16
    },
    {
     "cell_type": "markdown",
     "metadata": {},
     "source": [
      "Nous allons nous int\u00e9resser au d\u00e9veloppement d'un classifieur sur les donn\u00e9es MNSIT (nous ferons des visages par la suite)"
     ]
    },
    {
     "cell_type": "markdown",
     "metadata": {},
     "source": [
      "Le chargement des donn\u00e9es MNIST s'effectue facilement gr\u00e2ce \u00e0 la commande suivante:\n"
     ]
    },
    {
     "cell_type": "code",
     "collapsed": true,
     "input": [
      "from sklearn.datasets import fetch_mldata\n",
      "mnist=fetch_mldata('MNIST original')\n",
      "mnist"
     ],
     "language": "python",
     "metadata": {},
     "outputs": [
      {
       "metadata": {},
       "output_type": "pyout",
       "prompt_number": 3,
       "text": [
        "{'COL_NAMES': ['label', 'data'],\n",
        " 'DESCR': 'mldata.org dataset: mnist-original',\n",
        " 'data': array([[0, 0, 0, ..., 0, 0, 0],\n",
        "        [0, 0, 0, ..., 0, 0, 0],\n",
        "        [0, 0, 0, ..., 0, 0, 0],\n",
        "        ..., \n",
        "        [0, 0, 0, ..., 0, 0, 0],\n",
        "        [0, 0, 0, ..., 0, 0, 0],\n",
        "        [0, 0, 0, ..., 0, 0, 0]], dtype=uint8),\n",
        " 'target': array([ 0.,  0.,  0., ...,  9.,  9.,  9.])}"
       ]
      }
     ],
     "prompt_number": 3
    },
    {
     "cell_type": "markdown",
     "metadata": {},
     "source": [
      "Visualisation des donn\u00e9es"
     ]
    },
    {
     "cell_type": "code",
     "collapsed": true,
     "input": [
      "import matplotlib.pyplot as plt\n",
      "import numpy as np\n",
      "\n",
      "plt.rc(\"image\",cmap=\"binary\")\n",
      "plt.subplot(10,10,1)\n",
      "\n",
      "for i in range(100):\n",
      "    plt.subplot(10,10,i)\n",
      "    idx=np.random.randint(len(mnist.data))\n",
      "    plt.imshow(mnist.data[idx].reshape(28,28))"
     ],
     "language": "python",
     "metadata": {},
     "outputs": [],
     "prompt_number": 4
    },
    {
     "cell_type": "markdown",
     "metadata": {},
     "source": [
      "Afin de r\u00e9duire la taille des exp\u00e9rimentations, nous allons nous restreindre aux chiffres dont les \u00e9tiquettes sont 6 et 8"
     ]
    },
    {
     "cell_type": "code",
     "collapsed": false,
     "input": [
      "import numpy as np\n",
      "\n",
      "#Creation des vecteurs d'entr\u00e9e\n",
      "mnist_6=mnist.data[mnist.target==6]\n",
      "nb_6=len(mnist_6)\n",
      "mnist_8=mnist.data[mnist.target==8]\n",
      "nb_8=len(mnist_8)\n",
      "mnist_6_8=np.vstack((mnist_6,mnist_8))\n",
      "print \"%d 6s and %d 8s\" % (nb_6,nb_8)\n",
      "\n",
      "#Creation des vecteurs de sortie\n",
      "target_6_8=np.array([[1]])\n",
      "for i in range(nb_6-1):\n",
      "    target_6_8=np.vstack((target_6_8,[1]))\n",
      "for i in range(nb_8):\n",
      "    target_6_8=np.vstack((target_6_8,[-1]))\n",
      "    \n",
      "print \"%d/%d vecteurs d'apprentissage\" % (len(target_6_8),len(mnist_6_8))\n",
      "\n",
      "\n"
     ],
     "language": "python",
     "metadata": {},
     "outputs": [
      {
       "output_type": "stream",
       "stream": "stdout",
       "text": [
        "6876 6s and 6825 8s\n",
        "13701/13701 vecteurs d'apprentissage"
       ]
      },
      {
       "output_type": "stream",
       "stream": "stdout",
       "text": [
        "\n"
       ]
      }
     ],
     "prompt_number": 5
    },
    {
     "cell_type": "markdown",
     "metadata": {},
     "source": [
      "Sous-\u00e9chantillonage des donn\u00e9es"
     ]
    },
    {
     "cell_type": "code",
     "collapsed": false,
     "input": [
      "# Sous-Echantillonage des deux matrices (pour test)\n",
      "randomvec=np.random.rand(len(target_6_8))\n",
      "randomvec=randomvec>0.8\n",
      "target_6_8=target_6_8[randomvec]\n",
      "mnist_6_8=mnist_6_8[randomvec]\n",
      "print \"%d/%d vecteurs d'apprentissage apres echantillonage\" % (len(target_6_8),len(mnist_6_8))\n"
     ],
     "language": "python",
     "metadata": {},
     "outputs": [
      {
       "output_type": "stream",
       "stream": "stdout",
       "text": [
        "2805/2805 vecteurs d'apprentissage apres echantillonage\n"
       ]
      }
     ],
     "prompt_number": 6
    },
    {
     "cell_type": "markdown",
     "metadata": {},
     "source": [
      "Cr\u00e9ation d'un ensemble de Train et de Test"
     ]
    },
    {
     "cell_type": "code",
     "collapsed": false,
     "input": [
      "#Creatin de train et test\n",
      "randomvec=np.random.rand(len(target_6_8))\n",
      "randomvec=randomvec>0.5\n",
      "\n",
      "train_data=mnist_6_8[randomvec]\n",
      "train_label=target_6_8[randomvec]\n",
      "test_data=mnist_6_8[np.logical_not(randomvec)]\n",
      "test_label=target_6_8[np.logical_not(randomvec)]\n",
      "print \"%d training examples and %d testing examples \" % (len(train_data),len(test_data))\n",
      "plt.imshow(train_data[np.random.randint(len(train_data))].reshape(28,28))"
     ],
     "language": "python",
     "metadata": {},
     "outputs": [
      {
       "output_type": "stream",
       "stream": "stdout",
       "text": [
        "1391 training examples and 1414 testing examples \n"
       ]
      },
      {
       "metadata": {},
       "output_type": "pyout",
       "prompt_number": 7,
       "text": [
        "<matplotlib.image.AxesImage at 0xa103090>"
       ]
      }
     ],
     "prompt_number": 7
    },
    {
     "cell_type": "markdown",
     "metadata": {},
     "source": [
      "Impl\u00e9mentation de classifieurs\n",
      "======"
     ]
    },
    {
     "cell_type": "markdown",
     "metadata": {},
     "source": [
      "Commencez par tester plusieurs classifieurs (architecture) sur ce probl\u00e8me. "
     ]
    },
    {
     "cell_type": "markdown",
     "metadata": {},
     "source": [
      "##Perceptron \n",
      "--------------------------------"
     ]
    },
    {
     "cell_type": "code",
     "collapsed": false,
     "input": [
      "perceptron = HorizontalModule([LinearModule(28*28,1)],HingeLoss())\n",
      "\n",
      "NBITER = 10\n",
      "print \"=======TRAIN ERROR=======\"\n",
      "for i in xrange(0,NBITER):\n",
      "    perceptron.stochasticIter(train_data, train_label, verbose=False)\n",
      "    \n",
      "    predicted = perceptron.forwardAll(train_data)\n",
      "    ok=0\n",
      "    ko=0\n",
      "    for pred,exp in zip(predicted,train_label):\n",
      "        if pred[0]*exp[0] > 0:\n",
      "            ok+=1\n",
      "        else:\n",
      "            ko+=1\n",
      "    print \"Iteration n\u00b0%d: %d correct (%f%%), %d incorrect (%f%%) \" % (i,ok,ok/(ok+ko+0.0)*100,ko,ko/(ok+ko+0.0)*100)\n",
      "\n",
      "\n",
      "    \n",
      "print \"=======TEST ERROR=======\"  \n",
      "predicted = perceptron.forwardAll(test_data)\n",
      "\n",
      "ok=0\n",
      "ko=0\n",
      "for pred,exp in zip(predicted,test_label):\n",
      "    if pred[0]*exp[0] > 0:\n",
      "        ok+=1\n",
      "    else:\n",
      "        ko+=1\n",
      "        \n",
      "print \"%d correct (%f%%), %d incorrect (%f%%) \" % (ok,ok/(ok+ko+0.0)*100,ko,ko/(ok+ko+0.0)*100)\n",
      "\n"
     ],
     "language": "python",
     "metadata": {},
     "outputs": [
      {
       "output_type": "stream",
       "stream": "stdout",
       "text": [
        "=======TRAIN ERROR=======\n",
        "Iteration n\u00b00: 686 correct (49.317038%), 705 incorrect (50.682962%) "
       ]
      },
      {
       "output_type": "stream",
       "stream": "stdout",
       "text": [
        "\n",
        "Iteration n\u00b01: 893 correct (64.198418%), 498 incorrect (35.801582%) "
       ]
      },
      {
       "output_type": "stream",
       "stream": "stdout",
       "text": [
        "\n",
        "Iteration n\u00b02: 842 correct (60.531991%), 549 incorrect (39.468009%) "
       ]
      },
      {
       "output_type": "stream",
       "stream": "stdout",
       "text": [
        "\n",
        "Iteration n\u00b03: 809 correct (58.159597%), 582 incorrect (41.840403%) "
       ]
      },
      {
       "output_type": "stream",
       "stream": "stdout",
       "text": [
        "\n",
        "Iteration n\u00b04: 1082 correct (77.785766%), 309 incorrect (22.214234%) "
       ]
      },
      {
       "output_type": "stream",
       "stream": "stdout",
       "text": [
        "\n",
        "Iteration n\u00b05: 1249 correct (89.791517%), 142 incorrect (10.208483%) "
       ]
      },
      {
       "output_type": "stream",
       "stream": "stdout",
       "text": [
        "\n",
        "Iteration n\u00b06: 1295 correct (93.098490%), 96 incorrect (6.901510%) "
       ]
      },
      {
       "output_type": "stream",
       "stream": "stdout",
       "text": [
        "\n",
        "Iteration n\u00b07: 1272 correct (91.445004%), 119 incorrect (8.554996%) "
       ]
      },
      {
       "output_type": "stream",
       "stream": "stdout",
       "text": [
        "\n",
        "Iteration n\u00b08: 1149 correct (82.602444%), 242 incorrect (17.397556%) "
       ]
      },
      {
       "output_type": "stream",
       "stream": "stdout",
       "text": [
        "\n",
        "Iteration n\u00b09: 1288 correct (92.595255%), 103 incorrect (7.404745%) "
       ]
      },
      {
       "output_type": "stream",
       "stream": "stdout",
       "text": [
        "\n",
        "=======TEST ERROR=======\n",
        "1291 correct (91.301273%), 123 incorrect (8.698727%) \n"
       ]
      }
     ],
     "prompt_number": 19
    },
    {
     "cell_type": "markdown",
     "metadata": {},
     "source": [
      "##Multi-Layer Perceptron\n",
      "--------------------------------"
     ]
    },
    {
     "cell_type": "code",
     "collapsed": false,
     "input": [
      "mod2 = LinearModule(50,1)\n",
      "mod1 = LinearModule(28*28,50)\n",
      "\n",
      "MLP = HorizontalModule([mod1,TanhModule(20,20),mod2],SquareLoss())\n",
      "\n",
      "#print mod1.parameters\n",
      "NBITER = 50\n",
      "print \"=======TRAIN ERROR=======\"\n",
      "for i in xrange(0,NBITER):\n",
      "    MLP.stochasticIter(train_data, train_label,gradient_step=0.0001, verbose=False)\n",
      "    \n",
      "    predicted = MLP.forwardAll(train_data)\n",
      "    ok=0\n",
      "    ko=0\n",
      "    for pred,exp in zip(predicted,train_label):\n",
      "        if pred[0]*exp[0] > 0:\n",
      "            ok+=1\n",
      "        else:\n",
      "            ko+=1\n",
      "    print \"Iteration n\u00b0%d: %d correct (%f%%), %d incorrect (%f%%) \" % (i,ok,ok/(ok+ko+0.0)*100,ko,ko/(ok+ko+0.0)*100)\n",
      "\n",
      "#print mod1.parameters\n",
      "    \n",
      "print \"=======TEST ERROR=======\"  \n",
      "predicted = MLP.forwardAll(test_data)\n",
      "\n",
      "ok=0\n",
      "ko=0\n",
      "for pred,exp in zip(predicted,test_label):\n",
      "    if pred[0]*exp[0] > 0:\n",
      "        ok+=1\n",
      "    else:\n",
      "        ko+=1\n",
      "        \n",
      "print \"%d correct (%f%%), %d incorrect (%f%%) \" % (ok,ok/(ok+ko+0.0)*100,ko,ko/(ok+ko+0.0)*100)\n",
      "\n"
     ],
     "language": "python",
     "metadata": {},
     "outputs": [
      {
       "output_type": "stream",
       "stream": "stdout",
       "text": [
        "=======TRAIN ERROR=======\n",
        "Iteration n\u00b00: 778 correct (55.930985%), 613 incorrect (44.069015%) "
       ]
      },
      {
       "output_type": "stream",
       "stream": "stdout",
       "text": [
        "\n",
        "Iteration n\u00b01: 826 correct (59.381740%), 565 incorrect (40.618260%) "
       ]
      },
      {
       "output_type": "stream",
       "stream": "stdout",
       "text": [
        "\n",
        "Iteration n\u00b02: 805 correct (57.872035%), 586 incorrect (42.127965%) "
       ]
      },
      {
       "output_type": "stream",
       "stream": "stdout",
       "text": [
        "\n",
        "Iteration n\u00b03: 800 correct (57.512581%), 591 incorrect (42.487419%) "
       ]
      },
      {
       "output_type": "stream",
       "stream": "stdout",
       "text": [
        "\n",
        "Iteration n\u00b04: 821 correct (59.022286%), 570 incorrect (40.977714%) "
       ]
      },
      {
       "output_type": "stream",
       "stream": "stdout",
       "text": [
        "\n",
        "Iteration n\u00b05: 846 correct (60.819554%), 545 incorrect (39.180446%) "
       ]
      },
      {
       "output_type": "stream",
       "stream": "stdout",
       "text": [
        "\n",
        "Iteration n\u00b06: 869 correct (62.473041%), 522 incorrect (37.526959%) "
       ]
      },
      {
       "output_type": "stream",
       "stream": "stdout",
       "text": [
        "\n",
        "Iteration n\u00b07: 892 correct (64.126528%), 499 incorrect (35.873472%) "
       ]
      },
      {
       "output_type": "stream",
       "stream": "stdout",
       "text": [
        "\n",
        "Iteration n\u00b08: 924 correct (66.427031%), 467 incorrect (33.572969%) "
       ]
      },
      {
       "output_type": "stream",
       "stream": "stdout",
       "text": [
        "\n",
        "Iteration n\u00b09: 948 correct (68.152408%), 443 incorrect (31.847592%) "
       ]
      },
      {
       "output_type": "stream",
       "stream": "stdout",
       "text": [
        "\n",
        "Iteration n\u00b010: 968 correct (69.590223%), 423 incorrect (30.409777%) "
       ]
      },
      {
       "output_type": "stream",
       "stream": "stdout",
       "text": [
        "\n",
        "Iteration n\u00b011: 985 correct (70.812365%), 406 incorrect (29.187635%) "
       ]
      },
      {
       "output_type": "stream",
       "stream": "stdout",
       "text": [
        "\n",
        "Iteration n\u00b012: 1004 correct (72.178289%), 387 incorrect (27.821711%) "
       ]
      },
      {
       "output_type": "stream",
       "stream": "stdout",
       "text": [
        "\n",
        "Iteration n\u00b013: 1014 correct (72.897196%), 377 incorrect (27.102804%) "
       ]
      },
      {
       "output_type": "stream",
       "stream": "stdout",
       "text": [
        "\n",
        "Iteration n\u00b014: 1031 correct (74.119339%), 360 incorrect (25.880661%) "
       ]
      },
      {
       "output_type": "stream",
       "stream": "stdout",
       "text": [
        "\n",
        "Iteration n\u00b015: 1055 correct (75.844716%), 336 incorrect (24.155284%) "
       ]
      },
      {
       "output_type": "stream",
       "stream": "stdout",
       "text": [
        "\n",
        "Iteration n\u00b016: 1063 correct (76.419842%), 328 incorrect (23.580158%) "
       ]
      },
      {
       "output_type": "stream",
       "stream": "stdout",
       "text": [
        "\n",
        "Iteration n\u00b017: 1072 correct (77.066858%), 319 incorrect (22.933142%) "
       ]
      },
      {
       "output_type": "stream",
       "stream": "stdout",
       "text": [
        "\n",
        "Iteration n\u00b018: 1084 correct (77.929547%), 307 incorrect (22.070453%) "
       ]
      },
      {
       "output_type": "stream",
       "stream": "stdout",
       "text": [
        "\n",
        "Iteration n\u00b019: 1097 correct (78.864127%), 294 incorrect (21.135873%) "
       ]
      },
      {
       "output_type": "stream",
       "stream": "stdout",
       "text": [
        "\n",
        "Iteration n\u00b020: 1106 correct (79.511143%), 285 incorrect (20.488857%) "
       ]
      },
      {
       "output_type": "stream",
       "stream": "stdout",
       "text": [
        "\n",
        "Iteration n\u00b021: 1114 correct (80.086269%), 277 incorrect (19.913731%) "
       ]
      },
      {
       "output_type": "stream",
       "stream": "stdout",
       "text": [
        "\n",
        "Iteration n\u00b022: 1120 correct (80.517613%), 271 incorrect (19.482387%) "
       ]
      },
      {
       "output_type": "stream",
       "stream": "stdout",
       "text": [
        "\n",
        "Iteration n\u00b023: 1128 correct (81.092739%), 263 incorrect (18.907261%) "
       ]
      },
      {
       "output_type": "stream",
       "stream": "stdout",
       "text": [
        "\n",
        "Iteration n\u00b024: 1135 correct (81.595974%), 256 incorrect (18.404026%) "
       ]
      },
      {
       "output_type": "stream",
       "stream": "stdout",
       "text": [
        "\n",
        "Iteration n\u00b025: 1144 correct (82.242991%), 247 incorrect (17.757009%) "
       ]
      },
      {
       "output_type": "stream",
       "stream": "stdout",
       "text": [
        "\n",
        "Iteration n\u00b026: 1156 correct (83.105679%), 235 incorrect (16.894321%) "
       ]
      },
      {
       "output_type": "stream",
       "stream": "stdout",
       "text": [
        "\n",
        "Iteration n\u00b027: 1162 correct (83.537024%), 229 incorrect (16.462976%) "
       ]
      },
      {
       "output_type": "stream",
       "stream": "stdout",
       "text": [
        "\n",
        "Iteration n\u00b028: 1162 correct (83.537024%), 229 incorrect (16.462976%) "
       ]
      },
      {
       "output_type": "stream",
       "stream": "stdout",
       "text": [
        "\n",
        "Iteration n\u00b029: 1162 correct (83.537024%), 229 incorrect (16.462976%) "
       ]
      },
      {
       "output_type": "stream",
       "stream": "stdout",
       "text": [
        "\n",
        "Iteration n\u00b030: 1164 correct (83.680805%), 227 incorrect (16.319195%) "
       ]
      },
      {
       "output_type": "stream",
       "stream": "stdout",
       "text": [
        "\n",
        "Iteration n\u00b031: 1166 correct (83.824587%), 225 incorrect (16.175413%) "
       ]
      },
      {
       "output_type": "stream",
       "stream": "stdout",
       "text": [
        "\n",
        "Iteration n\u00b032: 1176 correct (84.543494%), 215 incorrect (15.456506%) "
       ]
      },
      {
       "output_type": "stream",
       "stream": "stdout",
       "text": [
        "\n",
        "Iteration n\u00b033: 1178 correct (84.687275%), 213 incorrect (15.312725%) "
       ]
      },
      {
       "output_type": "stream",
       "stream": "stdout",
       "text": [
        "\n",
        "Iteration n\u00b034: 1186 correct (85.262401%), 205 incorrect (14.737599%) "
       ]
      },
      {
       "output_type": "stream",
       "stream": "stdout",
       "text": [
        "\n",
        "Iteration n\u00b035: 1186 correct (85.262401%), 205 incorrect (14.737599%) "
       ]
      },
      {
       "output_type": "stream",
       "stream": "stdout",
       "text": [
        "\n",
        "Iteration n\u00b036: 1190 correct (85.549964%), 201 incorrect (14.450036%) "
       ]
      },
      {
       "output_type": "stream",
       "stream": "stdout",
       "text": [
        "\n",
        "Iteration n\u00b037: 1191 correct (85.621855%), 200 incorrect (14.378145%) "
       ]
      },
      {
       "output_type": "stream",
       "stream": "stdout",
       "text": [
        "\n",
        "Iteration n\u00b038: 1195 correct (85.909418%), 196 incorrect (14.090582%) "
       ]
      },
      {
       "output_type": "stream",
       "stream": "stdout",
       "text": [
        "\n",
        "Iteration n\u00b039: 1200 correct (86.268871%), 191 incorrect (13.731129%) "
       ]
      },
      {
       "output_type": "stream",
       "stream": "stdout",
       "text": [
        "\n",
        "Iteration n\u00b040: 1200 correct (86.268871%), 191 incorrect (13.731129%) "
       ]
      },
      {
       "output_type": "stream",
       "stream": "stdout",
       "text": [
        "\n",
        "Iteration n\u00b041: 1203 correct (86.484543%), 188 incorrect (13.515457%) "
       ]
      },
      {
       "output_type": "stream",
       "stream": "stdout",
       "text": [
        "\n",
        "Iteration n\u00b042: 1205 correct (86.628325%), 186 incorrect (13.371675%) "
       ]
      },
      {
       "output_type": "stream",
       "stream": "stdout",
       "text": [
        "\n",
        "Iteration n\u00b043: 1205 correct (86.628325%), 186 incorrect (13.371675%) "
       ]
      },
      {
       "output_type": "stream",
       "stream": "stdout",
       "text": [
        "\n",
        "Iteration n\u00b044: 1205 correct (86.628325%), 186 incorrect (13.371675%) "
       ]
      },
      {
       "output_type": "stream",
       "stream": "stdout",
       "text": [
        "\n",
        "Iteration n\u00b045: 1211 correct (87.059669%), 180 incorrect (12.940331%) "
       ]
      },
      {
       "output_type": "stream",
       "stream": "stdout",
       "text": [
        "\n",
        "Iteration n\u00b046: 1211 correct (87.059669%), 180 incorrect (12.940331%) "
       ]
      },
      {
       "output_type": "stream",
       "stream": "stdout",
       "text": [
        "\n",
        "Iteration n\u00b047: 1212 correct (87.131560%), 179 incorrect (12.868440%) "
       ]
      },
      {
       "output_type": "stream",
       "stream": "stdout",
       "text": [
        "\n",
        "Iteration n\u00b048: 1213 correct (87.203451%), 178 incorrect (12.796549%) "
       ]
      },
      {
       "output_type": "stream",
       "stream": "stdout",
       "text": [
        "\n",
        "Iteration n\u00b049: 1213 correct (87.203451%), 178 incorrect (12.796549%) "
       ]
      },
      {
       "output_type": "stream",
       "stream": "stdout",
       "text": [
        "\n",
        "=======TEST ERROR=======\n",
        "1203 correct (85.077793%), 211 incorrect (14.922207%) "
       ]
      },
      {
       "output_type": "stream",
       "stream": "stdout",
       "text": [
        "\n"
       ]
      }
     ],
     "prompt_number": 22
    },
    {
     "cell_type": "code",
     "collapsed": false,
     "input": [
      "mod2 = LinearModule(50,1)\n",
      "mod1 = LinearModule(28*28,50)\n",
      "\n",
      "MLP = HorizontalModule([mod1,TanhModule(20,20),mod2],SquareLoss())\n",
      "\n",
      "#print mod1.parameters\n",
      "NBITER = 50\n",
      "print \"=======TRAIN ERROR=======\"\n",
      "for i in xrange(0,NBITER):\n",
      "    MLP.batchIter(train_data, train_label,gradient_step=0.000001, verbose=False)\n",
      "    predicted = MLP.forwardAll(train_data)\n",
      "    ok=0\n",
      "    ko=0\n",
      "    for pred,exp in zip(predicted,train_label):\n",
      "        if pred[0]*exp[0] > 0:\n",
      "            ok+=1\n",
      "        else:\n",
      "            ko+=1\n",
      "    print \"Iteration n\u00b0%d: %d correct (%f%%), %d incorrect (%f%%) \" % (i,ok,ok/(ok+ko+0.0)*100,ko,ko/(ok+ko+0.0)*100)\n",
      "\n",
      "#print mod1.parameters\n",
      "    \n",
      "print \"=======TEST ERROR=======\"  \n",
      "predicted = MLP.forwardAll(test_data)\n",
      "\n",
      "ok=0\n",
      "ko=0\n",
      "for pred,exp in zip(predicted,test_label):\n",
      "    if pred[0]*exp[0] > 0:\n",
      "        ok+=1\n",
      "    else:\n",
      "        ko+=1\n",
      "        \n",
      "print \"%d correct (%f%%), %d incorrect (%f%%) \" % (ok,ok/(ok+ko+0.0)*100,ko,ko/(ok+ko+0.0)*100)\n",
      "\n"
     ],
     "language": "python",
     "metadata": {},
     "outputs": [
      {
       "output_type": "stream",
       "stream": "stdout",
       "text": [
        "=======TRAIN ERROR=======\n",
        "Iteration n\u00b00: 807 correct (59.381898%), 552 incorrect (40.618102%) "
       ]
      },
      {
       "output_type": "stream",
       "stream": "stdout",
       "text": [
        "\n",
        "Iteration n\u00b01: 812 correct (59.749816%), 547 incorrect (40.250184%) "
       ]
      },
      {
       "output_type": "stream",
       "stream": "stdout",
       "text": [
        "\n",
        "Iteration n\u00b02: 805 correct (59.234731%), 554 incorrect (40.765269%) "
       ]
      },
      {
       "output_type": "stream",
       "stream": "stdout",
       "text": [
        "\n",
        "Iteration n\u00b03: 807 correct (59.381898%), 552 incorrect (40.618102%) "
       ]
      },
      {
       "output_type": "stream",
       "stream": "stdout",
       "text": [
        "\n",
        "Iteration n\u00b04: 802 correct (59.013981%), 557 incorrect (40.986019%) "
       ]
      },
      {
       "output_type": "stream",
       "stream": "stdout",
       "text": [
        "\n",
        "Iteration n\u00b05: 800 correct (58.866814%), 559 incorrect (41.133186%) "
       ]
      },
      {
       "output_type": "stream",
       "stream": "stdout",
       "text": [
        "\n",
        "Iteration n\u00b06: 797 correct (58.646063%), 562 incorrect (41.353937%) "
       ]
      },
      {
       "output_type": "stream",
       "stream": "stdout",
       "text": [
        "\n",
        "Iteration n\u00b07: 801 correct (58.940397%), 558 incorrect (41.059603%) "
       ]
      },
      {
       "output_type": "stream",
       "stream": "stdout",
       "text": [
        "\n",
        "Iteration n\u00b08: 799 correct (58.793230%), 560 incorrect (41.206770%) "
       ]
      },
      {
       "output_type": "stream",
       "stream": "stdout",
       "text": [
        "\n",
        "Iteration n\u00b09: 798 correct (58.719647%), 561 incorrect (41.280353%) "
       ]
      },
      {
       "output_type": "stream",
       "stream": "stdout",
       "text": [
        "\n",
        "Iteration n\u00b010: 793 correct (58.351729%), 566 incorrect (41.648271%) "
       ]
      },
      {
       "output_type": "stream",
       "stream": "stdout",
       "text": [
        "\n",
        "Iteration n\u00b011: 799 correct (58.793230%), 560 incorrect (41.206770%) "
       ]
      },
      {
       "output_type": "stream",
       "stream": "stdout",
       "text": [
        "\n",
        "Iteration n\u00b012: 796 correct (58.572480%), 563 incorrect (41.427520%) "
       ]
      },
      {
       "output_type": "stream",
       "stream": "stdout",
       "text": [
        "\n",
        "Iteration n\u00b013: 794 correct (58.425313%), 565 incorrect (41.574687%) "
       ]
      },
      {
       "output_type": "stream",
       "stream": "stdout",
       "text": [
        "\n",
        "Iteration n\u00b014: 796 correct (58.572480%), 563 incorrect (41.427520%) "
       ]
      },
      {
       "output_type": "stream",
       "stream": "stdout",
       "text": [
        "\n",
        "Iteration n\u00b015: 796 correct (58.572480%), 563 incorrect (41.427520%) "
       ]
      },
      {
       "output_type": "stream",
       "stream": "stdout",
       "text": [
        "\n",
        "Iteration n\u00b016: 794 correct (58.425313%), 565 incorrect (41.574687%) "
       ]
      },
      {
       "output_type": "stream",
       "stream": "stdout",
       "text": [
        "\n",
        "Iteration n\u00b017: 796 correct (58.572480%), 563 incorrect (41.427520%) "
       ]
      },
      {
       "output_type": "stream",
       "stream": "stdout",
       "text": [
        "\n",
        "Iteration n\u00b018: 796 correct (58.572480%), 563 incorrect (41.427520%) "
       ]
      },
      {
       "output_type": "stream",
       "stream": "stdout",
       "text": [
        "\n",
        "Iteration n\u00b019: 792 correct (58.278146%), 567 incorrect (41.721854%) "
       ]
      },
      {
       "output_type": "stream",
       "stream": "stdout",
       "text": [
        "\n",
        "Iteration n\u00b020: 790 correct (58.130979%), 569 incorrect (41.869021%) "
       ]
      },
      {
       "output_type": "stream",
       "stream": "stdout",
       "text": [
        "\n",
        "Iteration n\u00b021: 789 correct (58.057395%), 570 incorrect (41.942605%) "
       ]
      },
      {
       "output_type": "stream",
       "stream": "stdout",
       "text": [
        "\n",
        "Iteration n\u00b022: 786 correct (57.836645%), 573 incorrect (42.163355%) "
       ]
      },
      {
       "output_type": "stream",
       "stream": "stdout",
       "text": [
        "\n",
        "Iteration n\u00b023: 778 correct (57.247976%), 581 incorrect (42.752024%) "
       ]
      },
      {
       "output_type": "stream",
       "stream": "stdout",
       "text": [
        "\n",
        "Iteration n\u00b024: 778 correct (57.247976%), 581 incorrect (42.752024%) "
       ]
      },
      {
       "output_type": "stream",
       "stream": "stdout",
       "text": [
        "\n",
        "Iteration n\u00b025: 777 correct (57.174393%), 582 incorrect (42.825607%) "
       ]
      },
      {
       "output_type": "stream",
       "stream": "stdout",
       "text": [
        "\n",
        "Iteration n\u00b026: 777 correct (57.174393%), 582 incorrect (42.825607%) "
       ]
      },
      {
       "output_type": "stream",
       "stream": "stdout",
       "text": [
        "\n",
        "Iteration n\u00b027: 779 correct (57.321560%), 580 incorrect (42.678440%) "
       ]
      },
      {
       "output_type": "stream",
       "stream": "stdout",
       "text": [
        "\n",
        "Iteration n\u00b028: 780 correct (57.395143%), 579 incorrect (42.604857%) "
       ]
      },
      {
       "output_type": "stream",
       "stream": "stdout",
       "text": [
        "\n",
        "Iteration n\u00b029: 780 correct (57.395143%), 579 incorrect (42.604857%) "
       ]
      },
      {
       "output_type": "stream",
       "stream": "stdout",
       "text": [
        "\n",
        "Iteration n\u00b030: 779 correct (57.321560%), 580 incorrect (42.678440%) "
       ]
      },
      {
       "output_type": "stream",
       "stream": "stdout",
       "text": [
        "\n",
        "Iteration n\u00b031: 774 correct (56.953642%), 585 incorrect (43.046358%) "
       ]
      },
      {
       "output_type": "stream",
       "stream": "stdout",
       "text": [
        "\n",
        "Iteration n\u00b032: 774 correct (56.953642%), 585 incorrect (43.046358%) "
       ]
      },
      {
       "output_type": "stream",
       "stream": "stdout",
       "text": [
        "\n",
        "Iteration n\u00b033: 774 correct (56.953642%), 585 incorrect (43.046358%) "
       ]
      },
      {
       "output_type": "stream",
       "stream": "stdout",
       "text": [
        "\n",
        "Iteration n\u00b034: 779 correct (57.321560%), 580 incorrect (42.678440%) "
       ]
      },
      {
       "output_type": "stream",
       "stream": "stdout",
       "text": [
        "\n",
        "Iteration n\u00b035: 776 correct (57.100809%), 583 incorrect (42.899191%) "
       ]
      },
      {
       "output_type": "stream",
       "stream": "stdout",
       "text": [
        "\n",
        "Iteration n\u00b036: 776 correct (57.100809%), 583 incorrect (42.899191%) "
       ]
      },
      {
       "output_type": "stream",
       "stream": "stdout",
       "text": [
        "\n",
        "Iteration n\u00b037: 776 correct (57.100809%), 583 incorrect (42.899191%) "
       ]
      },
      {
       "output_type": "stream",
       "stream": "stdout",
       "text": [
        "\n",
        "Iteration n\u00b038: 776 correct (57.100809%), 583 incorrect (42.899191%) "
       ]
      },
      {
       "output_type": "stream",
       "stream": "stdout",
       "text": [
        "\n",
        "Iteration n\u00b039: 776 correct (57.100809%), 583 incorrect (42.899191%) "
       ]
      },
      {
       "output_type": "stream",
       "stream": "stdout",
       "text": [
        "\n",
        "Iteration n\u00b040: 774 correct (56.953642%), 585 incorrect (43.046358%) "
       ]
      },
      {
       "output_type": "stream",
       "stream": "stdout",
       "text": [
        "\n",
        "Iteration n\u00b041: 775 correct (57.027226%), 584 incorrect (42.972774%) "
       ]
      },
      {
       "output_type": "stream",
       "stream": "stdout",
       "text": [
        "\n",
        "Iteration n\u00b042: 776 correct (57.100809%), 583 incorrect (42.899191%) "
       ]
      },
      {
       "output_type": "stream",
       "stream": "stdout",
       "text": [
        "\n",
        "Iteration n\u00b043: 776 correct (57.100809%), 583 incorrect (42.899191%) "
       ]
      },
      {
       "output_type": "stream",
       "stream": "stdout",
       "text": [
        "\n",
        "Iteration n\u00b044: 776 correct (57.100809%), 583 incorrect (42.899191%) "
       ]
      },
      {
       "output_type": "stream",
       "stream": "stdout",
       "text": [
        "\n",
        "Iteration n\u00b045: 776 correct (57.100809%), 583 incorrect (42.899191%) "
       ]
      },
      {
       "output_type": "stream",
       "stream": "stdout",
       "text": [
        "\n",
        "Iteration n\u00b046: 775 correct (57.027226%), 584 incorrect (42.972774%) "
       ]
      },
      {
       "output_type": "stream",
       "stream": "stdout",
       "text": [
        "\n",
        "Iteration n\u00b047: 774 correct (56.953642%), 585 incorrect (43.046358%) "
       ]
      },
      {
       "output_type": "stream",
       "stream": "stdout",
       "text": [
        "\n",
        "Iteration n\u00b048: 773 correct (56.880059%), 586 incorrect (43.119941%) "
       ]
      },
      {
       "output_type": "stream",
       "stream": "stdout",
       "text": [
        "\n",
        "Iteration n\u00b049: 772 correct (56.806475%), 587 incorrect (43.193525%) "
       ]
      },
      {
       "output_type": "stream",
       "stream": "stdout",
       "text": [
        "\n",
        "=======TEST ERROR=======\n",
        "765 correct (56.582840%), 587 incorrect (43.417160%) "
       ]
      },
      {
       "output_type": "stream",
       "stream": "stdout",
       "text": [
        "\n"
       ]
      }
     ],
     "prompt_number": 10
    },
    {
     "cell_type": "code",
     "collapsed": false,
     "input": [
      "mod2 = LinearModule(50,1)\n",
      "mod1 = LinearModule(28*28,50)\n",
      "\n",
      "MLP = HorizontalModule([mod1,TanhModule(20,20),mod2],SquareLoss())\n",
      "\n",
      "#print mod1.parameters\n",
      "NBITER = 50\n",
      "print \"=======TRAIN ERROR=======\"\n",
      "for i in xrange(0,NBITER):\n",
      "    MLP.miniBatchIter(train_data, train_label,batch_size=20,gradient_step=0.000001, verbose=False)\n",
      "    predicted = MLP.forwardAll(train_data)\n",
      "    ok=0\n",
      "    ko=0\n",
      "    for pred,exp in zip(predicted,train_label):\n",
      "        if pred[0]*exp[0] > 0:\n",
      "            ok+=1\n",
      "        else:\n",
      "            ko+=1\n",
      "    print \"Iteration n\u00b0%d: %d correct (%f%%), %d incorrect (%f%%) \" % (i,ok,ok/(ok+ko+0.0)*100,ko,ko/(ok+ko+0.0)*100)\n",
      "\n",
      "#print mod1.parameters\n",
      "    \n",
      "print \"=======TEST ERROR=======\"  \n",
      "predicted = MLP.forwardAll(test_data)\n",
      "\n",
      "ok=0\n",
      "ko=0\n",
      "for pred,exp in zip(predicted,test_label):\n",
      "    if pred[0]*exp[0] > 0:\n",
      "        ok+=1\n",
      "    else:\n",
      "        ko+=1\n",
      "        \n",
      "print \"%d correct (%f%%), %d incorrect (%f%%) \" % (ok,ok/(ok+ko+0.0)*100,ko,ko/(ok+ko+0.0)*100)\n",
      "\n"
     ],
     "language": "python",
     "metadata": {},
     "outputs": [
      {
       "output_type": "stream",
       "stream": "stdout",
       "text": [
        "=======TRAIN ERROR=======\n",
        "Iteration n\u00b00: 464 correct (33.357297%), 927 incorrect (66.642703%) "
       ]
      },
      {
       "output_type": "stream",
       "stream": "stdout",
       "text": [
        "\n",
        "Iteration n\u00b01: 470 correct (33.788641%), 921 incorrect (66.211359%) "
       ]
      },
      {
       "output_type": "stream",
       "stream": "stdout",
       "text": [
        "\n",
        "Iteration n\u00b02: 473 correct (34.004313%), 918 incorrect (65.995687%) "
       ]
      },
      {
       "output_type": "stream",
       "stream": "stdout",
       "text": [
        "\n",
        "Iteration n\u00b03: 474 correct (34.076204%), 917 incorrect (65.923796%) "
       ]
      },
      {
       "output_type": "stream",
       "stream": "stdout",
       "text": [
        "\n",
        "Iteration n\u00b04: 477 correct (34.291876%), 914 incorrect (65.708124%) "
       ]
      },
      {
       "output_type": "stream",
       "stream": "stdout",
       "text": [
        "\n",
        "Iteration n\u00b05: 480 correct (34.507549%), 911 incorrect (65.492451%) "
       ]
      },
      {
       "output_type": "stream",
       "stream": "stdout",
       "text": [
        "\n",
        "Iteration n\u00b06: 480 correct (34.507549%), 911 incorrect (65.492451%) "
       ]
      },
      {
       "output_type": "stream",
       "stream": "stdout",
       "text": [
        "\n",
        "Iteration n\u00b07: 482 correct (34.651330%), 909 incorrect (65.348670%) "
       ]
      },
      {
       "output_type": "stream",
       "stream": "stdout",
       "text": [
        "\n",
        "Iteration n\u00b08: 484 correct (34.795111%), 907 incorrect (65.204889%) "
       ]
      },
      {
       "output_type": "stream",
       "stream": "stdout",
       "text": [
        "\n",
        "Iteration n\u00b09: 488 correct (35.082674%), 903 incorrect (64.917326%) "
       ]
      },
      {
       "output_type": "stream",
       "stream": "stdout",
       "text": [
        "\n",
        "Iteration n\u00b010: 492 correct (35.370237%), 899 incorrect (64.629763%) "
       ]
      },
      {
       "output_type": "stream",
       "stream": "stdout",
       "text": [
        "\n",
        "Iteration n\u00b011: 495 correct (35.585909%), 896 incorrect (64.414091%) "
       ]
      },
      {
       "output_type": "stream",
       "stream": "stdout",
       "text": [
        "\n",
        "Iteration n\u00b012: 496 correct (35.657800%), 895 incorrect (64.342200%) "
       ]
      },
      {
       "output_type": "stream",
       "stream": "stdout",
       "text": [
        "\n",
        "Iteration n\u00b013: 496 correct (35.657800%), 895 incorrect (64.342200%) "
       ]
      },
      {
       "output_type": "stream",
       "stream": "stdout",
       "text": [
        "\n",
        "Iteration n\u00b014: 498 correct (35.801582%), 893 incorrect (64.198418%) "
       ]
      },
      {
       "output_type": "stream",
       "stream": "stdout",
       "text": [
        "\n"
       ]
      },
      {
       "ename": "KeyboardInterrupt",
       "evalue": "",
       "output_type": "pyerr",
       "traceback": [
        "\u001b[1;31m---------------------------------------------------------------------------\u001b[0m\n\u001b[1;31mKeyboardInterrupt\u001b[0m                         Traceback (most recent call last)",
        "\u001b[1;32m<ipython-input-21-994b808df487>\u001b[0m in \u001b[0;36m<module>\u001b[1;34m()\u001b[0m\n\u001b[0;32m      8\u001b[0m \u001b[1;32mprint\u001b[0m \u001b[1;34m\"=======TRAIN ERROR=======\"\u001b[0m\u001b[1;33m\u001b[0m\u001b[0m\n\u001b[0;32m      9\u001b[0m \u001b[1;32mfor\u001b[0m \u001b[0mi\u001b[0m \u001b[1;32min\u001b[0m \u001b[0mxrange\u001b[0m\u001b[1;33m(\u001b[0m\u001b[1;36m0\u001b[0m\u001b[1;33m,\u001b[0m\u001b[0mNBITER\u001b[0m\u001b[1;33m)\u001b[0m\u001b[1;33m:\u001b[0m\u001b[1;33m\u001b[0m\u001b[0m\n\u001b[1;32m---> 10\u001b[1;33m     \u001b[0mMLP\u001b[0m\u001b[1;33m.\u001b[0m\u001b[0mminiBatchIter\u001b[0m\u001b[1;33m(\u001b[0m\u001b[0mtrain_data\u001b[0m\u001b[1;33m,\u001b[0m \u001b[0mtrain_label\u001b[0m\u001b[1;33m,\u001b[0m\u001b[0mbatch_size\u001b[0m\u001b[1;33m=\u001b[0m\u001b[1;36m20\u001b[0m\u001b[1;33m,\u001b[0m\u001b[0mgradient_step\u001b[0m\u001b[1;33m=\u001b[0m\u001b[1;36m0.000001\u001b[0m\u001b[1;33m,\u001b[0m \u001b[0mverbose\u001b[0m\u001b[1;33m=\u001b[0m\u001b[0mFalse\u001b[0m\u001b[1;33m)\u001b[0m\u001b[1;33m\u001b[0m\u001b[0m\n\u001b[0m\u001b[0;32m     11\u001b[0m     \u001b[0mpredicted\u001b[0m \u001b[1;33m=\u001b[0m \u001b[0mMLP\u001b[0m\u001b[1;33m.\u001b[0m\u001b[0mforwardAll\u001b[0m\u001b[1;33m(\u001b[0m\u001b[0mtrain_data\u001b[0m\u001b[1;33m)\u001b[0m\u001b[1;33m\u001b[0m\u001b[0m\n\u001b[0;32m     12\u001b[0m     \u001b[0mok\u001b[0m\u001b[1;33m=\u001b[0m\u001b[1;36m0\u001b[0m\u001b[1;33m\u001b[0m\u001b[0m\n",
        "\u001b[1;32m/home/charles/AS/NNModule/NNPy.py\u001b[0m in \u001b[0;36mminiBatchIter\u001b[1;34m(self, examples, labels, batch_size, gradient_step, verbose)\u001b[0m\n\u001b[0;32m    282\u001b[0m         \u001b[1;32mfor\u001b[0m \u001b[0mi\u001b[0m\u001b[1;33m,\u001b[0m \u001b[1;33m(\u001b[0m\u001b[0mexample\u001b[0m\u001b[1;33m,\u001b[0m \u001b[0mlabel\u001b[0m\u001b[1;33m)\u001b[0m \u001b[1;32min\u001b[0m \u001b[0menumerate\u001b[0m\u001b[1;33m(\u001b[0m\u001b[0mzip\u001b[0m\u001b[1;33m(\u001b[0m\u001b[0mexamples\u001b[0m\u001b[1;33m,\u001b[0m\u001b[0mlabels\u001b[0m\u001b[1;33m)\u001b[0m\u001b[1;33m)\u001b[0m\u001b[1;33m:\u001b[0m\u001b[1;33m\u001b[0m\u001b[0m\n\u001b[0;32m    283\u001b[0m             \u001b[0mpred\u001b[0m \u001b[1;33m=\u001b[0m \u001b[0mself\u001b[0m\u001b[1;33m.\u001b[0m\u001b[0mforward\u001b[0m\u001b[1;33m(\u001b[0m\u001b[0mexample\u001b[0m\u001b[1;33m)\u001b[0m\u001b[1;33m\u001b[0m\u001b[0m\n\u001b[1;32m--> 284\u001b[1;33m             \u001b[0mloss\u001b[0m \u001b[1;33m=\u001b[0m \u001b[0mself\u001b[0m\u001b[1;33m.\u001b[0m\u001b[0mbackward\u001b[0m\u001b[1;33m(\u001b[0m\u001b[0mpred\u001b[0m\u001b[1;33m,\u001b[0m\u001b[0mlabel\u001b[0m\u001b[1;33m,\u001b[0m\u001b[0mbatch\u001b[0m\u001b[1;33m=\u001b[0m\u001b[0mTrue\u001b[0m\u001b[1;33m,\u001b[0m\u001b[0mgradient_step\u001b[0m\u001b[1;33m=\u001b[0m\u001b[0mgradient_step\u001b[0m\u001b[1;33m)\u001b[0m\u001b[1;33m\u001b[0m\u001b[0m\n\u001b[0m\u001b[0;32m    285\u001b[0m \u001b[1;33m\u001b[0m\u001b[0m\n\u001b[0;32m    286\u001b[0m             \u001b[1;32mif\u001b[0m \u001b[0mverbose\u001b[0m\u001b[1;33m:\u001b[0m\u001b[1;33m\u001b[0m\u001b[0m\n",
        "\u001b[1;32m/home/charles/AS/NNModule/NNPy.py\u001b[0m in \u001b[0;36mbackward\u001b[1;34m(self, predicted, wanted, batch, gradient_step)\u001b[0m\n\u001b[0;32m    245\u001b[0m     \u001b[1;31m#Permet le calcul du gradient des cellules d'entr\u00e9e\u001b[0m\u001b[1;33m\u001b[0m\u001b[1;33m\u001b[0m\u001b[0m\n\u001b[0;32m    246\u001b[0m     \u001b[1;32mdef\u001b[0m \u001b[0mbackward\u001b[0m\u001b[1;33m(\u001b[0m\u001b[0mself\u001b[0m\u001b[1;33m,\u001b[0m\u001b[0mpredicted\u001b[0m\u001b[1;33m,\u001b[0m\u001b[0mwanted\u001b[0m\u001b[1;33m,\u001b[0m\u001b[0mbatch\u001b[0m\u001b[1;33m=\u001b[0m\u001b[0mFalse\u001b[0m\u001b[1;33m,\u001b[0m\u001b[0mgradient_step\u001b[0m\u001b[1;33m=\u001b[0m\u001b[1;36m0.001\u001b[0m\u001b[1;33m)\u001b[0m\u001b[1;33m:\u001b[0m\u001b[1;33m\u001b[0m\u001b[0m\n\u001b[1;32m--> 247\u001b[1;33m         \u001b[0mloss_delta\u001b[0m \u001b[1;33m=\u001b[0m \u001b[0mself\u001b[0m\u001b[1;33m.\u001b[0m\u001b[0mloss\u001b[0m\u001b[1;33m.\u001b[0m\u001b[0mbackward\u001b[0m\u001b[1;33m(\u001b[0m\u001b[0mpredicted\u001b[0m\u001b[1;33m,\u001b[0m\u001b[0mwanted\u001b[0m\u001b[1;33m)\u001b[0m\u001b[1;33m\u001b[0m\u001b[0m\n\u001b[0m\u001b[0;32m    248\u001b[0m         \u001b[1;32mfor\u001b[0m \u001b[0mmodule\u001b[0m\u001b[1;33m,\u001b[0m\u001b[0minput\u001b[0m \u001b[1;32min\u001b[0m \u001b[0mzip\u001b[0m\u001b[1;33m(\u001b[0m\u001b[0mreversed\u001b[0m\u001b[1;33m(\u001b[0m\u001b[0mself\u001b[0m\u001b[1;33m.\u001b[0m\u001b[0mmodules\u001b[0m\u001b[1;33m)\u001b[0m\u001b[1;33m,\u001b[0m\u001b[0mreversed\u001b[0m\u001b[1;33m(\u001b[0m\u001b[0mself\u001b[0m\u001b[1;33m.\u001b[0m\u001b[0minputs\u001b[0m\u001b[1;33m)\u001b[0m\u001b[1;33m)\u001b[0m\u001b[1;33m:\u001b[0m\u001b[1;33m\u001b[0m\u001b[0m\n\u001b[0;32m    249\u001b[0m             \u001b[0mloss_delta\u001b[0m \u001b[1;33m=\u001b[0m \u001b[0mmodule\u001b[0m\u001b[1;33m.\u001b[0m\u001b[0mbackward\u001b[0m\u001b[1;33m(\u001b[0m\u001b[0minput\u001b[0m\u001b[1;33m,\u001b[0m\u001b[0mloss_delta\u001b[0m\u001b[1;33m)\u001b[0m\u001b[1;33m\u001b[0m\u001b[0m\n",
        "\u001b[1;32m/home/charles/AS/NNModule/NNPy.py\u001b[0m in \u001b[0;36mbackward\u001b[1;34m(self, predicted_output, desired_output)\u001b[0m\n\u001b[0;32m     68\u001b[0m \u001b[1;33m\u001b[0m\u001b[0m\n\u001b[0;32m     69\u001b[0m     \u001b[1;32mdef\u001b[0m \u001b[0mbackward\u001b[0m\u001b[1;33m(\u001b[0m\u001b[0mself\u001b[0m\u001b[1;33m,\u001b[0m \u001b[0mpredicted_output\u001b[0m\u001b[1;33m,\u001b[0m\u001b[0mdesired_output\u001b[0m\u001b[1;33m)\u001b[0m\u001b[1;33m:\u001b[0m\u001b[1;33m\u001b[0m\u001b[0m\n\u001b[1;32m---> 70\u001b[1;33m         \u001b[1;32mreturn\u001b[0m \u001b[1;36m2\u001b[0m\u001b[1;33m*\u001b[0m\u001b[1;33m(\u001b[0m\u001b[0mpredicted_output\u001b[0m\u001b[1;33m-\u001b[0m\u001b[0mdesired_output\u001b[0m\u001b[1;33m)\u001b[0m\u001b[1;33m\u001b[0m\u001b[0m\n\u001b[0m\u001b[0;32m     71\u001b[0m \u001b[1;33m\u001b[0m\u001b[0m\n\u001b[0;32m     72\u001b[0m \u001b[1;31m#HingeLoss\u001b[0m\u001b[1;33m\u001b[0m\u001b[1;33m\u001b[0m\u001b[0m\n",
        "\u001b[1;31mKeyboardInterrupt\u001b[0m: "
       ]
      }
     ],
     "prompt_number": 21
    },
    {
     "cell_type": "markdown",
     "metadata": {},
     "source": [
      "Impl\u00e9mentation des Auto-encodeurs\n",
      "====="
     ]
    },
    {
     "cell_type": "markdown",
     "metadata": {},
     "source": [
      "Impl\u00e9mentez des auto-encodeurs et visualisez les patches appris"
     ]
    },
    {
     "cell_type": "code",
     "collapsed": false,
     "input": [
      "mod2 = LinearModule(100,28*28)\n",
      "mod1 = LinearModule(28*28,100)\n",
      "\n",
      "AE = MultiModule([mod1,mod2],SquareLoss())\n",
      "\n",
      "sq = SquareLoss()\n",
      "\n",
      "#print sq.getLossValue(train_data[0],train_data[0])\n",
      "\n",
      "\n",
      "#print mod1.parameters\n",
      "NBITER = 200\n",
      "print \"=======TRAIN ERROR=======\"\n",
      "for i in xrange(0,NBITER):\n",
      "   loss = AE.miniBatchIter(train_data, train_data,batch_size=150,gradient_step=0.000000000001, verbose=False)\n",
      "   predicted = AE.forwardAll(train_data)\n",
      "   err=0\n",
      "    \n",
      "   for pred,exp in zip(predicted,train_data):\n",
      "       err += np.sum(np.power(pred-exp,2))\n",
      "    \n",
      "        \n",
      "   #print loss\n",
      "   print \"Iteration n\u00b0%d - MSE: %f\" % (i,err/len(predicted))"
     ],
     "language": "python",
     "metadata": {},
     "outputs": [
      {
       "output_type": "stream",
       "stream": "stdout",
       "text": [
        "=======TRAIN ERROR=======\n",
        "Iteration n\u00b00 - MSE: 166021727987.599457"
       ]
      },
      {
       "output_type": "stream",
       "stream": "stdout",
       "text": [
        "\n",
        "Iteration n\u00b01 - MSE: 122143492625.978531"
       ]
      },
      {
       "output_type": "stream",
       "stream": "stdout",
       "text": [
        "\n",
        "Iteration n\u00b02 - MSE: 100487735920.768707"
       ]
      },
      {
       "output_type": "stream",
       "stream": "stdout",
       "text": [
        "\n",
        "Iteration n\u00b03 - MSE: 87037646272.574783"
       ]
      },
      {
       "output_type": "stream",
       "stream": "stdout",
       "text": [
        "\n",
        "Iteration n\u00b04 - MSE: 77558704349.099045"
       ]
      },
      {
       "output_type": "stream",
       "stream": "stdout",
       "text": [
        "\n",
        "Iteration n\u00b05 - MSE: 70363386247.994370"
       ]
      },
      {
       "output_type": "stream",
       "stream": "stdout",
       "text": [
        "\n",
        "Iteration n\u00b06 - MSE: 64639728215.449783"
       ]
      },
      {
       "output_type": "stream",
       "stream": "stdout",
       "text": [
        "\n",
        "Iteration n\u00b07 - MSE: 59940079989.730042"
       ]
      },
      {
       "output_type": "stream",
       "stream": "stdout",
       "text": [
        "\n",
        "Iteration n\u00b08 - MSE: 55991747489.922989"
       ]
      },
      {
       "output_type": "stream",
       "stream": "stdout",
       "text": [
        "\n",
        "Iteration n\u00b09 - MSE: 52616015250.980911"
       ]
      },
      {
       "output_type": "stream",
       "stream": "stdout",
       "text": [
        "\n",
        "Iteration n\u00b010 - MSE: 49689270742.220665"
       ]
      },
      {
       "output_type": "stream",
       "stream": "stdout",
       "text": [
        "\n",
        "Iteration n\u00b011 - MSE: 47122481207.087051"
       ]
      },
      {
       "output_type": "stream",
       "stream": "stdout",
       "text": [
        "\n",
        "Iteration n\u00b012 - MSE: 44849485078.385956"
       ]
      },
      {
       "output_type": "stream",
       "stream": "stdout",
       "text": [
        "\n",
        "Iteration n\u00b013 - MSE: 42819880338.848785"
       ]
      },
      {
       "output_type": "stream",
       "stream": "stdout",
       "text": [
        "\n",
        "Iteration n\u00b014 - MSE: 40994482457.468361"
       ]
      },
      {
       "output_type": "stream",
       "stream": "stdout",
       "text": [
        "\n",
        "Iteration n\u00b015 - MSE: 39342303999.184975"
       ]
      },
      {
       "output_type": "stream",
       "stream": "stdout",
       "text": [
        "\n",
        "Iteration n\u00b016 - MSE: 37838479298.894402"
       ]
      },
      {
       "output_type": "stream",
       "stream": "stdout",
       "text": [
        "\n",
        "Iteration n\u00b017 - MSE: 36462799551.772491"
       ]
      },
      {
       "output_type": "stream",
       "stream": "stdout",
       "text": [
        "\n",
        "Iteration n\u00b018 - MSE: 35198655165.821060"
       ]
      },
      {
       "output_type": "stream",
       "stream": "stdout",
       "text": [
        "\n",
        "Iteration n\u00b019 - MSE: 34032257299.433807"
       ]
      },
      {
       "output_type": "stream",
       "stream": "stdout",
       "text": [
        "\n",
        "Iteration n\u00b020 - MSE: 32952055230.172421"
       ]
      },
      {
       "output_type": "stream",
       "stream": "stdout",
       "text": [
        "\n",
        "Iteration n\u00b021 - MSE: 31948293826.524292"
       ]
      },
      {
       "output_type": "stream",
       "stream": "stdout",
       "text": [
        "\n",
        "Iteration n\u00b022 - MSE: 31012672995.422871"
       ]
      },
      {
       "output_type": "stream",
       "stream": "stdout",
       "text": [
        "\n",
        "Iteration n\u00b023 - MSE: 30138082494.111435"
       ]
      },
      {
       "output_type": "stream",
       "stream": "stdout",
       "text": [
        "\n",
        "Iteration n\u00b024 - MSE: 29318393204.185619"
       ]
      },
      {
       "output_type": "stream",
       "stream": "stdout",
       "text": [
        "\n",
        "Iteration n\u00b025 - MSE: 28548291230.939281"
       ]
      },
      {
       "output_type": "stream",
       "stream": "stdout",
       "text": [
        "\n",
        "Iteration n\u00b026 - MSE: 27823144851.277409"
       ]
      },
      {
       "output_type": "stream",
       "stream": "stdout",
       "text": [
        "\n",
        "Iteration n\u00b027 - MSE: 27138896918.163563"
       ]
      },
      {
       "output_type": "stream",
       "stream": "stdout",
       "text": [
        "\n",
        "Iteration n\u00b028 - MSE: 26491977180.888428"
       ]
      },
      {
       "output_type": "stream",
       "stream": "stdout",
       "text": [
        "\n",
        "Iteration n\u00b029 - MSE: 25879230323.672646"
       ]
      },
      {
       "output_type": "stream",
       "stream": "stdout",
       "text": [
        "\n",
        "Iteration n\u00b030 - MSE: 25297856511.272076"
       ]
      },
      {
       "output_type": "stream",
       "stream": "stdout",
       "text": [
        "\n",
        "Iteration n\u00b031 - MSE: 24745361962.183674"
       ]
      },
      {
       "output_type": "stream",
       "stream": "stdout",
       "text": [
        "\n",
        "Iteration n\u00b032 - MSE: 24219517618.795673"
       ]
      },
      {
       "output_type": "stream",
       "stream": "stdout",
       "text": [
        "\n",
        "Iteration n\u00b033 - MSE: 23718324399.124313"
       ]
      },
      {
       "output_type": "stream",
       "stream": "stdout",
       "text": [
        "\n",
        "Iteration n\u00b034 - MSE: 23239983831.844009"
       ]
      },
      {
       "output_type": "stream",
       "stream": "stdout",
       "text": [
        "\n",
        "Iteration n\u00b035 - MSE: 22782873120.395584"
       ]
      },
      {
       "output_type": "stream",
       "stream": "stdout",
       "text": [
        "\n",
        "Iteration n\u00b036 - MSE: 22345523871.294090"
       ]
      },
      {
       "output_type": "stream",
       "stream": "stdout",
       "text": [
        "\n",
        "Iteration n\u00b037 - MSE: 21926603869.713676"
       ]
      },
      {
       "output_type": "stream",
       "stream": "stdout",
       "text": [
        "\n",
        "Iteration n\u00b038 - MSE: 21524901401.838371"
       ]
      },
      {
       "output_type": "stream",
       "stream": "stdout",
       "text": [
        "\n",
        "Iteration n\u00b039 - MSE: 21139311715.650909"
       ]
      },
      {
       "output_type": "stream",
       "stream": "stdout",
       "text": [
        "\n",
        "Iteration n\u00b040 - MSE: 20768825285.291603"
       ]
      },
      {
       "output_type": "stream",
       "stream": "stdout",
       "text": [
        "\n",
        "Iteration n\u00b041 - MSE: 20412517602.982338"
       ]
      },
      {
       "output_type": "stream",
       "stream": "stdout",
       "text": [
        "\n",
        "Iteration n\u00b042 - MSE: 20069540269.954449"
       ]
      },
      {
       "output_type": "stream",
       "stream": "stdout",
       "text": [
        "\n",
        "Iteration n\u00b043 - MSE: 19739113196.252003"
       ]
      },
      {
       "output_type": "stream",
       "stream": "stdout",
       "text": [
        "\n",
        "Iteration n\u00b044 - MSE: 19420517750.569386"
       ]
      },
      {
       "output_type": "stream",
       "stream": "stdout",
       "text": [
        "\n",
        "Iteration n\u00b045 - MSE: 19113090726.880451"
       ]
      },
      {
       "output_type": "stream",
       "stream": "stdout",
       "text": [
        "\n",
        "Iteration n\u00b046 - MSE: 18816219015.648720"
       ]
      },
      {
       "output_type": "stream",
       "stream": "stdout",
       "text": [
        "\n",
        "Iteration n\u00b047 - MSE: 18529334884.768856"
       ]
      },
      {
       "output_type": "stream",
       "stream": "stdout",
       "text": [
        "\n",
        "Iteration n\u00b048 - MSE: 18251911789.774120"
       ]
      },
      {
       "output_type": "stream",
       "stream": "stdout",
       "text": [
        "\n",
        "Iteration n\u00b049 - MSE: 17983460644.816200"
       ]
      },
      {
       "output_type": "stream",
       "stream": "stdout",
       "text": [
        "\n",
        "Iteration n\u00b050 - MSE: 17723526495.918652"
       ]
      },
      {
       "output_type": "stream",
       "stream": "stdout",
       "text": [
        "\n",
        "Iteration n\u00b051 - MSE: 17471685546.386417"
       ]
      },
      {
       "output_type": "stream",
       "stream": "stdout",
       "text": [
        "\n",
        "Iteration n\u00b052 - MSE: 17227542491.300793"
       ]
      },
      {
       "output_type": "stream",
       "stream": "stdout",
       "text": [
        "\n",
        "Iteration n\u00b053 - MSE: 16990728123.979799"
       ]
      },
      {
       "output_type": "stream",
       "stream": "stdout",
       "text": [
        "\n",
        "Iteration n\u00b054 - MSE: 16760897182.318800"
       ]
      },
      {
       "output_type": "stream",
       "stream": "stdout",
       "text": [
        "\n",
        "Iteration n\u00b055 - MSE: 16537726407.205822"
       ]
      },
      {
       "output_type": "stream",
       "stream": "stdout",
       "text": [
        "\n",
        "Iteration n\u00b056 - MSE: 16320912788.850670"
       ]
      },
      {
       "output_type": "stream",
       "stream": "stdout",
       "text": [
        "\n",
        "Iteration n\u00b057 - MSE: 16110171979.978199"
       ]
      },
      {
       "output_type": "stream",
       "stream": "stdout",
       "text": [
        "\n",
        "Iteration n\u00b058 - MSE: 15905236857.507631"
       ]
      },
      {
       "output_type": "stream",
       "stream": "stdout",
       "text": [
        "\n",
        "Iteration n\u00b059 - MSE: 15705856216.627752"
       ]
      },
      {
       "output_type": "stream",
       "stream": "stdout",
       "text": [
        "\n",
        "Iteration n\u00b060 - MSE: 15511793583.154043"
       ]
      },
      {
       "output_type": "stream",
       "stream": "stdout",
       "text": [
        "\n",
        "Iteration n\u00b061 - MSE: 15322826131.757193"
       ]
      },
      {
       "output_type": "stream",
       "stream": "stdout",
       "text": [
        "\n",
        "Iteration n\u00b062 - MSE: 15138743699.127686"
       ]
      },
      {
       "output_type": "stream",
       "stream": "stdout",
       "text": [
        "\n",
        "Iteration n\u00b063 - MSE: 14959347882.421242"
       ]
      },
      {
       "output_type": "stream",
       "stream": "stdout",
       "text": [
        "\n",
        "Iteration n\u00b064 - MSE: 14784451214.442955"
       ]
      },
      {
       "output_type": "stream",
       "stream": "stdout",
       "text": [
        "\n",
        "Iteration n\u00b065 - MSE: 14613876407.998301"
       ]
      },
      {
       "output_type": "stream",
       "stream": "stdout",
       "text": [
        "\n",
        "Iteration n\u00b066 - MSE: 14447455662.685720"
       ]
      },
      {
       "output_type": "stream",
       "stream": "stdout",
       "text": [
        "\n",
        "Iteration n\u00b067 - MSE: 14285030028.147526"
       ]
      },
      {
       "output_type": "stream",
       "stream": "stdout",
       "text": [
        "\n",
        "Iteration n\u00b068 - MSE: 14126448818.447140"
       ]
      },
      {
       "output_type": "stream",
       "stream": "stdout",
       "text": [
        "\n",
        "Iteration n\u00b069 - MSE: 13971569072.810106"
       ]
      },
      {
       "output_type": "stream",
       "stream": "stdout",
       "text": [
        "\n",
        "Iteration n\u00b070 - MSE: 13820255058.471783"
       ]
      },
      {
       "output_type": "stream",
       "stream": "stdout",
       "text": [
        "\n",
        "Iteration n\u00b071 - MSE: 13672377811.816746"
       ]
      },
      {
       "output_type": "stream",
       "stream": "stdout",
       "text": [
        "\n",
        "Iteration n\u00b072 - MSE: 13527814714.387915"
       ]
      },
      {
       "output_type": "stream",
       "stream": "stdout",
       "text": [
        "\n",
        "Iteration n\u00b073 - MSE: 13386449100.690958"
       ]
      },
      {
       "output_type": "stream",
       "stream": "stdout",
       "text": [
        "\n",
        "Iteration n\u00b074 - MSE: 13248169895.026217"
       ]
      },
      {
       "output_type": "stream",
       "stream": "stdout",
       "text": [
        "\n",
        "Iteration n\u00b075 - MSE: 13112871274.854998"
       ]
      },
      {
       "output_type": "stream",
       "stream": "stdout",
       "text": [
        "\n",
        "Iteration n\u00b076 - MSE: 12980452358.449783"
       ]
      },
      {
       "output_type": "stream",
       "stream": "stdout",
       "text": [
        "\n",
        "Iteration n\u00b077 - MSE: 12850816914.794363"
       ]
      },
      {
       "output_type": "stream",
       "stream": "stdout",
       "text": [
        "\n",
        "Iteration n\u00b078 - MSE: 12723873093.894339"
       ]
      },
      {
       "output_type": "stream",
       "stream": "stdout",
       "text": [
        "\n",
        "Iteration n\u00b079 - MSE: 12599533175.830059"
       ]
      },
      {
       "output_type": "stream",
       "stream": "stdout",
       "text": [
        "\n",
        "Iteration n\u00b080 - MSE: 12477713337.039734"
       ]
      },
      {
       "output_type": "stream",
       "stream": "stdout",
       "text": [
        "\n",
        "Iteration n\u00b081 - MSE: 12358333432.458597"
       ]
      },
      {
       "output_type": "stream",
       "stream": "stdout",
       "text": [
        "\n",
        "Iteration n\u00b082 - MSE: 12241316792.264837"
       ]
      },
      {
       "output_type": "stream",
       "stream": "stdout",
       "text": [
        "\n",
        "Iteration n\u00b083 - MSE: 12126590032.094595"
       ]
      },
      {
       "output_type": "stream",
       "stream": "stdout",
       "text": [
        "\n",
        "Iteration n\u00b084 - MSE: 12014082875.689030"
       ]
      },
      {
       "output_type": "stream",
       "stream": "stdout",
       "text": [
        "\n",
        "Iteration n\u00b085 - MSE: 11903727989.027454"
       ]
      },
      {
       "output_type": "stream",
       "stream": "stdout",
       "text": [
        "\n",
        "Iteration n\u00b086 - MSE: 11795460825.081841"
       ]
      },
      {
       "output_type": "stream",
       "stream": "stdout",
       "text": [
        "\n",
        "Iteration n\u00b087 - MSE: 11689219478.402750"
       ]
      },
      {
       "output_type": "stream",
       "stream": "stdout",
       "text": [
        "\n",
        "Iteration n\u00b088 - MSE: 11584944548.812378"
       ]
      },
      {
       "output_type": "stream",
       "stream": "stdout",
       "text": [
        "\n",
        "Iteration n\u00b089 - MSE: 11482579013.542507"
       ]
      },
      {
       "output_type": "stream",
       "stream": "stdout",
       "text": [
        "\n",
        "Iteration n\u00b090 - MSE: 11382068107.208397"
       ]
      },
      {
       "output_type": "stream",
       "stream": "stdout",
       "text": [
        "\n",
        "Iteration n\u00b091 - MSE: 11283359209.060743"
       ]
      },
      {
       "output_type": "stream",
       "stream": "stdout",
       "text": [
        "\n",
        "Iteration n\u00b092 - MSE: 11186401737.002373"
       ]
      },
      {
       "output_type": "stream",
       "stream": "stdout",
       "text": [
        "\n",
        "Iteration n\u00b093 - MSE: 11091147047.897726"
       ]
      },
      {
       "output_type": "stream",
       "stream": "stdout",
       "text": [
        "\n",
        "Iteration n\u00b094 - MSE: 10997548343.740122"
       ]
      },
      {
       "output_type": "stream",
       "stream": "stdout",
       "text": [
        "\n",
        "Iteration n\u00b095 - MSE: 10905560583.277399"
       ]
      },
      {
       "output_type": "stream",
       "stream": "stdout",
       "text": [
        "\n",
        "Iteration n\u00b096 - MSE: 10815140398.725342"
       ]
      },
      {
       "output_type": "stream",
       "stream": "stdout",
       "text": [
        "\n",
        "Iteration n\u00b097 - MSE: 10726246017.228867"
       ]
      },
      {
       "output_type": "stream",
       "stream": "stdout",
       "text": [
        "\n",
        "Iteration n\u00b098 - MSE: 10638837186.755936"
       ]
      },
      {
       "output_type": "stream",
       "stream": "stdout",
       "text": [
        "\n",
        "Iteration n\u00b099 - MSE: 10552875106.132612"
       ]
      },
      {
       "output_type": "stream",
       "stream": "stdout",
       "text": [
        "\n",
        "Iteration n\u00b0100 - MSE: 10468322358.950336"
       ]
      },
      {
       "output_type": "stream",
       "stream": "stdout",
       "text": [
        "\n",
        "Iteration n\u00b0101 - MSE: 10385142851.095686"
       ]
      },
      {
       "output_type": "stream",
       "stream": "stdout",
       "text": [
        "\n",
        "Iteration n\u00b0102 - MSE: 10303301751.671700"
       ]
      },
      {
       "output_type": "stream",
       "stream": "stdout",
       "text": [
        "\n",
        "Iteration n\u00b0103 - MSE: 10222765437.095903"
       ]
      },
      {
       "output_type": "stream",
       "stream": "stdout",
       "text": [
        "\n",
        "Iteration n\u00b0104 - MSE: 10143501438.176598"
       ]
      },
      {
       "output_type": "stream",
       "stream": "stdout",
       "text": [
        "\n",
        "Iteration n\u00b0105 - MSE: 10065478389.982399"
       ]
      },
      {
       "output_type": "stream",
       "stream": "stdout",
       "text": [
        "\n",
        "Iteration n\u00b0106 - MSE: 9988665984.333010"
       ]
      },
      {
       "output_type": "stream",
       "stream": "stdout",
       "text": [
        "\n",
        "Iteration n\u00b0107 - MSE: 9913034924.752279"
       ]
      },
      {
       "output_type": "stream",
       "stream": "stdout",
       "text": [
        "\n",
        "Iteration n\u00b0108 - MSE: 9838556883.733807"
       ]
      },
      {
       "output_type": "stream",
       "stream": "stdout",
       "text": [
        "\n",
        "Iteration n\u00b0109 - MSE: 9765204462.181814"
       ]
      },
      {
       "output_type": "stream",
       "stream": "stdout",
       "text": [
        "\n",
        "Iteration n\u00b0110 - MSE: 9692951150.897346"
       ]
      },
      {
       "output_type": "stream",
       "stream": "stdout",
       "text": [
        "\n",
        "Iteration n\u00b0111 - MSE: 9621771293.990242"
       ]
      },
      {
       "output_type": "stream",
       "stream": "stdout",
       "text": [
        "\n",
        "Iteration n\u00b0112 - MSE: 9551640054.104057"
       ]
      },
      {
       "output_type": "stream",
       "stream": "stdout",
       "text": [
        "\n",
        "Iteration n\u00b0113 - MSE: 9482533379.349617"
       ]
      },
      {
       "output_type": "stream",
       "stream": "stdout",
       "text": [
        "\n",
        "Iteration n\u00b0114 - MSE: 9414427971.849129"
       ]
      },
      {
       "output_type": "stream",
       "stream": "stdout",
       "text": [
        "\n",
        "Iteration n\u00b0115 - MSE: 9347301257.799267"
       ]
      },
      {
       "output_type": "stream",
       "stream": "stdout",
       "text": [
        "\n",
        "Iteration n\u00b0116 - MSE: 9281131358.967815"
       ]
      },
      {
       "output_type": "stream",
       "stream": "stdout",
       "text": [
        "\n",
        "Iteration n\u00b0117 - MSE: 9215897065.543802"
       ]
      },
      {
       "output_type": "stream",
       "stream": "stdout",
       "text": [
        "\n",
        "Iteration n\u00b0118 - MSE: 9151577810.266054"
       ]
      },
      {
       "output_type": "stream",
       "stream": "stdout",
       "text": [
        "\n",
        "Iteration n\u00b0119 - MSE: 9088153643.759808"
       ]
      },
      {
       "output_type": "stream",
       "stream": "stdout",
       "text": [
        "\n",
        "Iteration n\u00b0120 - MSE: 9025605211.015936"
       ]
      },
      {
       "output_type": "stream",
       "stream": "stdout",
       "text": [
        "\n",
        "Iteration n\u00b0121 - MSE: 8963913728.950415"
       ]
      },
      {
       "output_type": "stream",
       "stream": "stdout",
       "text": [
        "\n",
        "Iteration n\u00b0122 - MSE: 8903060964.986826"
       ]
      },
      {
       "output_type": "stream",
       "stream": "stdout",
       "text": [
        "\n",
        "Iteration n\u00b0123 - MSE: 8843029216.606791"
       ]
      },
      {
       "output_type": "stream",
       "stream": "stdout",
       "text": [
        "\n",
        "Iteration n\u00b0124 - MSE: 8783801291.817606"
       ]
      },
      {
       "output_type": "stream",
       "stream": "stdout",
       "text": [
        "\n",
        "Iteration n\u00b0125 - MSE: 8725360490.489063"
       ]
      },
      {
       "output_type": "stream",
       "stream": "stdout",
       "text": [
        "\n",
        "Iteration n\u00b0126 - MSE: 8667690586.514042"
       ]
      },
      {
       "output_type": "stream",
       "stream": "stdout",
       "text": [
        "\n",
        "Iteration n\u00b0127 - MSE: 8610775810.750631"
       ]
      },
      {
       "output_type": "stream",
       "stream": "stdout",
       "text": [
        "\n",
        "Iteration n\u00b0128 - MSE: 8554600834.705772"
       ]
      },
      {
       "output_type": "stream",
       "stream": "stdout",
       "text": [
        "\n",
        "Iteration n\u00b0129 - MSE: 8499150754.922436"
       ]
      },
      {
       "output_type": "stream",
       "stream": "stdout",
       "text": [
        "\n",
        "Iteration n\u00b0130 - MSE: 8444411078.035473"
       ]
      },
      {
       "output_type": "stream",
       "stream": "stdout",
       "text": [
        "\n",
        "Iteration n\u00b0131 - MSE: 8390367706.462133"
       ]
      },
      {
       "output_type": "stream",
       "stream": "stdout",
       "text": [
        "\n",
        "Iteration n\u00b0132 - MSE: 8337006924.695945"
       ]
      },
      {
       "output_type": "stream",
       "stream": "stdout",
       "text": [
        "\n",
        "Iteration n\u00b0133 - MSE: 8284315386.174359"
       ]
      },
      {
       "output_type": "stream",
       "stream": "stdout",
       "text": [
        "\n",
        "Iteration n\u00b0134 - MSE: 8232280100.691877"
       ]
      },
      {
       "output_type": "stream",
       "stream": "stdout",
       "text": [
        "\n",
        "Iteration n\u00b0135 - MSE: 8180888422.332195"
       ]
      },
      {
       "output_type": "stream",
       "stream": "stdout",
       "text": [
        "\n",
        "Iteration n\u00b0136 - MSE: 8130128037.894485"
       ]
      },
      {
       "output_type": "stream",
       "stream": "stdout",
       "text": [
        "\n",
        "Iteration n\u00b0137 - MSE: 8079986955.790070"
       ]
      },
      {
       "output_type": "stream",
       "stream": "stdout",
       "text": [
        "\n",
        "Iteration n\u00b0138 - MSE: 8030453495.387019"
       ]
      },
      {
       "output_type": "stream",
       "stream": "stdout",
       "text": [
        "\n",
        "Iteration n\u00b0139 - MSE: 7981516276.781703"
       ]
      },
      {
       "output_type": "stream",
       "stream": "stdout",
       "text": [
        "\n",
        "Iteration n\u00b0140 - MSE: 7933164210.977278"
       ]
      },
      {
       "output_type": "stream",
       "stream": "stdout",
       "text": [
        "\n",
        "Iteration n\u00b0141 - MSE: 7885386490.449964"
       ]
      },
      {
       "output_type": "stream",
       "stream": "stdout",
       "text": [
        "\n",
        "Iteration n\u00b0142 - MSE: 7838172580.085497"
       ]
      },
      {
       "output_type": "stream",
       "stream": "stdout",
       "text": [
        "\n",
        "Iteration n\u00b0143 - MSE: 7791512208.468554"
       ]
      },
      {
       "output_type": "stream",
       "stream": "stdout",
       "text": [
        "\n",
        "Iteration n\u00b0144 - MSE: 7745395359.509061"
       ]
      },
      {
       "output_type": "stream",
       "stream": "stdout",
       "text": [
        "\n",
        "Iteration n\u00b0145 - MSE: 7699812264.390318"
       ]
      },
      {
       "output_type": "stream",
       "stream": "stdout",
       "text": [
        "\n",
        "Iteration n\u00b0146 - MSE: 7654753393.824235"
       ]
      },
      {
       "output_type": "stream",
       "stream": "stdout",
       "text": [
        "\n",
        "Iteration n\u00b0147 - MSE: 7610209450.600162"
       ]
      },
      {
       "output_type": "stream",
       "stream": "stdout",
       "text": [
        "\n",
        "Iteration n\u00b0148 - MSE: 7566171362.414093"
       ]
      },
      {
       "output_type": "stream",
       "stream": "stdout",
       "text": [
        "\n",
        "Iteration n\u00b0149 - MSE: 7522630274.966072"
       ]
      },
      {
       "output_type": "stream",
       "stream": "stdout",
       "text": [
        "\n",
        "Iteration n\u00b0150 - MSE: 7479577545.314068"
       ]
      },
      {
       "output_type": "stream",
       "stream": "stdout",
       "text": [
        "\n",
        "Iteration n\u00b0151 - MSE: 7437004735.472830"
       ]
      },
      {
       "output_type": "stream",
       "stream": "stdout",
       "text": [
        "\n",
        "Iteration n\u00b0152 - MSE: 7394903606.247619"
       ]
      },
      {
       "output_type": "stream",
       "stream": "stdout",
       "text": [
        "\n",
        "Iteration n\u00b0153 - MSE: 7353266111.292450"
       ]
      },
      {
       "output_type": "stream",
       "stream": "stdout",
       "text": [
        "\n",
        "Iteration n\u00b0154 - MSE: 7312084391.383169"
       ]
      },
      {
       "output_type": "stream",
       "stream": "stdout",
       "text": [
        "\n",
        "Iteration n\u00b0155 - MSE: 7271350768.896633"
       ]
      },
      {
       "output_type": "stream",
       "stream": "stdout",
       "text": [
        "\n",
        "Iteration n\u00b0156 - MSE: 7231057742.486901"
       ]
      },
      {
       "output_type": "stream",
       "stream": "stdout",
       "text": [
        "\n",
        "Iteration n\u00b0157 - MSE: 7191197981.950549"
       ]
      },
      {
       "output_type": "stream",
       "stream": "stdout",
       "text": [
        "\n",
        "Iteration n\u00b0158 - MSE: 7151764323.272882"
       ]
      },
      {
       "output_type": "stream",
       "stream": "stdout",
       "text": [
        "\n",
        "Iteration n\u00b0159 - MSE: 7112749763.847914"
       ]
      },
      {
       "output_type": "stream",
       "stream": "stdout",
       "text": [
        "\n",
        "Iteration n\u00b0160 - MSE: 7074147457.864800"
       ]
      },
      {
       "output_type": "stream",
       "stream": "stdout",
       "text": [
        "\n",
        "Iteration n\u00b0161 - MSE: 7035950711.853900"
       ]
      },
      {
       "output_type": "stream",
       "stream": "stdout",
       "text": [
        "\n",
        "Iteration n\u00b0162 - MSE: 6998152980.386081"
       ]
      },
      {
       "output_type": "stream",
       "stream": "stdout",
       "text": [
        "\n",
        "Iteration n\u00b0163 - MSE: 6960747861.919088"
       ]
      },
      {
       "output_type": "stream",
       "stream": "stdout",
       "text": [
        "\n",
        "Iteration n\u00b0164 - MSE: 6923729094.784943"
       ]
      },
      {
       "output_type": "stream",
       "stream": "stdout",
       "text": [
        "\n",
        "Iteration n\u00b0165 - MSE: 6887090553.313059"
       ]
      },
      {
       "output_type": "stream",
       "stream": "stdout",
       "text": [
        "\n",
        "Iteration n\u00b0166 - MSE: 6850826244.083296"
       ]
      },
      {
       "output_type": "stream",
       "stream": "stdout",
       "text": [
        "\n",
        "Iteration n\u00b0167 - MSE: 6814930302.304121"
       ]
      },
      {
       "output_type": "stream",
       "stream": "stdout",
       "text": [
        "\n",
        "Iteration n\u00b0168 - MSE: 6779396988.311089"
       ]
      },
      {
       "output_type": "stream",
       "stream": "stdout",
       "text": [
        "\n",
        "Iteration n\u00b0169 - MSE: 6744220684.180367"
       ]
      },
      {
       "output_type": "stream",
       "stream": "stdout",
       "text": [
        "\n",
        "Iteration n\u00b0170 - MSE: 6709395890.453726"
       ]
      },
      {
       "output_type": "stream",
       "stream": "stdout",
       "text": [
        "\n",
        "Iteration n\u00b0171 - MSE: 6674917222.970027"
       ]
      },
      {
       "output_type": "stream",
       "stream": "stdout",
       "text": [
        "\n",
        "Iteration n\u00b0172 - MSE: 6640779409.799262"
       ]
      },
      {
       "output_type": "stream",
       "stream": "stdout",
       "text": [
        "\n",
        "Iteration n\u00b0173 - MSE: 6606977288.275688"
       ]
      },
      {
       "output_type": "stream",
       "stream": "stdout",
       "text": [
        "\n",
        "Iteration n\u00b0174 - MSE: 6573505802.125623"
       ]
      },
      {
       "output_type": "stream",
       "stream": "stdout",
       "text": [
        "\n",
        "Iteration n\u00b0175 - MSE: 6540359998.686929"
       ]
      },
      {
       "output_type": "stream",
       "stream": "stdout",
       "text": [
        "\n",
        "Iteration n\u00b0176 - MSE: 6507535026.216434"
       ]
      },
      {
       "output_type": "stream",
       "stream": "stdout",
       "text": [
        "\n",
        "Iteration n\u00b0177 - MSE: 6475026131.282176"
       ]
      },
      {
       "output_type": "stream",
       "stream": "stdout",
       "text": [
        "\n",
        "Iteration n\u00b0178 - MSE: 6442828656.237186"
       ]
      },
      {
       "output_type": "stream",
       "stream": "stdout",
       "text": [
        "\n",
        "Iteration n\u00b0179 - MSE: 6410938036.772110"
       ]
      },
      {
       "output_type": "stream",
       "stream": "stdout",
       "text": [
        "\n",
        "Iteration n\u00b0180 - MSE: 6379349799.543394"
       ]
      },
      {
       "output_type": "stream",
       "stream": "stdout",
       "text": [
        "\n",
        "Iteration n\u00b0181 - MSE: 6348059559.874510"
       ]
      },
      {
       "output_type": "stream",
       "stream": "stdout",
       "text": [
        "\n",
        "Iteration n\u00b0182 - MSE: 6317063019.527762"
       ]
      },
      {
       "output_type": "stream",
       "stream": "stdout",
       "text": [
        "\n",
        "Iteration n\u00b0183 - MSE: 6286355964.543645"
       ]
      },
      {
       "output_type": "stream",
       "stream": "stdout",
       "text": [
        "\n",
        "Iteration n\u00b0184 - MSE: 6255934263.145871"
       ]
      },
      {
       "output_type": "stream",
       "stream": "stdout",
       "text": [
        "\n",
        "Iteration n\u00b0185 - MSE: 6225793863.709394"
       ]
      },
      {
       "output_type": "stream",
       "stream": "stdout",
       "text": [
        "\n",
        "Iteration n\u00b0186 - MSE: 6195930792.789299"
       ]
      },
      {
       "output_type": "stream",
       "stream": "stdout",
       "text": [
        "\n",
        "Iteration n\u00b0187 - MSE: 6166341153.208449"
       ]
      },
      {
       "output_type": "stream",
       "stream": "stdout",
       "text": [
        "\n",
        "Iteration n\u00b0188 - MSE: 6137021122.201773"
       ]
      },
      {
       "output_type": "stream",
       "stream": "stdout",
       "text": [
        "\n",
        "Iteration n\u00b0189 - MSE: 6107966949.615359"
       ]
      },
      {
       "output_type": "stream",
       "stream": "stdout",
       "text": [
        "\n",
        "Iteration n\u00b0190 - MSE: 6079174956.158216"
       ]
      },
      {
       "output_type": "stream",
       "stream": "stdout",
       "text": [
        "\n",
        "Iteration n\u00b0191 - MSE: 6050641531.705123"
       ]
      },
      {
       "output_type": "stream",
       "stream": "stdout",
       "text": [
        "\n",
        "Iteration n\u00b0192 - MSE: 6022363133.648727"
       ]
      },
      {
       "output_type": "stream",
       "stream": "stdout",
       "text": [
        "\n",
        "Iteration n\u00b0193 - MSE: 5994336285.299201"
       ]
      },
      {
       "output_type": "stream",
       "stream": "stdout",
       "text": [
        "\n",
        "Iteration n\u00b0194 - MSE: 5966557574.329814"
       ]
      },
      {
       "output_type": "stream",
       "stream": "stdout",
       "text": [
        "\n",
        "Iteration n\u00b0195 - MSE: 5939023651.266987"
       ]
      },
      {
       "output_type": "stream",
       "stream": "stdout",
       "text": [
        "\n",
        "Iteration n\u00b0196 - MSE: 5911731228.023202"
       ]
      },
      {
       "output_type": "stream",
       "stream": "stdout",
       "text": [
        "\n",
        "Iteration n\u00b0197 - MSE: 5884677076.471476"
       ]
      },
      {
       "output_type": "stream",
       "stream": "stdout",
       "text": [
        "\n",
        "Iteration n\u00b0198 - MSE: 5857858027.059848"
       ]
      },
      {
       "output_type": "stream",
       "stream": "stdout",
       "text": [
        "\n",
        "Iteration n\u00b0199 - MSE: 5831270967.464776"
       ]
      },
      {
       "output_type": "stream",
       "stream": "stdout",
       "text": [
        "\n"
       ]
      }
     ],
     "prompt_number": 25
    },
    {
     "cell_type": "code",
     "collapsed": false,
     "input": [
      "mod2 = LinearModule(100,28*28)\n",
      "mod1 = LinearModule(28*28,100)\n",
      "\n",
      "AE = MultiModule([mod1,TanhModule(1,1),mod2],SquareLoss())\n",
      "\n",
      "sq = SquareLoss()\n",
      "\n",
      "#print sq.getLossValue(train_data[0],train_data[0])\n",
      "\n",
      "\n",
      "#print mod1.parameters\n",
      "NBITER = 50\n",
      "print \"=======TRAIN ERROR=======\"\n",
      "for i in xrange(0,NBITER):\n",
      "   loss = AE.miniBatchIter(train_data, train_data,batch_size=150,gradient_step=0.000001, verbose=False)\n",
      "   predicted = AE.forwardAll(train_data)\n",
      "   err=0\n",
      "    \n",
      "   for pred,exp in zip(predicted,train_data):\n",
      "       err += np.sum(np.power(pred-exp,2))\n",
      "    \n",
      "        \n",
      "   #print loss\n",
      "   print \"Iteration n\u00b0%d - MSE: %f\" % (i,err/len(predicted))\n",
      "\n",
      "   "
     ],
     "language": "python",
     "metadata": {},
     "outputs": [
      {
       "output_type": "stream",
       "stream": "stdout",
       "text": [
        "=======TRAIN ERROR=======\n",
        "Iteration n\u00b00 - MSE: 5474544.805493"
       ]
      },
      {
       "output_type": "stream",
       "stream": "stdout",
       "text": [
        "\n",
        "Iteration n\u00b01 - MSE: 4691296.058353"
       ]
      },
      {
       "output_type": "stream",
       "stream": "stdout",
       "text": [
        "\n",
        "Iteration n\u00b02 - MSE: 4139160.515617"
       ]
      },
      {
       "output_type": "stream",
       "stream": "stdout",
       "text": [
        "\n",
        "Iteration n\u00b03 - MSE: 3779764.220062"
       ]
      },
      {
       "output_type": "stream",
       "stream": "stdout",
       "text": [
        "\n",
        "Iteration n\u00b04 - MSE: 3553208.713446"
       ]
      },
      {
       "output_type": "stream",
       "stream": "stdout",
       "text": [
        "\n",
        "Iteration n\u00b05 - MSE: 3412589.999868"
       ]
      },
      {
       "output_type": "stream",
       "stream": "stdout",
       "text": [
        "\n",
        "Iteration n\u00b06 - MSE: 3323332.653554"
       ]
      },
      {
       "output_type": "stream",
       "stream": "stdout",
       "text": [
        "\n",
        "Iteration n\u00b07 - MSE: 3267631.267727"
       ]
      },
      {
       "output_type": "stream",
       "stream": "stdout",
       "text": [
        "\n",
        "Iteration n\u00b08 - MSE: 3235355.539840"
       ]
      },
      {
       "output_type": "stream",
       "stream": "stdout",
       "text": [
        "\n",
        "Iteration n\u00b09 - MSE: 3212449.550038"
       ]
      },
      {
       "output_type": "stream",
       "stream": "stdout",
       "text": [
        "\n",
        "Iteration n\u00b010 - MSE: 3196961.497173"
       ]
      },
      {
       "output_type": "stream",
       "stream": "stdout",
       "text": [
        "\n",
        "Iteration n\u00b011 - MSE: 3185971.564809"
       ]
      },
      {
       "output_type": "stream",
       "stream": "stdout",
       "text": [
        "\n",
        "Iteration n\u00b012 - MSE: 3177670.031438"
       ]
      },
      {
       "output_type": "stream",
       "stream": "stdout",
       "text": [
        "\n",
        "Iteration n\u00b013 - MSE: 3173222.553728"
       ]
      },
      {
       "output_type": "stream",
       "stream": "stdout",
       "text": [
        "\n",
        "Iteration n\u00b014 - MSE: 3167941.138180"
       ]
      },
      {
       "output_type": "stream",
       "stream": "stdout",
       "text": [
        "\n",
        "Iteration n\u00b015 - MSE: 3163190.743178"
       ]
      },
      {
       "output_type": "stream",
       "stream": "stdout",
       "text": [
        "\n",
        "Iteration n\u00b016 - MSE: 3158768.362022"
       ]
      },
      {
       "output_type": "stream",
       "stream": "stdout",
       "text": [
        "\n",
        "Iteration n\u00b017 - MSE: 3158572.783054"
       ]
      },
      {
       "output_type": "stream",
       "stream": "stdout",
       "text": [
        "\n",
        "Iteration n\u00b018 - MSE: 3152991.882212"
       ]
      },
      {
       "output_type": "stream",
       "stream": "stdout",
       "text": [
        "\n",
        "Iteration n\u00b019 - MSE: 3147975.929005"
       ]
      },
      {
       "output_type": "stream",
       "stream": "stdout",
       "text": [
        "\n",
        "Iteration n\u00b020 - MSE: 3143291.917147"
       ]
      },
      {
       "output_type": "stream",
       "stream": "stdout",
       "text": [
        "\n",
        "Iteration n\u00b021 - MSE: 3144513.853090"
       ]
      },
      {
       "output_type": "stream",
       "stream": "stdout",
       "text": [
        "\n",
        "Iteration n\u00b022 - MSE: 3139318.945214"
       ]
      },
      {
       "output_type": "stream",
       "stream": "stdout",
       "text": [
        "\n",
        "Iteration n\u00b023 - MSE: 3134607.763933"
       ]
      },
      {
       "output_type": "stream",
       "stream": "stdout",
       "text": [
        "\n",
        "Iteration n\u00b024 - MSE: 3130238.137083"
       ]
      },
      {
       "output_type": "stream",
       "stream": "stdout",
       "text": [
        "\n",
        "Iteration n\u00b025 - MSE: 3126065.335902"
       ]
      },
      {
       "output_type": "stream",
       "stream": "stdout",
       "text": [
        "\n",
        "Iteration n\u00b026 - MSE: 3122018.614280"
       ]
      },
      {
       "output_type": "stream",
       "stream": "stdout",
       "text": [
        "\n",
        "Iteration n\u00b027 - MSE: 3118055.787697"
       ]
      },
      {
       "output_type": "stream",
       "stream": "stdout",
       "text": [
        "\n",
        "Iteration n\u00b028 - MSE: 3114151.787742"
       ]
      },
      {
       "output_type": "stream",
       "stream": "stdout",
       "text": [
        "\n",
        "Iteration n\u00b029 - MSE: 3110291.777949"
       ]
      },
      {
       "output_type": "stream",
       "stream": "stdout",
       "text": [
        "\n",
        "Iteration n\u00b030 - MSE: 3106467.018811"
       ]
      },
      {
       "output_type": "stream",
       "stream": "stdout",
       "text": [
        "\n",
        "Iteration n\u00b031 - MSE: 3102672.388471"
       ]
      },
      {
       "output_type": "stream",
       "stream": "stdout",
       "text": [
        "\n",
        "Iteration n\u00b032 - MSE: 3098904.899574"
       ]
      },
      {
       "output_type": "stream",
       "stream": "stdout",
       "text": [
        "\n",
        "Iteration n\u00b033 - MSE: 3095162.814727"
       ]
      },
      {
       "output_type": "stream",
       "stream": "stdout",
       "text": [
        "\n",
        "Iteration n\u00b034 - MSE: 3091445.121047"
       ]
      },
      {
       "output_type": "stream",
       "stream": "stdout",
       "text": [
        "\n",
        "Iteration n\u00b035 - MSE: 3087751.219676"
       ]
      },
      {
       "output_type": "stream",
       "stream": "stdout",
       "text": [
        "\n",
        "Iteration n\u00b036 - MSE: 3084080.743626"
       ]
      },
      {
       "output_type": "stream",
       "stream": "stdout",
       "text": [
        "\n",
        "Iteration n\u00b037 - MSE: 3080433.451930"
       ]
      },
      {
       "output_type": "stream",
       "stream": "stdout",
       "text": [
        "\n",
        "Iteration n\u00b038 - MSE: 3076809.168974"
       ]
      },
      {
       "output_type": "stream",
       "stream": "stdout",
       "text": [
        "\n",
        "Iteration n\u00b039 - MSE: 3073207.750371"
       ]
      },
      {
       "output_type": "stream",
       "stream": "stdout",
       "text": [
        "\n",
        "Iteration n\u00b040 - MSE: 3069629.064322"
       ]
      },
      {
       "output_type": "stream",
       "stream": "stdout",
       "text": [
        "\n",
        "Iteration n\u00b041 - MSE: 3066072.981878"
       ]
      },
      {
       "output_type": "stream",
       "stream": "stdout",
       "text": [
        "\n",
        "Iteration n\u00b042 - MSE: 3062539.372242"
       ]
      },
      {
       "output_type": "stream",
       "stream": "stdout",
       "text": [
        "\n",
        "Iteration n\u00b043 - MSE: 3059028.100855"
       ]
      },
      {
       "output_type": "stream",
       "stream": "stdout",
       "text": [
        "\n",
        "Iteration n\u00b044 - MSE: 3055539.028939"
       ]
      },
      {
       "output_type": "stream",
       "stream": "stdout",
       "text": [
        "\n",
        "Iteration n\u00b045 - MSE: 3052072.013786"
       ]
      },
      {
       "output_type": "stream",
       "stream": "stdout",
       "text": [
        "\n",
        "Iteration n\u00b046 - MSE: 3048626.909346"
       ]
      },
      {
       "output_type": "stream",
       "stream": "stdout",
       "text": [
        "\n",
        "Iteration n\u00b047 - MSE: 3045203.566924"
       ]
      },
      {
       "output_type": "stream",
       "stream": "stdout",
       "text": [
        "\n",
        "Iteration n\u00b048 - MSE: 3041801.835846"
       ]
      },
      {
       "output_type": "stream",
       "stream": "stdout",
       "text": [
        "\n",
        "Iteration n\u00b049 - MSE: 3038421.564064"
       ]
      },
      {
       "output_type": "stream",
       "stream": "stdout",
       "text": [
        "\n"
       ]
      }
     ],
     "prompt_number": 27
    },
    {
     "cell_type": "code",
     "collapsed": false,
     "input": [
      "init = mod1.forward(train_data[10])\n",
      "b = TanhModule(1,1)\n",
      "comp = b.forward(init)\n",
      "patch = np.zeros(100)\n",
      "patch[10] = 1\n",
      "#plt.imshow(train_data[0].reshape(28,28))\n",
      "plt.imshow(recomp.reshape(28,28))\n",
      "plt.show()"
     ],
     "language": "python",
     "metadata": {},
     "outputs": [],
     "prompt_number": 32
    },
    {
     "cell_type": "code",
     "collapsed": false,
     "input": [],
     "language": "python",
     "metadata": {},
     "outputs": []
    }
   ],
   "metadata": {}
  }
 ]
}