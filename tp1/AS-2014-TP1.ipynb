{
 "metadata": {
  "name": "TP1_AS_Students"
 }, 
 "nbformat": 2, 
 "worksheets": [
  {
   "cells": [
    {
     "cell_type": "markdown", 
     "source": [
      "TP1: Prise en main de IPython/NumPy/Pandas", 
      "=====", 
      "", 
      "Dans ce TP, nous allons prendre en main les outils qui nous serviront \u00e0 l'impl\u00e9mentation de mod\u00e8les d'apprentissage statistique (R\u00e9seaux de neurones profonds ou pas, SVM, ...). "
     ]
    }, 
    {
     "cell_type": "markdown", 
     "source": [
      "Exercice 1: Environnement de travail", 
      "----------"
     ]
    }, 
    {
     "cell_type": "markdown", 
     "source": [
      "L'ex\u00e9cution d'un cellule de code sous IPython Notebook s'effectue \u00e0 l'aide de [Shift]+Entree. Ex\u00e9cutez les cellules suivante."
     ]
    }, 
    {
     "cell_type": "code", 
     "collapsed": true, 
     "input": [
      "i=1", 
      "print(i)"
     ], 
     "language": "python", 
     "outputs": [], 
     "prompt_number": 1
    }, 
    {
     "cell_type": "code", 
     "collapsed": true, 
     "input": [
      "import time", 
      "", 
      "for i in range(100):", 
      "    sys.stdout.write(\"%d. \"% i)", 
      "    sys.stdout.flush()", 
      "    time.sleep(0.1)"
     ], 
     "language": "python", 
     "outputs": [], 
     "prompt_number": 51
    }, 
    {
     "cell_type": "markdown", 
     "source": [
      "La compl\u00e9tion automatique s'obtient \u00e0 l'aide de la touche [TAB]. La compl\u00e9tion permet aussi l'obtention d'une documentation pour chaque fonction. Compl\u00e9tez les lignes suivantes."
     ]
    }, 
    {
     "cell_type": "code", 
     "collapsed": true, 
     "input": [
      "import matp"
     ], 
     "language": "python", 
     "outputs": [], 
     "prompt_number": 6
    }, 
    {
     "cell_type": "code", 
     "collapsed": true, 
     "input": [
      "i=math.exp("
     ], 
     "language": "python", 
     "outputs": []
    }, 
    {
     "cell_type": "markdown", 
     "source": [
      "Exercice 2: Utilisation de python + numpy", 
      "=========="
     ]
    }, 
    {
     "cell_type": "markdown", 
     "source": [
      "Nous allons nous familiariser avec python et avec la biblioth\u00e8que numpy. La biblioth\u00e8que numpy est \u00e0 la base des biblioth\u00e8ques de machine learning disponibles aujourd'hui et \u00e0 pour vocation \u00e0 remplacer les impl\u00e9mentations matlab classiquement utilis\u00e9es (mais propri\u00e9taires) - voir cours FDMS. Tout d'abord, il faut importer les bibloth\u00e8ques \"classiques\" de python"
     ]
    }, 
    {
     "cell_type": "code", 
     "collapsed": true, 
     "input": [
      "import sys", 
      "import time", 
      "import numpy as np"
     ], 
     "language": "python", 
     "outputs": [], 
     "prompt_number": 2
    }, 
    {
     "cell_type": "markdown", 
     "source": [
      "La biblioth\u00e8que numpy tourne autour de la notion de tenseur. Un tenseur est un vecteur multi-dimensionnel. Commencons par la structure 'array' de python:"
     ]
    }, 
    {
     "cell_type": "code", 
     "collapsed": true, 
     "input": [
      "data=[1,2.3,4.5,18]", 
      "data"
     ], 
     "language": "python", 
     "outputs": [], 
     "prompt_number": 52
    }, 
    {
     "cell_type": "markdown", 
     "source": [
      "Cette structure peut \u00eatre transform\u00e9e en tenseur numpy de la fa\u00e7on suivante:"
     ]
    }, 
    {
     "cell_type": "code", 
     "collapsed": true, 
     "input": [
      "np_data=np.array(data)", 
      "np_data"
     ], 
     "language": "python", 
     "outputs": [], 
     "prompt_number": 53
    }, 
    {
     "cell_type": "markdown", 
     "source": [
      "Les op\u00e9rations sur les tableaux sont les suivantes:"
     ]
    }, 
    {
     "cell_type": "code", 
     "collapsed": true, 
     "input": [
      "np_data[0]"
     ], 
     "language": "python", 
     "outputs": [], 
     "prompt_number": 57
    }, 
    {
     "cell_type": "code", 
     "collapsed": true, 
     "input": [
      "np_data*10"
     ], 
     "language": "python", 
     "outputs": [], 
     "prompt_number": 58
    }, 
    {
     "cell_type": "code", 
     "collapsed": true, 
     "input": [
      "for i in np_data:", 
      "    print(i)"
     ], 
     "language": "python", 
     "outputs": [], 
     "prompt_number": 59
    }, 
    {
     "cell_type": "code", 
     "collapsed": true, 
     "input": [
      "len(np_data)"
     ], 
     "language": "python", 
     "outputs": [], 
     "prompt_number": 60
    }, 
    {
     "cell_type": "code", 
     "collapsed": true, 
     "input": [
      "np_data+np_data"
     ], 
     "language": "python", 
     "outputs": [], 
     "prompt_number": 13
    }, 
    {
     "cell_type": "code", 
     "collapsed": true, 
     "input": [
      "np_data*np_data"
     ], 
     "language": "python", 
     "outputs": [], 
     "prompt_number": 55
    }, 
    {
     "cell_type": "code", 
     "collapsed": true, 
     "input": [
      "np_data>5"
     ], 
     "language": "python", 
     "outputs": []
    }, 
    {
     "cell_type": "markdown", 
     "source": [
      "Attention: les variables correspondent \u00e0 des r\u00e9f\u00e9rences (en m\u00e9moire). Que va donner le code suivant ? "
     ]
    }, 
    {
     "cell_type": "code", 
     "collapsed": true, 
     "input": [
      "np_data2=np_data", 
      "np_data2[0]=12", 
      "np_data"
     ], 
     "language": "python", 
     "outputs": [], 
     "prompt_number": 14
    }, 
    {
     "cell_type": "markdown", 
     "source": [
      "Les tenseurs de numpy peuvent \u00eatre de plusieurs dimensions:"
     ]
    }, 
    {
     "cell_type": "code", 
     "collapsed": true, 
     "input": [
      "data=[[1,2,3],[4,5,6]]", 
      "np_data=np.array(data)", 
      "np_data"
     ], 
     "language": "python", 
     "outputs": [], 
     "prompt_number": 20
    }, 
    {
     "cell_type": "code", 
     "collapsed": true, 
     "input": [
      "np_data.ndim"
     ], 
     "language": "python", 
     "outputs": [], 
     "prompt_number": 23
    }, 
    {
     "cell_type": "code", 
     "collapsed": true, 
     "input": [
      "np_data.shape"
     ], 
     "language": "python", 
     "outputs": [], 
     "prompt_number": 56
    }, 
    {
     "cell_type": "code", 
     "collapsed": true, 
     "input": [
      "np.zeros((3,4))"
     ], 
     "language": "python", 
     "outputs": [], 
     "prompt_number": 26
    }, 
    {
     "cell_type": "code", 
     "collapsed": true, 
     "input": [
      "np.zeros((3,4,5))"
     ], 
     "language": "python", 
     "outputs": [], 
     "prompt_number": 27
    }, 
    {
     "cell_type": "code", 
     "collapsed": true, 
     "input": [
      "np_data=np.arange(10)", 
      "np_data"
     ], 
     "language": "python", 
     "outputs": [], 
     "prompt_number": 32
    }, 
    {
     "cell_type": "markdown", 
     "source": [
      "L'acc\u00e8s aux donn\u00e9es se fait par l'interm\u00e9diaire d'index."
     ]
    }, 
    {
     "cell_type": "code", 
     "collapsed": true, 
     "input": [
      "np_data[5]"
     ], 
     "language": "python", 
     "outputs": [], 
     "prompt_number": 33
    }, 
    {
     "cell_type": "code", 
     "collapsed": true, 
     "input": [
      "np_data[5:8]"
     ], 
     "language": "python", 
     "outputs": [], 
     "prompt_number": 34
    }, 
    {
     "cell_type": "code", 
     "collapsed": true, 
     "input": [
      "np_data[5:8]=12", 
      "np_data"
     ], 
     "language": "python", 
     "outputs": [], 
     "prompt_number": 35
    }, 
    {
     "cell_type": "code", 
     "collapsed": true, 
     "input": [
      "np_data=np.array([[1,2,3],[4,5,6],[7,8,9]])", 
      "np_data"
     ], 
     "language": "python", 
     "outputs": [], 
     "prompt_number": 37
    }, 
    {
     "cell_type": "code", 
     "collapsed": true, 
     "input": [
      "np_data[1][2]"
     ], 
     "language": "python", 
     "outputs": [], 
     "prompt_number": 38
    }, 
    {
     "cell_type": "code", 
     "collapsed": true, 
     "input": [
      "np_data[1]"
     ], 
     "language": "python", 
     "outputs": [], 
     "prompt_number": 39
    }, 
    {
     "cell_type": "markdown", 
     "source": [
      "Et puis quelques truc de plus:"
     ]
    }, 
    {
     "cell_type": "code", 
     "collapsed": true, 
     "input": [
      "np_data>5"
     ], 
     "language": "python", 
     "outputs": [], 
     "prompt_number": 40
    }, 
    {
     "cell_type": "code", 
     "collapsed": true, 
     "input": [
      "np_data[np_data>5]=0", 
      "np_data"
     ], 
     "language": "python", 
     "outputs": [], 
     "prompt_number": 43
    }, 
    {
     "cell_type": "code", 
     "collapsed": true, 
     "input": [
      "np_data.transpose()"
     ], 
     "language": "python", 
     "outputs": [], 
     "prompt_number": 44
    }, 
    {
     "cell_type": "markdown", 
     "source": [
      "Exercice 3: Pandas", 
      "------", 
      "", 
      "Numpy est tr\u00e8s pratique pour faire des op\u00e9rations num\u00e9riques/matricielles. En ce sens, il sera \u00e0 la source de nos d\u00e9veloppement de mod\u00e8les d'apprentissage. Par contre, pour le traitement de donn\u00e9es (analyse de donn\u00e9es, preprocessing, analyse de r\u00e9sultats), nous utilisserons la librairie Pandas qui est d\u00e9di\u00e9e \u00e0 cet usage. Grosso modo, Pandas est une librarie de manipulation de donn\u00e9es entit\u00e9s-valeurs (de type SQL, CSV, Excel, ...)"
     ]
    }, 
    {
     "cell_type": "code", 
     "collapsed": true, 
     "input": [
      "import pandas as pd"
     ], 
     "language": "python", 
     "outputs": [], 
     "prompt_number": 3
    }, 
    {
     "cell_type": "code", 
     "collapsed": false, 
     "input": [
      "np_data={\"age\":[16,18,22],\"nom\":[\"Jacques\",\"Jean\",\"Robert\"],\"taille\":[1.8,1.72,1.95]}", 
      "np_data"
     ], 
     "language": "python", 
     "outputs": [], 
     "prompt_number": 113
    }, 
    {
     "cell_type": "markdown", 
     "source": [
      "Ici, la manipulation sous forme matricielle n'est pas tr\u00e8s naturelle"
     ]
    }, 
    {
     "cell_type": "code", 
     "collapsed": false, 
     "input": [
      "df=pd.DataFrame(np_data)", 
      "df"
     ], 
     "language": "python", 
     "outputs": [], 
     "prompt_number": 114
    }, 
    {
     "cell_type": "code", 
     "collapsed": true, 
     "input": [
      "df.describe()"
     ], 
     "language": "python", 
     "outputs": [], 
     "prompt_number": 27
    }, 
    {
     "cell_type": "code", 
     "collapsed": true, 
     "input": [
      "df[\"nom\"]"
     ], 
     "language": "python", 
     "outputs": [], 
     "prompt_number": 28
    }, 
    {
     "cell_type": "code", 
     "collapsed": true, 
     "input": [
      "df['age']>16"
     ], 
     "language": "python", 
     "outputs": [], 
     "prompt_number": 29
    }, 
    {
     "cell_type": "code", 
     "collapsed": true, 
     "input": [
      "df[df['age']>16]"
     ], 
     "language": "python", 
     "outputs": [], 
     "prompt_number": 30
    }, 
    {
     "cell_type": "code", 
     "collapsed": true, 
     "input": [
      "df.plot(x=\"age\",y=\"taille\",kind=\"scatter\")"
     ], 
     "language": "python", 
     "outputs": [], 
     "prompt_number": 34
    }, 
    {
     "cell_type": "markdown", 
     "source": [
      "Exercice 4: Jouons avec des Donn\u00e9es", 
      "====", 
      "Nous allons commencer \u00e0 jouer avec des donn\u00e9es. Ici, nous ne ferons pas d'apprentissage, mais juste de l'analyse statistique assez simple. Le but \u00e9tant de nous familiariser avec Python et avec ce fameux m\u00e9tier de \"Data Scientist\" dont une partie du boulot consiste en de l'exploration et de la compr\u00e9hension des donn\u00e9es."
     ]
    }, 
    {
     "cell_type": "markdown", 
     "source": [
      "Nous allons jouer avec le prix de l'essence dans les stations services de France en 2013 (source : opendata.gouv.fr)."
     ]
    }, 
    {
     "cell_type": "markdown", 
     "source": [
      "Chargons d\u00e9j\u00e0 le fichier CSV. Pour information, ce fichier a \u00e9t\u00e9 cr\u00e9\u00e9e \u00e0 partir d'un fichier XML plus bord\u00e9lique donn\u00e9 par le minist\u00e8re. Le fichier d'origine a \u00e9t\u00e9 pr\u00e9process\u00e9 en PERL (mais d'autres langages pourraient \u00eatre utilis\u00e9s). Cette phase de preprocessing est n\u00e9cessaire mais ne sera pas abord\u00e9e ici."
     ]
    }, 
    {
     "cell_type": "code", 
     "collapsed": false, 
     "input": [
      "data=pd.DataFrame.from_csv(path=\"all_2013.csv\",sep=\"\\t\",infer_datetime_format=True,index_col=None)", 
      "data.tail()"
     ], 
     "language": "python", 
     "outputs": [], 
     "prompt_number": 4
    }, 
    {
     "cell_type": "code", 
     "collapsed": false, 
     "input": [
      "data.describe()"
     ], 
     "language": "python", 
     "outputs": [], 
     "prompt_number": 5
    }, 
    {
     "cell_type": "markdown", 
     "source": [
      "Les colonnes peuvent \u00eatre s\u00e9lectionn\u00e9es ainsi"
     ]
    }, 
    {
     "cell_type": "code", 
     "collapsed": false, 
     "input": [
      "data[\"Ville\"]", 
      "#ou alors data.Ville"
     ], 
     "language": "python", 
     "outputs": [], 
     "prompt_number": 9
    }, 
    {
     "cell_type": "markdown", 
     "source": [
      "Des op\u00e9rations peuvent \u00eatre effectu\u00e9es sur les colonnes"
     ]
    }, 
    {
     "cell_type": "code", 
     "collapsed": false, 
     "input": [
      "max(data.Prix)", 
      "# ou alors: data.Prix.max()"
     ], 
     "language": "python", 
     "outputs": [], 
     "prompt_number": 12
    }, 
    {
     "cell_type": "markdown", 
     "source": [
      "L'index de la valeur max peut \u00eatre trouv\u00e9e ainsi:"
     ]
    }, 
    {
     "cell_type": "code", 
     "collapsed": false, 
     "input": [
      "data.Prix.idxmax()"
     ], 
     "language": "python", 
     "outputs": [], 
     "prompt_number": 45
    }, 
    {
     "cell_type": "code", 
     "collapsed": false, 
     "input": [
      "data[\"Prix\"][data.Prix.idxmax()]"
     ], 
     "language": "python", 
     "outputs": [], 
     "prompt_number": 50
    }, 
    {
     "cell_type": "markdown", 
     "source": [
      "La restriction d'un DataFrame sur certaines collones s'effectue ainsi"
     ]
    }, 
    {
     "cell_type": "code", 
     "collapsed": false, 
     "input": [
      "data_sans_adresse=data[[\"Latitude\",\"Longitude\",\"Ville\",\"Essence\",\"Prix\"]]", 
      "data_sans_adresse.tail()"
     ], 
     "language": "python", 
     "outputs": [], 
     "prompt_number": 14
    }, 
    {
     "cell_type": "markdown", 
     "source": [
      "La fonction groupby permet de grouper les lignes par valeurs \u00e9gales"
     ]
    }, 
    {
     "cell_type": "code", 
     "collapsed": false, 
     "input": [
      "data_gp=data.groupby([\"Ville\",\"Jour\",\"Essence\"]).mean()", 
      "data_gp.tail()"
     ], 
     "language": "python", 
     "outputs": [], 
     "prompt_number": 19
    }, 
    {
     "cell_type": "markdown", 
     "source": [
      "Afin de revenir \u00e0 un DataFrame classique, il convient \"d'\u00e9craser\" l'index hi\u00e9rarchique cr\u00e9\u00e9e:"
     ]
    }, 
    {
     "cell_type": "code", 
     "collapsed": false, 
     "input": [
      "data_gp=data.groupby([\"Ville\",\"Jour\",\"Essence\"]).mean().reset_index()", 
      "data_gp.tail()"
     ], 
     "language": "python", 
     "outputs": [], 
     "prompt_number": 20
    }, 
    {
     "cell_type": "markdown", 
     "source": [
      "Exercice: Calculer le prix moyen du Gazole \u00e0 Paris"
     ]
    }, 
    {
     "cell_type": "code", 
     "collapsed": false, 
     "input": [], 
     "language": "python", 
     "outputs": [], 
     "prompt_number": 29
    }, 
    {
     "cell_type": "markdown", 
     "source": [
      "Exercice: Calculer le prix max des diff\u00e9rentes essence en France ainsi que leurs positions"
     ]
    }, 
    {
     "cell_type": "code", 
     "collapsed": false, 
     "input": [], 
     "language": "python", 
     "outputs": [], 
     "prompt_number": 32
    }, 
    {
     "cell_type": "markdown", 
     "source": [
      "Les valeurs uniques d'une colonne se calculent ainsi"
     ]
    }, 
    {
     "cell_type": "code", 
     "collapsed": false, 
     "input": [
      "values=data[\"Essence\"].values", 
      "values"
     ], 
     "language": "python", 
     "outputs": [], 
     "prompt_number": 38
    }, 
    {
     "cell_type": "code", 
     "collapsed": false, 
     "input": [
      "np.unique(values)"
     ], 
     "language": "python", 
     "outputs": [], 
     "prompt_number": 40
    }, 
    {
     "cell_type": "code", 
     "collapsed": false, 
     "input": [
      "for k in np.unique(values):", 
      "    print k"
     ], 
     "language": "python", 
     "outputs": [], 
     "prompt_number": 41
    }, 
    {
     "cell_type": "markdown", 
     "source": [
      "Exercice: Trouver le jour ou le prix moyen de l'essence en France a \u00e9t\u00e9 le plus cher."
     ]
    }, 
    {
     "cell_type": "code", 
     "collapsed": false, 
     "input": [], 
     "language": "python", 
     "outputs": [], 
     "prompt_number": 52
    }, 
    {
     "cell_type": "markdown", 
     "source": [
      "Pour dessiner, un DataFrame contient la m\u00e9thode plot (voir documentation: http://pandas.pydata.org/pandas-docs/stable/visualization.html)"
     ]
    }, 
    {
     "cell_type": "code", 
     "collapsed": false, 
     "input": [
      "data_per_day=data.groupby([\"Jour\"]).mean().reset_index()", 
      "data_per_day.plot(x=\"Jour\",y=\"Prix\",kind=\"line\",label=\"All\")", 
      "plt.legend(loc=\"best\")"
     ], 
     "language": "python", 
     "outputs": [], 
     "prompt_number": 56
    }, 
    {
     "cell_type": "markdown", 
     "source": [
      "On pourra comparer cette courbe \u00e0 la courbe des prix du p\u00e9trole sur la m\u00eame p\u00e9riode"
     ]
    }, 
    {
     "cell_type": "code", 
     "collapsed": false, 
     "input": [
      "import pandas.io.data as web", 
      "", 
      "oil_data = {}", 
      "oil_data= web.get_data_yahoo(\"OIL\", '1/1/2013', '1/1/2014')", 
      "oil_data[\"Jour\"]=oil_data.index", 
      "#oil_data", 
      "oil_data=pd.DataFrame(oil_data)", 
      "oil_data.tail()", 
      "", 
      "oil_data.plot(x=\"Jour\",y=\"Open\")", 
      "plt.legend(loc=\"best\")"
     ], 
     "language": "python", 
     "outputs": [], 
     "prompt_number": 124
    }, 
    {
     "cell_type": "markdown", 
     "source": [
      "Exercice: Dessiner le prix moyen des diff\u00e9rentes essences"
     ]
    }, 
    {
     "cell_type": "code", 
     "collapsed": false, 
     "input": [], 
     "language": "python", 
     "outputs": [], 
     "prompt_number": 58
    }, 
    {
     "cell_type": "markdown", 
     "source": [
      "Exercice: Dessiner le prix moyen de l'essence \u00e0 Paris, Limoges et Bordeaux"
     ]
    }, 
    {
     "cell_type": "code", 
     "collapsed": false, 
     "input": [], 
     "language": "python", 
     "outputs": [], 
     "prompt_number": 62
    }, 
    {
     "cell_type": "markdown", 
     "source": [
      "Exercice: Calculer le prix moyen de des diff\u00e9rentes essences sur l'autoroute. Pour cela il faut utiliser l'op\u00e9rateur \"contains\": voir http://stackoverflow.com/questions/11350770/pandas-dataframe-select-by-partial-string"
     ]
    }, 
    {
     "cell_type": "code", 
     "collapsed": false, 
     "input": [], 
     "language": "python", 
     "outputs": [], 
     "prompt_number": 89
    }, 
    {
     "cell_type": "markdown", 
     "source": [
      "Exercice: La n\u00e9gation d'une colonne bool\u00e9enne s'obtient \u00e0 travers l'utilisation de np.invert(....). Calculer le prix moyen des diff\u00e9rentes essences PAS sur les autoroutes"
     ]
    }, 
    {
     "cell_type": "code", 
     "collapsed": false, 
     "input": [], 
     "language": "python", 
     "outputs": [], 
     "prompt_number": 100
    }, 
    {
     "cell_type": "markdown", 
     "source": [
      "Exercice: Maintenant, nous allons conserver uniquement le prix du gazole \u00e0 Paris, et le moyenner sur toute l'ann\u00e9e par station service"
     ]
    }, 
    {
     "cell_type": "code", 
     "collapsed": true, 
     "input": [], 
     "language": "python", 
     "outputs": [], 
     "prompt_number": 63
    }, 
    {
     "cell_type": "markdown", 
     "source": [
      "On peut utiliser diff\u00e9rentes commandes de matplotlib pour faire des dessins plus compliqu\u00e9s:"
     ]
    }, 
    {
     "cell_type": "code", 
     "collapsed": false, 
     "input": [
      "plt.scatter(data_gazole_paris[\"Latitude\"],data_gazole_paris[\"Longitude\"],s=(data_gazole_paris[\"Prix\"]-1.339)*1000)"
     ], 
     "language": "python", 
     "outputs": [], 
     "prompt_number": 70
    }, 
    {
     "cell_type": "markdown", 
     "source": [
      "Exercice: Maintenant, nous allons distinguer les stations dont le prix du gazole est sup\u00e9rieur \u00e0 la moyenne et celle dont le prix est inf\u00e9rieur. Pour cela, il faut:", 
      "(i) Calculer le prix moyen (ii) Ajouter une colonne permettant de savoir si le prix est sup\u00e9rieur ou inf\u00e9rieur au prix moyen (iii) Dessiner -- voir : http://matplotlib.org/api/pyplot_api.html"
     ]
    }, 
    {
     "cell_type": "code", 
     "collapsed": false, 
     "input": [
      "mean_price=....", 
      "mean_price"
     ], 
     "language": "python", 
     "outputs": [], 
     "prompt_number": 73
    }, 
    {
     "cell_type": "code", 
     "collapsed": false, 
     "input": [], 
     "language": "python", 
     "outputs": [], 
     "prompt_number": 83
    }, 
    {
     "cell_type": "markdown", 
     "source": [
      "Les corr\u00e9lations entre colonnes se calculent ainsi:"
     ]
    }, 
    {
     "cell_type": "code", 
     "collapsed": false, 
     "input": [
      "data_gazole_paris.corr()"
     ], 
     "language": "python", 
     "outputs": [], 
     "prompt_number": 87
    }, 
    {
     "cell_type": "markdown", 
     "source": [
      "Exercice: Qu'en pensez vous ? Dessinez le prix moyen en fonction de la lattiude et en fonction de la longitude.... Ou faut-il mieux faire son plein d'essence ? "
     ]
    }, 
    {
     "cell_type": "code", 
     "collapsed": false, 
     "input": [], 
     "language": "python", 
     "outputs": [], 
     "prompt_number": 86
    }, 
    {
     "cell_type": "markdown", 
     "source": [
      "Exercice 5: Rappel d'objets en Python", 
      "====="
     ]
    }, 
    {
     "cell_type": "code", 
     "collapsed": true, 
     "input": [
      "class Machin:", 
      "    def __init__(self):", 
      "        self.x=5", 
      "", 
      "    def getX(self):", 
      "        return self.x", 
      "        ", 
      "    def setX(self,value):", 
      "        self.x=value", 
      "        ", 
      "m=Machin()", 
      "m.setX(12)", 
      "m.getX()"
     ], 
     "language": "python", 
     "outputs": [], 
     "prompt_number": 123
    }, 
    {
     "cell_type": "markdown", 
     "source": [
      "H\u00e9ritage"
     ]
    }, 
    {
     "cell_type": "code", 
     "collapsed": true, 
     "input": [
      "class Truc(Machin):", 
      "    def __init__(self):", 
      "        Machin.__init__(self)", 
      "        self.y=1", 
      "        ", 
      "    def getY(self):", 
      "        return self.y", 
      "        ", 
      "    def setY(self,value):", 
      "        self.y=value", 
      "", 
      "t=Truc()", 
      "t.setY(14)", 
      "print(\"%d %d\"% (t.getX(),t.getY()))"
     ], 
     "language": "python", 
     "outputs": [], 
     "prompt_number": 124
    }, 
    {
     "cell_type": "markdown", 
     "source": [
      "D\u00e9finir les classes Personne, Etudiants et Enseignants"
     ]
    }
   ]
  }
 ]
}