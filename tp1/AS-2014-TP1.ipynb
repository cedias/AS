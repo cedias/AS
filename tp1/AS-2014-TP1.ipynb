{
 "metadata": {
  "name": "",
  "signature": "sha256:c507afdee70562e0fe04208782c6b47009709ae02f05e4368a46a5b096fe3b32"
 },
 "nbformat": 3,
 "nbformat_minor": 0,
 "worksheets": [
  {
   "cells": [
    {
     "cell_type": "markdown",
     "metadata": {},
     "source": [
      "TP1: Prise en main de IPython/NumPy/Pandas\n",
      "=====\n",
      "\n",
      "Dans ce TP, nous allons prendre en main les outils qui nous serviront \u00e0 l'impl\u00e9mentation de mod\u00e8les d'apprentissage statistique (R\u00e9seaux de neurones profonds ou pas, SVM, ...). "
     ]
    },
    {
     "cell_type": "markdown",
     "metadata": {},
     "source": [
      "Exercice 1: Environnement de travail\n",
      "----------"
     ]
    },
    {
     "cell_type": "markdown",
     "metadata": {},
     "source": [
      "L'ex\u00e9cution d'un cellule de code sous IPython Notebook s'effectue \u00e0 l'aide de [Shift]+Entree. Ex\u00e9cutez les cellules suivante."
     ]
    },
    {
     "cell_type": "code",
     "collapsed": true,
     "input": [
      "i=1\n",
      "print(i)\n",
      "a = 9*36.10\n",
      "print a+8"
     ],
     "language": "python",
     "metadata": {},
     "outputs": [
      {
       "output_type": "stream",
       "stream": "stdout",
       "text": [
        "1\n",
        "332.9\n"
       ]
      }
     ],
     "prompt_number": 30
    },
    {
     "cell_type": "code",
     "collapsed": true,
     "input": [
      "import time\n",
      "\n",
      "for i in range(100):\n",
      "    sys.stdout.write(\"%d. \"% i)\n",
      "    sys.stdout.flush()\n",
      "    time.sleep(0.1)"
     ],
     "language": "python",
     "metadata": {},
     "outputs": [],
     "prompt_number": 51
    },
    {
     "cell_type": "markdown",
     "metadata": {},
     "source": [
      "La compl\u00e9tion automatique s'obtient \u00e0 l'aide de la touche [TAB]. La compl\u00e9tion permet aussi l'obtention d'une documentation pour chaque fonction. Compl\u00e9tez les lignes suivantes."
     ]
    },
    {
     "cell_type": "code",
     "collapsed": true,
     "input": [
      "import matplotlib"
     ],
     "language": "python",
     "metadata": {},
     "outputs": [],
     "prompt_number": 61
    },
    {
     "cell_type": "code",
     "collapsed": true,
     "input": [
      "i=math.exp("
     ],
     "language": "python",
     "metadata": {},
     "outputs": [
      {
       "ename": "NameError",
       "evalue": "name 'math' is not defined",
       "output_type": "pyerr",
       "traceback": [
        "\u001b[1;31m---------------------------------------------------------------------------\u001b[0m\n\u001b[1;31mNameError\u001b[0m                                 Traceback (most recent call last)",
        "\u001b[1;32m<ipython-input-2-47c5d834e312>\u001b[0m in \u001b[0;36m<module>\u001b[1;34m()\u001b[0m\n\u001b[1;32m----> 1\u001b[1;33m \u001b[0mi\u001b[0m\u001b[1;33m=\u001b[0m\u001b[0mmath\u001b[0m\u001b[1;33m.\u001b[0m\u001b[0mexp\u001b[0m\u001b[1;33m(\u001b[0m\u001b[1;36m12\u001b[0m\u001b[1;33m)\u001b[0m\u001b[1;33m\u001b[0m\u001b[0m\n\u001b[0m",
        "\u001b[1;31mNameError\u001b[0m: name 'math' is not defined"
       ]
      }
     ],
     "prompt_number": 2
    },
    {
     "cell_type": "markdown",
     "metadata": {},
     "source": [
      "Exercice 2: Utilisation de python + numpy\n",
      "=========="
     ]
    },
    {
     "cell_type": "markdown",
     "metadata": {},
     "source": [
      "Nous allons nous familiariser avec python et avec la biblioth\u00e8que numpy. La biblioth\u00e8que numpy est \u00e0 la base des biblioth\u00e8ques de machine learning disponibles aujourd'hui et \u00e0 pour vocation \u00e0 remplacer les impl\u00e9mentations matlab classiquement utilis\u00e9es (mais propri\u00e9taires) - voir cours FDMS. Tout d'abord, il faut importer les bibloth\u00e8ques \"classiques\" de python"
     ]
    },
    {
     "cell_type": "code",
     "collapsed": true,
     "input": [
      "import sys\n",
      "import time\n",
      "import numpy as np"
     ],
     "language": "python",
     "metadata": {},
     "outputs": [],
     "prompt_number": 44
    },
    {
     "cell_type": "markdown",
     "metadata": {},
     "source": [
      "La biblioth\u00e8que numpy tourne autour de la notion de tenseur. Un tenseur est un vecteur multi-dimensionnel. Commencons par la structure 'array' de python:"
     ]
    },
    {
     "cell_type": "code",
     "collapsed": true,
     "input": [
      "data=[1,2.3,4.5,18]\n",
      "data"
     ],
     "language": "python",
     "metadata": {},
     "outputs": [
      {
       "metadata": {},
       "output_type": "pyout",
       "prompt_number": 5,
       "text": [
        "[1, 2.3, 4.5, 18]"
       ]
      }
     ],
     "prompt_number": 5
    },
    {
     "cell_type": "markdown",
     "metadata": {},
     "source": [
      "Cette structure peut \u00eatre transform\u00e9e en tenseur numpy de la fa\u00e7on suivante:"
     ]
    },
    {
     "cell_type": "code",
     "collapsed": true,
     "input": [
      "np_data=np.array(data)\n",
      "np_data"
     ],
     "language": "python",
     "metadata": {},
     "outputs": [
      {
       "metadata": {},
       "output_type": "pyout",
       "prompt_number": 6,
       "text": [
        "array([  1. ,   2.3,   4.5,  18. ])"
       ]
      }
     ],
     "prompt_number": 6
    },
    {
     "cell_type": "markdown",
     "metadata": {},
     "source": [
      "Les op\u00e9rations sur les tableaux sont les suivantes:"
     ]
    },
    {
     "cell_type": "code",
     "collapsed": true,
     "input": [
      "np_data[0]"
     ],
     "language": "python",
     "metadata": {},
     "outputs": [
      {
       "metadata": {},
       "output_type": "pyout",
       "prompt_number": 7,
       "text": [
        "1.0"
       ]
      }
     ],
     "prompt_number": 7
    },
    {
     "cell_type": "code",
     "collapsed": true,
     "input": [
      "np_data*10"
     ],
     "language": "python",
     "metadata": {},
     "outputs": [
      {
       "metadata": {},
       "output_type": "pyout",
       "prompt_number": 8,
       "text": [
        "array([  10.,   23.,   45.,  180.])"
       ]
      }
     ],
     "prompt_number": 8
    },
    {
     "cell_type": "code",
     "collapsed": true,
     "input": [
      "for i in np_data:\n",
      "    print(i)"
     ],
     "language": "python",
     "metadata": {},
     "outputs": [
      {
       "output_type": "stream",
       "stream": "stdout",
       "text": [
        "1.0\n",
        "2.3\n",
        "4.5\n",
        "18.0\n"
       ]
      }
     ],
     "prompt_number": 9
    },
    {
     "cell_type": "code",
     "collapsed": true,
     "input": [
      "len(np_data)"
     ],
     "language": "python",
     "metadata": {},
     "outputs": [],
     "prompt_number": 60
    },
    {
     "cell_type": "code",
     "collapsed": true,
     "input": [
      "np_data+np_data"
     ],
     "language": "python",
     "metadata": {},
     "outputs": [
      {
       "metadata": {},
       "output_type": "pyout",
       "prompt_number": 10,
       "text": [
        "array([  2. ,   4.6,   9. ,  36. ])"
       ]
      }
     ],
     "prompt_number": 10
    },
    {
     "cell_type": "code",
     "collapsed": true,
     "input": [
      "np_data*np_data"
     ],
     "language": "python",
     "metadata": {},
     "outputs": [
      {
       "metadata": {},
       "output_type": "pyout",
       "prompt_number": 13,
       "text": [
        "array([   1.  ,    5.29,   20.25,  324.  ])"
       ]
      }
     ],
     "prompt_number": 13
    },
    {
     "cell_type": "code",
     "collapsed": true,
     "input": [
      "np_data>5"
     ],
     "language": "python",
     "metadata": {},
     "outputs": [
      {
       "metadata": {},
       "output_type": "pyout",
       "prompt_number": 14,
       "text": [
        "array([False, False, False,  True], dtype=bool)"
       ]
      }
     ],
     "prompt_number": 14
    },
    {
     "cell_type": "markdown",
     "metadata": {},
     "source": [
      "Attention: les variables correspondent \u00e0 des r\u00e9f\u00e9rences (en m\u00e9moire). Que va donner le code suivant ? "
     ]
    },
    {
     "cell_type": "code",
     "collapsed": true,
     "input": [
      "np_data2=np_data\n",
      "np_data2[0]=12\n",
      "np_data"
     ],
     "language": "python",
     "metadata": {},
     "outputs": [
      {
       "metadata": {},
       "output_type": "pyout",
       "prompt_number": 15,
       "text": [
        "array([ 12. ,   2.3,   4.5,  18. ])"
       ]
      }
     ],
     "prompt_number": 15
    },
    {
     "cell_type": "markdown",
     "metadata": {},
     "source": [
      "Les tenseurs de numpy peuvent \u00eatre de plusieurs dimensions:"
     ]
    },
    {
     "cell_type": "code",
     "collapsed": true,
     "input": [
      "data=[[1,2,3],[4,5,6]]\n",
      "np_data=np.array(data)\n",
      "np_data"
     ],
     "language": "python",
     "metadata": {},
     "outputs": [
      {
       "metadata": {},
       "output_type": "pyout",
       "prompt_number": 16,
       "text": [
        "array([[1, 2, 3],\n",
        "       [4, 5, 6]])"
       ]
      }
     ],
     "prompt_number": 16
    },
    {
     "cell_type": "code",
     "collapsed": true,
     "input": [
      "np_data.ndim"
     ],
     "language": "python",
     "metadata": {},
     "outputs": [
      {
       "metadata": {},
       "output_type": "pyout",
       "prompt_number": 17,
       "text": [
        "2"
       ]
      }
     ],
     "prompt_number": 17
    },
    {
     "cell_type": "code",
     "collapsed": true,
     "input": [
      "np_data.shape"
     ],
     "language": "python",
     "metadata": {},
     "outputs": [
      {
       "metadata": {},
       "output_type": "pyout",
       "prompt_number": 18,
       "text": [
        "(2, 3)"
       ]
      }
     ],
     "prompt_number": 18
    },
    {
     "cell_type": "code",
     "collapsed": true,
     "input": [
      "np.zeros((3,4))"
     ],
     "language": "python",
     "metadata": {},
     "outputs": [
      {
       "metadata": {},
       "output_type": "pyout",
       "prompt_number": 21,
       "text": [
        "array([[ 0.,  0.,  0.,  0.],\n",
        "       [ 0.,  0.,  0.,  0.],\n",
        "       [ 0.,  0.,  0.,  0.]])"
       ]
      }
     ],
     "prompt_number": 21
    },
    {
     "cell_type": "code",
     "collapsed": true,
     "input": [
      "np.zeros((3,4,5))"
     ],
     "language": "python",
     "metadata": {},
     "outputs": [
      {
       "metadata": {},
       "output_type": "pyout",
       "prompt_number": 22,
       "text": [
        "array([[[ 0.,  0.,  0.,  0.,  0.],\n",
        "        [ 0.,  0.,  0.,  0.,  0.],\n",
        "        [ 0.,  0.,  0.,  0.,  0.],\n",
        "        [ 0.,  0.,  0.,  0.,  0.]],\n",
        "\n",
        "       [[ 0.,  0.,  0.,  0.,  0.],\n",
        "        [ 0.,  0.,  0.,  0.,  0.],\n",
        "        [ 0.,  0.,  0.,  0.,  0.],\n",
        "        [ 0.,  0.,  0.,  0.,  0.]],\n",
        "\n",
        "       [[ 0.,  0.,  0.,  0.,  0.],\n",
        "        [ 0.,  0.,  0.,  0.,  0.],\n",
        "        [ 0.,  0.,  0.,  0.,  0.],\n",
        "        [ 0.,  0.,  0.,  0.,  0.]]])"
       ]
      }
     ],
     "prompt_number": 22
    },
    {
     "cell_type": "code",
     "collapsed": true,
     "input": [
      "np_data=np.arange(10)\n",
      "np_data"
     ],
     "language": "python",
     "metadata": {},
     "outputs": [
      {
       "metadata": {},
       "output_type": "pyout",
       "prompt_number": 23,
       "text": [
        "array([0, 1, 2, 3, 4, 5, 6, 7, 8, 9])"
       ]
      }
     ],
     "prompt_number": 23
    },
    {
     "cell_type": "markdown",
     "metadata": {},
     "source": [
      "L'acc\u00e8s aux donn\u00e9es se fait par l'interm\u00e9diaire d'index."
     ]
    },
    {
     "cell_type": "code",
     "collapsed": true,
     "input": [
      "np_data[5]"
     ],
     "language": "python",
     "metadata": {},
     "outputs": [
      {
       "metadata": {},
       "output_type": "pyout",
       "prompt_number": 24,
       "text": [
        "5"
       ]
      }
     ],
     "prompt_number": 24
    },
    {
     "cell_type": "code",
     "collapsed": true,
     "input": [
      "np_data[5:8]"
     ],
     "language": "python",
     "metadata": {},
     "outputs": [
      {
       "metadata": {},
       "output_type": "pyout",
       "prompt_number": 25,
       "text": [
        "array([5, 6, 7])"
       ]
      }
     ],
     "prompt_number": 25
    },
    {
     "cell_type": "code",
     "collapsed": true,
     "input": [
      "np_data[5:8]=12\n",
      "np_data"
     ],
     "language": "python",
     "metadata": {},
     "outputs": [
      {
       "metadata": {},
       "output_type": "pyout",
       "prompt_number": 26,
       "text": [
        "array([ 0,  1,  2,  3,  4, 12, 12, 12,  8,  9])"
       ]
      }
     ],
     "prompt_number": 26
    },
    {
     "cell_type": "code",
     "collapsed": true,
     "input": [
      "np_data=np.array([[1,2,3],[4,5,6],[7,8,9]])\n",
      "np_data"
     ],
     "language": "python",
     "metadata": {},
     "outputs": [
      {
       "metadata": {},
       "output_type": "pyout",
       "prompt_number": 27,
       "text": [
        "array([[1, 2, 3],\n",
        "       [4, 5, 6],\n",
        "       [7, 8, 9]])"
       ]
      }
     ],
     "prompt_number": 27
    },
    {
     "cell_type": "code",
     "collapsed": true,
     "input": [
      "np_data[1][2]"
     ],
     "language": "python",
     "metadata": {},
     "outputs": [
      {
       "metadata": {},
       "output_type": "pyout",
       "prompt_number": 28,
       "text": [
        "6"
       ]
      }
     ],
     "prompt_number": 28
    },
    {
     "cell_type": "code",
     "collapsed": true,
     "input": [
      "np_data[1]"
     ],
     "language": "python",
     "metadata": {},
     "outputs": [
      {
       "metadata": {},
       "output_type": "pyout",
       "prompt_number": 29,
       "text": [
        "array([4, 5, 6])"
       ]
      }
     ],
     "prompt_number": 29
    },
    {
     "cell_type": "markdown",
     "metadata": {},
     "source": [
      "Et puis quelques truc de plus:"
     ]
    },
    {
     "cell_type": "code",
     "collapsed": true,
     "input": [
      "np_data>5"
     ],
     "language": "python",
     "metadata": {},
     "outputs": [
      {
       "metadata": {},
       "output_type": "pyout",
       "prompt_number": 30,
       "text": [
        "array([[False, False, False],\n",
        "       [False, False,  True],\n",
        "       [ True,  True,  True]], dtype=bool)"
       ]
      }
     ],
     "prompt_number": 30
    },
    {
     "cell_type": "code",
     "collapsed": true,
     "input": [
      "np_data[np_data>5]=0\n",
      "np_data"
     ],
     "language": "python",
     "metadata": {},
     "outputs": [
      {
       "metadata": {},
       "output_type": "pyout",
       "prompt_number": 31,
       "text": [
        "array([[1, 2, 3],\n",
        "       [4, 5, 0],\n",
        "       [0, 0, 0]])"
       ]
      }
     ],
     "prompt_number": 31
    },
    {
     "cell_type": "code",
     "collapsed": true,
     "input": [
      "np_data.transpose()"
     ],
     "language": "python",
     "metadata": {},
     "outputs": [
      {
       "metadata": {},
       "output_type": "pyout",
       "prompt_number": 32,
       "text": [
        "array([[1, 4, 0],\n",
        "       [2, 5, 0],\n",
        "       [3, 0, 0]])"
       ]
      }
     ],
     "prompt_number": 32
    },
    {
     "cell_type": "markdown",
     "metadata": {},
     "source": [
      "Exercice 3: Pandas\n",
      "------\n",
      "\n",
      "Numpy est tr\u00e8s pratique pour faire des op\u00e9rations num\u00e9riques/matricielles. En ce sens, il sera \u00e0 la source de nos d\u00e9veloppement de mod\u00e8les d'apprentissage. Par contre, pour le traitement de donn\u00e9es (analyse de donn\u00e9es, preprocessing, analyse de r\u00e9sultats), nous utilisserons la librairie Pandas qui est d\u00e9di\u00e9e \u00e0 cet usage. Grosso modo, Pandas est une librarie de manipulation de donn\u00e9es entit\u00e9s-valeurs (de type SQL, CSV, Excel, ...)"
     ]
    },
    {
     "cell_type": "code",
     "collapsed": true,
     "input": [
      "import pandas as pd"
     ],
     "language": "python",
     "metadata": {},
     "outputs": [],
     "prompt_number": 1
    },
    {
     "cell_type": "code",
     "collapsed": false,
     "input": [
      "np_data={\"age\":[16,18,22],\"nom\":[\"Jacques\",\"Jean\",\"Robert\"],\"taille\":[1.8,1.72,1.95]}\n",
      "np_data"
     ],
     "language": "python",
     "metadata": {},
     "outputs": [
      {
       "metadata": {},
       "output_type": "pyout",
       "prompt_number": 2,
       "text": [
        "{'age': [16, 18, 22],\n",
        " 'nom': ['Jacques', 'Jean', 'Robert'],\n",
        " 'taille': [1.8, 1.72, 1.95]}"
       ]
      }
     ],
     "prompt_number": 2
    },
    {
     "cell_type": "markdown",
     "metadata": {},
     "source": [
      "Ici, la manipulation sous forme matricielle n'est pas tr\u00e8s naturelle"
     ]
    },
    {
     "cell_type": "code",
     "collapsed": false,
     "input": [
      "df=pd.DataFrame(np_data)\n",
      "df"
     ],
     "language": "python",
     "metadata": {},
     "outputs": [
      {
       "html": [
        "<div style=\"max-height:1000px;max-width:1500px;overflow:auto;\">\n",
        "<table border=\"1\" class=\"dataframe\">\n",
        "  <thead>\n",
        "    <tr style=\"text-align: right;\">\n",
        "      <th></th>\n",
        "      <th>age</th>\n",
        "      <th>nom</th>\n",
        "      <th>taille</th>\n",
        "    </tr>\n",
        "  </thead>\n",
        "  <tbody>\n",
        "    <tr>\n",
        "      <th>0</th>\n",
        "      <td> 16</td>\n",
        "      <td> Jacques</td>\n",
        "      <td> 1.80</td>\n",
        "    </tr>\n",
        "    <tr>\n",
        "      <th>1</th>\n",
        "      <td> 18</td>\n",
        "      <td>    Jean</td>\n",
        "      <td> 1.72</td>\n",
        "    </tr>\n",
        "    <tr>\n",
        "      <th>2</th>\n",
        "      <td> 22</td>\n",
        "      <td>  Robert</td>\n",
        "      <td> 1.95</td>\n",
        "    </tr>\n",
        "  </tbody>\n",
        "</table>\n",
        "</div>"
       ],
       "metadata": {},
       "output_type": "pyout",
       "prompt_number": 3,
       "text": [
        "   age      nom  taille\n",
        "0   16  Jacques    1.80\n",
        "1   18     Jean    1.72\n",
        "2   22   Robert    1.95"
       ]
      }
     ],
     "prompt_number": 3
    },
    {
     "cell_type": "code",
     "collapsed": true,
     "input": [
      "df.describe()"
     ],
     "language": "python",
     "metadata": {},
     "outputs": [
      {
       "html": [
        "<div style=\"max-height:1000px;max-width:1500px;overflow:auto;\">\n",
        "<table border=\"1\" class=\"dataframe\">\n",
        "  <thead>\n",
        "    <tr style=\"text-align: right;\">\n",
        "      <th></th>\n",
        "      <th>age</th>\n",
        "      <th>taille</th>\n",
        "    </tr>\n",
        "  </thead>\n",
        "  <tbody>\n",
        "    <tr>\n",
        "      <th>count</th>\n",
        "      <td>  3.000000</td>\n",
        "      <td> 3.000000</td>\n",
        "    </tr>\n",
        "    <tr>\n",
        "      <th>mean</th>\n",
        "      <td> 18.666667</td>\n",
        "      <td> 1.823333</td>\n",
        "    </tr>\n",
        "    <tr>\n",
        "      <th>std</th>\n",
        "      <td>  3.055050</td>\n",
        "      <td> 0.116762</td>\n",
        "    </tr>\n",
        "    <tr>\n",
        "      <th>min</th>\n",
        "      <td> 16.000000</td>\n",
        "      <td> 1.720000</td>\n",
        "    </tr>\n",
        "    <tr>\n",
        "      <th>25%</th>\n",
        "      <td> 17.000000</td>\n",
        "      <td> 1.760000</td>\n",
        "    </tr>\n",
        "    <tr>\n",
        "      <th>50%</th>\n",
        "      <td> 18.000000</td>\n",
        "      <td> 1.800000</td>\n",
        "    </tr>\n",
        "    <tr>\n",
        "      <th>75%</th>\n",
        "      <td> 20.000000</td>\n",
        "      <td> 1.875000</td>\n",
        "    </tr>\n",
        "    <tr>\n",
        "      <th>max</th>\n",
        "      <td> 22.000000</td>\n",
        "      <td> 1.950000</td>\n",
        "    </tr>\n",
        "  </tbody>\n",
        "</table>\n",
        "</div>"
       ],
       "metadata": {},
       "output_type": "pyout",
       "prompt_number": 4,
       "text": [
        "             age    taille\n",
        "count   3.000000  3.000000\n",
        "mean   18.666667  1.823333\n",
        "std     3.055050  0.116762\n",
        "min    16.000000  1.720000\n",
        "25%    17.000000  1.760000\n",
        "50%    18.000000  1.800000\n",
        "75%    20.000000  1.875000\n",
        "max    22.000000  1.950000"
       ]
      }
     ],
     "prompt_number": 4
    },
    {
     "cell_type": "code",
     "collapsed": true,
     "input": [
      "df[\"nom\"]"
     ],
     "language": "python",
     "metadata": {},
     "outputs": [
      {
       "metadata": {},
       "output_type": "pyout",
       "prompt_number": 5,
       "text": [
        "0    Jacques\n",
        "1       Jean\n",
        "2     Robert\n",
        "Name: nom, dtype: object"
       ]
      }
     ],
     "prompt_number": 5
    },
    {
     "cell_type": "code",
     "collapsed": true,
     "input": [
      "df['age']>16"
     ],
     "language": "python",
     "metadata": {},
     "outputs": [
      {
       "metadata": {},
       "output_type": "pyout",
       "prompt_number": 39,
       "text": [
        "0    False\n",
        "1     True\n",
        "2     True\n",
        "Name: age, dtype: bool"
       ]
      }
     ],
     "prompt_number": 39
    },
    {
     "cell_type": "code",
     "collapsed": true,
     "input": [
      "df[df['age']>16]"
     ],
     "language": "python",
     "metadata": {},
     "outputs": [
      {
       "html": [
        "<div style=\"max-height:1000px;max-width:1500px;overflow:auto;\">\n",
        "<table border=\"1\" class=\"dataframe\">\n",
        "  <thead>\n",
        "    <tr style=\"text-align: right;\">\n",
        "      <th></th>\n",
        "      <th>age</th>\n",
        "      <th>nom</th>\n",
        "      <th>taille</th>\n",
        "    </tr>\n",
        "  </thead>\n",
        "  <tbody>\n",
        "    <tr>\n",
        "      <th>1</th>\n",
        "      <td> 18</td>\n",
        "      <td>   Jean</td>\n",
        "      <td> 1.72</td>\n",
        "    </tr>\n",
        "    <tr>\n",
        "      <th>2</th>\n",
        "      <td> 22</td>\n",
        "      <td> Robert</td>\n",
        "      <td> 1.95</td>\n",
        "    </tr>\n",
        "  </tbody>\n",
        "</table>\n",
        "</div>"
       ],
       "metadata": {},
       "output_type": "pyout",
       "prompt_number": 40,
       "text": [
        "   age     nom  taille\n",
        "1   18    Jean    1.72\n",
        "2   22  Robert    1.95"
       ]
      }
     ],
     "prompt_number": 40
    },
    {
     "cell_type": "code",
     "collapsed": true,
     "input": [
      "%matplotlib inline\n",
      "\n",
      "df.plot(x=\"age\",y=\"taille\",kind=\"scatter\")"
     ],
     "language": "python",
     "metadata": {},
     "outputs": [
      {
       "metadata": {},
       "output_type": "pyout",
       "prompt_number": 62,
       "text": [
        "<matplotlib.axes.AxesSubplot at 0xe456d50>"
       ]
      },
      {
       "metadata": {},
       "output_type": "display_data",
       "png": "[encoded data removed]",
       "text": [
        "<matplotlib.figure.Figure at 0xe481dd0>"
       ]
      }
     ],
     "prompt_number": 62
    },
    {
     "cell_type": "markdown",
     "metadata": {},
     "source": [
      "Exercice 4: Jouons avec des Donn\u00e9es\n",
      "====\n",
      "Nous allons commencer \u00e0 jouer avec des donn\u00e9es. Ici, nous ne ferons pas d'apprentissage, mais juste de l'analyse statistique assez simple. Le but \u00e9tant de nous familiariser avec Python et avec ce fameux m\u00e9tier de \"Data Scientist\" dont une partie du boulot consiste en de l'exploration et de la compr\u00e9hension des donn\u00e9es."
     ]
    },
    {
     "cell_type": "markdown",
     "metadata": {},
     "source": [
      "Nous allons jouer avec le prix de l'essence dans les stations services de France en 2013 (source : opendata.gouv.fr)."
     ]
    },
    {
     "cell_type": "markdown",
     "metadata": {},
     "source": [
      "Chargons d\u00e9j\u00e0 le fichier CSV. Pour information, ce fichier a \u00e9t\u00e9 cr\u00e9\u00e9e \u00e0 partir d'un fichier XML plus bord\u00e9lique donn\u00e9 par le minist\u00e8re. Le fichier d'origine a \u00e9t\u00e9 pr\u00e9process\u00e9 en PERL (mais d'autres langages pourraient \u00eatre utilis\u00e9s). Cette phase de preprocessing est n\u00e9cessaire mais ne sera pas abord\u00e9e ici."
     ]
    },
    {
     "cell_type": "code",
     "collapsed": false,
     "input": [
      "data=pd.DataFrame.from_csv(path=\"all_2013.csv\",sep=\"\\t\",infer_datetime_format=True,index_col=None)\n",
      "data.tail()"
     ],
     "language": "python",
     "metadata": {},
     "outputs": [
      {
       "html": [
        "<div style=\"max-height:1000px;max-width:1500px;overflow:auto;\">\n",
        "<table border=\"1\" class=\"dataframe\">\n",
        "  <thead>\n",
        "    <tr style=\"text-align: right;\">\n",
        "      <th></th>\n",
        "      <th>Latitude</th>\n",
        "      <th>Longitude</th>\n",
        "      <th>Adresse</th>\n",
        "      <th>Ville</th>\n",
        "      <th>Essence</th>\n",
        "      <th>Jour</th>\n",
        "      <th>Prix</th>\n",
        "    </tr>\n",
        "  </thead>\n",
        "  <tbody>\n",
        "    <tr>\n",
        "      <th>1508953</th>\n",
        "      <td> 48.927703</td>\n",
        "      <td> 2.213463</td>\n",
        "      <td> 151 boulevard gabriel p&amp;#xe9;ri</td>\n",
        "      <td> bezons</td>\n",
        "      <td> SP98</td>\n",
        "      <td> 2013-07-30</td>\n",
        "      <td> 1.326</td>\n",
        "    </tr>\n",
        "    <tr>\n",
        "      <th>1508954</th>\n",
        "      <td> 48.927703</td>\n",
        "      <td> 2.213463</td>\n",
        "      <td> 151 boulevard gabriel p&amp;#xe9;ri</td>\n",
        "      <td> bezons</td>\n",
        "      <td> SP98</td>\n",
        "      <td> 2013-11-08</td>\n",
        "      <td> 1.306</td>\n",
        "    </tr>\n",
        "    <tr>\n",
        "      <th>1508955</th>\n",
        "      <td> 48.927703</td>\n",
        "      <td> 2.213463</td>\n",
        "      <td> 151 boulevard gabriel p&amp;#xe9;ri</td>\n",
        "      <td> bezons</td>\n",
        "      <td> SP98</td>\n",
        "      <td> 2013-10-31</td>\n",
        "      <td> 1.318</td>\n",
        "    </tr>\n",
        "    <tr>\n",
        "      <th>1508956</th>\n",
        "      <td> 48.927703</td>\n",
        "      <td> 2.213463</td>\n",
        "      <td> 151 boulevard gabriel p&amp;#xe9;ri</td>\n",
        "      <td> bezons</td>\n",
        "      <td> SP98</td>\n",
        "      <td> 2013-09-25</td>\n",
        "      <td> 1.342</td>\n",
        "    </tr>\n",
        "    <tr>\n",
        "      <th>1508957</th>\n",
        "      <td> 48.927703</td>\n",
        "      <td> 2.213463</td>\n",
        "      <td> 151 boulevard gabriel p&amp;#xe9;ri</td>\n",
        "      <td> bezons</td>\n",
        "      <td> SP98</td>\n",
        "      <td> 2013-09-19</td>\n",
        "      <td> 1.362</td>\n",
        "    </tr>\n",
        "  </tbody>\n",
        "</table>\n",
        "</div>"
       ],
       "metadata": {},
       "output_type": "pyout",
       "prompt_number": 6,
       "text": [
        "          Latitude  Longitude                          Adresse   Ville  \\\n",
        "1508953  48.927703   2.213463  151 boulevard gabriel p&#xe9;ri  bezons   \n",
        "1508954  48.927703   2.213463  151 boulevard gabriel p&#xe9;ri  bezons   \n",
        "1508955  48.927703   2.213463  151 boulevard gabriel p&#xe9;ri  bezons   \n",
        "1508956  48.927703   2.213463  151 boulevard gabriel p&#xe9;ri  bezons   \n",
        "1508957  48.927703   2.213463  151 boulevard gabriel p&#xe9;ri  bezons   \n",
        "\n",
        "        Essence        Jour   Prix  \n",
        "1508953    SP98  2013-07-30  1.326  \n",
        "1508954    SP98  2013-11-08  1.306  \n",
        "1508955    SP98  2013-10-31  1.318  \n",
        "1508956    SP98  2013-09-25  1.342  \n",
        "1508957    SP98  2013-09-19  1.362  "
       ]
      }
     ],
     "prompt_number": 6
    },
    {
     "cell_type": "code",
     "collapsed": false,
     "input": [
      "data.describe()"
     ],
     "language": "python",
     "metadata": {},
     "outputs": [
      {
       "html": [
        "<div style=\"max-height:1000px;max-width:1500px;overflow:auto;\">\n",
        "<table border=\"1\" class=\"dataframe\">\n",
        "  <thead>\n",
        "    <tr style=\"text-align: right;\">\n",
        "      <th></th>\n",
        "      <th>Latitude</th>\n",
        "      <th>Longitude</th>\n",
        "      <th>Prix</th>\n",
        "    </tr>\n",
        "  </thead>\n",
        "  <tbody>\n",
        "    <tr>\n",
        "      <th>count</th>\n",
        "      <td> 1508958.000000</td>\n",
        "      <td> 1508958.000000</td>\n",
        "      <td> 1430396.000000</td>\n",
        "    </tr>\n",
        "    <tr>\n",
        "      <th>mean</th>\n",
        "      <td>      46.948645</td>\n",
        "      <td>       2.529923</td>\n",
        "      <td>       1.348763</td>\n",
        "    </tr>\n",
        "    <tr>\n",
        "      <th>std</th>\n",
        "      <td>       2.361963</td>\n",
        "      <td>       2.956401</td>\n",
        "      <td>       0.054438</td>\n",
        "    </tr>\n",
        "    <tr>\n",
        "      <th>min</th>\n",
        "      <td>     -24.332881</td>\n",
        "      <td>     -68.417871</td>\n",
        "      <td>       0.129000</td>\n",
        "    </tr>\n",
        "    <tr>\n",
        "      <th>25%</th>\n",
        "      <td>      45.191519</td>\n",
        "      <td>       0.605177</td>\n",
        "      <td>       1.309000</td>\n",
        "    </tr>\n",
        "    <tr>\n",
        "      <th>50%</th>\n",
        "      <td>      47.353350</td>\n",
        "      <td>       2.463890</td>\n",
        "      <td>       1.338000</td>\n",
        "    </tr>\n",
        "    <tr>\n",
        "      <th>75%</th>\n",
        "      <td>      48.801010</td>\n",
        "      <td>       4.813090</td>\n",
        "      <td>       1.377000</td>\n",
        "    </tr>\n",
        "    <tr>\n",
        "      <th>max</th>\n",
        "      <td>      52.220760</td>\n",
        "      <td>      61.780735</td>\n",
        "      <td>       2.000000</td>\n",
        "    </tr>\n",
        "  </tbody>\n",
        "</table>\n",
        "</div>"
       ],
       "metadata": {},
       "output_type": "pyout",
       "prompt_number": 8,
       "text": [
        "             Latitude       Longitude            Prix\n",
        "count  1508958.000000  1508958.000000  1430396.000000\n",
        "mean        46.948645        2.529923        1.348763\n",
        "std          2.361963        2.956401        0.054438\n",
        "min        -24.332881      -68.417871        0.129000\n",
        "25%         45.191519        0.605177        1.309000\n",
        "50%         47.353350        2.463890        1.338000\n",
        "75%         48.801010        4.813090        1.377000\n",
        "max         52.220760       61.780735        2.000000"
       ]
      }
     ],
     "prompt_number": 8
    },
    {
     "cell_type": "markdown",
     "metadata": {},
     "source": [
      "Les colonnes peuvent \u00eatre s\u00e9lectionn\u00e9es ainsi"
     ]
    },
    {
     "cell_type": "code",
     "collapsed": false,
     "input": [
      "data[\"Ville\"]\n",
      "#ou alors data.Ville"
     ],
     "language": "python",
     "metadata": {},
     "outputs": [
      {
       "metadata": {},
       "output_type": "pyout",
       "prompt_number": 9,
       "text": [
        "0     saint-denis-l&#xe8;s-bourg\n",
        "1     saint-denis-l&#xe8;s-bourg\n",
        "2     saint-denis-l&#xe8;s-bourg\n",
        "3     saint-denis-l&#xe8;s-bourg\n",
        "4     saint-denis-l&#xe8;s-bourg\n",
        "5     saint-denis-l&#xe8;s-bourg\n",
        "6     saint-denis-l&#xe8;s-bourg\n",
        "7     saint-denis-l&#xe8;s-bourg\n",
        "8     saint-denis-l&#xe8;s-bourg\n",
        "9     saint-denis-l&#xe8;s-bourg\n",
        "10    saint-denis-l&#xe8;s-bourg\n",
        "11    saint-denis-l&#xe8;s-bourg\n",
        "12    saint-denis-l&#xe8;s-bourg\n",
        "13    saint-denis-l&#xe8;s-bourg\n",
        "14    saint-denis-l&#xe8;s-bourg\n",
        "...\n",
        "1508943    bezons\n",
        "1508944    bezons\n",
        "1508945    bezons\n",
        "1508946    bezons\n",
        "1508947    bezons\n",
        "1508948    bezons\n",
        "1508949    bezons\n",
        "1508950    bezons\n",
        "1508951    bezons\n",
        "1508952    bezons\n",
        "1508953    bezons\n",
        "1508954    bezons\n",
        "1508955    bezons\n",
        "1508956    bezons\n",
        "1508957    bezons\n",
        "Name: Ville, Length: 1508958, dtype: object"
       ]
      }
     ],
     "prompt_number": 9
    },
    {
     "cell_type": "markdown",
     "metadata": {},
     "source": [
      "Des op\u00e9rations peuvent \u00eatre effectu\u00e9es sur les colonnes"
     ]
    },
    {
     "cell_type": "code",
     "collapsed": false,
     "input": [
      "max(data.Prix)\n",
      "# ou alors: data.Prix.max()"
     ],
     "language": "python",
     "metadata": {},
     "outputs": [
      {
       "metadata": {},
       "output_type": "pyout",
       "prompt_number": 10,
       "text": [
        "2.0"
       ]
      }
     ],
     "prompt_number": 10
    },
    {
     "cell_type": "markdown",
     "metadata": {},
     "source": [
      "L'index de la valeur max peut \u00eatre trouv\u00e9e ainsi:"
     ]
    },
    {
     "cell_type": "code",
     "collapsed": false,
     "input": [
      "data.Prix.idxmax()"
     ],
     "language": "python",
     "metadata": {},
     "outputs": [
      {
       "metadata": {},
       "output_type": "pyout",
       "prompt_number": 11,
       "text": [
        "607999"
       ]
      }
     ],
     "prompt_number": 11
    },
    {
     "cell_type": "code",
     "collapsed": false,
     "input": [
      "data[\"Prix\"][data.Prix.idxmax()]"
     ],
     "language": "python",
     "metadata": {},
     "outputs": [
      {
       "metadata": {},
       "output_type": "pyout",
       "prompt_number": 22,
       "text": [
        "2.0"
       ]
      }
     ],
     "prompt_number": 22
    },
    {
     "cell_type": "markdown",
     "metadata": {},
     "source": [
      "La restriction d'un DataFrame sur certaines collones s'effectue ainsi"
     ]
    },
    {
     "cell_type": "code",
     "collapsed": false,
     "input": [
      "data_sans_adresse=data[[\"Latitude\",\"Longitude\",\"Ville\",\"Essence\",\"Prix\"]]\n",
      "data_sans_adresse.tail()"
     ],
     "language": "python",
     "metadata": {},
     "outputs": [
      {
       "html": [
        "<div style=\"max-height:1000px;max-width:1500px;overflow:auto;\">\n",
        "<table border=\"1\" class=\"dataframe\">\n",
        "  <thead>\n",
        "    <tr style=\"text-align: right;\">\n",
        "      <th></th>\n",
        "      <th>Latitude</th>\n",
        "      <th>Longitude</th>\n",
        "      <th>Ville</th>\n",
        "      <th>Essence</th>\n",
        "      <th>Prix</th>\n",
        "    </tr>\n",
        "  </thead>\n",
        "  <tbody>\n",
        "    <tr>\n",
        "      <th>1508953</th>\n",
        "      <td> 48.927703</td>\n",
        "      <td> 2.213463</td>\n",
        "      <td> bezons</td>\n",
        "      <td> SP98</td>\n",
        "      <td> 1.326</td>\n",
        "    </tr>\n",
        "    <tr>\n",
        "      <th>1508954</th>\n",
        "      <td> 48.927703</td>\n",
        "      <td> 2.213463</td>\n",
        "      <td> bezons</td>\n",
        "      <td> SP98</td>\n",
        "      <td> 1.306</td>\n",
        "    </tr>\n",
        "    <tr>\n",
        "      <th>1508955</th>\n",
        "      <td> 48.927703</td>\n",
        "      <td> 2.213463</td>\n",
        "      <td> bezons</td>\n",
        "      <td> SP98</td>\n",
        "      <td> 1.318</td>\n",
        "    </tr>\n",
        "    <tr>\n",
        "      <th>1508956</th>\n",
        "      <td> 48.927703</td>\n",
        "      <td> 2.213463</td>\n",
        "      <td> bezons</td>\n",
        "      <td> SP98</td>\n",
        "      <td> 1.342</td>\n",
        "    </tr>\n",
        "    <tr>\n",
        "      <th>1508957</th>\n",
        "      <td> 48.927703</td>\n",
        "      <td> 2.213463</td>\n",
        "      <td> bezons</td>\n",
        "      <td> SP98</td>\n",
        "      <td> 1.362</td>\n",
        "    </tr>\n",
        "  </tbody>\n",
        "</table>\n",
        "</div>"
       ],
       "metadata": {},
       "output_type": "pyout",
       "prompt_number": 9,
       "text": [
        "          Latitude  Longitude   Ville Essence   Prix\n",
        "1508953  48.927703   2.213463  bezons    SP98  1.326\n",
        "1508954  48.927703   2.213463  bezons    SP98  1.306\n",
        "1508955  48.927703   2.213463  bezons    SP98  1.318\n",
        "1508956  48.927703   2.213463  bezons    SP98  1.342\n",
        "1508957  48.927703   2.213463  bezons    SP98  1.362"
       ]
      }
     ],
     "prompt_number": 9
    },
    {
     "cell_type": "markdown",
     "metadata": {},
     "source": [
      "La fonction groupby permet de grouper les lignes par valeurs \u00e9gales"
     ]
    },
    {
     "cell_type": "code",
     "collapsed": false,
     "input": [
      "data_gp=data.groupby([\"Ville\",\"Jour\",\"Essence\"]).mean()\n",
      "data_gp.tail()"
     ],
     "language": "python",
     "metadata": {},
     "outputs": [
      {
       "html": [
        "<div style=\"max-height:1000px;max-width:1500px;overflow:auto;\">\n",
        "<table border=\"1\" class=\"dataframe\">\n",
        "  <thead>\n",
        "    <tr style=\"text-align: right;\">\n",
        "      <th></th>\n",
        "      <th></th>\n",
        "      <th></th>\n",
        "      <th>Latitude</th>\n",
        "      <th>Longitude</th>\n",
        "      <th>Prix</th>\n",
        "    </tr>\n",
        "    <tr>\n",
        "      <th>Ville</th>\n",
        "      <th>Jour</th>\n",
        "      <th>Essence</th>\n",
        "      <th></th>\n",
        "      <th></th>\n",
        "      <th></th>\n",
        "    </tr>\n",
        "  </thead>\n",
        "  <tbody>\n",
        "    <tr>\n",
        "      <th rowspan=\"5\" valign=\"top\">yzeures-sur-creuse</th>\n",
        "      <th>2013-12-02</th>\n",
        "      <th>SP98</th>\n",
        "      <td> 46.78614</td>\n",
        "      <td> 0.8776</td>\n",
        "      <td> 1.305</td>\n",
        "    </tr>\n",
        "    <tr>\n",
        "      <th>2013-12-05</th>\n",
        "      <th>SP98</th>\n",
        "      <td> 46.78614</td>\n",
        "      <td> 0.8776</td>\n",
        "      <td>   NaN</td>\n",
        "    </tr>\n",
        "    <tr>\n",
        "      <th>2013-12-19</th>\n",
        "      <th>Gazole</th>\n",
        "      <td> 46.78614</td>\n",
        "      <td> 0.8776</td>\n",
        "      <td> 1.299</td>\n",
        "    </tr>\n",
        "    <tr>\n",
        "      <th>2013-12-20</th>\n",
        "      <th>SP98</th>\n",
        "      <td> 46.78614</td>\n",
        "      <td> 0.8776</td>\n",
        "      <td>   NaN</td>\n",
        "    </tr>\n",
        "    <tr>\n",
        "      <th>2013-12-23</th>\n",
        "      <th>SP98</th>\n",
        "      <td> 46.78614</td>\n",
        "      <td> 0.8776</td>\n",
        "      <td>   NaN</td>\n",
        "    </tr>\n",
        "  </tbody>\n",
        "</table>\n",
        "</div>"
       ],
       "metadata": {},
       "output_type": "pyout",
       "prompt_number": 10,
       "text": [
        "                                       Latitude  Longitude   Prix\n",
        "Ville              Jour       Essence                            \n",
        "yzeures-sur-creuse 2013-12-02 SP98     46.78614     0.8776  1.305\n",
        "                   2013-12-05 SP98     46.78614     0.8776    NaN\n",
        "                   2013-12-19 Gazole   46.78614     0.8776  1.299\n",
        "                   2013-12-20 SP98     46.78614     0.8776    NaN\n",
        "                   2013-12-23 SP98     46.78614     0.8776    NaN"
       ]
      }
     ],
     "prompt_number": 10
    },
    {
     "cell_type": "markdown",
     "metadata": {},
     "source": [
      "Afin de revenir \u00e0 un DataFrame classique, il convient \"d'\u00e9craser\" l'index hi\u00e9rarchique cr\u00e9\u00e9e:"
     ]
    },
    {
     "cell_type": "code",
     "collapsed": false,
     "input": [
      "data_gp=data.groupby([\"Ville\",\"Jour\",\"Essence\"]).mean().reset_index()\n",
      "data_gp.tail()"
     ],
     "language": "python",
     "metadata": {},
     "outputs": [
      {
       "html": [
        "<div style=\"max-height:1000px;max-width:1500px;overflow:auto;\">\n",
        "<table border=\"1\" class=\"dataframe\">\n",
        "  <thead>\n",
        "    <tr style=\"text-align: right;\">\n",
        "      <th></th>\n",
        "      <th>Ville</th>\n",
        "      <th>Jour</th>\n",
        "      <th>Essence</th>\n",
        "      <th>Latitude</th>\n",
        "      <th>Longitude</th>\n",
        "      <th>Prix</th>\n",
        "    </tr>\n",
        "  </thead>\n",
        "  <tbody>\n",
        "    <tr>\n",
        "      <th>1158202</th>\n",
        "      <td> yzeures-sur-creuse</td>\n",
        "      <td> 2013-12-02</td>\n",
        "      <td>   SP98</td>\n",
        "      <td> 46.78614</td>\n",
        "      <td> 0.8776</td>\n",
        "      <td> 1.305</td>\n",
        "    </tr>\n",
        "    <tr>\n",
        "      <th>1158203</th>\n",
        "      <td> yzeures-sur-creuse</td>\n",
        "      <td> 2013-12-05</td>\n",
        "      <td>   SP98</td>\n",
        "      <td> 46.78614</td>\n",
        "      <td> 0.8776</td>\n",
        "      <td>   NaN</td>\n",
        "    </tr>\n",
        "    <tr>\n",
        "      <th>1158204</th>\n",
        "      <td> yzeures-sur-creuse</td>\n",
        "      <td> 2013-12-19</td>\n",
        "      <td> Gazole</td>\n",
        "      <td> 46.78614</td>\n",
        "      <td> 0.8776</td>\n",
        "      <td> 1.299</td>\n",
        "    </tr>\n",
        "    <tr>\n",
        "      <th>1158205</th>\n",
        "      <td> yzeures-sur-creuse</td>\n",
        "      <td> 2013-12-20</td>\n",
        "      <td>   SP98</td>\n",
        "      <td> 46.78614</td>\n",
        "      <td> 0.8776</td>\n",
        "      <td>   NaN</td>\n",
        "    </tr>\n",
        "    <tr>\n",
        "      <th>1158206</th>\n",
        "      <td> yzeures-sur-creuse</td>\n",
        "      <td> 2013-12-23</td>\n",
        "      <td>   SP98</td>\n",
        "      <td> 46.78614</td>\n",
        "      <td> 0.8776</td>\n",
        "      <td>   NaN</td>\n",
        "    </tr>\n",
        "  </tbody>\n",
        "</table>\n",
        "</div>"
       ],
       "metadata": {},
       "output_type": "pyout",
       "prompt_number": 11,
       "text": [
        "                      Ville        Jour Essence  Latitude  Longitude   Prix\n",
        "1158202  yzeures-sur-creuse  2013-12-02    SP98  46.78614     0.8776  1.305\n",
        "1158203  yzeures-sur-creuse  2013-12-05    SP98  46.78614     0.8776    NaN\n",
        "1158204  yzeures-sur-creuse  2013-12-19  Gazole  46.78614     0.8776  1.299\n",
        "1158205  yzeures-sur-creuse  2013-12-20    SP98  46.78614     0.8776    NaN\n",
        "1158206  yzeures-sur-creuse  2013-12-23    SP98  46.78614     0.8776    NaN"
       ]
      }
     ],
     "prompt_number": 11
    },
    {
     "cell_type": "markdown",
     "metadata": {},
     "source": [
      "Exercice: Calculer le prix moyen du Gazole \u00e0 Paris"
     ]
    },
    {
     "cell_type": "code",
     "collapsed": false,
     "input": [
      "data_gp = data[data.Ville == \"paris\"].groupby([\"Ville\",\"Essence\"]).mean()\n",
      "data_gp"
     ],
     "language": "python",
     "metadata": {},
     "outputs": [
      {
       "html": [
        "<div style=\"max-height:1000px;max-width:1500px;overflow:auto;\">\n",
        "<table border=\"1\" class=\"dataframe\">\n",
        "  <thead>\n",
        "    <tr style=\"text-align: right;\">\n",
        "      <th></th>\n",
        "      <th></th>\n",
        "      <th>Latitude</th>\n",
        "      <th>Longitude</th>\n",
        "      <th>Prix</th>\n",
        "    </tr>\n",
        "    <tr>\n",
        "      <th>Ville</th>\n",
        "      <th>Essence</th>\n",
        "      <th></th>\n",
        "      <th></th>\n",
        "      <th></th>\n",
        "    </tr>\n",
        "  </thead>\n",
        "  <tbody>\n",
        "    <tr>\n",
        "      <th rowspan=\"3\" valign=\"top\">paris</th>\n",
        "      <th>Gazole</th>\n",
        "      <td> 48.858660</td>\n",
        "      <td> 2.335138</td>\n",
        "      <td> 1.434174</td>\n",
        "    </tr>\n",
        "    <tr>\n",
        "      <th>SP95</th>\n",
        "      <td> 48.856081</td>\n",
        "      <td> 2.291870</td>\n",
        "      <td> 1.455651</td>\n",
        "    </tr>\n",
        "    <tr>\n",
        "      <th>SP98</th>\n",
        "      <td> 48.859783</td>\n",
        "      <td> 2.333831</td>\n",
        "      <td> 1.407690</td>\n",
        "    </tr>\n",
        "  </tbody>\n",
        "</table>\n",
        "</div>"
       ],
       "metadata": {},
       "output_type": "pyout",
       "prompt_number": 40,
       "text": [
        "                Latitude  Longitude      Prix\n",
        "Ville Essence                                \n",
        "paris Gazole   48.858660   2.335138  1.434174\n",
        "      SP95     48.856081   2.291870  1.455651\n",
        "      SP98     48.859783   2.333831  1.407690"
       ]
      }
     ],
     "prompt_number": 40
    },
    {
     "cell_type": "markdown",
     "metadata": {},
     "source": [
      "Exercice: Calculer le prix max des diff\u00e9rentes essence en France ainsi que leurs positions"
     ]
    },
    {
     "cell_type": "code",
     "collapsed": false,
     "input": [
      "data_gp = data.groupby([\"Essence\"]).max()\n",
      "data_gp"
     ],
     "language": "python",
     "metadata": {},
     "outputs": [
      {
       "html": [
        "<div style=\"max-height:1000px;max-width:1500px;overflow:auto;\">\n",
        "<table border=\"1\" class=\"dataframe\">\n",
        "  <thead>\n",
        "    <tr style=\"text-align: right;\">\n",
        "      <th></th>\n",
        "      <th>Latitude</th>\n",
        "      <th>Longitude</th>\n",
        "      <th>Adresse</th>\n",
        "      <th>Ville</th>\n",
        "      <th>Jour</th>\n",
        "      <th>Prix</th>\n",
        "    </tr>\n",
        "    <tr>\n",
        "      <th>Essence</th>\n",
        "      <th></th>\n",
        "      <th></th>\n",
        "      <th></th>\n",
        "      <th></th>\n",
        "      <th></th>\n",
        "      <th></th>\n",
        "    </tr>\n",
        "  </thead>\n",
        "  <tbody>\n",
        "    <tr>\n",
        "      <th>Gazole</th>\n",
        "      <td> 52.220760</td>\n",
        "      <td> 61.780735</td>\n",
        "      <td> zup lens grande residence</td>\n",
        "      <td> yzeures-sur-creuse</td>\n",
        "      <td> 2013-12-31</td>\n",
        "      <td> 2.000</td>\n",
        "    </tr>\n",
        "    <tr>\n",
        "      <th>SP95</th>\n",
        "      <td> 52.220760</td>\n",
        "      <td> 61.484757</td>\n",
        "      <td>                zone sirou</td>\n",
        "      <td>             yzeure</td>\n",
        "      <td> 2013-12-31</td>\n",
        "      <td> 2.000</td>\n",
        "    </tr>\n",
        "    <tr>\n",
        "      <th>SP98</th>\n",
        "      <td> 51.064803</td>\n",
        "      <td> 61.780735</td>\n",
        "      <td>                zone sirou</td>\n",
        "      <td> yzeures-sur-creuse</td>\n",
        "      <td> 2013-12-31</td>\n",
        "      <td> 1.999</td>\n",
        "    </tr>\n",
        "  </tbody>\n",
        "</table>\n",
        "</div>"
       ],
       "metadata": {},
       "output_type": "pyout",
       "prompt_number": 41,
       "text": [
        "          Latitude  Longitude                    Adresse               Ville  \\\n",
        "Essence                                                                        \n",
        "Gazole   52.220760  61.780735  zup lens grande residence  yzeures-sur-creuse   \n",
        "SP95     52.220760  61.484757                 zone sirou              yzeure   \n",
        "SP98     51.064803  61.780735                 zone sirou  yzeures-sur-creuse   \n",
        "\n",
        "               Jour   Prix  \n",
        "Essence                     \n",
        "Gazole   2013-12-31  2.000  \n",
        "SP95     2013-12-31  2.000  \n",
        "SP98     2013-12-31  1.999  "
       ]
      }
     ],
     "prompt_number": 41
    },
    {
     "cell_type": "markdown",
     "metadata": {},
     "source": [
      "Les valeurs uniques d'une colonne se calculent ainsi"
     ]
    },
    {
     "cell_type": "code",
     "collapsed": false,
     "input": [
      "values=data[\"Essence\"].values\n",
      "values"
     ],
     "language": "python",
     "metadata": {},
     "outputs": [
      {
       "metadata": {},
       "output_type": "pyout",
       "prompt_number": 42,
       "text": [
        "array(['Gazole', 'Gazole', 'Gazole', ..., 'SP98', 'SP98', 'SP98'], dtype=object)"
       ]
      }
     ],
     "prompt_number": 42
    },
    {
     "cell_type": "code",
     "collapsed": false,
     "input": [
      "np.unique(values)"
     ],
     "language": "python",
     "metadata": {},
     "outputs": [
      {
       "metadata": {},
       "output_type": "pyout",
       "prompt_number": 45,
       "text": [
        "array(['Gazole', 'SP95', 'SP98'], dtype=object)"
       ]
      }
     ],
     "prompt_number": 45
    },
    {
     "cell_type": "code",
     "collapsed": false,
     "input": [
      "for k in np.unique(values):\n",
      "    print k"
     ],
     "language": "python",
     "metadata": {},
     "outputs": [
      {
       "output_type": "stream",
       "stream": "stdout",
       "text": [
        "Gazole\n",
        "SP95\n",
        "SP98\n"
       ]
      }
     ],
     "prompt_number": 46
    },
    {
     "cell_type": "markdown",
     "metadata": {},
     "source": [
      "Exercice: Trouver le jour ou le prix moyen de l'essence en France a \u00e9t\u00e9 le plus cher."
     ]
    },
    {
     "cell_type": "code",
     "collapsed": false,
     "input": [
      "data_gp = data.groupby([\"Jour\"]).mean()\n",
      "data_gp[\"Prix\"].idxmax()\n"
     ],
     "language": "python",
     "metadata": {},
     "outputs": [
      {
       "metadata": {},
       "output_type": "pyout",
       "prompt_number": 59,
       "text": [
        "'2013-02-19'"
       ]
      }
     ],
     "prompt_number": 59
    },
    {
     "cell_type": "markdown",
     "metadata": {},
     "source": [
      "Pour dessiner, un DataFrame contient la m\u00e9thode plot (voir documentation: http://pandas.pydata.org/pandas-docs/stable/visualization.html)"
     ]
    },
    {
     "cell_type": "code",
     "collapsed": false,
     "input": [
      "data_per_day=data.groupby([\"Jour\"]).mean().reset_index()\n",
      "data_per_day.plot(x=\"Jour\",y=\"Prix\",kind=\"line\",label=\"All\")\n",
      "plt.legend(loc=\"best\")"
     ],
     "language": "python",
     "metadata": {},
     "outputs": [
      {
       "ename": "NameError",
       "evalue": "name 'plt' is not defined",
       "output_type": "pyerr",
       "traceback": [
        "\u001b[1;31m---------------------------------------------------------------------------\u001b[0m\n\u001b[1;31mNameError\u001b[0m                                 Traceback (most recent call last)",
        "\u001b[1;32m<ipython-input-63-e2ccd11704e9>\u001b[0m in \u001b[0;36m<module>\u001b[1;34m()\u001b[0m\n\u001b[0;32m      1\u001b[0m \u001b[0mdata_per_day\u001b[0m\u001b[1;33m=\u001b[0m\u001b[0mdata\u001b[0m\u001b[1;33m.\u001b[0m\u001b[0mgroupby\u001b[0m\u001b[1;33m(\u001b[0m\u001b[1;33m[\u001b[0m\u001b[1;34m\"Jour\"\u001b[0m\u001b[1;33m]\u001b[0m\u001b[1;33m)\u001b[0m\u001b[1;33m.\u001b[0m\u001b[0mmean\u001b[0m\u001b[1;33m(\u001b[0m\u001b[1;33m)\u001b[0m\u001b[1;33m.\u001b[0m\u001b[0mreset_index\u001b[0m\u001b[1;33m(\u001b[0m\u001b[1;33m)\u001b[0m\u001b[1;33m\u001b[0m\u001b[0m\n\u001b[0;32m      2\u001b[0m \u001b[0mdata_per_day\u001b[0m\u001b[1;33m.\u001b[0m\u001b[0mplot\u001b[0m\u001b[1;33m(\u001b[0m\u001b[0mx\u001b[0m\u001b[1;33m=\u001b[0m\u001b[1;34m\"Jour\"\u001b[0m\u001b[1;33m,\u001b[0m\u001b[0my\u001b[0m\u001b[1;33m=\u001b[0m\u001b[1;34m\"Prix\"\u001b[0m\u001b[1;33m,\u001b[0m\u001b[0mkind\u001b[0m\u001b[1;33m=\u001b[0m\u001b[1;34m\"line\"\u001b[0m\u001b[1;33m,\u001b[0m\u001b[0mlabel\u001b[0m\u001b[1;33m=\u001b[0m\u001b[1;34m\"All\"\u001b[0m\u001b[1;33m)\u001b[0m\u001b[1;33m\u001b[0m\u001b[0m\n\u001b[1;32m----> 3\u001b[1;33m \u001b[0mplt\u001b[0m\u001b[1;33m.\u001b[0m\u001b[0mlegend\u001b[0m\u001b[1;33m(\u001b[0m\u001b[0mloc\u001b[0m\u001b[1;33m=\u001b[0m\u001b[1;34m\"best\"\u001b[0m\u001b[1;33m)\u001b[0m\u001b[1;33m\u001b[0m\u001b[0m\n\u001b[0m",
        "\u001b[1;31mNameError\u001b[0m: name 'plt' is not defined"
       ]
      },
      {
       "metadata": {},
       "output_type": "display_data",
       "png": "[encoded data removed]",
       "text": [
        "<matplotlib.figure.Figure at 0x6cc5b90>"
       ]
      }
     ],
     "prompt_number": 63
    },
    {
     "cell_type": "markdown",
     "metadata": {},
     "source": [
      "On pourra comparer cette courbe \u00e0 la courbe des prix du p\u00e9trole sur la m\u00eame p\u00e9riode"
     ]
    },
    {
     "cell_type": "code",
     "collapsed": false,
     "input": [
      "import pandas.io.data as web\n",
      "\n",
      "oil_data = {}\n",
      "oil_data= web.get_data_yahoo(\"OIL\", '1/1/2013', '1/1/2014')\n",
      "oil_data[\"Jour\"]=oil_data.index\n",
      "#oil_data\n",
      "oil_data=pd.DataFrame(oil_data)\n",
      "oil_data.tail()\n",
      "\n",
      "oil_data.plot(x=\"Jour\",y=\"Open\")\n",
      "plt.legend(loc=\"best\")"
     ],
     "language": "python",
     "metadata": {},
     "outputs": [
      {
       "ename": "NameError",
       "evalue": "name 'plt' is not defined",
       "output_type": "pyerr",
       "traceback": [
        "\u001b[1;31m---------------------------------------------------------------------------\u001b[0m\n\u001b[1;31mNameError\u001b[0m                                 Traceback (most recent call last)",
        "\u001b[1;32m<ipython-input-64-f313e2fb97f7>\u001b[0m in \u001b[0;36m<module>\u001b[1;34m()\u001b[0m\n\u001b[0;32m      9\u001b[0m \u001b[1;33m\u001b[0m\u001b[0m\n\u001b[0;32m     10\u001b[0m \u001b[0moil_data\u001b[0m\u001b[1;33m.\u001b[0m\u001b[0mplot\u001b[0m\u001b[1;33m(\u001b[0m\u001b[0mx\u001b[0m\u001b[1;33m=\u001b[0m\u001b[1;34m\"Jour\"\u001b[0m\u001b[1;33m,\u001b[0m\u001b[0my\u001b[0m\u001b[1;33m=\u001b[0m\u001b[1;34m\"Open\"\u001b[0m\u001b[1;33m)\u001b[0m\u001b[1;33m\u001b[0m\u001b[0m\n\u001b[1;32m---> 11\u001b[1;33m \u001b[0mplt\u001b[0m\u001b[1;33m.\u001b[0m\u001b[0mlegend\u001b[0m\u001b[1;33m(\u001b[0m\u001b[0mloc\u001b[0m\u001b[1;33m=\u001b[0m\u001b[1;34m\"best\"\u001b[0m\u001b[1;33m)\u001b[0m\u001b[1;33m\u001b[0m\u001b[0m\n\u001b[0m",
        "\u001b[1;31mNameError\u001b[0m: name 'plt' is not defined"
       ]
      },
      {
       "metadata": {},
       "output_type": "display_data",
       "png": "[encoded data removed]",
       "text": [
        "<matplotlib.figure.Figure at 0xe468dd0>"
       ]
      }
     ],
     "prompt_number": 64
    },
    {
     "cell_type": "markdown",
     "metadata": {},
     "source": [
      "Exercice: Dessiner le prix moyen des diff\u00e9rentes essences"
     ]
    },
    {
     "cell_type": "code",
     "collapsed": false,
     "input": [
      "data_plot = data[[\"Jour\",\"Essence\",\"Prix\"]]\n",
      "data_plot = data_plot.groupby([\"Jour\",\"Essence\"]).mean()\n",
      "data_plot = data_plot.reset_index()\n",
      "data_plot_g = data_plot[data_plot.Essence == \"Gazole\"]\n",
      "data_plot_sp95 = data_plot[data_plot.Essence == \"SP95\"]\n",
      "data_plot_sp98 = data_plot[data_plot.Essence == \"SP98\"]\n",
      "data_plot_g.plot(x=\"Jour\",y=\"Prix\")\n",
      "data_plot_sp95.plot(x=\"Jour\",y=\"Prix\")\n",
      "data_plot_sp98.plot(x=\"Jour\",y=\"Prix\")\n"
     ],
     "language": "python",
     "metadata": {},
     "outputs": [
      {
       "metadata": {},
       "output_type": "pyout",
       "prompt_number": 104,
       "text": [
        "<matplotlib.axes.AxesSubplot at 0x5863510>"
       ]
      },
      {
       "metadata": {},
       "output_type": "display_data",
       "png": "[encoded data removed]",
       "text": [
        "<matplotlib.figure.Figure at 0x5e22550>"
       ]
      }
     ],
     "prompt_number": 104
    },
    {
     "cell_type": "markdown",
     "metadata": {},
     "source": [
      "Exercice: Dessiner le prix moyen de l'essence \u00e0 Paris, Limoges et Bordeaux"
     ]
    },
    {
     "cell_type": "code",
     "collapsed": false,
     "input": [
      "data_plot = data[[\"Jour\",\"Prix\",\"Ville\"]]\n",
      "data_plot = data_plot[(data_plot.Ville == \"paris\") | (data_plot.Ville == \"limoges\") | (data_plot.Ville == \"bordeaux\")]\n",
      "data_plot = data_plot.groupby([\"Jour\",\"Ville\"]).mean()\n",
      "data_plot\n",
      "data_plot = data_plot.reset_index()\n",
      "data_plot[data_plot.Ville == \"paris\"].plot(x=\"Jour\",y=\"Prix\")\n",
      "data_plot[data_plot.Ville == \"limoges\"].plot(x=\"Jour\",y=\"Prix\")\n",
      "data_plot[data_plot.Ville == \"bordeaux\"].plot(x=\"Jour\",y=\"Prix\")\n"
     ],
     "language": "python",
     "metadata": {},
     "outputs": [
      {
       "metadata": {},
       "output_type": "pyout",
       "prompt_number": 116,
       "text": [
        "<matplotlib.axes.AxesSubplot at 0x5f20e90>"
       ]
      },
      {
       "metadata": {},
       "output_type": "display_data",
       "png": "[encoded data removed]",
       "text": [
        "<matplotlib.figure.Figure at 0x5f5b690>"
       ]
      }
     ],
     "prompt_number": 116
    },
    {
     "cell_type": "markdown",
     "metadata": {},
     "source": [
      "Exercice: Calculer le prix moyen de des diff\u00e9rentes essences sur l'autoroute. Pour cela il faut utiliser l'op\u00e9rateur \"contains\": voir http://stackoverflow.com/questions/11350770/pandas-dataframe-select-by-partial-string"
     ]
    },
    {
     "cell_type": "code",
     "collapsed": false,
     "input": [],
     "language": "python",
     "metadata": {},
     "outputs": [],
     "prompt_number": 89
    },
    {
     "cell_type": "markdown",
     "metadata": {},
     "source": [
      "Exercice: La n\u00e9gation d'une colonne bool\u00e9enne s'obtient \u00e0 travers l'utilisation de np.invert(....). Calculer le prix moyen des diff\u00e9rentes essences PAS sur les autoroutes"
     ]
    },
    {
     "cell_type": "code",
     "collapsed": false,
     "input": [],
     "language": "python",
     "metadata": {},
     "outputs": [],
     "prompt_number": 100
    },
    {
     "cell_type": "markdown",
     "metadata": {},
     "source": [
      "Exercice: Maintenant, nous allons conserver uniquement le prix du gazole \u00e0 Paris, et le moyenner sur toute l'ann\u00e9e par station service"
     ]
    },
    {
     "cell_type": "code",
     "collapsed": true,
     "input": [],
     "language": "python",
     "metadata": {},
     "outputs": [],
     "prompt_number": 63
    },
    {
     "cell_type": "markdown",
     "metadata": {},
     "source": [
      "On peut utiliser diff\u00e9rentes commandes de matplotlib pour faire des dessins plus compliqu\u00e9s:"
     ]
    },
    {
     "cell_type": "code",
     "collapsed": false,
     "input": [
      "plt.scatter(data_gazole_paris[\"Latitude\"],data_gazole_paris[\"Longitude\"],s=(data_gazole_paris[\"Prix\"]-1.339)*1000)"
     ],
     "language": "python",
     "metadata": {},
     "outputs": [
      {
       "ename": "NameError",
       "evalue": "name 'plt' is not defined",
       "output_type": "pyerr",
       "traceback": [
        "\u001b[1;31m---------------------------------------------------------------------------\u001b[0m\n\u001b[1;31mNameError\u001b[0m                                 Traceback (most recent call last)",
        "\u001b[1;32m<ipython-input-117-9aafaf3c32c9>\u001b[0m in \u001b[0;36m<module>\u001b[1;34m()\u001b[0m\n\u001b[1;32m----> 1\u001b[1;33m \u001b[0mplt\u001b[0m\u001b[1;33m.\u001b[0m\u001b[0mscatter\u001b[0m\u001b[1;33m(\u001b[0m\u001b[0mdata_gazole_paris\u001b[0m\u001b[1;33m[\u001b[0m\u001b[1;34m\"Latitude\"\u001b[0m\u001b[1;33m]\u001b[0m\u001b[1;33m,\u001b[0m\u001b[0mdata_gazole_paris\u001b[0m\u001b[1;33m[\u001b[0m\u001b[1;34m\"Longitude\"\u001b[0m\u001b[1;33m]\u001b[0m\u001b[1;33m,\u001b[0m\u001b[0ms\u001b[0m\u001b[1;33m=\u001b[0m\u001b[1;33m(\u001b[0m\u001b[0mdata_gazole_paris\u001b[0m\u001b[1;33m[\u001b[0m\u001b[1;34m\"Prix\"\u001b[0m\u001b[1;33m]\u001b[0m\u001b[1;33m-\u001b[0m\u001b[1;36m1.339\u001b[0m\u001b[1;33m)\u001b[0m\u001b[1;33m*\u001b[0m\u001b[1;36m1000\u001b[0m\u001b[1;33m)\u001b[0m\u001b[1;33m\u001b[0m\u001b[0m\n\u001b[0m",
        "\u001b[1;31mNameError\u001b[0m: name 'plt' is not defined"
       ]
      }
     ],
     "prompt_number": 117
    },
    {
     "cell_type": "markdown",
     "metadata": {},
     "source": [
      "Exercice: Maintenant, nous allons distinguer les stations dont le prix du gazole est sup\u00e9rieur \u00e0 la moyenne et celle dont le prix est inf\u00e9rieur. Pour cela, il faut:\n",
      "(i) Calculer le prix moyen (ii) Ajouter une colonne permettant de savoir si le prix est sup\u00e9rieur ou inf\u00e9rieur au prix moyen (iii) Dessiner -- voir : http://matplotlib.org/api/pyplot_api.html"
     ]
    },
    {
     "cell_type": "code",
     "collapsed": false,
     "input": [
      "mean_price=....\n",
      "mean_price"
     ],
     "language": "python",
     "metadata": {},
     "outputs": [],
     "prompt_number": 73
    },
    {
     "cell_type": "code",
     "collapsed": false,
     "input": [],
     "language": "python",
     "metadata": {},
     "outputs": [],
     "prompt_number": 83
    },
    {
     "cell_type": "markdown",
     "metadata": {},
     "source": [
      "Les corr\u00e9lations entre colonnes se calculent ainsi:"
     ]
    },
    {
     "cell_type": "code",
     "collapsed": false,
     "input": [
      "data_gazole_paris.corr()"
     ],
     "language": "python",
     "metadata": {},
     "outputs": [],
     "prompt_number": 87
    },
    {
     "cell_type": "markdown",
     "metadata": {},
     "source": [
      "Exercice: Qu'en pensez vous ? Dessinez le prix moyen en fonction de la lattiude et en fonction de la longitude.... Ou faut-il mieux faire son plein d'essence ? "
     ]
    },
    {
     "cell_type": "code",
     "collapsed": false,
     "input": [],
     "language": "python",
     "metadata": {},
     "outputs": [],
     "prompt_number": 86
    },
    {
     "cell_type": "markdown",
     "metadata": {},
     "source": [
      "Exercice 5: Rappel d'objets en Python\n",
      "====="
     ]
    },
    {
     "cell_type": "code",
     "collapsed": true,
     "input": [
      "class Machin:\n",
      "    def __init__(self):\n",
      "        self.x=5\n",
      "\n",
      "    def getX(self):\n",
      "        return self.x\n",
      "        \n",
      "    def setX(self,value):\n",
      "        self.x=value\n",
      "        \n",
      "m=Machin()\n",
      "m.setX(12)\n",
      "m.getX()"
     ],
     "language": "python",
     "metadata": {},
     "outputs": [],
     "prompt_number": 123
    },
    {
     "cell_type": "markdown",
     "metadata": {},
     "source": [
      "H\u00e9ritage"
     ]
    },
    {
     "cell_type": "code",
     "collapsed": true,
     "input": [
      "class Truc(Machin):\n",
      "    def __init__(self):\n",
      "        Machin.__init__(self)\n",
      "        self.y=1\n",
      "        \n",
      "    def getY(self):\n",
      "        return self.y\n",
      "        \n",
      "    def setY(self,value):\n",
      "        self.y=value\n",
      "\n",
      "t=Truc()\n",
      "t.setY(14)\n",
      "print(\"%d %d\"% (t.getX(),t.getY()))"
     ],
     "language": "python",
     "metadata": {},
     "outputs": [],
     "prompt_number": 124
    },
    {
     "cell_type": "markdown",
     "metadata": {},
     "source": [
      "D\u00e9finir les classes Personne, Etudiants et Enseignants"
     ]
    }
   ],
   "metadata": {}
  }
 ]
}