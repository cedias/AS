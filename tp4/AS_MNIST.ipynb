{
 "metadata": {
  "name": "AS_MNIST",
  "signature": "sha256:a54769f193acecfb0899660256e96c2598b1f0856dcf9806894b496632b6d6dd"
 },
 "nbformat": 3,
 "nbformat_minor": 0,
 "worksheets": [
  {
   "cells": [
    {
     "cell_type": "markdown",
     "metadata": {},
     "source": [
      "#Loss & Modules"
     ]
    },
    {
     "cell_type": "code",
     "collapsed": false,
     "input": [
      "import numpy as np\n",
      "\n",
      "       \n",
      "# Impl\u00e9mentation des Losses\n",
      "\n",
      "class Loss:\n",
      "    \n",
      "    #Calcule la valeur du loss \u00e9tant donn\u00e9es les valeurs pr\u00e9dites et d\u00e9sir\u00e9es\n",
      "    def getLossValue(self,predicted_output,desired_output):\n",
      "        pass\n",
      "    \n",
      "    #Calcule le gradient (pour chaque cellule d'entr\u00e9e) du co\u00fbt\n",
      "    def backward(self, predicted_output,desired_output):\n",
      "        pass \n",
      "\n",
      "\n",
      "#Square Loss\n",
      "\n",
      "class SquareLoss(Loss):\n",
      "    def getLossValue(self,predicted_output,desired_output):\n",
      "        return np.power(desired_output-predicted_output,2)\n",
      "    \n",
      "    def backward(self, predicted_output,desired_output):\n",
      "        return 2*(predicted_output-desired_output)\n",
      "    \n",
      "#HingeLoss\n",
      "\n",
      "class HingeLoss(Loss):\n",
      "    def getLossValue(self,predicted_output,desired_output):\n",
      "        return np.max(np.zeros(predicted_output.size), -desired_output*predicted_output)\n",
      "    \n",
      "    def backward(self, predicted_output,desired_output):\n",
      "        res = np.zeros(desired_output.size)\n",
      "        prod = -desired_output*predicted_output\n",
      "        index = np.where(prod >=0 )\n",
      "        res[index] = -desired_output[index]\n",
      "\n",
      "        return res\n",
      "\n",
      "# <markdowncell>\n",
      "\n",
      "# Impl\u00e9mentation des Modules\n",
      "# ======\n",
      "# \n",
      "# Nous allons maintenant impl\u00e9menter quelques modules de base\n",
      "\n",
      "# <codecell>\n",
      "\n",
      "class Module:\n",
      "    \n",
      "    #Permet le calcul de la sortie du module\n",
      "    def forward(self,input):\n",
      "        pass\n",
      "    \n",
      "    #Permet le calcul du gradient des cellules d'entr\u00e9e\n",
      "    def backward_delta(self,input,delta_module_suivant):\n",
      "        pass\n",
      "    \n",
      "    #Permet d'initialiser le gradient du module\n",
      "    def init_gradient(self):\n",
      "        pass\n",
      "    \n",
      "    #Permet la mise \u00e0 jour des parma\u00e8tres du module avcec la valeur courante di gradient\n",
      "    def update_parameters(self,gradient_step):\n",
      "        pass\n",
      "    \n",
      "    #Permet de mettre \u00e0 jour la valeur courante du gradient par addition\n",
      "    def backward_update_gradient(self,input,delta_module_suivant):\n",
      "        pass\n",
      "    \n",
      "    #Permet de faire les deux backwar simultan\u00e9ment\n",
      "    def backward(self,input,delta_module_suivant):\n",
      "        self.backward_update_gradient(input,delta_module_suivant)\n",
      "        return self.backward_delte(input,delta_module_suivant)\n",
      "\n",
      "    #Retourne les param\u00e8tres du module\n",
      "    def get_parameters(self):\n",
      "        pass\n",
      "    \n",
      "    #Initialize al\u00e9atoirement les param\u00e8tres du module\n",
      "    def randomize_parameters(self, variance):\n",
      "        pass\n",
      "    \n",
      "    \n",
      "\n",
      "# <markdowncell>\n",
      "\n",
      "# Nous allons commencer par impl\u00e9menter le module lineaire classique (sans biais)\n",
      "\n",
      "# <codecell>\n",
      "\n",
      "class LinearModule(Module):\n",
      "    \n",
      "    #Permet le calcul de la sortie du module\n",
      "    def __init__(self,entry_size,layer_size):\n",
      "        self.entry_size = entry_size\n",
      "        self.layer_size = layer_size\n",
      "        self.init_gradient()\n",
      "        self.randomize_parameters()\n",
      "    \n",
      "    def forward(self,input):\n",
      "        return np.dot(self.parameters,input)\n",
      "    \n",
      "    #Permet le calcul du gradient des cellules d'entr\u00e9e\n",
      "    def backward_delta(self,input,delta_module_suivant):\n",
      "        return np.sum((delta_module_suivant*self.parameters.T).T,axis=0)\n",
      "        \n",
      "    #Permet d'initialiser le gradient du module\n",
      "    def init_gradient(self):\n",
      "        self.gradient = np.zeros((self.layer_size,self.entry_size))\n",
      "        return\n",
      "    \n",
      "    #Permet la mise \u00e0 jour des parma\u00e8tres du module avcec la valeur courante di gradient\n",
      "    def update_parameters(self,gradient_step):\n",
      "        self.parameters -= self.gradient*gradient_step\n",
      "        self.gradient = np.zeros((self.layer_size,self.entry_size))\n",
      "        return\n",
      "\n",
      "    #Permet de mettre \u00e0 jour la valeur courante du gradient par addition\n",
      "    def backward_update_gradient(self,input,delta_module_suivant):\n",
      "        newGrad = np.zeros((self.layer_size,self.entry_size))\n",
      "        for i in xrange(0,self.layer_size):\n",
      "            di = delta_module_suivant[i]\n",
      "            newGrad[i,:] =  di*input\n",
      "\n",
      "        self.gradient += newGrad\n",
      "        return \n",
      "    \n",
      "    #Permet de faire les deux backwar simultan\u00e9ment\n",
      "    def backward(self,input,delta_module_suivant):\n",
      "        self.backward_update_gradient(input,delta_module_suivant)\n",
      "        return self.backward_delta(input,delta_module_suivant)\n",
      "\n",
      "    #Retourne les param\u00e8tres du module\n",
      "    def get_parameters(self):\n",
      "        return self.parameters\n",
      "    \n",
      "    #Initialize al\u00e9atoirement les param\u00e8tres du module\n",
      "    def randomize_parameters(self):\n",
      "        self.parameters = np.random.randn(self.layer_size,self.entry_size)\n",
      "        return\n",
      "\n",
      "\n",
      "class TanhModule(Module):\n",
      "    \n",
      "    #Permet le calcul de la sortie du module\n",
      "    def __init__(self,entry_size,layer_size):\n",
      "        pass\n",
      "\n",
      "    def forward(self,input):\n",
      "        return np.tanh(input)\n",
      "    \n",
      "    #Permet le calcul du gradient des cellules d'entr\u00e9e\n",
      "    def backward_delta(self,input,delta_module_suivant):\n",
      "        return (1-np.power(np.tanh(input),2))*delta_module_suivant\n",
      "        \n",
      "        \n",
      "    #Permet d'initialiser le gradient du module\n",
      "    def init_gradient(self):\n",
      "        pass\n",
      "    \n",
      "    #Permet la mise \u00e0 jour des parma\u00e8tres du module avcec la valeur courante di gradient\n",
      "    def update_parameters(self,gradient_step):\n",
      "        pass\n",
      "\n",
      "    #Permet de mettre \u00e0 jour la valeur courante du gradient par addition\n",
      "    def backward_update_gradient(self,input,delta_module_suivant):\n",
      "        pass\n",
      "    \n",
      "    #Permet de faire les deux backwar simultan\u00e9ment\n",
      "    def backward(self,input,delta_module_suivant):\n",
      "        return self.backward_delta(input,delta_module_suivant)\n",
      "\n",
      "    #Retourne les param\u00e8tres du module\n",
      "    def get_parameters(self):\n",
      "        pass\n",
      "    \n",
      "    #Initialize al\u00e9atoirement les param\u00e8tres du module\n",
      "    def randomize_parameters(self):\n",
      "        pass\n",
      "\n",
      "\n",
      "class LogisticModule(Module):\n",
      "    \n",
      "    #Permet le calcul de la sortie du module\n",
      "    def __init__(self,entry_size,layer_size):\n",
      "        pass\n",
      "    \n",
      "    def forward(self,input):\n",
      "        return np.power((1-np.exp(-1*input)),-1)\n",
      "    \n",
      "    #Permet le calcul du gradient des cellules d'entr\u00e9e\n",
      "    def backward_delta(self,input,delta_module_suivant):\n",
      "        return self.forward(input)*(1-self.forward(input))*delta_module_suivant\n",
      "        \n",
      "        \n",
      "    #Permet d'initialiser le gradient du module\n",
      "    def init_gradient(self):\n",
      "        pass\n",
      "    \n",
      "    #Permet la mise \u00e0 jour des parma\u00e8tres du module avcec la valeur courante di gradient\n",
      "    def update_parameters(self,gradient_step):\n",
      "        pass\n",
      "    #Permet de mettre \u00e0 jour la valeur courante du gradient par addition\n",
      "    def backward_update_gradient(self,input,delta_module_suivant):\n",
      "        pass\n",
      "    \n",
      "    #Permet de faire les deux backwar simultan\u00e9ment\n",
      "    def backward(self,input,delta_module_suivant):\n",
      "        return self.backward_delta(input,delta_module_suivant)\n",
      "\n",
      "    #Retourne les param\u00e8tres du module\n",
      "    def get_parameters(self):\n",
      "        pass\n",
      "    \n",
      "    #Initialize al\u00e9atoirement les param\u00e8tres du module\n",
      "    def randomize_parameters(self):\n",
      "        pass\n",
      "\n",
      "\n",
      "\n",
      "#multimodule\n",
      "class MultiModule():\n",
      "    \n",
      "    #Permet le calcul de la sortie du module\n",
      "    def __init__(self,modules,loss):\n",
      "        self.modules = modules\n",
      "        self.loss = loss\n",
      "\n",
      "    \n",
      "    def forward(self,input):\n",
      "        self.inputs = []\n",
      "        for module in self.modules:\n",
      "            self.inputs.append(input)\n",
      "            input = module.forward(input)\n",
      "        return input\n",
      "\n",
      "    def forwardAll(self,examples):\n",
      "        return [self.forward(example) for example in examples]\n",
      "    \n",
      "    #Permet le calcul du gradient des cellules d'entr\u00e9e\n",
      "    def backward(self,predicted,wanted,batch=False,gradient_step=0.001):\n",
      "        loss_delta = self.loss.backward(predicted,wanted)\n",
      "        for module,input in zip(reversed(self.modules),reversed(self.inputs)):\n",
      "            loss_delta = module.backward(input,loss_delta)\n",
      "\n",
      "            if not batch:\n",
      "                module.update_parameters(gradient_step)\n",
      "\n",
      "\n",
      "        return loss_delta\n",
      "\n",
      "    def update_parameters(self,gradient_step):\n",
      "        for module in self.modules:\n",
      "            module.update_parameters(gradient_step)\n",
      "        return\n",
      "\n",
      "    def stochasticIter(self,examples,labels,gradient_step=0.001, verbose=False):\n",
      "        for example, label in zip(examples,labels):\n",
      "            pred = self.forward(example)\n",
      "            loss = self.backward(pred,label,gradient_step=gradient_step)\n",
      "\n",
      "            if verbose:\n",
      "                print loss\n",
      "        return loss\n",
      "    \n",
      "    def batchIter(self,examples,labels,gradient_step=0.001, verbose=False):\n",
      "        for example, label in zip(examples,labels):\n",
      "            pred = self.forward(example)\n",
      "            loss = self.backward(pred,label,batch=True,gradient_step=gradient_step)\n",
      "\n",
      "            if verbose:\n",
      "                print loss\n",
      "        self.update_parameters(gradient_step)\n",
      "        return\n",
      "    \n",
      "    def miniBatchIter(self,examples,labels,batch_size=10, gradient_step=0.001, verbose=False):\n",
      "        for i, (example, label) in enumerate(zip(examples,labels)):\n",
      "            pred = self.forward(example)\n",
      "            loss = self.backward(pred,label,batch=True,gradient_step=gradient_step)\n",
      "\n",
      "            if verbose:\n",
      "                print loss\n",
      "            if i%batch_size == 0:\n",
      "                self.update_parameters(gradient_step)\n",
      "        self.update_parameters(gradient_step)\n",
      "        return\n"
     ],
     "language": "python",
     "metadata": {},
     "outputs": [],
     "prompt_number": 1
    },
    {
     "cell_type": "markdown",
     "metadata": {},
     "source": [
      "Nous allons nous int\u00e9resser au d\u00e9veloppement d'un classifieur sur les donn\u00e9es MNSIT (nous ferons des visages par la suite)"
     ]
    },
    {
     "cell_type": "markdown",
     "metadata": {},
     "source": [
      "Le chargement des donn\u00e9es MNIST s'effectue facilement gr\u00e2ce \u00e0 la commande suivante:\n"
     ]
    },
    {
     "cell_type": "code",
     "collapsed": true,
     "input": [
      "from sklearn.datasets import fetch_mldata\n",
      "mnist=fetch_mldata('MNIST original')\n",
      "mnist"
     ],
     "language": "python",
     "metadata": {},
     "outputs": [
      {
       "output_type": "stream",
       "stream": "stderr",
       "text": [
        "/usr/local/lib/python2.7/dist-packages/numpy-1.9.0-py2.7-linux-x86_64.egg/numpy/core/fromnumeric.py:2499: VisibleDeprecationWarning: `rank` is deprecated; use the `ndim` attribute or function instead. To find the rank of a matrix see `numpy.linalg.matrix_rank`.\n",
        "  VisibleDeprecationWarning)\n"
       ]
      },
      {
       "output_type": "pyout",
       "prompt_number": 2,
       "text": [
        "{'COL_NAMES': ['label', 'data'],\n",
        " 'DESCR': 'mldata.org dataset: mnist-original',\n",
        " 'data': array([[0, 0, 0, ..., 0, 0, 0],\n",
        "       [0, 0, 0, ..., 0, 0, 0],\n",
        "       [0, 0, 0, ..., 0, 0, 0],\n",
        "       ..., \n",
        "       [0, 0, 0, ..., 0, 0, 0],\n",
        "       [0, 0, 0, ..., 0, 0, 0],\n",
        "       [0, 0, 0, ..., 0, 0, 0]], dtype=uint8),\n",
        " 'target': array([ 0.,  0.,  0., ...,  9.,  9.,  9.])}"
       ]
      }
     ],
     "prompt_number": 2
    },
    {
     "cell_type": "markdown",
     "metadata": {},
     "source": [
      "Visualisation des donn\u00e9es"
     ]
    },
    {
     "cell_type": "code",
     "collapsed": true,
     "input": [
      "import matplotlib.pyplot as plt\n",
      "import numpy as np\n",
      "\n",
      "plt.rc(\"image\",cmap=\"binary\")\n",
      "plt.subplot(10,10,1)\n",
      "\n",
      "for i in range(100):\n",
      "    plt.subplot(10,10,i)\n",
      "    idx=np.random.randint(len(mnist.data))\n",
      "    plt.imshow(mnist.data[idx].reshape(28,28))"
     ],
     "language": "python",
     "metadata": {},
     "outputs": [],
     "prompt_number": 3
    },
    {
     "cell_type": "markdown",
     "metadata": {},
     "source": [
      "Afin de r\u00e9duire la taille des exp\u00e9rimentations, nous allons nous restreindre aux chiffres dont les \u00e9tiquettes sont 6 et 8"
     ]
    },
    {
     "cell_type": "code",
     "collapsed": false,
     "input": [
      "import numpy as np\n",
      "\n",
      "#Creation des vecteurs d'entr\u00e9e\n",
      "mnist_6=mnist.data[mnist.target==6]\n",
      "nb_6=len(mnist_6)\n",
      "mnist_8=mnist.data[mnist.target==8]\n",
      "nb_8=len(mnist_8)\n",
      "mnist_6_8=np.vstack((mnist_6,mnist_8))\n",
      "print \"%d 6s and %d 8s\" % (nb_6,nb_8)\n",
      "\n",
      "#Creation des vecteurs de sortie\n",
      "target_6_8=np.array([[1]])\n",
      "for i in range(nb_6-1):\n",
      "    target_6_8=np.vstack((target_6_8,[1]))\n",
      "for i in range(nb_8):\n",
      "    target_6_8=np.vstack((target_6_8,[-1]))\n",
      "    \n",
      "print \"%d/%d vecteurs d'apprentissage\" % (len(target_6_8),len(mnist_6_8))\n",
      "\n",
      "\n"
     ],
     "language": "python",
     "metadata": {},
     "outputs": [
      {
       "output_type": "stream",
       "stream": "stdout",
       "text": [
        "6876 6s and 6825 8s\n",
        "13701/13701 vecteurs d'apprentissage"
       ]
      },
      {
       "output_type": "stream",
       "stream": "stdout",
       "text": [
        "\n"
       ]
      }
     ],
     "prompt_number": 4
    },
    {
     "cell_type": "markdown",
     "metadata": {},
     "source": [
      "Sous-\u00e9chantillonage des donn\u00e9es"
     ]
    },
    {
     "cell_type": "code",
     "collapsed": false,
     "input": [
      "# Sous-Echantillonage des deux matrices (pour test)\n",
      "randomvec=np.random.rand(len(target_6_8))\n",
      "randomvec=randomvec>0.8\n",
      "target_6_8=target_6_8[randomvec]\n",
      "mnist_6_8=mnist_6_8[randomvec]\n",
      "print \"%d/%d vecteurs d'apprentissage apres echantillonage\" % (len(target_6_8),len(mnist_6_8))\n"
     ],
     "language": "python",
     "metadata": {},
     "outputs": [
      {
       "output_type": "stream",
       "stream": "stdout",
       "text": [
        "2783/2783 vecteurs d'apprentissage apres echantillonage\n"
       ]
      }
     ],
     "prompt_number": 5
    },
    {
     "cell_type": "markdown",
     "metadata": {},
     "source": [
      "Cr\u00e9ation d'un ensemble de Train et de Test"
     ]
    },
    {
     "cell_type": "code",
     "collapsed": false,
     "input": [
      "#Creatin de train et test\n",
      "randomvec=np.random.rand(len(target_6_8))\n",
      "randomvec=randomvec>0.5\n",
      "\n",
      "train_data=mnist_6_8[randomvec]\n",
      "train_label=target_6_8[randomvec]\n",
      "test_data=mnist_6_8[np.logical_not(randomvec)]\n",
      "test_label=target_6_8[np.logical_not(randomvec)]\n",
      "print \"%d training examples and %d testing examples \" % (len(train_data),len(test_data))\n",
      "plt.imshow(train_data[np.random.randint(len(train_data))].reshape(28,28))"
     ],
     "language": "python",
     "metadata": {},
     "outputs": [
      {
       "output_type": "stream",
       "stream": "stdout",
       "text": [
        "1418 training examples and 1365 testing examples \n"
       ]
      },
      {
       "output_type": "pyout",
       "prompt_number": 6,
       "text": [
        "<matplotlib.image.AxesImage at 0x7fa96bcd4390>"
       ]
      }
     ],
     "prompt_number": 6
    },
    {
     "cell_type": "markdown",
     "metadata": {},
     "source": [
      "Impl\u00e9mentation de classifieurs\n",
      "======"
     ]
    },
    {
     "cell_type": "markdown",
     "metadata": {},
     "source": [
      "Commencez par tester plusieurs classifieurs (architecture) sur ce probl\u00e8me. "
     ]
    },
    {
     "cell_type": "markdown",
     "metadata": {},
     "source": [
      "##Perceptron \n",
      "--------------------------------"
     ]
    },
    {
     "cell_type": "code",
     "collapsed": false,
     "input": [
      "perceptron = MultiModule([LinearModule(28*28,1)],HingeLoss())\n",
      "\n",
      "NBITER = 10\n",
      "print \"=======TRAIN ERROR=======\"\n",
      "for i in xrange(0,NBITER):\n",
      "    perceptron.stochasticIter(train_data, train_label, verbose=False)\n",
      "    \n",
      "    predicted = perceptron.forwardAll(train_data)\n",
      "    ok=0\n",
      "    ko=0\n",
      "    for pred,exp in zip(predicted,train_label):\n",
      "        if pred[0]*exp[0] > 0:\n",
      "            ok+=1\n",
      "        else:\n",
      "            ko+=1\n",
      "    print \"Iteration n\u00b0%d: %d correct (%f%%), %d incorrect (%f%%) \" % (i,ok,ok/(ok+ko+0.0)*100,ko,ko/(ok+ko+0.0)*100)\n",
      "\n",
      "\n",
      "    \n",
      "print \"=======TEST ERROR=======\"  \n",
      "predicted = perceptron.forwardAll(test_data)\n",
      "\n",
      "ok=0\n",
      "ko=0\n",
      "for pred,exp in zip(predicted,test_label):\n",
      "    if pred[0]*exp[0] > 0:\n",
      "        ok+=1\n",
      "    else:\n",
      "        ko+=1\n",
      "        \n",
      "print \"%d correct (%f%%), %d incorrect (%f%%) \" % (ok,ok/(ok+ko+0.0)*100,ko,ko/(ok+ko+0.0)*100)\n",
      "\n"
     ],
     "language": "python",
     "metadata": {},
     "outputs": [
      {
       "output_type": "stream",
       "stream": "stdout",
       "text": [
        "=======TRAIN ERROR=======\n",
        "Iteration n\u00b00: 717 correct (50.564175%), 701 incorrect (49.435825%) "
       ]
      },
      {
       "output_type": "stream",
       "stream": "stdout",
       "text": [
        "\n",
        "Iteration n\u00b01: 797 correct (56.205924%), 621 incorrect (43.794076%) "
       ]
      },
      {
       "output_type": "stream",
       "stream": "stdout",
       "text": [
        "\n",
        "Iteration n\u00b02: 949 correct (66.925247%), 469 incorrect (33.074753%) "
       ]
      },
      {
       "output_type": "stream",
       "stream": "stdout",
       "text": [
        "\n",
        "Iteration n\u00b03: 1205 correct (84.978843%), 213 incorrect (15.021157%) "
       ]
      },
      {
       "output_type": "stream",
       "stream": "stdout",
       "text": [
        "\n",
        "Iteration n\u00b04: 1160 correct (81.805360%), 258 incorrect (18.194640%) "
       ]
      },
      {
       "output_type": "stream",
       "stream": "stdout",
       "text": [
        "\n",
        "Iteration n\u00b05: 1310 correct (92.383639%), 108 incorrect (7.616361%) "
       ]
      },
      {
       "output_type": "stream",
       "stream": "stdout",
       "text": [
        "\n",
        "Iteration n\u00b06: 1332 correct (93.935120%), 86 incorrect (6.064880%) "
       ]
      },
      {
       "output_type": "stream",
       "stream": "stdout",
       "text": [
        "\n",
        "Iteration n\u00b07: 1336 correct (94.217207%), 82 incorrect (5.782793%) "
       ]
      },
      {
       "output_type": "stream",
       "stream": "stdout",
       "text": [
        "\n",
        "Iteration n\u00b08: 1280 correct (90.267983%), 138 incorrect (9.732017%) "
       ]
      },
      {
       "output_type": "stream",
       "stream": "stdout",
       "text": [
        "\n",
        "Iteration n\u00b09: 1369 correct (96.544429%), 49 incorrect (3.455571%) "
       ]
      },
      {
       "output_type": "stream",
       "stream": "stdout",
       "text": [
        "\n",
        "=======TEST ERROR=======\n",
        "1293 correct (94.725275%), 72 incorrect (5.274725%) \n"
       ]
      }
     ],
     "prompt_number": 7
    },
    {
     "cell_type": "markdown",
     "metadata": {},
     "source": [
      "##Multi-Layer Perceptron\n",
      "--------------------------------"
     ]
    },
    {
     "cell_type": "code",
     "collapsed": false,
     "input": [
      "mod2 = LinearModule(50,1)\n",
      "mod1 = LinearModule(28*28,50)\n",
      "\n",
      "MLP = MultiModule([mod1,TanhModule(20,20),mod2],SquareLoss())\n",
      "\n",
      "#print mod1.parameters\n",
      "NBITER = 50\n",
      "print \"=======TRAIN ERROR=======\"\n",
      "for i in xrange(0,NBITER):\n",
      "    MLP.stochasticIter(train_data, train_label,gradient_step=0.0001, verbose=False)\n",
      "    \n",
      "    predicted = MLP.forwardAll(train_data)\n",
      "    ok=0\n",
      "    ko=0\n",
      "    for pred,exp in zip(predicted,train_label):\n",
      "        if pred[0]*exp[0] > 0:\n",
      "            ok+=1\n",
      "        else:\n",
      "            ko+=1\n",
      "    print \"Iteration n\u00b0%d: %d correct (%f%%), %d incorrect (%f%%) \" % (i,ok,ok/(ok+ko+0.0)*100,ko,ko/(ok+ko+0.0)*100)\n",
      "\n",
      "#print mod1.parameters\n",
      "    \n",
      "print \"=======TEST ERROR=======\"  \n",
      "predicted = MLP.forwardAll(test_data)\n",
      "\n",
      "ok=0\n",
      "ko=0\n",
      "for pred,exp in zip(predicted,test_label):\n",
      "    if pred[0]*exp[0] > 0:\n",
      "        ok+=1\n",
      "    else:\n",
      "        ko+=1\n",
      "        \n",
      "print \"%d correct (%f%%), %d incorrect (%f%%) \" % (ok,ok/(ok+ko+0.0)*100,ko,ko/(ok+ko+0.0)*100)\n",
      "\n"
     ],
     "language": "python",
     "metadata": {},
     "outputs": [
      {
       "output_type": "stream",
       "stream": "stdout",
       "text": [
        "=======TRAIN ERROR=======\n",
        "Iteration n\u00b00: 720 correct (50.775740%), 698 incorrect (49.224260%) "
       ]
      },
      {
       "output_type": "stream",
       "stream": "stdout",
       "text": [
        "\n",
        "Iteration n\u00b01: 839 correct (59.167842%), 579 incorrect (40.832158%) "
       ]
      },
      {
       "output_type": "stream",
       "stream": "stdout",
       "text": [
        "\n",
        "Iteration n\u00b02: 872 correct (61.495063%), 546 incorrect (38.504937%) "
       ]
      },
      {
       "output_type": "stream",
       "stream": "stdout",
       "text": [
        "\n",
        "Iteration n\u00b03: 888 correct (62.623413%), 530 incorrect (37.376587%) "
       ]
      },
      {
       "output_type": "stream",
       "stream": "stdout",
       "text": [
        "\n",
        "Iteration n\u00b04: 856 correct (60.366714%), 562 incorrect (39.633286%) "
       ]
      },
      {
       "output_type": "stream",
       "stream": "stdout",
       "text": [
        "\n",
        "Iteration n\u00b05: 898 correct (63.328632%), 520 incorrect (36.671368%) "
       ]
      },
      {
       "output_type": "stream",
       "stream": "stdout",
       "text": [
        "\n",
        "Iteration n\u00b06: 919 correct (64.809591%), 499 incorrect (35.190409%) "
       ]
      },
      {
       "output_type": "stream",
       "stream": "stdout",
       "text": [
        "\n",
        "Iteration n\u00b07: 948 correct (66.854725%), 470 incorrect (33.145275%) "
       ]
      },
      {
       "output_type": "stream",
       "stream": "stdout",
       "text": [
        "\n",
        "Iteration n\u00b08: 972 correct (68.547250%), 446 incorrect (31.452750%) "
       ]
      },
      {
       "output_type": "stream",
       "stream": "stdout",
       "text": [
        "\n",
        "Iteration n\u00b09: 981 correct (69.181946%), 437 incorrect (30.818054%) "
       ]
      },
      {
       "output_type": "stream",
       "stream": "stdout",
       "text": [
        "\n",
        "Iteration n\u00b010: 997 correct (70.310296%), 421 incorrect (29.689704%) "
       ]
      },
      {
       "output_type": "stream",
       "stream": "stdout",
       "text": [
        "\n",
        "Iteration n\u00b011: 1006 correct (70.944993%), 412 incorrect (29.055007%) "
       ]
      },
      {
       "output_type": "stream",
       "stream": "stdout",
       "text": [
        "\n",
        "Iteration n\u00b012: 1021 correct (72.002821%), 397 incorrect (27.997179%) "
       ]
      },
      {
       "output_type": "stream",
       "stream": "stdout",
       "text": [
        "\n",
        "Iteration n\u00b013: 1037 correct (73.131171%), 381 incorrect (26.868829%) "
       ]
      },
      {
       "output_type": "stream",
       "stream": "stdout",
       "text": [
        "\n",
        "Iteration n\u00b014: 1053 correct (74.259520%), 365 incorrect (25.740480%) "
       ]
      },
      {
       "output_type": "stream",
       "stream": "stdout",
       "text": [
        "\n",
        "Iteration n\u00b015: 1070 correct (75.458392%), 348 incorrect (24.541608%) "
       ]
      },
      {
       "output_type": "stream",
       "stream": "stdout",
       "text": [
        "\n",
        "Iteration n\u00b016: 1082 correct (76.304654%), 336 incorrect (23.695346%) "
       ]
      },
      {
       "output_type": "stream",
       "stream": "stdout",
       "text": [
        "\n",
        "Iteration n\u00b017: 1092 correct (77.009873%), 326 incorrect (22.990127%) "
       ]
      },
      {
       "output_type": "stream",
       "stream": "stdout",
       "text": [
        "\n",
        "Iteration n\u00b018: 1102 correct (77.715092%), 316 incorrect (22.284908%) "
       ]
      },
      {
       "output_type": "stream",
       "stream": "stdout",
       "text": [
        "\n",
        "Iteration n\u00b019: 1110 correct (78.279267%), 308 incorrect (21.720733%) "
       ]
      },
      {
       "output_type": "stream",
       "stream": "stdout",
       "text": [
        "\n",
        "Iteration n\u00b020: 1123 correct (79.196051%), 295 incorrect (20.803949%) "
       ]
      },
      {
       "output_type": "stream",
       "stream": "stdout",
       "text": [
        "\n",
        "Iteration n\u00b021: 1135 correct (80.042313%), 283 incorrect (19.957687%) "
       ]
      },
      {
       "output_type": "stream",
       "stream": "stdout",
       "text": [
        "\n",
        "Iteration n\u00b022: 1140 correct (80.394922%), 278 incorrect (19.605078%) "
       ]
      },
      {
       "output_type": "stream",
       "stream": "stdout",
       "text": [
        "\n",
        "Iteration n\u00b023: 1146 correct (80.818054%), 272 incorrect (19.181946%) "
       ]
      },
      {
       "output_type": "stream",
       "stream": "stdout",
       "text": [
        "\n",
        "Iteration n\u00b024: 1160 correct (81.805360%), 258 incorrect (18.194640%) "
       ]
      },
      {
       "output_type": "stream",
       "stream": "stdout",
       "text": [
        "\n",
        "Iteration n\u00b025: 1169 correct (82.440056%), 249 incorrect (17.559944%) "
       ]
      },
      {
       "output_type": "stream",
       "stream": "stdout",
       "text": [
        "\n",
        "Iteration n\u00b026: 1175 correct (82.863188%), 243 incorrect (17.136812%) "
       ]
      },
      {
       "output_type": "stream",
       "stream": "stdout",
       "text": [
        "\n",
        "Iteration n\u00b027: 1181 correct (83.286319%), 237 incorrect (16.713681%) "
       ]
      },
      {
       "output_type": "stream",
       "stream": "stdout",
       "text": [
        "\n",
        "Iteration n\u00b028: 1188 correct (83.779972%), 230 incorrect (16.220028%) "
       ]
      },
      {
       "output_type": "stream",
       "stream": "stdout",
       "text": [
        "\n",
        "Iteration n\u00b029: 1193 correct (84.132581%), 225 incorrect (15.867419%) "
       ]
      },
      {
       "output_type": "stream",
       "stream": "stdout",
       "text": [
        "\n",
        "Iteration n\u00b030: 1198 correct (84.485190%), 220 incorrect (15.514810%) "
       ]
      },
      {
       "output_type": "stream",
       "stream": "stdout",
       "text": [
        "\n",
        "Iteration n\u00b031: 1205 correct (84.978843%), 213 incorrect (15.021157%) "
       ]
      },
      {
       "output_type": "stream",
       "stream": "stdout",
       "text": [
        "\n",
        "Iteration n\u00b032: 1212 correct (85.472496%), 206 incorrect (14.527504%) "
       ]
      },
      {
       "output_type": "stream",
       "stream": "stdout",
       "text": [
        "\n",
        "Iteration n\u00b033: 1216 correct (85.754584%), 202 incorrect (14.245416%) "
       ]
      },
      {
       "output_type": "stream",
       "stream": "stdout",
       "text": [
        "\n",
        "Iteration n\u00b034: 1220 correct (86.036671%), 198 incorrect (13.963329%) "
       ]
      },
      {
       "output_type": "stream",
       "stream": "stdout",
       "text": [
        "\n",
        "Iteration n\u00b035: 1224 correct (86.318759%), 194 incorrect (13.681241%) "
       ]
      },
      {
       "output_type": "stream",
       "stream": "stdout",
       "text": [
        "\n",
        "Iteration n\u00b036: 1228 correct (86.600846%), 190 incorrect (13.399154%) "
       ]
      },
      {
       "output_type": "stream",
       "stream": "stdout",
       "text": [
        "\n",
        "Iteration n\u00b037: 1232 correct (86.882934%), 186 incorrect (13.117066%) "
       ]
      },
      {
       "output_type": "stream",
       "stream": "stdout",
       "text": [
        "\n",
        "Iteration n\u00b038: 1232 correct (86.882934%), 186 incorrect (13.117066%) "
       ]
      },
      {
       "output_type": "stream",
       "stream": "stdout",
       "text": [
        "\n",
        "Iteration n\u00b039: 1234 correct (87.023977%), 184 incorrect (12.976023%) "
       ]
      },
      {
       "output_type": "stream",
       "stream": "stdout",
       "text": [
        "\n",
        "Iteration n\u00b040: 1234 correct (87.023977%), 184 incorrect (12.976023%) "
       ]
      },
      {
       "output_type": "stream",
       "stream": "stdout",
       "text": [
        "\n",
        "Iteration n\u00b041: 1235 correct (87.094499%), 183 incorrect (12.905501%) "
       ]
      },
      {
       "output_type": "stream",
       "stream": "stdout",
       "text": [
        "\n",
        "Iteration n\u00b042: 1238 correct (87.306065%), 180 incorrect (12.693935%) "
       ]
      },
      {
       "output_type": "stream",
       "stream": "stdout",
       "text": [
        "\n",
        "Iteration n\u00b043: 1239 correct (87.376587%), 179 incorrect (12.623413%) "
       ]
      },
      {
       "output_type": "stream",
       "stream": "stdout",
       "text": [
        "\n",
        "Iteration n\u00b044: 1240 correct (87.447109%), 178 incorrect (12.552891%) "
       ]
      },
      {
       "output_type": "stream",
       "stream": "stdout",
       "text": [
        "\n",
        "Iteration n\u00b045: 1242 correct (87.588152%), 176 incorrect (12.411848%) "
       ]
      },
      {
       "output_type": "stream",
       "stream": "stdout",
       "text": [
        "\n",
        "Iteration n\u00b046: 1240 correct (87.447109%), 178 incorrect (12.552891%) "
       ]
      },
      {
       "output_type": "stream",
       "stream": "stdout",
       "text": [
        "\n",
        "Iteration n\u00b047: 1241 correct (87.517630%), 177 incorrect (12.482370%) "
       ]
      },
      {
       "output_type": "stream",
       "stream": "stdout",
       "text": [
        "\n",
        "Iteration n\u00b048: 1241 correct (87.517630%), 177 incorrect (12.482370%) "
       ]
      },
      {
       "output_type": "stream",
       "stream": "stdout",
       "text": [
        "\n",
        "Iteration n\u00b049: 1242 correct (87.588152%), 176 incorrect (12.411848%) "
       ]
      },
      {
       "output_type": "stream",
       "stream": "stdout",
       "text": [
        "\n",
        "=======TEST ERROR=======\n",
        "1212 correct (88.791209%), 153 incorrect (11.208791%) "
       ]
      },
      {
       "output_type": "stream",
       "stream": "stdout",
       "text": [
        "\n"
       ]
      }
     ],
     "prompt_number": 8
    },
    {
     "cell_type": "code",
     "collapsed": false,
     "input": [
      "mod2 = LinearModule(50,1)\n",
      "mod1 = LinearModule(28*28,50)\n",
      "\n",
      "MLP = MultiModule([mod1,TanhModule(20,20),mod2],SquareLoss())\n",
      "\n",
      "#print mod1.parameters\n",
      "NBITER = 50\n",
      "print \"=======TRAIN ERROR=======\"\n",
      "for i in xrange(0,NBITER):\n",
      "    MLP.batchIter(train_data, train_label,gradient_step=0.000001, verbose=False)\n",
      "    predicted = MLP.forwardAll(train_data)\n",
      "    ok=0\n",
      "    ko=0\n",
      "    for pred,exp in zip(predicted,train_label):\n",
      "        if pred[0]*exp[0] > 0:\n",
      "            ok+=1\n",
      "        else:\n",
      "            ko+=1\n",
      "    print \"Iteration n\u00b0%d: %d correct (%f%%), %d incorrect (%f%%) \" % (i,ok,ok/(ok+ko+0.0)*100,ko,ko/(ok+ko+0.0)*100)\n",
      "\n",
      "#print mod1.parameters\n",
      "    \n",
      "print \"=======TEST ERROR=======\"  \n",
      "predicted = MLP.forwardAll(test_data)\n",
      "\n",
      "ok=0\n",
      "ko=0\n",
      "for pred,exp in zip(predicted,test_label):\n",
      "    if pred[0]*exp[0] > 0:\n",
      "        ok+=1\n",
      "    else:\n",
      "        ko+=1\n",
      "        \n",
      "print \"%d correct (%f%%), %d incorrect (%f%%) \" % (ok,ok/(ok+ko+0.0)*100,ko,ko/(ok+ko+0.0)*100)\n",
      "\n"
     ],
     "language": "python",
     "metadata": {},
     "outputs": [
      {
       "output_type": "stream",
       "stream": "stdout",
       "text": [
        "=======TRAIN ERROR=======\n",
        "Iteration n\u00b00: 607 correct (42.806770%), 811 incorrect (57.193230%) "
       ]
      },
      {
       "output_type": "stream",
       "stream": "stdout",
       "text": [
        "\n",
        "Iteration n\u00b01: 602 correct (42.454161%), 816 incorrect (57.545839%) "
       ]
      },
      {
       "output_type": "stream",
       "stream": "stdout",
       "text": [
        "\n",
        "Iteration n\u00b02: 592 correct (41.748942%), 826 incorrect (58.251058%) "
       ]
      },
      {
       "output_type": "stream",
       "stream": "stdout",
       "text": [
        "\n",
        "Iteration n\u00b03: 579 correct (40.832158%), 839 incorrect (59.167842%) "
       ]
      },
      {
       "output_type": "stream",
       "stream": "stdout",
       "text": [
        "\n",
        "Iteration n\u00b04: 562 correct (39.633286%), 856 incorrect (60.366714%) "
       ]
      },
      {
       "output_type": "stream",
       "stream": "stdout",
       "text": [
        "\n",
        "Iteration n\u00b05: 569 correct (40.126939%), 849 incorrect (59.873061%) "
       ]
      },
      {
       "output_type": "stream",
       "stream": "stdout",
       "text": [
        "\n",
        "Iteration n\u00b06: 570 correct (40.197461%), 848 incorrect (59.802539%) "
       ]
      },
      {
       "output_type": "stream",
       "stream": "stdout",
       "text": [
        "\n",
        "Iteration n\u00b07: 563 correct (39.703808%), 855 incorrect (60.296192%) "
       ]
      },
      {
       "output_type": "stream",
       "stream": "stdout",
       "text": [
        "\n",
        "Iteration n\u00b08: 565 correct (39.844852%), 853 incorrect (60.155148%) "
       ]
      },
      {
       "output_type": "stream",
       "stream": "stdout",
       "text": [
        "\n",
        "Iteration n\u00b09: 567 correct (39.985896%), 851 incorrect (60.014104%) "
       ]
      },
      {
       "output_type": "stream",
       "stream": "stdout",
       "text": [
        "\n",
        "Iteration n\u00b010: 571 correct (40.267983%), 847 incorrect (59.732017%) "
       ]
      },
      {
       "output_type": "stream",
       "stream": "stdout",
       "text": [
        "\n",
        "Iteration n\u00b011: 565 correct (39.844852%), 853 incorrect (60.155148%) "
       ]
      },
      {
       "output_type": "stream",
       "stream": "stdout",
       "text": [
        "\n",
        "Iteration n\u00b012: 568 correct (40.056417%), 850 incorrect (59.943583%) "
       ]
      },
      {
       "output_type": "stream",
       "stream": "stdout",
       "text": [
        "\n",
        "Iteration n\u00b013: 569 correct (40.126939%), 849 incorrect (59.873061%) "
       ]
      },
      {
       "output_type": "stream",
       "stream": "stdout",
       "text": [
        "\n",
        "Iteration n\u00b014: 573 correct (40.409027%), 845 incorrect (59.590973%) "
       ]
      },
      {
       "output_type": "stream",
       "stream": "stdout",
       "text": [
        "\n",
        "Iteration n\u00b015: 571 correct (40.267983%), 847 incorrect (59.732017%) "
       ]
      },
      {
       "output_type": "stream",
       "stream": "stdout",
       "text": [
        "\n",
        "Iteration n\u00b016: 573 correct (40.409027%), 845 incorrect (59.590973%) "
       ]
      },
      {
       "output_type": "stream",
       "stream": "stdout",
       "text": [
        "\n",
        "Iteration n\u00b017: 579 correct (40.832158%), 839 incorrect (59.167842%) "
       ]
      },
      {
       "output_type": "stream",
       "stream": "stdout",
       "text": [
        "\n",
        "Iteration n\u00b018: 572 correct (40.338505%), 846 incorrect (59.661495%) "
       ]
      },
      {
       "output_type": "stream",
       "stream": "stdout",
       "text": [
        "\n",
        "Iteration n\u00b019: 575 correct (40.550071%), 843 incorrect (59.449929%) "
       ]
      },
      {
       "output_type": "stream",
       "stream": "stdout",
       "text": [
        "\n",
        "Iteration n\u00b020: 578 correct (40.761636%), 840 incorrect (59.238364%) "
       ]
      },
      {
       "output_type": "stream",
       "stream": "stdout",
       "text": [
        "\n",
        "Iteration n\u00b021: 580 correct (40.902680%), 838 incorrect (59.097320%) "
       ]
      },
      {
       "output_type": "stream",
       "stream": "stdout",
       "text": [
        "\n",
        "Iteration n\u00b022: 580 correct (40.902680%), 838 incorrect (59.097320%) "
       ]
      },
      {
       "output_type": "stream",
       "stream": "stdout",
       "text": [
        "\n",
        "Iteration n\u00b023: 580 correct (40.902680%), 838 incorrect (59.097320%) "
       ]
      },
      {
       "output_type": "stream",
       "stream": "stdout",
       "text": [
        "\n",
        "Iteration n\u00b024: 579 correct (40.832158%), 839 incorrect (59.167842%) "
       ]
      },
      {
       "output_type": "stream",
       "stream": "stdout",
       "text": [
        "\n",
        "Iteration n\u00b025: 584 correct (41.184767%), 834 incorrect (58.815233%) "
       ]
      },
      {
       "output_type": "stream",
       "stream": "stdout",
       "text": [
        "\n",
        "Iteration n\u00b026: 584 correct (41.184767%), 834 incorrect (58.815233%) "
       ]
      },
      {
       "output_type": "stream",
       "stream": "stdout",
       "text": [
        "\n",
        "Iteration n\u00b027: 587 correct (41.396333%), 831 incorrect (58.603667%) "
       ]
      },
      {
       "output_type": "stream",
       "stream": "stdout",
       "text": [
        "\n",
        "Iteration n\u00b028: 588 correct (41.466855%), 830 incorrect (58.533145%) "
       ]
      },
      {
       "output_type": "stream",
       "stream": "stdout",
       "text": [
        "\n",
        "Iteration n\u00b029: 587 correct (41.396333%), 831 incorrect (58.603667%) "
       ]
      },
      {
       "output_type": "stream",
       "stream": "stdout",
       "text": [
        "\n",
        "Iteration n\u00b030: 587 correct (41.396333%), 831 incorrect (58.603667%) "
       ]
      },
      {
       "output_type": "stream",
       "stream": "stdout",
       "text": [
        "\n",
        "Iteration n\u00b031: 590 correct (41.607898%), 828 incorrect (58.392102%) "
       ]
      },
      {
       "output_type": "stream",
       "stream": "stdout",
       "text": [
        "\n",
        "Iteration n\u00b032: 586 correct (41.325811%), 832 incorrect (58.674189%) "
       ]
      },
      {
       "output_type": "stream",
       "stream": "stdout",
       "text": [
        "\n",
        "Iteration n\u00b033: 588 correct (41.466855%), 830 incorrect (58.533145%) "
       ]
      },
      {
       "output_type": "stream",
       "stream": "stdout",
       "text": [
        "\n",
        "Iteration n\u00b034: 589 correct (41.537377%), 829 incorrect (58.462623%) "
       ]
      },
      {
       "output_type": "stream",
       "stream": "stdout",
       "text": [
        "\n",
        "Iteration n\u00b035: 589 correct (41.537377%), 829 incorrect (58.462623%) "
       ]
      },
      {
       "output_type": "stream",
       "stream": "stdout",
       "text": [
        "\n",
        "Iteration n\u00b036: 590 correct (41.607898%), 828 incorrect (58.392102%) "
       ]
      },
      {
       "output_type": "stream",
       "stream": "stdout",
       "text": [
        "\n",
        "Iteration n\u00b037: 593 correct (41.819464%), 825 incorrect (58.180536%) "
       ]
      },
      {
       "output_type": "stream",
       "stream": "stdout",
       "text": [
        "\n",
        "Iteration n\u00b038: 593 correct (41.819464%), 825 incorrect (58.180536%) "
       ]
      },
      {
       "output_type": "stream",
       "stream": "stdout",
       "text": [
        "\n",
        "Iteration n\u00b039: 595 correct (41.960508%), 823 incorrect (58.039492%) "
       ]
      },
      {
       "output_type": "stream",
       "stream": "stdout",
       "text": [
        "\n",
        "Iteration n\u00b040: 594 correct (41.889986%), 824 incorrect (58.110014%) "
       ]
      },
      {
       "output_type": "stream",
       "stream": "stdout",
       "text": [
        "\n",
        "Iteration n\u00b041: 594 correct (41.889986%), 824 incorrect (58.110014%) "
       ]
      },
      {
       "output_type": "stream",
       "stream": "stdout",
       "text": [
        "\n",
        "Iteration n\u00b042: 593 correct (41.819464%), 825 incorrect (58.180536%) "
       ]
      },
      {
       "output_type": "stream",
       "stream": "stdout",
       "text": [
        "\n",
        "Iteration n\u00b043: 593 correct (41.819464%), 825 incorrect (58.180536%) "
       ]
      },
      {
       "output_type": "stream",
       "stream": "stdout",
       "text": [
        "\n",
        "Iteration n\u00b044: 595 correct (41.960508%), 823 incorrect (58.039492%) "
       ]
      },
      {
       "output_type": "stream",
       "stream": "stdout",
       "text": [
        "\n",
        "Iteration n\u00b045: 595 correct (41.960508%), 823 incorrect (58.039492%) "
       ]
      },
      {
       "output_type": "stream",
       "stream": "stdout",
       "text": [
        "\n",
        "Iteration n\u00b046: 592 correct (41.748942%), 826 incorrect (58.251058%) "
       ]
      },
      {
       "output_type": "stream",
       "stream": "stdout",
       "text": [
        "\n",
        "Iteration n\u00b047: 592 correct (41.748942%), 826 incorrect (58.251058%) "
       ]
      },
      {
       "output_type": "stream",
       "stream": "stdout",
       "text": [
        "\n",
        "Iteration n\u00b048: 593 correct (41.819464%), 825 incorrect (58.180536%) "
       ]
      },
      {
       "output_type": "stream",
       "stream": "stdout",
       "text": [
        "\n",
        "Iteration n\u00b049: 593 correct (41.819464%), 825 incorrect (58.180536%) "
       ]
      },
      {
       "output_type": "stream",
       "stream": "stdout",
       "text": [
        "\n",
        "=======TEST ERROR=======\n",
        "574 correct (42.051282%), 791 incorrect (57.948718%) "
       ]
      },
      {
       "output_type": "stream",
       "stream": "stdout",
       "text": [
        "\n"
       ]
      }
     ],
     "prompt_number": 9
    },
    {
     "cell_type": "code",
     "collapsed": false,
     "input": [
      "mod2 = LinearModule(50,1)\n",
      "mod1 = LinearModule(28*28,50)\n",
      "\n",
      "MLP = MultiModule([mod1,TanhModule(20,20),mod2],SquareLoss())\n",
      "\n",
      "#print mod1.parameters\n",
      "NBITER = 50\n",
      "print \"=======TRAIN ERROR=======\"\n",
      "for i in xrange(0,NBITER):\n",
      "    MLP.miniBatchIter(train_data, train_label,batch_size=20,gradient_step=0.000001, verbose=False)\n",
      "    predicted = MLP.forwardAll(train_data)\n",
      "    ok=0\n",
      "    ko=0\n",
      "    for pred,exp in zip(predicted,train_label):\n",
      "        if pred[0]*exp[0] > 0:\n",
      "            ok+=1\n",
      "        else:\n",
      "            ko+=1\n",
      "    print \"Iteration n\u00b0%d: %d correct (%f%%), %d incorrect (%f%%) \" % (i,ok,ok/(ok+ko+0.0)*100,ko,ko/(ok+ko+0.0)*100)\n",
      "\n",
      "#print mod1.parameters\n",
      "    \n",
      "print \"=======TEST ERROR=======\"  \n",
      "predicted = MLP.forwardAll(test_data)\n",
      "\n",
      "ok=0\n",
      "ko=0\n",
      "for pred,exp in zip(predicted,test_label):\n",
      "    if pred[0]*exp[0] > 0:\n",
      "        ok+=1\n",
      "    else:\n",
      "        ko+=1\n",
      "        \n",
      "print \"%d correct (%f%%), %d incorrect (%f%%) \" % (ok,ok/(ok+ko+0.0)*100,ko,ko/(ok+ko+0.0)*100)\n",
      "\n"
     ],
     "language": "python",
     "metadata": {},
     "outputs": [
      {
       "output_type": "stream",
       "stream": "stdout",
       "text": [
        "=======TRAIN ERROR=======\n",
        "Iteration n\u00b00: 742 correct (52.327221%), 676 incorrect (47.672779%) "
       ]
      },
      {
       "output_type": "stream",
       "stream": "stdout",
       "text": [
        "\n",
        "Iteration n\u00b01: 746 correct (52.609309%), 672 incorrect (47.390691%) "
       ]
      },
      {
       "output_type": "stream",
       "stream": "stdout",
       "text": [
        "\n",
        "Iteration n\u00b02: 749 correct (52.820874%), 669 incorrect (47.179126%) "
       ]
      },
      {
       "output_type": "stream",
       "stream": "stdout",
       "text": [
        "\n",
        "Iteration n\u00b03: 747 correct (52.679831%), 671 incorrect (47.320169%) "
       ]
      },
      {
       "output_type": "stream",
       "stream": "stdout",
       "text": [
        "\n",
        "Iteration n\u00b04: 751 correct (52.961918%), 667 incorrect (47.038082%) "
       ]
      },
      {
       "output_type": "stream",
       "stream": "stdout",
       "text": [
        "\n",
        "Iteration n\u00b05: 754 correct (53.173484%), 664 incorrect (46.826516%) "
       ]
      },
      {
       "output_type": "stream",
       "stream": "stdout",
       "text": [
        "\n",
        "Iteration n\u00b06: 747 correct (52.679831%), 671 incorrect (47.320169%) "
       ]
      },
      {
       "output_type": "stream",
       "stream": "stdout",
       "text": [
        "\n",
        "Iteration n\u00b07: 761 correct (53.667137%), 657 incorrect (46.332863%) "
       ]
      },
      {
       "output_type": "stream",
       "stream": "stdout",
       "text": [
        "\n",
        "Iteration n\u00b08: 766 correct (54.019746%), 652 incorrect (45.980254%) "
       ]
      },
      {
       "output_type": "stream",
       "stream": "stdout",
       "text": [
        "\n",
        "Iteration n\u00b09: 770 correct (54.301834%), 648 incorrect (45.698166%) "
       ]
      },
      {
       "output_type": "stream",
       "stream": "stdout",
       "text": [
        "\n",
        "Iteration n\u00b010: 774 correct (54.583921%), 644 incorrect (45.416079%) "
       ]
      },
      {
       "output_type": "stream",
       "stream": "stdout",
       "text": [
        "\n",
        "Iteration n\u00b011: 777 correct (54.795487%), 641 incorrect (45.204513%) "
       ]
      },
      {
       "output_type": "stream",
       "stream": "stdout",
       "text": [
        "\n",
        "Iteration n\u00b012: 783 correct (55.218618%), 635 incorrect (44.781382%) "
       ]
      },
      {
       "output_type": "stream",
       "stream": "stdout",
       "text": [
        "\n",
        "Iteration n\u00b013: 782 correct (55.148096%), 636 incorrect (44.851904%) "
       ]
      },
      {
       "output_type": "stream",
       "stream": "stdout",
       "text": [
        "\n",
        "Iteration n\u00b014: 785 correct (55.359661%), 633 incorrect (44.640339%) "
       ]
      },
      {
       "output_type": "stream",
       "stream": "stdout",
       "text": [
        "\n",
        "Iteration n\u00b015: 792 correct (55.853315%), 626 incorrect (44.146685%) "
       ]
      },
      {
       "output_type": "stream",
       "stream": "stdout",
       "text": [
        "\n",
        "Iteration n\u00b016: 791 correct (55.782793%), 627 incorrect (44.217207%) "
       ]
      },
      {
       "output_type": "stream",
       "stream": "stdout",
       "text": [
        "\n",
        "Iteration n\u00b017: 791 correct (55.782793%), 627 incorrect (44.217207%) "
       ]
      },
      {
       "output_type": "stream",
       "stream": "stdout",
       "text": [
        "\n",
        "Iteration n\u00b018: 794 correct (55.994358%), 624 incorrect (44.005642%) "
       ]
      },
      {
       "output_type": "stream",
       "stream": "stdout",
       "text": [
        "\n",
        "Iteration n\u00b019: 798 correct (56.276446%), 620 incorrect (43.723554%) "
       ]
      },
      {
       "output_type": "stream",
       "stream": "stdout",
       "text": [
        "\n",
        "Iteration n\u00b020: 798 correct (56.276446%), 620 incorrect (43.723554%) "
       ]
      },
      {
       "output_type": "stream",
       "stream": "stdout",
       "text": [
        "\n",
        "Iteration n\u00b021: 798 correct (56.276446%), 620 incorrect (43.723554%) "
       ]
      },
      {
       "output_type": "stream",
       "stream": "stdout",
       "text": [
        "\n",
        "Iteration n\u00b022: 797 correct (56.205924%), 621 incorrect (43.794076%) "
       ]
      },
      {
       "output_type": "stream",
       "stream": "stdout",
       "text": [
        "\n",
        "Iteration n\u00b023: 796 correct (56.135402%), 622 incorrect (43.864598%) "
       ]
      },
      {
       "output_type": "stream",
       "stream": "stdout",
       "text": [
        "\n",
        "Iteration n\u00b024: 797 correct (56.205924%), 621 incorrect (43.794076%) "
       ]
      },
      {
       "output_type": "stream",
       "stream": "stdout",
       "text": [
        "\n",
        "Iteration n\u00b025: 799 correct (56.346968%), 619 incorrect (43.653032%) "
       ]
      },
      {
       "output_type": "stream",
       "stream": "stdout",
       "text": [
        "\n",
        "Iteration n\u00b026: 800 correct (56.417489%), 618 incorrect (43.582511%) "
       ]
      },
      {
       "output_type": "stream",
       "stream": "stdout",
       "text": [
        "\n",
        "Iteration n\u00b027: 801 correct (56.488011%), 617 incorrect (43.511989%) "
       ]
      },
      {
       "output_type": "stream",
       "stream": "stdout",
       "text": [
        "\n",
        "Iteration n\u00b028: 802 correct (56.558533%), 616 incorrect (43.441467%) "
       ]
      },
      {
       "output_type": "stream",
       "stream": "stdout",
       "text": [
        "\n",
        "Iteration n\u00b029: 805 correct (56.770099%), 613 incorrect (43.229901%) "
       ]
      },
      {
       "output_type": "stream",
       "stream": "stdout",
       "text": [
        "\n",
        "Iteration n\u00b030: 807 correct (56.911142%), 611 incorrect (43.088858%) "
       ]
      },
      {
       "output_type": "stream",
       "stream": "stdout",
       "text": [
        "\n",
        "Iteration n\u00b031: 806 correct (56.840621%), 612 incorrect (43.159379%) "
       ]
      },
      {
       "output_type": "stream",
       "stream": "stdout",
       "text": [
        "\n",
        "Iteration n\u00b032: 809 correct (57.052186%), 609 incorrect (42.947814%) "
       ]
      },
      {
       "output_type": "stream",
       "stream": "stdout",
       "text": [
        "\n",
        "Iteration n\u00b033: 810 correct (57.122708%), 608 incorrect (42.877292%) "
       ]
      },
      {
       "output_type": "stream",
       "stream": "stdout",
       "text": [
        "\n",
        "Iteration n\u00b034: 812 correct (57.263752%), 606 incorrect (42.736248%) "
       ]
      },
      {
       "output_type": "stream",
       "stream": "stdout",
       "text": [
        "\n",
        "Iteration n\u00b035: 812 correct (57.263752%), 606 incorrect (42.736248%) "
       ]
      },
      {
       "output_type": "stream",
       "stream": "stdout",
       "text": [
        "\n",
        "Iteration n\u00b036: 813 correct (57.334274%), 605 incorrect (42.665726%) "
       ]
      },
      {
       "output_type": "stream",
       "stream": "stdout",
       "text": [
        "\n",
        "Iteration n\u00b037: 812 correct (57.263752%), 606 incorrect (42.736248%) "
       ]
      },
      {
       "output_type": "stream",
       "stream": "stdout",
       "text": [
        "\n",
        "Iteration n\u00b038: 814 correct (57.404795%), 604 incorrect (42.595205%) "
       ]
      },
      {
       "output_type": "stream",
       "stream": "stdout",
       "text": [
        "\n",
        "Iteration n\u00b039: 815 correct (57.475317%), 603 incorrect (42.524683%) "
       ]
      },
      {
       "output_type": "stream",
       "stream": "stdout",
       "text": [
        "\n",
        "Iteration n\u00b040: 818 correct (57.686883%), 600 incorrect (42.313117%) "
       ]
      },
      {
       "output_type": "stream",
       "stream": "stdout",
       "text": [
        "\n",
        "Iteration n\u00b041: 818 correct (57.686883%), 600 incorrect (42.313117%) "
       ]
      },
      {
       "output_type": "stream",
       "stream": "stdout",
       "text": [
        "\n",
        "Iteration n\u00b042: 820 correct (57.827927%), 598 incorrect (42.172073%) "
       ]
      },
      {
       "output_type": "stream",
       "stream": "stdout",
       "text": [
        "\n",
        "Iteration n\u00b043: 822 correct (57.968970%), 596 incorrect (42.031030%) "
       ]
      },
      {
       "output_type": "stream",
       "stream": "stdout",
       "text": [
        "\n",
        "Iteration n\u00b044: 824 correct (58.110014%), 594 incorrect (41.889986%) "
       ]
      },
      {
       "output_type": "stream",
       "stream": "stdout",
       "text": [
        "\n",
        "Iteration n\u00b045: 824 correct (58.110014%), 594 incorrect (41.889986%) "
       ]
      },
      {
       "output_type": "stream",
       "stream": "stdout",
       "text": [
        "\n",
        "Iteration n\u00b046: 824 correct (58.110014%), 594 incorrect (41.889986%) "
       ]
      },
      {
       "output_type": "stream",
       "stream": "stdout",
       "text": [
        "\n",
        "Iteration n\u00b047: 827 correct (58.321580%), 591 incorrect (41.678420%) "
       ]
      },
      {
       "output_type": "stream",
       "stream": "stdout",
       "text": [
        "\n",
        "Iteration n\u00b048: 826 correct (58.251058%), 592 incorrect (41.748942%) "
       ]
      },
      {
       "output_type": "stream",
       "stream": "stdout",
       "text": [
        "\n",
        "Iteration n\u00b049: 828 correct (58.392102%), 590 incorrect (41.607898%) "
       ]
      },
      {
       "output_type": "stream",
       "stream": "stdout",
       "text": [
        "\n",
        "=======TEST ERROR=======\n",
        "808 correct (59.194139%), 557 incorrect (40.805861%) "
       ]
      },
      {
       "output_type": "stream",
       "stream": "stdout",
       "text": [
        "\n"
       ]
      }
     ],
     "prompt_number": 10
    },
    {
     "cell_type": "code",
     "collapsed": false,
     "input": [
      "mod = LinearModule(3,2)\n",
      "mod.parameters = np.ones((2,3))\n",
      "mod.parameters[1,:]*=2\n",
      "dj = np.array([10,5])\n",
      "\n",
      "print mod.parameters\n",
      "print dj\n",
      "print mod.backward_delta(dj)\n",
      "print mod.backward_update_gradient(5)\n",
      "print dj*mod.parameters.T\n",
      "np.sum((dj*mod.parameters.T).T,axis=0)\n",
      "\n",
      "res = np.zeros((self.dimensionEntry))\n",
      "       for it in range(0, self.dimensionEntry):\n",
      "           res[it] = np.sum(input[it]*delta_module_suivant)\n",
      "       return res\n"
     ],
     "language": "python",
     "metadata": {},
     "outputs": [
      {
       "ename": "IndentationError",
       "evalue": "unexpected indent (<ipython-input-11-1ea0577fc9b4>, line 14)",
       "output_type": "pyerr",
       "traceback": [
        "\u001b[0;31mIndentationError\u001b[0m\u001b[0;31m:\u001b[0m unexpected indent\n"
       ]
      }
     ],
     "prompt_number": 11
    },
    {
     "cell_type": "code",
     "collapsed": false,
     "input": [],
     "language": "python",
     "metadata": {},
     "outputs": []
    },
    {
     "cell_type": "code",
     "collapsed": false,
     "input": [],
     "language": "python",
     "metadata": {},
     "outputs": []
    },
    {
     "cell_type": "markdown",
     "metadata": {},
     "source": [
      "Impl\u00e9mentation des Auto-encodeurs\n",
      "====="
     ]
    },
    {
     "cell_type": "markdown",
     "metadata": {},
     "source": [
      "Impl\u00e9mentez des auto-encodeurs et visualisez les patches appris"
     ]
    },
    {
     "cell_type": "code",
     "collapsed": false,
     "input": [
      "mod2 = LinearModule(100,28*28)\n",
      "mod1 = LinearModule(28*28,100)\n",
      "\n",
      "AE = MultiModule([mod1,mod2],SquareLoss())\n",
      "\n",
      "sq = SquareLoss()\n",
      "\n",
      "#print sq.getLossValue(train_data[0],train_data[0])\n",
      "\n",
      "\n",
      "#print mod1.parameters\n",
      "NBITER = 200\n",
      "print \"=======TRAIN ERROR=======\"\n",
      "for i in xrange(0,NBITER):\n",
      "   loss = AE.miniBatchIter(train_data, train_data,batch_size=150,gradient_step=0.000000000001, verbose=False)\n",
      "   predicted = AE.forwardAll(train_data)\n",
      "   err=0\n",
      "    \n",
      "   for pred,exp in zip(predicted,train_data):\n",
      "       err += np.sum(np.power(pred-exp,2))\n",
      "    \n",
      "        \n",
      "   #print loss\n",
      "   print \"Iteration n\u00b0%d - MSE: %f\" % (i,err/len(predicted))"
     ],
     "language": "python",
     "metadata": {},
     "outputs": [
      {
       "output_type": "stream",
       "stream": "stdout",
       "text": [
        "=======TRAIN ERROR=======\n",
        "Iteration n\u00b00 - MSE: 166021727987.599457"
       ]
      },
      {
       "output_type": "stream",
       "stream": "stdout",
       "text": [
        "\n",
        "Iteration n\u00b01 - MSE: 122143492625.978531"
       ]
      },
      {
       "output_type": "stream",
       "stream": "stdout",
       "text": [
        "\n",
        "Iteration n\u00b02 - MSE: 100487735920.768707"
       ]
      },
      {
       "output_type": "stream",
       "stream": "stdout",
       "text": [
        "\n",
        "Iteration n\u00b03 - MSE: 87037646272.574783"
       ]
      },
      {
       "output_type": "stream",
       "stream": "stdout",
       "text": [
        "\n",
        "Iteration n\u00b04 - MSE: 77558704349.099045"
       ]
      },
      {
       "output_type": "stream",
       "stream": "stdout",
       "text": [
        "\n",
        "Iteration n\u00b05 - MSE: 70363386247.994370"
       ]
      },
      {
       "output_type": "stream",
       "stream": "stdout",
       "text": [
        "\n",
        "Iteration n\u00b06 - MSE: 64639728215.449783"
       ]
      },
      {
       "output_type": "stream",
       "stream": "stdout",
       "text": [
        "\n",
        "Iteration n\u00b07 - MSE: 59940079989.730042"
       ]
      },
      {
       "output_type": "stream",
       "stream": "stdout",
       "text": [
        "\n",
        "Iteration n\u00b08 - MSE: 55991747489.922989"
       ]
      },
      {
       "output_type": "stream",
       "stream": "stdout",
       "text": [
        "\n",
        "Iteration n\u00b09 - MSE: 52616015250.980911"
       ]
      },
      {
       "output_type": "stream",
       "stream": "stdout",
       "text": [
        "\n",
        "Iteration n\u00b010 - MSE: 49689270742.220665"
       ]
      },
      {
       "output_type": "stream",
       "stream": "stdout",
       "text": [
        "\n",
        "Iteration n\u00b011 - MSE: 47122481207.087051"
       ]
      },
      {
       "output_type": "stream",
       "stream": "stdout",
       "text": [
        "\n",
        "Iteration n\u00b012 - MSE: 44849485078.385956"
       ]
      },
      {
       "output_type": "stream",
       "stream": "stdout",
       "text": [
        "\n",
        "Iteration n\u00b013 - MSE: 42819880338.848785"
       ]
      },
      {
       "output_type": "stream",
       "stream": "stdout",
       "text": [
        "\n",
        "Iteration n\u00b014 - MSE: 40994482457.468361"
       ]
      },
      {
       "output_type": "stream",
       "stream": "stdout",
       "text": [
        "\n",
        "Iteration n\u00b015 - MSE: 39342303999.184975"
       ]
      },
      {
       "output_type": "stream",
       "stream": "stdout",
       "text": [
        "\n",
        "Iteration n\u00b016 - MSE: 37838479298.894402"
       ]
      },
      {
       "output_type": "stream",
       "stream": "stdout",
       "text": [
        "\n",
        "Iteration n\u00b017 - MSE: 36462799551.772491"
       ]
      },
      {
       "output_type": "stream",
       "stream": "stdout",
       "text": [
        "\n",
        "Iteration n\u00b018 - MSE: 35198655165.821060"
       ]
      },
      {
       "output_type": "stream",
       "stream": "stdout",
       "text": [
        "\n",
        "Iteration n\u00b019 - MSE: 34032257299.433807"
       ]
      },
      {
       "output_type": "stream",
       "stream": "stdout",
       "text": [
        "\n",
        "Iteration n\u00b020 - MSE: 32952055230.172421"
       ]
      },
      {
       "output_type": "stream",
       "stream": "stdout",
       "text": [
        "\n",
        "Iteration n\u00b021 - MSE: 31948293826.524292"
       ]
      },
      {
       "output_type": "stream",
       "stream": "stdout",
       "text": [
        "\n",
        "Iteration n\u00b022 - MSE: 31012672995.422871"
       ]
      },
      {
       "output_type": "stream",
       "stream": "stdout",
       "text": [
        "\n",
        "Iteration n\u00b023 - MSE: 30138082494.111435"
       ]
      },
      {
       "output_type": "stream",
       "stream": "stdout",
       "text": [
        "\n",
        "Iteration n\u00b024 - MSE: 29318393204.185619"
       ]
      },
      {
       "output_type": "stream",
       "stream": "stdout",
       "text": [
        "\n",
        "Iteration n\u00b025 - MSE: 28548291230.939281"
       ]
      },
      {
       "output_type": "stream",
       "stream": "stdout",
       "text": [
        "\n",
        "Iteration n\u00b026 - MSE: 27823144851.277409"
       ]
      },
      {
       "output_type": "stream",
       "stream": "stdout",
       "text": [
        "\n",
        "Iteration n\u00b027 - MSE: 27138896918.163563"
       ]
      },
      {
       "output_type": "stream",
       "stream": "stdout",
       "text": [
        "\n",
        "Iteration n\u00b028 - MSE: 26491977180.888428"
       ]
      },
      {
       "output_type": "stream",
       "stream": "stdout",
       "text": [
        "\n",
        "Iteration n\u00b029 - MSE: 25879230323.672646"
       ]
      },
      {
       "output_type": "stream",
       "stream": "stdout",
       "text": [
        "\n",
        "Iteration n\u00b030 - MSE: 25297856511.272076"
       ]
      },
      {
       "output_type": "stream",
       "stream": "stdout",
       "text": [
        "\n",
        "Iteration n\u00b031 - MSE: 24745361962.183674"
       ]
      },
      {
       "output_type": "stream",
       "stream": "stdout",
       "text": [
        "\n",
        "Iteration n\u00b032 - MSE: 24219517618.795673"
       ]
      },
      {
       "output_type": "stream",
       "stream": "stdout",
       "text": [
        "\n",
        "Iteration n\u00b033 - MSE: 23718324399.124313"
       ]
      },
      {
       "output_type": "stream",
       "stream": "stdout",
       "text": [
        "\n",
        "Iteration n\u00b034 - MSE: 23239983831.844009"
       ]
      },
      {
       "output_type": "stream",
       "stream": "stdout",
       "text": [
        "\n",
        "Iteration n\u00b035 - MSE: 22782873120.395584"
       ]
      },
      {
       "output_type": "stream",
       "stream": "stdout",
       "text": [
        "\n",
        "Iteration n\u00b036 - MSE: 22345523871.294090"
       ]
      },
      {
       "output_type": "stream",
       "stream": "stdout",
       "text": [
        "\n",
        "Iteration n\u00b037 - MSE: 21926603869.713676"
       ]
      },
      {
       "output_type": "stream",
       "stream": "stdout",
       "text": [
        "\n",
        "Iteration n\u00b038 - MSE: 21524901401.838371"
       ]
      },
      {
       "output_type": "stream",
       "stream": "stdout",
       "text": [
        "\n",
        "Iteration n\u00b039 - MSE: 21139311715.650909"
       ]
      },
      {
       "output_type": "stream",
       "stream": "stdout",
       "text": [
        "\n",
        "Iteration n\u00b040 - MSE: 20768825285.291603"
       ]
      },
      {
       "output_type": "stream",
       "stream": "stdout",
       "text": [
        "\n",
        "Iteration n\u00b041 - MSE: 20412517602.982338"
       ]
      },
      {
       "output_type": "stream",
       "stream": "stdout",
       "text": [
        "\n",
        "Iteration n\u00b042 - MSE: 20069540269.954449"
       ]
      },
      {
       "output_type": "stream",
       "stream": "stdout",
       "text": [
        "\n",
        "Iteration n\u00b043 - MSE: 19739113196.252003"
       ]
      },
      {
       "output_type": "stream",
       "stream": "stdout",
       "text": [
        "\n",
        "Iteration n\u00b044 - MSE: 19420517750.569386"
       ]
      },
      {
       "output_type": "stream",
       "stream": "stdout",
       "text": [
        "\n",
        "Iteration n\u00b045 - MSE: 19113090726.880451"
       ]
      },
      {
       "output_type": "stream",
       "stream": "stdout",
       "text": [
        "\n",
        "Iteration n\u00b046 - MSE: 18816219015.648720"
       ]
      },
      {
       "output_type": "stream",
       "stream": "stdout",
       "text": [
        "\n",
        "Iteration n\u00b047 - MSE: 18529334884.768856"
       ]
      },
      {
       "output_type": "stream",
       "stream": "stdout",
       "text": [
        "\n",
        "Iteration n\u00b048 - MSE: 18251911789.774120"
       ]
      },
      {
       "output_type": "stream",
       "stream": "stdout",
       "text": [
        "\n",
        "Iteration n\u00b049 - MSE: 17983460644.816200"
       ]
      },
      {
       "output_type": "stream",
       "stream": "stdout",
       "text": [
        "\n",
        "Iteration n\u00b050 - MSE: 17723526495.918652"
       ]
      },
      {
       "output_type": "stream",
       "stream": "stdout",
       "text": [
        "\n",
        "Iteration n\u00b051 - MSE: 17471685546.386417"
       ]
      },
      {
       "output_type": "stream",
       "stream": "stdout",
       "text": [
        "\n",
        "Iteration n\u00b052 - MSE: 17227542491.300793"
       ]
      },
      {
       "output_type": "stream",
       "stream": "stdout",
       "text": [
        "\n",
        "Iteration n\u00b053 - MSE: 16990728123.979799"
       ]
      },
      {
       "output_type": "stream",
       "stream": "stdout",
       "text": [
        "\n",
        "Iteration n\u00b054 - MSE: 16760897182.318800"
       ]
      },
      {
       "output_type": "stream",
       "stream": "stdout",
       "text": [
        "\n",
        "Iteration n\u00b055 - MSE: 16537726407.205822"
       ]
      },
      {
       "output_type": "stream",
       "stream": "stdout",
       "text": [
        "\n",
        "Iteration n\u00b056 - MSE: 16320912788.850670"
       ]
      },
      {
       "output_type": "stream",
       "stream": "stdout",
       "text": [
        "\n",
        "Iteration n\u00b057 - MSE: 16110171979.978199"
       ]
      },
      {
       "output_type": "stream",
       "stream": "stdout",
       "text": [
        "\n",
        "Iteration n\u00b058 - MSE: 15905236857.507631"
       ]
      },
      {
       "output_type": "stream",
       "stream": "stdout",
       "text": [
        "\n",
        "Iteration n\u00b059 - MSE: 15705856216.627752"
       ]
      },
      {
       "output_type": "stream",
       "stream": "stdout",
       "text": [
        "\n",
        "Iteration n\u00b060 - MSE: 15511793583.154043"
       ]
      },
      {
       "output_type": "stream",
       "stream": "stdout",
       "text": [
        "\n",
        "Iteration n\u00b061 - MSE: 15322826131.757193"
       ]
      },
      {
       "output_type": "stream",
       "stream": "stdout",
       "text": [
        "\n",
        "Iteration n\u00b062 - MSE: 15138743699.127686"
       ]
      },
      {
       "output_type": "stream",
       "stream": "stdout",
       "text": [
        "\n",
        "Iteration n\u00b063 - MSE: 14959347882.421242"
       ]
      },
      {
       "output_type": "stream",
       "stream": "stdout",
       "text": [
        "\n",
        "Iteration n\u00b064 - MSE: 14784451214.442955"
       ]
      },
      {
       "output_type": "stream",
       "stream": "stdout",
       "text": [
        "\n",
        "Iteration n\u00b065 - MSE: 14613876407.998301"
       ]
      },
      {
       "output_type": "stream",
       "stream": "stdout",
       "text": [
        "\n",
        "Iteration n\u00b066 - MSE: 14447455662.685720"
       ]
      },
      {
       "output_type": "stream",
       "stream": "stdout",
       "text": [
        "\n",
        "Iteration n\u00b067 - MSE: 14285030028.147526"
       ]
      },
      {
       "output_type": "stream",
       "stream": "stdout",
       "text": [
        "\n",
        "Iteration n\u00b068 - MSE: 14126448818.447140"
       ]
      },
      {
       "output_type": "stream",
       "stream": "stdout",
       "text": [
        "\n",
        "Iteration n\u00b069 - MSE: 13971569072.810106"
       ]
      },
      {
       "output_type": "stream",
       "stream": "stdout",
       "text": [
        "\n",
        "Iteration n\u00b070 - MSE: 13820255058.471783"
       ]
      },
      {
       "output_type": "stream",
       "stream": "stdout",
       "text": [
        "\n",
        "Iteration n\u00b071 - MSE: 13672377811.816746"
       ]
      },
      {
       "output_type": "stream",
       "stream": "stdout",
       "text": [
        "\n",
        "Iteration n\u00b072 - MSE: 13527814714.387915"
       ]
      },
      {
       "output_type": "stream",
       "stream": "stdout",
       "text": [
        "\n",
        "Iteration n\u00b073 - MSE: 13386449100.690958"
       ]
      },
      {
       "output_type": "stream",
       "stream": "stdout",
       "text": [
        "\n",
        "Iteration n\u00b074 - MSE: 13248169895.026217"
       ]
      },
      {
       "output_type": "stream",
       "stream": "stdout",
       "text": [
        "\n",
        "Iteration n\u00b075 - MSE: 13112871274.854998"
       ]
      },
      {
       "output_type": "stream",
       "stream": "stdout",
       "text": [
        "\n",
        "Iteration n\u00b076 - MSE: 12980452358.449783"
       ]
      },
      {
       "output_type": "stream",
       "stream": "stdout",
       "text": [
        "\n",
        "Iteration n\u00b077 - MSE: 12850816914.794363"
       ]
      },
      {
       "output_type": "stream",
       "stream": "stdout",
       "text": [
        "\n",
        "Iteration n\u00b078 - MSE: 12723873093.894339"
       ]
      },
      {
       "output_type": "stream",
       "stream": "stdout",
       "text": [
        "\n",
        "Iteration n\u00b079 - MSE: 12599533175.830059"
       ]
      },
      {
       "output_type": "stream",
       "stream": "stdout",
       "text": [
        "\n",
        "Iteration n\u00b080 - MSE: 12477713337.039734"
       ]
      },
      {
       "output_type": "stream",
       "stream": "stdout",
       "text": [
        "\n",
        "Iteration n\u00b081 - MSE: 12358333432.458597"
       ]
      },
      {
       "output_type": "stream",
       "stream": "stdout",
       "text": [
        "\n",
        "Iteration n\u00b082 - MSE: 12241316792.264837"
       ]
      },
      {
       "output_type": "stream",
       "stream": "stdout",
       "text": [
        "\n",
        "Iteration n\u00b083 - MSE: 12126590032.094595"
       ]
      },
      {
       "output_type": "stream",
       "stream": "stdout",
       "text": [
        "\n",
        "Iteration n\u00b084 - MSE: 12014082875.689030"
       ]
      },
      {
       "output_type": "stream",
       "stream": "stdout",
       "text": [
        "\n",
        "Iteration n\u00b085 - MSE: 11903727989.027454"
       ]
      },
      {
       "output_type": "stream",
       "stream": "stdout",
       "text": [
        "\n",
        "Iteration n\u00b086 - MSE: 11795460825.081841"
       ]
      },
      {
       "output_type": "stream",
       "stream": "stdout",
       "text": [
        "\n",
        "Iteration n\u00b087 - MSE: 11689219478.402750"
       ]
      },
      {
       "output_type": "stream",
       "stream": "stdout",
       "text": [
        "\n",
        "Iteration n\u00b088 - MSE: 11584944548.812378"
       ]
      },
      {
       "output_type": "stream",
       "stream": "stdout",
       "text": [
        "\n",
        "Iteration n\u00b089 - MSE: 11482579013.542507"
       ]
      },
      {
       "output_type": "stream",
       "stream": "stdout",
       "text": [
        "\n",
        "Iteration n\u00b090 - MSE: 11382068107.208397"
       ]
      },
      {
       "output_type": "stream",
       "stream": "stdout",
       "text": [
        "\n",
        "Iteration n\u00b091 - MSE: 11283359209.060743"
       ]
      },
      {
       "output_type": "stream",
       "stream": "stdout",
       "text": [
        "\n",
        "Iteration n\u00b092 - MSE: 11186401737.002373"
       ]
      },
      {
       "output_type": "stream",
       "stream": "stdout",
       "text": [
        "\n",
        "Iteration n\u00b093 - MSE: 11091147047.897726"
       ]
      },
      {
       "output_type": "stream",
       "stream": "stdout",
       "text": [
        "\n",
        "Iteration n\u00b094 - MSE: 10997548343.740122"
       ]
      },
      {
       "output_type": "stream",
       "stream": "stdout",
       "text": [
        "\n",
        "Iteration n\u00b095 - MSE: 10905560583.277399"
       ]
      },
      {
       "output_type": "stream",
       "stream": "stdout",
       "text": [
        "\n",
        "Iteration n\u00b096 - MSE: 10815140398.725342"
       ]
      },
      {
       "output_type": "stream",
       "stream": "stdout",
       "text": [
        "\n",
        "Iteration n\u00b097 - MSE: 10726246017.228867"
       ]
      },
      {
       "output_type": "stream",
       "stream": "stdout",
       "text": [
        "\n",
        "Iteration n\u00b098 - MSE: 10638837186.755936"
       ]
      },
      {
       "output_type": "stream",
       "stream": "stdout",
       "text": [
        "\n",
        "Iteration n\u00b099 - MSE: 10552875106.132612"
       ]
      },
      {
       "output_type": "stream",
       "stream": "stdout",
       "text": [
        "\n",
        "Iteration n\u00b0100 - MSE: 10468322358.950336"
       ]
      },
      {
       "output_type": "stream",
       "stream": "stdout",
       "text": [
        "\n",
        "Iteration n\u00b0101 - MSE: 10385142851.095686"
       ]
      },
      {
       "output_type": "stream",
       "stream": "stdout",
       "text": [
        "\n",
        "Iteration n\u00b0102 - MSE: 10303301751.671700"
       ]
      },
      {
       "output_type": "stream",
       "stream": "stdout",
       "text": [
        "\n",
        "Iteration n\u00b0103 - MSE: 10222765437.095903"
       ]
      },
      {
       "output_type": "stream",
       "stream": "stdout",
       "text": [
        "\n",
        "Iteration n\u00b0104 - MSE: 10143501438.176598"
       ]
      },
      {
       "output_type": "stream",
       "stream": "stdout",
       "text": [
        "\n",
        "Iteration n\u00b0105 - MSE: 10065478389.982399"
       ]
      },
      {
       "output_type": "stream",
       "stream": "stdout",
       "text": [
        "\n",
        "Iteration n\u00b0106 - MSE: 9988665984.333010"
       ]
      },
      {
       "output_type": "stream",
       "stream": "stdout",
       "text": [
        "\n",
        "Iteration n\u00b0107 - MSE: 9913034924.752279"
       ]
      },
      {
       "output_type": "stream",
       "stream": "stdout",
       "text": [
        "\n",
        "Iteration n\u00b0108 - MSE: 9838556883.733807"
       ]
      },
      {
       "output_type": "stream",
       "stream": "stdout",
       "text": [
        "\n",
        "Iteration n\u00b0109 - MSE: 9765204462.181814"
       ]
      },
      {
       "output_type": "stream",
       "stream": "stdout",
       "text": [
        "\n",
        "Iteration n\u00b0110 - MSE: 9692951150.897346"
       ]
      },
      {
       "output_type": "stream",
       "stream": "stdout",
       "text": [
        "\n",
        "Iteration n\u00b0111 - MSE: 9621771293.990242"
       ]
      },
      {
       "output_type": "stream",
       "stream": "stdout",
       "text": [
        "\n",
        "Iteration n\u00b0112 - MSE: 9551640054.104057"
       ]
      },
      {
       "output_type": "stream",
       "stream": "stdout",
       "text": [
        "\n",
        "Iteration n\u00b0113 - MSE: 9482533379.349617"
       ]
      },
      {
       "output_type": "stream",
       "stream": "stdout",
       "text": [
        "\n",
        "Iteration n\u00b0114 - MSE: 9414427971.849129"
       ]
      },
      {
       "output_type": "stream",
       "stream": "stdout",
       "text": [
        "\n",
        "Iteration n\u00b0115 - MSE: 9347301257.799267"
       ]
      },
      {
       "output_type": "stream",
       "stream": "stdout",
       "text": [
        "\n",
        "Iteration n\u00b0116 - MSE: 9281131358.967815"
       ]
      },
      {
       "output_type": "stream",
       "stream": "stdout",
       "text": [
        "\n",
        "Iteration n\u00b0117 - MSE: 9215897065.543802"
       ]
      },
      {
       "output_type": "stream",
       "stream": "stdout",
       "text": [
        "\n",
        "Iteration n\u00b0118 - MSE: 9151577810.266054"
       ]
      },
      {
       "output_type": "stream",
       "stream": "stdout",
       "text": [
        "\n",
        "Iteration n\u00b0119 - MSE: 9088153643.759808"
       ]
      },
      {
       "output_type": "stream",
       "stream": "stdout",
       "text": [
        "\n",
        "Iteration n\u00b0120 - MSE: 9025605211.015936"
       ]
      },
      {
       "output_type": "stream",
       "stream": "stdout",
       "text": [
        "\n",
        "Iteration n\u00b0121 - MSE: 8963913728.950415"
       ]
      },
      {
       "output_type": "stream",
       "stream": "stdout",
       "text": [
        "\n",
        "Iteration n\u00b0122 - MSE: 8903060964.986826"
       ]
      },
      {
       "output_type": "stream",
       "stream": "stdout",
       "text": [
        "\n",
        "Iteration n\u00b0123 - MSE: 8843029216.606791"
       ]
      },
      {
       "output_type": "stream",
       "stream": "stdout",
       "text": [
        "\n",
        "Iteration n\u00b0124 - MSE: 8783801291.817606"
       ]
      },
      {
       "output_type": "stream",
       "stream": "stdout",
       "text": [
        "\n",
        "Iteration n\u00b0125 - MSE: 8725360490.489063"
       ]
      },
      {
       "output_type": "stream",
       "stream": "stdout",
       "text": [
        "\n",
        "Iteration n\u00b0126 - MSE: 8667690586.514042"
       ]
      },
      {
       "output_type": "stream",
       "stream": "stdout",
       "text": [
        "\n",
        "Iteration n\u00b0127 - MSE: 8610775810.750631"
       ]
      },
      {
       "output_type": "stream",
       "stream": "stdout",
       "text": [
        "\n",
        "Iteration n\u00b0128 - MSE: 8554600834.705772"
       ]
      },
      {
       "output_type": "stream",
       "stream": "stdout",
       "text": [
        "\n",
        "Iteration n\u00b0129 - MSE: 8499150754.922436"
       ]
      },
      {
       "output_type": "stream",
       "stream": "stdout",
       "text": [
        "\n",
        "Iteration n\u00b0130 - MSE: 8444411078.035473"
       ]
      },
      {
       "output_type": "stream",
       "stream": "stdout",
       "text": [
        "\n",
        "Iteration n\u00b0131 - MSE: 8390367706.462133"
       ]
      },
      {
       "output_type": "stream",
       "stream": "stdout",
       "text": [
        "\n",
        "Iteration n\u00b0132 - MSE: 8337006924.695945"
       ]
      },
      {
       "output_type": "stream",
       "stream": "stdout",
       "text": [
        "\n",
        "Iteration n\u00b0133 - MSE: 8284315386.174359"
       ]
      },
      {
       "output_type": "stream",
       "stream": "stdout",
       "text": [
        "\n",
        "Iteration n\u00b0134 - MSE: 8232280100.691877"
       ]
      },
      {
       "output_type": "stream",
       "stream": "stdout",
       "text": [
        "\n",
        "Iteration n\u00b0135 - MSE: 8180888422.332195"
       ]
      },
      {
       "output_type": "stream",
       "stream": "stdout",
       "text": [
        "\n",
        "Iteration n\u00b0136 - MSE: 8130128037.894485"
       ]
      },
      {
       "output_type": "stream",
       "stream": "stdout",
       "text": [
        "\n",
        "Iteration n\u00b0137 - MSE: 8079986955.790070"
       ]
      },
      {
       "output_type": "stream",
       "stream": "stdout",
       "text": [
        "\n",
        "Iteration n\u00b0138 - MSE: 8030453495.387019"
       ]
      },
      {
       "output_type": "stream",
       "stream": "stdout",
       "text": [
        "\n",
        "Iteration n\u00b0139 - MSE: 7981516276.781703"
       ]
      },
      {
       "output_type": "stream",
       "stream": "stdout",
       "text": [
        "\n",
        "Iteration n\u00b0140 - MSE: 7933164210.977278"
       ]
      },
      {
       "output_type": "stream",
       "stream": "stdout",
       "text": [
        "\n",
        "Iteration n\u00b0141 - MSE: 7885386490.449964"
       ]
      },
      {
       "output_type": "stream",
       "stream": "stdout",
       "text": [
        "\n",
        "Iteration n\u00b0142 - MSE: 7838172580.085497"
       ]
      },
      {
       "output_type": "stream",
       "stream": "stdout",
       "text": [
        "\n",
        "Iteration n\u00b0143 - MSE: 7791512208.468554"
       ]
      },
      {
       "output_type": "stream",
       "stream": "stdout",
       "text": [
        "\n",
        "Iteration n\u00b0144 - MSE: 7745395359.509061"
       ]
      },
      {
       "output_type": "stream",
       "stream": "stdout",
       "text": [
        "\n",
        "Iteration n\u00b0145 - MSE: 7699812264.390318"
       ]
      },
      {
       "output_type": "stream",
       "stream": "stdout",
       "text": [
        "\n",
        "Iteration n\u00b0146 - MSE: 7654753393.824235"
       ]
      },
      {
       "output_type": "stream",
       "stream": "stdout",
       "text": [
        "\n",
        "Iteration n\u00b0147 - MSE: 7610209450.600162"
       ]
      },
      {
       "output_type": "stream",
       "stream": "stdout",
       "text": [
        "\n",
        "Iteration n\u00b0148 - MSE: 7566171362.414093"
       ]
      },
      {
       "output_type": "stream",
       "stream": "stdout",
       "text": [
        "\n",
        "Iteration n\u00b0149 - MSE: 7522630274.966072"
       ]
      },
      {
       "output_type": "stream",
       "stream": "stdout",
       "text": [
        "\n",
        "Iteration n\u00b0150 - MSE: 7479577545.314068"
       ]
      },
      {
       "output_type": "stream",
       "stream": "stdout",
       "text": [
        "\n",
        "Iteration n\u00b0151 - MSE: 7437004735.472830"
       ]
      },
      {
       "output_type": "stream",
       "stream": "stdout",
       "text": [
        "\n",
        "Iteration n\u00b0152 - MSE: 7394903606.247619"
       ]
      },
      {
       "output_type": "stream",
       "stream": "stdout",
       "text": [
        "\n",
        "Iteration n\u00b0153 - MSE: 7353266111.292450"
       ]
      },
      {
       "output_type": "stream",
       "stream": "stdout",
       "text": [
        "\n",
        "Iteration n\u00b0154 - MSE: 7312084391.383169"
       ]
      },
      {
       "output_type": "stream",
       "stream": "stdout",
       "text": [
        "\n",
        "Iteration n\u00b0155 - MSE: 7271350768.896633"
       ]
      },
      {
       "output_type": "stream",
       "stream": "stdout",
       "text": [
        "\n",
        "Iteration n\u00b0156 - MSE: 7231057742.486901"
       ]
      },
      {
       "output_type": "stream",
       "stream": "stdout",
       "text": [
        "\n",
        "Iteration n\u00b0157 - MSE: 7191197981.950549"
       ]
      },
      {
       "output_type": "stream",
       "stream": "stdout",
       "text": [
        "\n",
        "Iteration n\u00b0158 - MSE: 7151764323.272882"
       ]
      },
      {
       "output_type": "stream",
       "stream": "stdout",
       "text": [
        "\n",
        "Iteration n\u00b0159 - MSE: 7112749763.847914"
       ]
      },
      {
       "output_type": "stream",
       "stream": "stdout",
       "text": [
        "\n",
        "Iteration n\u00b0160 - MSE: 7074147457.864800"
       ]
      },
      {
       "output_type": "stream",
       "stream": "stdout",
       "text": [
        "\n",
        "Iteration n\u00b0161 - MSE: 7035950711.853900"
       ]
      },
      {
       "output_type": "stream",
       "stream": "stdout",
       "text": [
        "\n",
        "Iteration n\u00b0162 - MSE: 6998152980.386081"
       ]
      },
      {
       "output_type": "stream",
       "stream": "stdout",
       "text": [
        "\n",
        "Iteration n\u00b0163 - MSE: 6960747861.919088"
       ]
      },
      {
       "output_type": "stream",
       "stream": "stdout",
       "text": [
        "\n",
        "Iteration n\u00b0164 - MSE: 6923729094.784943"
       ]
      },
      {
       "output_type": "stream",
       "stream": "stdout",
       "text": [
        "\n",
        "Iteration n\u00b0165 - MSE: 6887090553.313059"
       ]
      },
      {
       "output_type": "stream",
       "stream": "stdout",
       "text": [
        "\n",
        "Iteration n\u00b0166 - MSE: 6850826244.083296"
       ]
      },
      {
       "output_type": "stream",
       "stream": "stdout",
       "text": [
        "\n",
        "Iteration n\u00b0167 - MSE: 6814930302.304121"
       ]
      },
      {
       "output_type": "stream",
       "stream": "stdout",
       "text": [
        "\n",
        "Iteration n\u00b0168 - MSE: 6779396988.311089"
       ]
      },
      {
       "output_type": "stream",
       "stream": "stdout",
       "text": [
        "\n",
        "Iteration n\u00b0169 - MSE: 6744220684.180367"
       ]
      },
      {
       "output_type": "stream",
       "stream": "stdout",
       "text": [
        "\n",
        "Iteration n\u00b0170 - MSE: 6709395890.453726"
       ]
      },
      {
       "output_type": "stream",
       "stream": "stdout",
       "text": [
        "\n",
        "Iteration n\u00b0171 - MSE: 6674917222.970027"
       ]
      },
      {
       "output_type": "stream",
       "stream": "stdout",
       "text": [
        "\n",
        "Iteration n\u00b0172 - MSE: 6640779409.799262"
       ]
      },
      {
       "output_type": "stream",
       "stream": "stdout",
       "text": [
        "\n",
        "Iteration n\u00b0173 - MSE: 6606977288.275688"
       ]
      },
      {
       "output_type": "stream",
       "stream": "stdout",
       "text": [
        "\n",
        "Iteration n\u00b0174 - MSE: 6573505802.125623"
       ]
      },
      {
       "output_type": "stream",
       "stream": "stdout",
       "text": [
        "\n",
        "Iteration n\u00b0175 - MSE: 6540359998.686929"
       ]
      },
      {
       "output_type": "stream",
       "stream": "stdout",
       "text": [
        "\n",
        "Iteration n\u00b0176 - MSE: 6507535026.216434"
       ]
      },
      {
       "output_type": "stream",
       "stream": "stdout",
       "text": [
        "\n",
        "Iteration n\u00b0177 - MSE: 6475026131.282176"
       ]
      },
      {
       "output_type": "stream",
       "stream": "stdout",
       "text": [
        "\n",
        "Iteration n\u00b0178 - MSE: 6442828656.237186"
       ]
      },
      {
       "output_type": "stream",
       "stream": "stdout",
       "text": [
        "\n",
        "Iteration n\u00b0179 - MSE: 6410938036.772110"
       ]
      },
      {
       "output_type": "stream",
       "stream": "stdout",
       "text": [
        "\n",
        "Iteration n\u00b0180 - MSE: 6379349799.543394"
       ]
      },
      {
       "output_type": "stream",
       "stream": "stdout",
       "text": [
        "\n",
        "Iteration n\u00b0181 - MSE: 6348059559.874510"
       ]
      },
      {
       "output_type": "stream",
       "stream": "stdout",
       "text": [
        "\n",
        "Iteration n\u00b0182 - MSE: 6317063019.527762"
       ]
      },
      {
       "output_type": "stream",
       "stream": "stdout",
       "text": [
        "\n",
        "Iteration n\u00b0183 - MSE: 6286355964.543645"
       ]
      },
      {
       "output_type": "stream",
       "stream": "stdout",
       "text": [
        "\n",
        "Iteration n\u00b0184 - MSE: 6255934263.145871"
       ]
      },
      {
       "output_type": "stream",
       "stream": "stdout",
       "text": [
        "\n",
        "Iteration n\u00b0185 - MSE: 6225793863.709394"
       ]
      },
      {
       "output_type": "stream",
       "stream": "stdout",
       "text": [
        "\n",
        "Iteration n\u00b0186 - MSE: 6195930792.789299"
       ]
      },
      {
       "output_type": "stream",
       "stream": "stdout",
       "text": [
        "\n",
        "Iteration n\u00b0187 - MSE: 6166341153.208449"
       ]
      },
      {
       "output_type": "stream",
       "stream": "stdout",
       "text": [
        "\n",
        "Iteration n\u00b0188 - MSE: 6137021122.201773"
       ]
      },
      {
       "output_type": "stream",
       "stream": "stdout",
       "text": [
        "\n",
        "Iteration n\u00b0189 - MSE: 6107966949.615359"
       ]
      },
      {
       "output_type": "stream",
       "stream": "stdout",
       "text": [
        "\n",
        "Iteration n\u00b0190 - MSE: 6079174956.158216"
       ]
      },
      {
       "output_type": "stream",
       "stream": "stdout",
       "text": [
        "\n",
        "Iteration n\u00b0191 - MSE: 6050641531.705123"
       ]
      },
      {
       "output_type": "stream",
       "stream": "stdout",
       "text": [
        "\n",
        "Iteration n\u00b0192 - MSE: 6022363133.648727"
       ]
      },
      {
       "output_type": "stream",
       "stream": "stdout",
       "text": [
        "\n",
        "Iteration n\u00b0193 - MSE: 5994336285.299201"
       ]
      },
      {
       "output_type": "stream",
       "stream": "stdout",
       "text": [
        "\n",
        "Iteration n\u00b0194 - MSE: 5966557574.329814"
       ]
      },
      {
       "output_type": "stream",
       "stream": "stdout",
       "text": [
        "\n",
        "Iteration n\u00b0195 - MSE: 5939023651.266987"
       ]
      },
      {
       "output_type": "stream",
       "stream": "stdout",
       "text": [
        "\n",
        "Iteration n\u00b0196 - MSE: 5911731228.023202"
       ]
      },
      {
       "output_type": "stream",
       "stream": "stdout",
       "text": [
        "\n",
        "Iteration n\u00b0197 - MSE: 5884677076.471476"
       ]
      },
      {
       "output_type": "stream",
       "stream": "stdout",
       "text": [
        "\n",
        "Iteration n\u00b0198 - MSE: 5857858027.059848"
       ]
      },
      {
       "output_type": "stream",
       "stream": "stdout",
       "text": [
        "\n",
        "Iteration n\u00b0199 - MSE: 5831270967.464776"
       ]
      },
      {
       "output_type": "stream",
       "stream": "stdout",
       "text": [
        "\n"
       ]
      }
     ],
     "prompt_number": 25
    },
    {
     "cell_type": "code",
     "collapsed": false,
     "input": [
      "mod2 = LinearModule(100,28*28)\n",
      "mod1 = LinearModule(28*28,100)\n",
      "\n",
      "AE = MultiModule([mod1,TanhModule(1,1),mod2],SquareLoss())\n",
      "\n",
      "sq = SquareLoss()\n",
      "\n",
      "#print sq.getLossValue(train_data[0],train_data[0])\n",
      "\n",
      "\n",
      "#print mod1.parameters\n",
      "NBITER = 50\n",
      "print \"=======TRAIN ERROR=======\"\n",
      "for i in xrange(0,NBITER):\n",
      "   loss = AE.miniBatchIter(train_data, train_data,batch_size=150,gradient_step=0.000001, verbose=False)\n",
      "   predicted = AE.forwardAll(train_data)\n",
      "   err=0\n",
      "    \n",
      "   for pred,exp in zip(predicted,train_data):\n",
      "       err += np.sum(np.power(pred-exp,2))\n",
      "    \n",
      "        \n",
      "   #print loss\n",
      "   print \"Iteration n\u00b0%d - MSE: %f\" % (i,err/len(predicted))\n",
      "\n",
      "   "
     ],
     "language": "python",
     "metadata": {},
     "outputs": [
      {
       "output_type": "stream",
       "stream": "stdout",
       "text": [
        "=======TRAIN ERROR=======\n",
        "Iteration n\u00b00 - MSE: 5474544.805493"
       ]
      },
      {
       "output_type": "stream",
       "stream": "stdout",
       "text": [
        "\n",
        "Iteration n\u00b01 - MSE: 4691296.058353"
       ]
      },
      {
       "output_type": "stream",
       "stream": "stdout",
       "text": [
        "\n",
        "Iteration n\u00b02 - MSE: 4139160.515617"
       ]
      },
      {
       "output_type": "stream",
       "stream": "stdout",
       "text": [
        "\n",
        "Iteration n\u00b03 - MSE: 3779764.220062"
       ]
      },
      {
       "output_type": "stream",
       "stream": "stdout",
       "text": [
        "\n",
        "Iteration n\u00b04 - MSE: 3553208.713446"
       ]
      },
      {
       "output_type": "stream",
       "stream": "stdout",
       "text": [
        "\n",
        "Iteration n\u00b05 - MSE: 3412589.999868"
       ]
      },
      {
       "output_type": "stream",
       "stream": "stdout",
       "text": [
        "\n",
        "Iteration n\u00b06 - MSE: 3323332.653554"
       ]
      },
      {
       "output_type": "stream",
       "stream": "stdout",
       "text": [
        "\n",
        "Iteration n\u00b07 - MSE: 3267631.267727"
       ]
      },
      {
       "output_type": "stream",
       "stream": "stdout",
       "text": [
        "\n",
        "Iteration n\u00b08 - MSE: 3235355.539840"
       ]
      },
      {
       "output_type": "stream",
       "stream": "stdout",
       "text": [
        "\n",
        "Iteration n\u00b09 - MSE: 3212449.550038"
       ]
      },
      {
       "output_type": "stream",
       "stream": "stdout",
       "text": [
        "\n",
        "Iteration n\u00b010 - MSE: 3196961.497173"
       ]
      },
      {
       "output_type": "stream",
       "stream": "stdout",
       "text": [
        "\n",
        "Iteration n\u00b011 - MSE: 3185971.564809"
       ]
      },
      {
       "output_type": "stream",
       "stream": "stdout",
       "text": [
        "\n",
        "Iteration n\u00b012 - MSE: 3177670.031438"
       ]
      },
      {
       "output_type": "stream",
       "stream": "stdout",
       "text": [
        "\n",
        "Iteration n\u00b013 - MSE: 3173222.553728"
       ]
      },
      {
       "output_type": "stream",
       "stream": "stdout",
       "text": [
        "\n",
        "Iteration n\u00b014 - MSE: 3167941.138180"
       ]
      },
      {
       "output_type": "stream",
       "stream": "stdout",
       "text": [
        "\n",
        "Iteration n\u00b015 - MSE: 3163190.743178"
       ]
      },
      {
       "output_type": "stream",
       "stream": "stdout",
       "text": [
        "\n",
        "Iteration n\u00b016 - MSE: 3158768.362022"
       ]
      },
      {
       "output_type": "stream",
       "stream": "stdout",
       "text": [
        "\n",
        "Iteration n\u00b017 - MSE: 3158572.783054"
       ]
      },
      {
       "output_type": "stream",
       "stream": "stdout",
       "text": [
        "\n",
        "Iteration n\u00b018 - MSE: 3152991.882212"
       ]
      },
      {
       "output_type": "stream",
       "stream": "stdout",
       "text": [
        "\n",
        "Iteration n\u00b019 - MSE: 3147975.929005"
       ]
      },
      {
       "output_type": "stream",
       "stream": "stdout",
       "text": [
        "\n",
        "Iteration n\u00b020 - MSE: 3143291.917147"
       ]
      },
      {
       "output_type": "stream",
       "stream": "stdout",
       "text": [
        "\n",
        "Iteration n\u00b021 - MSE: 3144513.853090"
       ]
      },
      {
       "output_type": "stream",
       "stream": "stdout",
       "text": [
        "\n",
        "Iteration n\u00b022 - MSE: 3139318.945214"
       ]
      },
      {
       "output_type": "stream",
       "stream": "stdout",
       "text": [
        "\n",
        "Iteration n\u00b023 - MSE: 3134607.763933"
       ]
      },
      {
       "output_type": "stream",
       "stream": "stdout",
       "text": [
        "\n",
        "Iteration n\u00b024 - MSE: 3130238.137083"
       ]
      },
      {
       "output_type": "stream",
       "stream": "stdout",
       "text": [
        "\n",
        "Iteration n\u00b025 - MSE: 3126065.335902"
       ]
      },
      {
       "output_type": "stream",
       "stream": "stdout",
       "text": [
        "\n",
        "Iteration n\u00b026 - MSE: 3122018.614280"
       ]
      },
      {
       "output_type": "stream",
       "stream": "stdout",
       "text": [
        "\n",
        "Iteration n\u00b027 - MSE: 3118055.787697"
       ]
      },
      {
       "output_type": "stream",
       "stream": "stdout",
       "text": [
        "\n",
        "Iteration n\u00b028 - MSE: 3114151.787742"
       ]
      },
      {
       "output_type": "stream",
       "stream": "stdout",
       "text": [
        "\n",
        "Iteration n\u00b029 - MSE: 3110291.777949"
       ]
      },
      {
       "output_type": "stream",
       "stream": "stdout",
       "text": [
        "\n",
        "Iteration n\u00b030 - MSE: 3106467.018811"
       ]
      },
      {
       "output_type": "stream",
       "stream": "stdout",
       "text": [
        "\n",
        "Iteration n\u00b031 - MSE: 3102672.388471"
       ]
      },
      {
       "output_type": "stream",
       "stream": "stdout",
       "text": [
        "\n",
        "Iteration n\u00b032 - MSE: 3098904.899574"
       ]
      },
      {
       "output_type": "stream",
       "stream": "stdout",
       "text": [
        "\n",
        "Iteration n\u00b033 - MSE: 3095162.814727"
       ]
      },
      {
       "output_type": "stream",
       "stream": "stdout",
       "text": [
        "\n",
        "Iteration n\u00b034 - MSE: 3091445.121047"
       ]
      },
      {
       "output_type": "stream",
       "stream": "stdout",
       "text": [
        "\n",
        "Iteration n\u00b035 - MSE: 3087751.219676"
       ]
      },
      {
       "output_type": "stream",
       "stream": "stdout",
       "text": [
        "\n",
        "Iteration n\u00b036 - MSE: 3084080.743626"
       ]
      },
      {
       "output_type": "stream",
       "stream": "stdout",
       "text": [
        "\n",
        "Iteration n\u00b037 - MSE: 3080433.451930"
       ]
      },
      {
       "output_type": "stream",
       "stream": "stdout",
       "text": [
        "\n",
        "Iteration n\u00b038 - MSE: 3076809.168974"
       ]
      },
      {
       "output_type": "stream",
       "stream": "stdout",
       "text": [
        "\n",
        "Iteration n\u00b039 - MSE: 3073207.750371"
       ]
      },
      {
       "output_type": "stream",
       "stream": "stdout",
       "text": [
        "\n",
        "Iteration n\u00b040 - MSE: 3069629.064322"
       ]
      },
      {
       "output_type": "stream",
       "stream": "stdout",
       "text": [
        "\n",
        "Iteration n\u00b041 - MSE: 3066072.981878"
       ]
      },
      {
       "output_type": "stream",
       "stream": "stdout",
       "text": [
        "\n",
        "Iteration n\u00b042 - MSE: 3062539.372242"
       ]
      },
      {
       "output_type": "stream",
       "stream": "stdout",
       "text": [
        "\n",
        "Iteration n\u00b043 - MSE: 3059028.100855"
       ]
      },
      {
       "output_type": "stream",
       "stream": "stdout",
       "text": [
        "\n",
        "Iteration n\u00b044 - MSE: 3055539.028939"
       ]
      },
      {
       "output_type": "stream",
       "stream": "stdout",
       "text": [
        "\n",
        "Iteration n\u00b045 - MSE: 3052072.013786"
       ]
      },
      {
       "output_type": "stream",
       "stream": "stdout",
       "text": [
        "\n",
        "Iteration n\u00b046 - MSE: 3048626.909346"
       ]
      },
      {
       "output_type": "stream",
       "stream": "stdout",
       "text": [
        "\n",
        "Iteration n\u00b047 - MSE: 3045203.566924"
       ]
      },
      {
       "output_type": "stream",
       "stream": "stdout",
       "text": [
        "\n",
        "Iteration n\u00b048 - MSE: 3041801.835846"
       ]
      },
      {
       "output_type": "stream",
       "stream": "stdout",
       "text": [
        "\n",
        "Iteration n\u00b049 - MSE: 3038421.564064"
       ]
      },
      {
       "output_type": "stream",
       "stream": "stdout",
       "text": [
        "\n"
       ]
      }
     ],
     "prompt_number": 27
    },
    {
     "cell_type": "code",
     "collapsed": false,
     "input": [
      "init = mod1.forward(train_data[10])\n",
      "b = TanhModule(1,1)\n",
      "comp = b.forward(init)\n",
      "patch = np.zeros(100)\n",
      "patch[10] = 1\n",
      "#plt.imshow(train_data[0].reshape(28,28))\n",
      "plt.imshow(recomp.reshape(28,28))\n",
      "plt.show()"
     ],
     "language": "python",
     "metadata": {},
     "outputs": [],
     "prompt_number": 32
    },
    {
     "cell_type": "code",
     "collapsed": false,
     "input": [],
     "language": "python",
     "metadata": {},
     "outputs": []
    }
   ],
   "metadata": {}
  }
 ]
}