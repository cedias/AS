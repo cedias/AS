{
 "metadata": {
  "name": "",
  "signature": "sha256:3eff902dcd057ce706b841005255922a254afbc706bb0e90e9272dcfa18020aa"
 },
 "nbformat": 3,
 "nbformat_minor": 0,
 "worksheets": [
  {
   "cells": [
    {
     "cell_type": "markdown",
     "metadata": {},
     "source": [
      "#Loss & Modules"
     ]
    },
    {
     "cell_type": "code",
     "collapsed": false,
     "input": [
      "import numpy as np\n",
      "\n",
      "       \n",
      "# Impl\u00e9mentation des Losses\n",
      "\n",
      "class Loss:\n",
      "    \n",
      "    #Calcule la valeur du loss \u00e9tant donn\u00e9es les valeurs pr\u00e9dites et d\u00e9sir\u00e9es\n",
      "    def getLossValue(self,predicted_output,desired_output):\n",
      "        pass\n",
      "    \n",
      "    #Calcule le gradient (pour chaque cellule d'entr\u00e9e) du co\u00fbt\n",
      "    def backward(self, predicted_output,desired_output):\n",
      "        pass \n",
      "\n",
      "\n",
      "#Square Loss\n",
      "\n",
      "class SquareLoss(Loss):\n",
      "    def getLossValue(self,predicted_output,desired_output):\n",
      "        return np.power(desired_output-predicted_output,2)\n",
      "    \n",
      "    def backward(self, predicted_output,desired_output):\n",
      "        return 2*(predicted_output-desired_output)\n",
      "    \n",
      "#HingeLoss\n",
      "\n",
      "class HingeLoss(Loss):\n",
      "    def getLossValue(self,predicted_output,desired_output):\n",
      "        return np.max(np.zeros(predicted_output.size), -desired_output*predicted_output)\n",
      "    \n",
      "    def backward(self, predicted_output,desired_output):\n",
      "        res = np.zeros(desired_output.size)\n",
      "        prod = -desired_output*predicted_output\n",
      "        index = np.where(prod >=0 )\n",
      "        res[index] = -desired_output[index]\n",
      "\n",
      "        return res\n",
      "\n",
      "# <markdowncell>\n",
      "\n",
      "# Impl\u00e9mentation des Modules\n",
      "# ======\n",
      "# \n",
      "# Nous allons maintenant impl\u00e9menter quelques modules de base\n",
      "\n",
      "# <codecell>\n",
      "\n",
      "class Module:\n",
      "    \n",
      "    #Permet le calcul de la sortie du module\n",
      "    def forward(self,input):\n",
      "        pass\n",
      "    \n",
      "    #Permet le calcul du gradient des cellules d'entr\u00e9e\n",
      "    def backward_delta(self,delta_module_suivant):\n",
      "        pass\n",
      "    \n",
      "    #Permet d'initialiser le gradient du module\n",
      "    def init_gradient(self):\n",
      "        pass\n",
      "    \n",
      "    #Permet la mise \u00e0 jour des parma\u00e8tres du module avcec la valeur courante di gradient\n",
      "    def update_parameters(self,gradient_step):\n",
      "        pass\n",
      "    \n",
      "    #Permet de mettre \u00e0 jour la valeur courante du gradient par addition\n",
      "    def backward_update_gradient(self,input,delta_module_suivant):\n",
      "        pass\n",
      "    \n",
      "    #Permet de faire les deux backwar simultan\u00e9ment\n",
      "    def backward(self,input,delta_module_suivant):\n",
      "        self.backward_update_gradient(input,delta_module_suivant)\n",
      "        return self.backward_delte(input,delta_module_suivant)\n",
      "\n",
      "    #Retourne les param\u00e8tres du module\n",
      "    def get_parameters(self):\n",
      "        pass\n",
      "    \n",
      "    #Initialize al\u00e9atoirement les param\u00e8tres du module\n",
      "    def randomize_parameters(self, variance):\n",
      "        pass\n",
      "    \n",
      "    \n",
      "\n",
      "# <markdowncell>\n",
      "\n",
      "# Nous allons commencer par impl\u00e9menter le module lineaire classique (sans biais)\n",
      "\n",
      "# <codecell>\n",
      "\n",
      "class LinearModule(Module):\n",
      "    \n",
      "    #Permet le calcul de la sortie du module\n",
      "    def __init__(self,entry_size,layer_size):\n",
      "        self.entry_size = entry_size\n",
      "        self.layer_size = layer_size\n",
      "        self.init_gradient()\n",
      "        self.randomize_parameters()\n",
      "    \n",
      "    def forward(self,input):\n",
      "        return np.dot(self.parameters,input)\n",
      "    \n",
      "    #Permet le calcul du gradient des cellules d'entr\u00e9e\n",
      "    def backward_delta(self,delta_module_suivant):\n",
      "        return np.sum((delta_module_suivant*self.parameters.T).T,axis=0)\n",
      "        \n",
      "    #Permet d'initialiser le gradient du module\n",
      "    def init_gradient(self):\n",
      "        self.gradient = np.zeros((self.layer_size,self.entry_size))\n",
      "        return\n",
      "    \n",
      "    #Permet la mise \u00e0 jour des parma\u00e8tres du module avcec la valeur courante di gradient\n",
      "    def update_parameters(self,gradient_step):\n",
      "        self.parameters -= self.gradient*gradient_step\n",
      "        self.gradient = np.zeros((self.layer_size,self.entry_size))\n",
      "        return\n",
      "\n",
      "    #Permet de mettre \u00e0 jour la valeur courante du gradient par addition\n",
      "    def backward_update_gradient(self,input,delta_module_suivant):\n",
      "        newGrad = np.zeros((self.layer_size,self.entry_size))\n",
      "        for i in xrange(0,self.layer_size):\n",
      "            di = delta_module_suivant[i]\n",
      "            newGrad[i,:] =  di*input\n",
      "\n",
      "        self.gradient += newGrad\n",
      "        return \n",
      "    \n",
      "    #Permet de faire les deux backwar simultan\u00e9ment\n",
      "    def backward(self,input,delta_module_suivant):\n",
      "        self.backward_update_gradient(input,delta_module_suivant)\n",
      "        return self.backward_delta(delta_module_suivant)\n",
      "\n",
      "    #Retourne les param\u00e8tres du module\n",
      "    def get_parameters(self):\n",
      "        return self.parameters\n",
      "    \n",
      "    #Initialize al\u00e9atoirement les param\u00e8tres du module\n",
      "    def randomize_parameters(self):\n",
      "        self.parameters = np.random.randn(self.layer_size,self.entry_size)\n",
      "        return\n",
      "\n",
      "\n",
      "class TanhModule(Module):\n",
      "    \n",
      "    #Permet le calcul de la sortie du module\n",
      "    def __init__(self,entry_size,layer_size):\n",
      "        pass\n",
      "\n",
      "    def forward(self,input):\n",
      "        return np.tanh(input)\n",
      "    \n",
      "    #Permet le calcul du gradient des cellules d'entr\u00e9e\n",
      "    def backward_delta(self,delta_module_suivant):\n",
      "        return 1-np.power(np.tanh(delta_module_suivant),2)\n",
      "        \n",
      "        \n",
      "    #Permet d'initialiser le gradient du module\n",
      "    def init_gradient(self):\n",
      "        pass\n",
      "    \n",
      "    #Permet la mise \u00e0 jour des parma\u00e8tres du module avcec la valeur courante di gradient\n",
      "    def update_parameters(self,gradient_step):\n",
      "        pass\n",
      "\n",
      "    #Permet de mettre \u00e0 jour la valeur courante du gradient par addition\n",
      "    def backward_update_gradient(self,input,delta_module_suivant):\n",
      "        pass\n",
      "    \n",
      "    #Permet de faire les deux backwar simultan\u00e9ment\n",
      "    def backward(self,input,delta_module_suivant):\n",
      "        return self.backward_delta(delta_module_suivant)\n",
      "\n",
      "    #Retourne les param\u00e8tres du module\n",
      "    def get_parameters(self):\n",
      "        pass\n",
      "    \n",
      "    #Initialize al\u00e9atoirement les param\u00e8tres du module\n",
      "    def randomize_parameters(self):\n",
      "        pass\n",
      "\n",
      "\n",
      "class LogisticModule(Module):\n",
      "    \n",
      "    #Permet le calcul de la sortie du module\n",
      "    def __init__(self,entry_size,layer_size):\n",
      "        pass\n",
      "    \n",
      "    def forward(self,input):\n",
      "        return np.power((1-np.exp(-1*input)),-1)\n",
      "    \n",
      "    #Permet le calcul du gradient des cellules d'entr\u00e9e\n",
      "    def backward_delta(self,delta_module_suivant):\n",
      "        return self.forward(delta_module_suivant)*(1-self.forward(delta_module_suivant))\n",
      "        \n",
      "        \n",
      "    #Permet d'initialiser le gradient du module\n",
      "    def init_gradient(self):\n",
      "        pass\n",
      "    \n",
      "    #Permet la mise \u00e0 jour des parma\u00e8tres du module avcec la valeur courante di gradient\n",
      "    def update_parameters(self,gradient_step):\n",
      "        pass\n",
      "    #Permet de mettre \u00e0 jour la valeur courante du gradient par addition\n",
      "    def backward_update_gradient(self,input,delta_module_suivant):\n",
      "        pass\n",
      "    \n",
      "    #Permet de faire les deux backwar simultan\u00e9ment\n",
      "    def backward(self,input,delta_module_suivant):\n",
      "        return self.backward_delta(delta_module_suivant)\n",
      "\n",
      "    #Retourne les param\u00e8tres du module\n",
      "    def get_parameters(self):\n",
      "        pass\n",
      "    \n",
      "    #Initialize al\u00e9atoirement les param\u00e8tres du module\n",
      "    def randomize_parameters(self):\n",
      "        pass\n",
      "\n",
      "\n",
      "\n",
      "#multimodule\n",
      "class MultiModule():\n",
      "    \n",
      "    #Permet le calcul de la sortie du module\n",
      "    def __init__(self,modules,loss):\n",
      "        self.modules = modules\n",
      "        self.loss = loss\n",
      "\n",
      "    \n",
      "    def forward(self,input):\n",
      "        self.inputs = []\n",
      "        for module in self.modules:\n",
      "            self.inputs.append(input)\n",
      "            input = module.forward(input)\n",
      "        return input\n",
      "\n",
      "    def forwardAll(self,examples):\n",
      "        return [self.forward(example) for example in examples]\n",
      "    \n",
      "    #Permet le calcul du gradient des cellules d'entr\u00e9e\n",
      "    def backward(self,predicted,wanted,batch=False,gradient_step=0.001):\n",
      "        loss_delta = self.loss.backward(predicted,wanted)\n",
      "        for module,input in zip(reversed(self.modules),reversed(self.inputs)):\n",
      "            loss_delta = module.backward(input,loss_delta)\n",
      "\n",
      "            if not batch:\n",
      "                module.update_parameters(gradient_step)\n",
      "\n",
      "\n",
      "        return loss_delta\n",
      "\n",
      "    def update_parameters(self,gradient_step):\n",
      "        for module in self.modules:\n",
      "            module.update_parameters(gradient_step)\n",
      "        return\n",
      "\n",
      "    def stochasticIter(self,examples,labels,gradient_step=0.001, verbose=False):\n",
      "        for example, label in zip(examples,labels):\n",
      "            pred = self.forward(example)\n",
      "            loss = self.backward(pred,label,gradient_step=gradient_step)\n",
      "\n",
      "            if verbose:\n",
      "                print loss\n",
      "        return\n"
     ],
     "language": "python",
     "metadata": {},
     "outputs": [],
     "prompt_number": 5
    },
    {
     "cell_type": "markdown",
     "metadata": {},
     "source": [
      "Nous allons nous int\u00e9resser au d\u00e9veloppement d'un classifieur sur les donn\u00e9es MNSIT (nous ferons des visages par la suite)"
     ]
    },
    {
     "cell_type": "markdown",
     "metadata": {},
     "source": [
      "Le chargement des donn\u00e9es MNIST s'effectue facilement gr\u00e2ce \u00e0 la commande suivante:\n"
     ]
    },
    {
     "cell_type": "code",
     "collapsed": true,
     "input": [
      "from sklearn.datasets import fetch_mldata\n",
      "mnist=fetch_mldata('MNIST original')\n",
      "mnist"
     ],
     "language": "python",
     "metadata": {},
     "outputs": [
      {
       "metadata": {},
       "output_type": "pyout",
       "prompt_number": 6,
       "text": [
        "{'COL_NAMES': ['label', 'data'],\n",
        " 'DESCR': 'mldata.org dataset: mnist-original',\n",
        " 'data': array([[0, 0, 0, ..., 0, 0, 0],\n",
        "        [0, 0, 0, ..., 0, 0, 0],\n",
        "        [0, 0, 0, ..., 0, 0, 0],\n",
        "        ..., \n",
        "        [0, 0, 0, ..., 0, 0, 0],\n",
        "        [0, 0, 0, ..., 0, 0, 0],\n",
        "        [0, 0, 0, ..., 0, 0, 0]], dtype=uint8),\n",
        " 'target': array([ 0.,  0.,  0., ...,  9.,  9.,  9.])}"
       ]
      }
     ],
     "prompt_number": 6
    },
    {
     "cell_type": "markdown",
     "metadata": {},
     "source": [
      "Visualisation des donn\u00e9es"
     ]
    },
    {
     "cell_type": "code",
     "collapsed": true,
     "input": [
      "import matplotlib.pyplot as plt\n",
      "import numpy as np\n",
      "\n",
      "plt.rc(\"image\",cmap=\"binary\")\n",
      "plt.subplot(10,10,1)\n",
      "\n",
      "for i in range(100):\n",
      "    plt.subplot(10,10,i)\n",
      "    idx=np.random.randint(len(mnist.data))\n",
      "    plt.imshow(mnist.data[idx].reshape(28,28))"
     ],
     "language": "python",
     "metadata": {},
     "outputs": [
      {
       "metadata": {},
       "output_type": "display_data",
       "png": "[encoded data removed]",
       "text": [
        "<matplotlib.figure.Figure at 0x46ca150>"
       ]
      }
     ],
     "prompt_number": 7
    },
    {
     "cell_type": "markdown",
     "metadata": {},
     "source": [
      "Afin de r\u00e9duire la taille des exp\u00e9rimentations, nous allons nous restreindre aux chiffres dont les \u00e9tiquettes sont 6 et 8"
     ]
    },
    {
     "cell_type": "code",
     "collapsed": false,
     "input": [
      "import numpy as np\n",
      "\n",
      "#Creation des vecteurs d'entr\u00e9e\n",
      "mnist_6=mnist.data[mnist.target==6]\n",
      "nb_6=len(mnist_6)\n",
      "mnist_8=mnist.data[mnist.target==8]\n",
      "nb_8=len(mnist_8)\n",
      "mnist_6_8=np.vstack((mnist_6,mnist_8))\n",
      "print \"%d 6s and %d 8s\" % (nb_6,nb_8)\n",
      "\n",
      "#Creation des vecteurs de sortie\n",
      "target_6_8=np.array([[1]])\n",
      "for i in range(nb_6-1):\n",
      "    target_6_8=np.vstack((target_6_8,[1]))\n",
      "for i in range(nb_8):\n",
      "    target_6_8=np.vstack((target_6_8,[-1]))\n",
      "    \n",
      "print \"%d/%d vecteurs d'apprentissage\" % (len(target_6_8),len(mnist_6_8))\n",
      "\n",
      "\n"
     ],
     "language": "python",
     "metadata": {},
     "outputs": [
      {
       "output_type": "stream",
       "stream": "stdout",
       "text": [
        "6876 6s and 6825 8s\n",
        "13701/13701 vecteurs d'apprentissage"
       ]
      },
      {
       "output_type": "stream",
       "stream": "stdout",
       "text": [
        "\n"
       ]
      }
     ],
     "prompt_number": 8
    },
    {
     "cell_type": "markdown",
     "metadata": {},
     "source": [
      "Sous-\u00e9chantillonage des donn\u00e9es"
     ]
    },
    {
     "cell_type": "code",
     "collapsed": false,
     "input": [
      "# Sous-Echantillonage des deux matrices (pour test)\n",
      "randomvec=np.random.rand(len(target_6_8))\n",
      "randomvec=randomvec>0.8\n",
      "target_6_8=target_6_8[randomvec]\n",
      "mnist_6_8=mnist_6_8[randomvec]\n",
      "print \"%d/%d vecteurs d'apprentissage apres echantillonage\" % (len(target_6_8),len(mnist_6_8))\n"
     ],
     "language": "python",
     "metadata": {},
     "outputs": [
      {
       "output_type": "stream",
       "stream": "stdout",
       "text": [
        "2768/2768 vecteurs d'apprentissage apres echantillonage\n"
       ]
      }
     ],
     "prompt_number": 9
    },
    {
     "cell_type": "markdown",
     "metadata": {},
     "source": [
      "Cr\u00e9ation d'un ensemble de Train et de Test"
     ]
    },
    {
     "cell_type": "code",
     "collapsed": false,
     "input": [
      "#Creatin de train et test\n",
      "randomvec=np.random.rand(len(target_6_8))\n",
      "randomvec=randomvec>0.5\n",
      "\n",
      "train_data=mnist_6_8[randomvec]\n",
      "train_label=target_6_8[randomvec]\n",
      "test_data=mnist_6_8[np.logical_not(randomvec)]\n",
      "test_label=target_6_8[np.logical_not(randomvec)]\n",
      "print \"%d training examples and %d testing examples \" % (len(train_data),len(test_data))\n",
      "plt.imshow(train_data[np.random.randint(len(train_data))].reshape(28,28))"
     ],
     "language": "python",
     "metadata": {},
     "outputs": [
      {
       "output_type": "stream",
       "stream": "stdout",
       "text": [
        "1344 training examples and 1424 testing examples \n"
       ]
      },
      {
       "metadata": {},
       "output_type": "pyout",
       "prompt_number": 10,
       "text": [
        "<matplotlib.image.AxesImage at 0x919ecd0>"
       ]
      },
      {
       "metadata": {},
       "output_type": "display_data",
       "png": "[encoded data removed]",
       "text": [
        "<matplotlib.figure.Figure at 0x483ed50>"
       ]
      }
     ],
     "prompt_number": 10
    },
    {
     "cell_type": "markdown",
     "metadata": {},
     "source": [
      "Impl\u00e9mentation de classifieurs\n",
      "======"
     ]
    },
    {
     "cell_type": "markdown",
     "metadata": {},
     "source": [
      "Commencez par tester plusieurs classifieurs (architecture) sur ce probl\u00e8me. "
     ]
    },
    {
     "cell_type": "markdown",
     "metadata": {},
     "source": [
      "##Perceptron \n",
      "--------------------------------"
     ]
    },
    {
     "cell_type": "code",
     "collapsed": false,
     "input": [
      "perceptron = MultiModule([LinearModule(28*28,1)],HingeLoss())\n",
      "\n",
      "NBITER = 10\n",
      "print \"=======TRAIN ERROR=======\"\n",
      "for i in xrange(0,NBITER):\n",
      "    perceptron.stochasticIter(train_data, train_label, verbose=False)\n",
      "    \n",
      "    predicted = perceptron.forwardAll(train_data)\n",
      "    ok=0\n",
      "    ko=0\n",
      "    for pred,exp in zip(predicted,train_label):\n",
      "        if pred[0]*exp[0] > 0:\n",
      "            ok+=1\n",
      "        else:\n",
      "            ko+=1\n",
      "    print \"Iteration n\u00b0%d: %d correct (%f%%), %d incorrect (%f%%) \" % (i,ok,ok/(ok+ko+0.0)*100,ko,ko/(ok+ko+0.0)*100)\n",
      "\n",
      "\n",
      "    \n",
      "print \"=======TEST ERROR=======\"  \n",
      "predicted = perceptron.forwardAll(test_data)\n",
      "\n",
      "ok=0\n",
      "ko=0\n",
      "for pred,exp in zip(predicted,test_label):\n",
      "    if pred[0]*exp[0] > 0:\n",
      "        ok+=1\n",
      "    else:\n",
      "        ko+=1\n",
      "        \n",
      "print \"%d correct (%f%%), %d incorrect (%f%%) \" % (ok,ok/(ok+ko+0.0)*100,ko,ko/(ok+ko+0.0)*100)\n",
      "\n"
     ],
     "language": "python",
     "metadata": {},
     "outputs": [
      {
       "output_type": "stream",
       "stream": "stdout",
       "text": [
        "=======TRAIN ERROR=======\n",
        "Iteration n\u00b00: 664 correct (49.404762%), 680 incorrect (50.595238%) "
       ]
      },
      {
       "output_type": "stream",
       "stream": "stdout",
       "text": [
        "\n",
        "Iteration n\u00b01: 660 correct (49.107143%), 684 incorrect (50.892857%) "
       ]
      },
      {
       "output_type": "stream",
       "stream": "stdout",
       "text": [
        "\n",
        "Iteration n\u00b02: 725 correct (53.943452%), 619 incorrect (46.056548%) "
       ]
      },
      {
       "output_type": "stream",
       "stream": "stdout",
       "text": [
        "\n",
        "Iteration n\u00b03: 901 correct (67.038690%), 443 incorrect (32.961310%) "
       ]
      },
      {
       "output_type": "stream",
       "stream": "stdout",
       "text": [
        "\n",
        "Iteration n\u00b04: 1097 correct (81.622024%), 247 incorrect (18.377976%) "
       ]
      },
      {
       "output_type": "stream",
       "stream": "stdout",
       "text": [
        "\n",
        "Iteration n\u00b05: 1109 correct (82.514881%), 235 incorrect (17.485119%) "
       ]
      },
      {
       "output_type": "stream",
       "stream": "stdout",
       "text": [
        "\n",
        "Iteration n\u00b06: 1081 correct (80.431548%), 263 incorrect (19.568452%) "
       ]
      },
      {
       "output_type": "stream",
       "stream": "stdout",
       "text": [
        "\n",
        "Iteration n\u00b07: 1107 correct (82.366071%), 237 incorrect (17.633929%) "
       ]
      },
      {
       "output_type": "stream",
       "stream": "stdout",
       "text": [
        "\n",
        "Iteration n\u00b08: 906 correct (67.410714%), 438 incorrect (32.589286%) "
       ]
      },
      {
       "output_type": "stream",
       "stream": "stdout",
       "text": [
        "\n",
        "Iteration n\u00b09: 1187 correct (88.318452%), 157 incorrect (11.681548%) "
       ]
      },
      {
       "output_type": "stream",
       "stream": "stdout",
       "text": [
        "\n",
        "=======TEST ERROR=======\n",
        "1259 correct (88.412921%), 165 incorrect (11.587079%) \n"
       ]
      }
     ],
     "prompt_number": 15
    },
    {
     "cell_type": "markdown",
     "metadata": {},
     "source": [
      "##Multi-Layer Perceptron\n",
      "--------------------------------"
     ]
    },
    {
     "cell_type": "code",
     "collapsed": false,
     "input": [
      "mod2 = LinearModule(20,1)\n",
      "mod1 = LinearModule(28*28,20)\n",
      "\n",
      "MLP = MultiModule([mod1,TanhModule(20,20),mod2],HingeLoss())\n",
      "\n",
      "#print mod1.parameters\n",
      "NBITER = 5\n",
      "print \"=======TRAIN ERROR=======\"\n",
      "for i in xrange(0,NBITER):\n",
      "    MLP.stochasticIter(train_data, train_label,gradient_step=0.001, verbose=False)\n",
      "    \n",
      "    predicted = MLP.forwardAll(train_data)\n",
      "    ok=0\n",
      "    ko=0\n",
      "    for pred,exp in zip(predicted,train_label):\n",
      "        if pred[0]*exp[0] > 0:\n",
      "            ok+=1\n",
      "        else:\n",
      "            ko+=1\n",
      "    print \"Iteration n\u00b0%d: %d correct (%f%%), %d incorrect (%f%%) \" % (i,ok,ok/(ok+ko+0.0)*100,ko,ko/(ok+ko+0.0)*100)\n",
      "\n",
      "#print mod1.parameters\n",
      "    \n",
      "print \"=======TEST ERROR=======\"  \n",
      "predicted = MLP.forwardAll(test_data)\n",
      "\n",
      "ok=0\n",
      "ko=0\n",
      "for pred,exp in zip(predicted,test_label):\n",
      "    if pred[0]*exp[0] > 0:\n",
      "        ok+=1\n",
      "    else:\n",
      "        ko+=1\n",
      "        \n",
      "print \"%d correct (%f%%), %d incorrect (%f%%) \" % (ok,ok/(ok+ko+0.0)*100,ko,ko/(ok+ko+0.0)*100)\n",
      "\n"
     ],
     "language": "python",
     "metadata": {},
     "outputs": [
      {
       "output_type": "stream",
       "stream": "stdout",
       "text": [
        "=======TRAIN ERROR=======\n",
        "Iteration n\u00b00: 656 correct (48.809524%), 688 incorrect (51.190476%) "
       ]
      },
      {
       "output_type": "stream",
       "stream": "stdout",
       "text": [
        "\n",
        "Iteration n\u00b01: 656 correct (48.809524%), 688 incorrect (51.190476%) "
       ]
      },
      {
       "output_type": "stream",
       "stream": "stdout",
       "text": [
        "\n",
        "Iteration n\u00b02: 656 correct (48.809524%), 688 incorrect (51.190476%) "
       ]
      },
      {
       "output_type": "stream",
       "stream": "stdout",
       "text": [
        "\n",
        "Iteration n\u00b03: 656 correct (48.809524%), 688 incorrect (51.190476%) "
       ]
      },
      {
       "output_type": "stream",
       "stream": "stdout",
       "text": [
        "\n",
        "Iteration n\u00b04: 656 correct (48.809524%), 688 incorrect (51.190476%) "
       ]
      },
      {
       "output_type": "stream",
       "stream": "stdout",
       "text": [
        "\n",
        "=======TEST ERROR=======\n",
        "715 correct (50.210674%), 709 incorrect (49.789326%) \n"
       ]
      }
     ],
     "prompt_number": 16
    },
    {
     "cell_type": "code",
     "collapsed": false,
     "input": [
      "mod = LinearModule(3,2)\n",
      "mod.parameters = np.ones((2,3))\n",
      "mod.parameters[1,:]*=2\n",
      "dj = np.array([10,5])\n",
      "\n",
      "print mod.parameters\n",
      "print dj\n",
      "print mod.backward_delta(dj)\n",
      "print dj*mod.parameters.T\n",
      "np.sum((dj*mod.parameters.T).T,axis=0)\n"
     ],
     "language": "python",
     "metadata": {},
     "outputs": [
      {
       "output_type": "stream",
       "stream": "stdout",
       "text": [
        "[[ 1.  1.  1.]\n",
        " [ 2.  2.  2.]]\n",
        "[10  5]\n",
        "[ 20.  20.  20.]\n",
        "[[ 10.  10.]\n",
        " [ 10.  10.]\n",
        " [ 10.  10.]]\n"
       ]
      },
      {
       "metadata": {},
       "output_type": "pyout",
       "prompt_number": 18,
       "text": [
        "array([ 20.,  20.,  20.])"
       ]
      }
     ],
     "prompt_number": 18
    },
    {
     "cell_type": "markdown",
     "metadata": {},
     "source": [
      "Impl\u00e9mentation des Auto-encodeurs\n",
      "====="
     ]
    },
    {
     "cell_type": "markdown",
     "metadata": {},
     "source": [
      "Impl\u00e9mentez des auto-encodeurs et visualisez les patches appris"
     ]
    }
   ],
   "metadata": {}
  }
 ]
}