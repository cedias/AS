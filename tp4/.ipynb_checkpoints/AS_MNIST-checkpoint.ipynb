{
 "metadata": {
  "name": "",
  "signature": "sha256:68cf86497c4de170edcd7206929a0f00fdd77de99731a181391b7f9559ee2d15"
 },
 "nbformat": 3,
 "nbformat_minor": 0,
 "worksheets": [
  {
   "cells": [
    {
     "cell_type": "markdown",
     "metadata": {},
     "source": [
      "#Loss & Modules"
     ]
    },
    {
     "cell_type": "code",
     "collapsed": false,
     "input": [
      "import numpy as np\n",
      "\n",
      "       \n",
      "# Impl\u00e9mentation des Losses\n",
      "\n",
      "class Loss:\n",
      "    \n",
      "    #Calcule la valeur du loss \u00e9tant donn\u00e9es les valeurs pr\u00e9dites et d\u00e9sir\u00e9es\n",
      "    def getLossValue(self,predicted_output,desired_output):\n",
      "        pass\n",
      "    \n",
      "    #Calcule le gradient (pour chaque cellule d'entr\u00e9e) du co\u00fbt\n",
      "    def backward(self, predicted_output,desired_output):\n",
      "        pass \n",
      "\n",
      "\n",
      "#Square Loss\n",
      "\n",
      "class SquareLoss(Loss):\n",
      "    def getLossValue(self,predicted_output,desired_output):\n",
      "        return np.power(desired_output-predicted_output,2)\n",
      "    \n",
      "    def backward(self, predicted_output,desired_output):\n",
      "        return 2*(predicted_output-desired_output)\n",
      "    \n",
      "#HingeLoss\n",
      "\n",
      "class HingeLoss(Loss):\n",
      "    def getLossValue(self,predicted_output,desired_output):\n",
      "        return np.max(np.zeros(predicted_output.size), -desired_output*predicted_output)\n",
      "    \n",
      "    def backward(self, predicted_output,desired_output):\n",
      "        res = np.zeros(desired_output.size)\n",
      "        prod = -desired_output*predicted_output\n",
      "        index = np.where(prod >=0 )\n",
      "        res[index] = -desired_output[index]\n",
      "\n",
      "        return res\n",
      "\n",
      "# <markdowncell>\n",
      "\n",
      "# Impl\u00e9mentation des Modules\n",
      "# ======\n",
      "# \n",
      "# Nous allons maintenant impl\u00e9menter quelques modules de base\n",
      "\n",
      "# <codecell>\n",
      "\n",
      "class Module:\n",
      "    \n",
      "    #Permet le calcul de la sortie du module\n",
      "    def forward(self,input):\n",
      "        pass\n",
      "    \n",
      "    #Permet le calcul du gradient des cellules d'entr\u00e9e\n",
      "    def backward_delta(self,input,delta_module_suivant):\n",
      "        pass\n",
      "    \n",
      "    #Permet d'initialiser le gradient du module\n",
      "    def init_gradient(self):\n",
      "        pass\n",
      "    \n",
      "    #Permet la mise \u00e0 jour des parma\u00e8tres du module avcec la valeur courante di gradient\n",
      "    def update_parameters(self,gradient_step):\n",
      "        pass\n",
      "    \n",
      "    #Permet de mettre \u00e0 jour la valeur courante du gradient par addition\n",
      "    def backward_update_gradient(self,input,delta_module_suivant):\n",
      "        pass\n",
      "    \n",
      "    #Permet de faire les deux backwar simultan\u00e9ment\n",
      "    def backward(self,input,delta_module_suivant):\n",
      "        self.backward_update_gradient(input,delta_module_suivant)\n",
      "        return self.backward_delte(input,delta_module_suivant)\n",
      "\n",
      "    #Retourne les param\u00e8tres du module\n",
      "    def get_parameters(self):\n",
      "        pass\n",
      "    \n",
      "    #Initialize al\u00e9atoirement les param\u00e8tres du module\n",
      "    def randomize_parameters(self, variance):\n",
      "        pass\n",
      "    \n",
      "    \n",
      "\n",
      "class LinearModule(Module):\n",
      "    \n",
      "    #Permet le calcul de la sortie du module\n",
      "    def __init__(self,entry_size,layer_size):\n",
      "        self.entry_size = entry_size\n",
      "        self.layer_size = layer_size\n",
      "        self.init_gradient()\n",
      "        self.randomize_parameters()\n",
      "    \n",
      "    def forward(self,input):\n",
      "        return np.dot(self.parameters,input)\n",
      "    \n",
      "    #Permet le calcul du gradient des cellules d'entr\u00e9e\n",
      "    def backward_delta(self,input,delta_module_suivant):\n",
      "        return np.sum((delta_module_suivant*self.parameters.T).T,axis=0)\n",
      "        \n",
      "    #Permet d'initialiser le gradient du module\n",
      "    def init_gradient(self):\n",
      "        self.gradient = np.zeros((self.layer_size,self.entry_size))\n",
      "        return\n",
      "    \n",
      "    #Permet la mise \u00e0 jour des parma\u00e8tres du module avcec la valeur courante di gradient\n",
      "    def update_parameters(self,gradient_step):\n",
      "        self.parameters -= self.gradient*gradient_step\n",
      "        self.gradient = np.zeros((self.layer_size,self.entry_size))\n",
      "        return\n",
      "\n",
      "    #Permet de mettre \u00e0 jour la valeur courante du gradient par addition\n",
      "    def backward_update_gradient(self,input,delta_module_suivant):\n",
      "        newGrad = np.zeros((self.layer_size,self.entry_size))\n",
      "        for i in xrange(0,self.layer_size):\n",
      "            di = delta_module_suivant[i]\n",
      "            newGrad[i,:] =  di*input\n",
      "\n",
      "        self.gradient += newGrad\n",
      "        return \n",
      "    \n",
      "    #Permet de faire les deux backwar simultan\u00e9ment\n",
      "    def backward(self,input,delta_module_suivant):\n",
      "        self.backward_update_gradient(input,delta_module_suivant)\n",
      "        return self.backward_delta(input,delta_module_suivant)\n",
      "\n",
      "    #Retourne les param\u00e8tres du module\n",
      "    def get_parameters(self):\n",
      "        return self.parameters\n",
      "    \n",
      "    #Initialize al\u00e9atoirement les param\u00e8tres du module\n",
      "    def randomize_parameters(self):\n",
      "        self.parameters = np.random.randn(self.layer_size,self.entry_size)\n",
      "        return\n",
      "\n",
      "\n",
      "class TanhModule(Module):\n",
      "    \n",
      "    #Permet le calcul de la sortie du module\n",
      "    def __init__(self,entry_size,layer_size):\n",
      "        pass\n",
      "\n",
      "    def forward(self,input):\n",
      "        return np.tanh(input)\n",
      "    \n",
      "    #Permet le calcul du gradient des cellules d'entr\u00e9e\n",
      "    def backward_delta(self,input,delta_module_suivant):\n",
      "        return (1-np.power(np.tanh(input),2))*delta_module_suivant\n",
      "        \n",
      "        \n",
      "    #Permet d'initialiser le gradient du module\n",
      "    def init_gradient(self):\n",
      "        pass\n",
      "    \n",
      "    #Permet la mise \u00e0 jour des parma\u00e8tres du module avcec la valeur courante di gradient\n",
      "    def update_parameters(self,gradient_step):\n",
      "        pass\n",
      "\n",
      "    #Permet de mettre \u00e0 jour la valeur courante du gradient par addition\n",
      "    def backward_update_gradient(self,input,delta_module_suivant):\n",
      "        pass\n",
      "    \n",
      "    #Permet de faire les deux backwar simultan\u00e9ment\n",
      "    def backward(self,input,delta_module_suivant):\n",
      "        return self.backward_delta(input,delta_module_suivant)\n",
      "\n",
      "    #Retourne les param\u00e8tres du module\n",
      "    def get_parameters(self):\n",
      "        pass\n",
      "    \n",
      "    #Initialize al\u00e9atoirement les param\u00e8tres du module\n",
      "    def randomize_parameters(self):\n",
      "        pass\n",
      "\n",
      "\n",
      "class LogisticModule(Module):\n",
      "    \n",
      "    #Permet le calcul de la sortie du module\n",
      "    def __init__(self,entry_size,layer_size):\n",
      "        pass\n",
      "    \n",
      "    def forward(self,input):\n",
      "        return np.power((1-np.exp(-1*input)),-1)\n",
      "    \n",
      "    #Permet le calcul du gradient des cellules d'entr\u00e9e\n",
      "    def backward_delta(self,input,delta_module_suivant):\n",
      "        return self.forward(input)*(1-self.forward(input))*delta_module_suivant\n",
      "        \n",
      "        \n",
      "    #Permet d'initialiser le gradient du module\n",
      "    def init_gradient(self):\n",
      "        pass\n",
      "    \n",
      "    #Permet la mise \u00e0 jour des parma\u00e8tres du module avcec la valeur courante di gradient\n",
      "    def update_parameters(self,gradient_step):\n",
      "        pass\n",
      "    #Permet de mettre \u00e0 jour la valeur courante du gradient par addition\n",
      "    def backward_update_gradient(self,input,delta_module_suivant):\n",
      "        pass\n",
      "    \n",
      "    #Permet de faire les deux backwar simultan\u00e9ment\n",
      "    def backward(self,input,delta_module_suivant):\n",
      "        return self.backward_delta(input,delta_module_suivant)\n",
      "\n",
      "    #Retourne les param\u00e8tres du module\n",
      "    def get_parameters(self):\n",
      "        pass\n",
      "    \n",
      "    #Initialize al\u00e9atoirement les param\u00e8tres du module\n",
      "    def randomize_parameters(self):\n",
      "        pass\n",
      "\n",
      "\n",
      "\n",
      "#multimodule classes\n",
      "class MultiModule():\n",
      "    \n",
      "    #Permet le calcul de la sortie du module\n",
      "    def __init__(self,modules,loss):\n",
      "        self.modules = modules\n",
      "        self.loss = loss\n",
      "\n",
      "    \n",
      "    def forward(self,input):\n",
      "        self.inputs = []\n",
      "        for module in self.modules:\n",
      "            self.inputs.append(input)\n",
      "            input = module.forward(input)\n",
      "        return input\n",
      "\n",
      "    def forwardAll(self,examples):\n",
      "        return [self.forward(example) for example in examples]\n",
      "    \n",
      "    #Permet le calcul du gradient des cellules d'entr\u00e9e\n",
      "    def backward(self,predicted,wanted,batch=False,gradient_step=0.001):\n",
      "        loss_delta = self.loss.backward(predicted,wanted)\n",
      "        for module,input in zip(reversed(self.modules),reversed(self.inputs)):\n",
      "            loss_delta = module.backward(input,loss_delta)\n",
      "\n",
      "            if not batch:\n",
      "                module.update_parameters(gradient_step)\n",
      "\n",
      "\n",
      "        return loss_delta\n",
      "\n",
      "    def update_parameters(self,gradient_step):\n",
      "        for module in self.modules:\n",
      "            module.update_parameters(gradient_step)\n",
      "        return\n",
      "    \n",
      "    def stochasticIter(self,examples,labels,gradient_step=0.001, verbose=False):\n",
      "        for example, label in zip(examples,labels):\n",
      "            pred = self.forward(example)\n",
      "            loss = self.backward(pred,label,gradient_step=gradient_step)\n",
      "\n",
      "            if verbose:\n",
      "                print loss\n",
      "        return loss\n",
      "    \n",
      "    def batchIter(self,examples,labels,gradient_step=0.001, verbose=False):\n",
      "        for example, label in zip(examples,labels):\n",
      "            pred = self.forward(example)\n",
      "            loss = self.backward(pred,label,batch=True,gradient_step=gradient_step)\n",
      "\n",
      "            if verbose:\n",
      "                print loss\n",
      "        self.update_parameters(gradient_step)\n",
      "        return\n",
      "    \n",
      "    def miniBatchIter(self,examples,labels,batch_size=10, gradient_step=0.001, verbose=False):\n",
      "        for i, (example, label) in enumerate(zip(examples,labels)):\n",
      "            pred = self.forward(example)\n",
      "            loss = self.backward(pred,label,batch=True,gradient_step=gradient_step)\n",
      "\n",
      "            if verbose:\n",
      "                print loss\n",
      "            if i%batch_size == 0:\n",
      "                self.update_parameters(gradient_step)\n",
      "        self.update_parameters(gradient_step)\n",
      "        return\n",
      "    "
     ],
     "language": "python",
     "metadata": {},
     "outputs": [],
     "prompt_number": 14
    },
    {
     "cell_type": "markdown",
     "metadata": {},
     "source": [
      "Nous allons nous int\u00e9resser au d\u00e9veloppement d'un classifieur sur les donn\u00e9es MNSIT (nous ferons des visages par la suite)"
     ]
    },
    {
     "cell_type": "markdown",
     "metadata": {},
     "source": [
      "Le chargement des donn\u00e9es MNIST s'effectue facilement gr\u00e2ce \u00e0 la commande suivante:\n"
     ]
    },
    {
     "cell_type": "code",
     "collapsed": true,
     "input": [
      "from sklearn.datasets import fetch_mldata\n",
      "mnist=fetch_mldata('MNIST original')\n",
      "mnist"
     ],
     "language": "python",
     "metadata": {},
     "outputs": [
      {
       "metadata": {},
       "output_type": "pyout",
       "prompt_number": 2,
       "text": [
        "{'COL_NAMES': ['label', 'data'],\n",
        " 'DESCR': 'mldata.org dataset: mnist-original',\n",
        " 'data': array([[0, 0, 0, ..., 0, 0, 0],\n",
        "        [0, 0, 0, ..., 0, 0, 0],\n",
        "        [0, 0, 0, ..., 0, 0, 0],\n",
        "        ..., \n",
        "        [0, 0, 0, ..., 0, 0, 0],\n",
        "        [0, 0, 0, ..., 0, 0, 0],\n",
        "        [0, 0, 0, ..., 0, 0, 0]], dtype=uint8),\n",
        " 'target': array([ 0.,  0.,  0., ...,  9.,  9.,  9.])}"
       ]
      }
     ],
     "prompt_number": 2
    },
    {
     "cell_type": "markdown",
     "metadata": {},
     "source": [
      "Visualisation des donn\u00e9es"
     ]
    },
    {
     "cell_type": "code",
     "collapsed": true,
     "input": [
      "import matplotlib.pyplot as plt\n",
      "import numpy as np\n",
      "\n",
      "plt.rc(\"image\",cmap=\"binary\")\n",
      "plt.subplot(10,10,1)\n",
      "\n",
      "for i in range(100):\n",
      "    plt.subplot(10,10,i)\n",
      "    idx=np.random.randint(len(mnist.data))\n",
      "    plt.imshow(mnist.data[idx].reshape(28,28))"
     ],
     "language": "python",
     "metadata": {},
     "outputs": [],
     "prompt_number": 4
    },
    {
     "cell_type": "markdown",
     "metadata": {},
     "source": [
      "Afin de r\u00e9duire la taille des exp\u00e9rimentations, nous allons nous restreindre aux chiffres dont les \u00e9tiquettes sont 6 et 8"
     ]
    },
    {
     "cell_type": "code",
     "collapsed": false,
     "input": [
      "import numpy as np\n",
      "\n",
      "#Creation des vecteurs d'entr\u00e9e\n",
      "mnist_6=mnist.data[mnist.target==6]\n",
      "nb_6=len(mnist_6)\n",
      "mnist_8=mnist.data[mnist.target==8]\n",
      "nb_8=len(mnist_8)\n",
      "mnist_6_8=np.vstack((mnist_6,mnist_8))\n",
      "print \"%d 6s and %d 8s\" % (nb_6,nb_8)\n",
      "\n",
      "#Creation des vecteurs de sortie\n",
      "target_6_8=np.array([[1]])\n",
      "for i in range(nb_6-1):\n",
      "    target_6_8=np.vstack((target_6_8,[1]))\n",
      "for i in range(nb_8):\n",
      "    target_6_8=np.vstack((target_6_8,[-1]))\n",
      "    \n",
      "print \"%d/%d vecteurs d'apprentissage\" % (len(target_6_8),len(mnist_6_8))\n",
      "\n",
      "\n"
     ],
     "language": "python",
     "metadata": {},
     "outputs": [
      {
       "output_type": "stream",
       "stream": "stdout",
       "text": [
        "6876 6s and 6825 8s\n",
        "13701/13701 vecteurs d'apprentissage"
       ]
      },
      {
       "output_type": "stream",
       "stream": "stdout",
       "text": [
        "\n"
       ]
      }
     ],
     "prompt_number": 5
    },
    {
     "cell_type": "markdown",
     "metadata": {},
     "source": [
      "Sous-\u00e9chantillonage des donn\u00e9es"
     ]
    },
    {
     "cell_type": "code",
     "collapsed": false,
     "input": [
      "# Sous-Echantillonage des deux matrices (pour test)\n",
      "randomvec=np.random.rand(len(target_6_8))\n",
      "randomvec=randomvec>0.8\n",
      "target_6_8=target_6_8[randomvec]\n",
      "mnist_6_8=mnist_6_8[randomvec]\n",
      "print \"%d/%d vecteurs d'apprentissage apres echantillonage\" % (len(target_6_8),len(mnist_6_8))\n"
     ],
     "language": "python",
     "metadata": {},
     "outputs": [
      {
       "output_type": "stream",
       "stream": "stdout",
       "text": [
        "2711/2711 vecteurs d'apprentissage apres echantillonage\n"
       ]
      }
     ],
     "prompt_number": 6
    },
    {
     "cell_type": "markdown",
     "metadata": {},
     "source": [
      "Cr\u00e9ation d'un ensemble de Train et de Test"
     ]
    },
    {
     "cell_type": "code",
     "collapsed": false,
     "input": [
      "#Creatin de train et test\n",
      "randomvec=np.random.rand(len(target_6_8))\n",
      "randomvec=randomvec>0.5\n",
      "\n",
      "train_data=mnist_6_8[randomvec]\n",
      "train_label=target_6_8[randomvec]\n",
      "test_data=mnist_6_8[np.logical_not(randomvec)]\n",
      "test_label=target_6_8[np.logical_not(randomvec)]\n",
      "print \"%d training examples and %d testing examples \" % (len(train_data),len(test_data))\n",
      "plt.imshow(train_data[np.random.randint(len(train_data))].reshape(28,28))"
     ],
     "language": "python",
     "metadata": {},
     "outputs": [
      {
       "output_type": "stream",
       "stream": "stdout",
       "text": [
        "1359 training examples and 1352 testing examples \n"
       ]
      },
      {
       "metadata": {},
       "output_type": "pyout",
       "prompt_number": 7,
       "text": [
        "<matplotlib.image.AxesImage at 0x9e9afd0>"
       ]
      }
     ],
     "prompt_number": 7
    },
    {
     "cell_type": "markdown",
     "metadata": {},
     "source": [
      "Impl\u00e9mentation de classifieurs\n",
      "======"
     ]
    },
    {
     "cell_type": "markdown",
     "metadata": {},
     "source": [
      "Commencez par tester plusieurs classifieurs (architecture) sur ce probl\u00e8me. "
     ]
    },
    {
     "cell_type": "markdown",
     "metadata": {},
     "source": [
      "##Perceptron \n",
      "--------------------------------"
     ]
    },
    {
     "cell_type": "code",
     "collapsed": false,
     "input": [
      "perceptron = MultiModule([LinearModule(28*28,1)],HingeLoss())\n",
      "\n",
      "NBITER = 10\n",
      "print \"=======TRAIN ERROR=======\"\n",
      "for i in xrange(0,NBITER):\n",
      "    perceptron.stochasticIter(train_data, train_label, verbose=False)\n",
      "    \n",
      "    predicted = perceptron.forwardAll(train_data)\n",
      "    ok=0\n",
      "    ko=0\n",
      "    for pred,exp in zip(predicted,train_label):\n",
      "        if pred[0]*exp[0] > 0:\n",
      "            ok+=1\n",
      "        else:\n",
      "            ko+=1\n",
      "    print \"Iteration n\u00b0%d: %d correct (%f%%), %d incorrect (%f%%) \" % (i,ok,ok/(ok+ko+0.0)*100,ko,ko/(ok+ko+0.0)*100)\n",
      "\n",
      "\n",
      "    \n",
      "print \"=======TEST ERROR=======\"  \n",
      "predicted = perceptron.forwardAll(test_data)\n",
      "\n",
      "ok=0\n",
      "ko=0\n",
      "for pred,exp in zip(predicted,test_label):\n",
      "    if pred[0]*exp[0] > 0:\n",
      "        ok+=1\n",
      "    else:\n",
      "        ko+=1\n",
      "        \n",
      "print \"%d correct (%f%%), %d incorrect (%f%%) \" % (ok,ok/(ok+ko+0.0)*100,ko,ko/(ok+ko+0.0)*100)\n",
      "\n"
     ],
     "language": "python",
     "metadata": {},
     "outputs": [
      {
       "output_type": "stream",
       "stream": "stdout",
       "text": [
        "=======TRAIN ERROR=======\n",
        "Iteration n\u00b00: 675 correct (49.668874%), 684 incorrect (50.331126%) "
       ]
      },
      {
       "output_type": "stream",
       "stream": "stdout",
       "text": [
        "\n",
        "Iteration n\u00b01: 684 correct (50.331126%), 675 incorrect (49.668874%) "
       ]
      },
      {
       "output_type": "stream",
       "stream": "stdout",
       "text": [
        "\n",
        "Iteration n\u00b02: 789 correct (58.057395%), 570 incorrect (41.942605%) "
       ]
      },
      {
       "output_type": "stream",
       "stream": "stdout",
       "text": [
        "\n",
        "Iteration n\u00b03: 886 correct (65.194996%), 473 incorrect (34.805004%) "
       ]
      },
      {
       "output_type": "stream",
       "stream": "stdout",
       "text": [
        "\n",
        "Iteration n\u00b04: 893 correct (65.710081%), 466 incorrect (34.289919%) "
       ]
      },
      {
       "output_type": "stream",
       "stream": "stdout",
       "text": [
        "\n",
        "Iteration n\u00b05: 857 correct (63.061074%), 502 incorrect (36.938926%) "
       ]
      },
      {
       "output_type": "stream",
       "stream": "stdout",
       "text": [
        "\n",
        "Iteration n\u00b06: 1030 correct (75.791023%), 329 incorrect (24.208977%) "
       ]
      },
      {
       "output_type": "stream",
       "stream": "stdout",
       "text": [
        "\n",
        "Iteration n\u00b07: 1005 correct (73.951435%), 354 incorrect (26.048565%) "
       ]
      },
      {
       "output_type": "stream",
       "stream": "stdout",
       "text": [
        "\n",
        "Iteration n\u00b08: 929 correct (68.359088%), 430 incorrect (31.640912%) "
       ]
      },
      {
       "output_type": "stream",
       "stream": "stdout",
       "text": [
        "\n",
        "Iteration n\u00b09: 1272 correct (93.598234%), 87 incorrect (6.401766%) "
       ]
      },
      {
       "output_type": "stream",
       "stream": "stdout",
       "text": [
        "\n",
        "=======TEST ERROR=======\n",
        "1244 correct (92.011834%), 108 incorrect (7.988166%) \n"
       ]
      }
     ],
     "prompt_number": 8
    },
    {
     "cell_type": "markdown",
     "metadata": {},
     "source": [
      "##Multi-Layer Perceptron\n",
      "--------------------------------"
     ]
    },
    {
     "cell_type": "code",
     "collapsed": false,
     "input": [
      "mod2 = LinearModule(50,1)\n",
      "mod1 = LinearModule(28*28,50)\n",
      "\n",
      "MLP = MultiModule([mod1,TanhModule(20,20),mod2],SquareLoss())\n",
      "\n",
      "#print mod1.parameters\n",
      "NBITER = 50\n",
      "print \"=======TRAIN ERROR=======\"\n",
      "for i in xrange(0,NBITER):\n",
      "    MLP.stochasticIter(train_data, train_label,gradient_step=0.0001, verbose=False)\n",
      "    \n",
      "    predicted = MLP.forwardAll(train_data)\n",
      "    ok=0\n",
      "    ko=0\n",
      "    for pred,exp in zip(predicted,train_label):\n",
      "        if pred[0]*exp[0] > 0:\n",
      "            ok+=1\n",
      "        else:\n",
      "            ko+=1\n",
      "    print \"Iteration n\u00b0%d: %d correct (%f%%), %d incorrect (%f%%) \" % (i,ok,ok/(ok+ko+0.0)*100,ko,ko/(ok+ko+0.0)*100)\n",
      "\n",
      "#print mod1.parameters\n",
      "    \n",
      "print \"=======TEST ERROR=======\"  \n",
      "predicted = MLP.forwardAll(test_data)\n",
      "\n",
      "ok=0\n",
      "ko=0\n",
      "for pred,exp in zip(predicted,test_label):\n",
      "    if pred[0]*exp[0] > 0:\n",
      "        ok+=1\n",
      "    else:\n",
      "        ko+=1\n",
      "        \n",
      "print \"%d correct (%f%%), %d incorrect (%f%%) \" % (ok,ok/(ok+ko+0.0)*100,ko,ko/(ok+ko+0.0)*100)\n",
      "\n"
     ],
     "language": "python",
     "metadata": {},
     "outputs": [
      {
       "output_type": "stream",
       "stream": "stdout",
       "text": [
        "=======TRAIN ERROR=======\n",
        "Iteration n\u00b00: 925 correct (68.064753%), 434 incorrect (31.935247%) "
       ]
      },
      {
       "output_type": "stream",
       "stream": "stdout",
       "text": [
        "\n",
        "Iteration n\u00b01: 868 correct (63.870493%), 491 incorrect (36.129507%) "
       ]
      },
      {
       "output_type": "stream",
       "stream": "stdout",
       "text": [
        "\n",
        "Iteration n\u00b02: 845 correct (62.178072%), 514 incorrect (37.821928%) "
       ]
      },
      {
       "output_type": "stream",
       "stream": "stdout",
       "text": [
        "\n",
        "Iteration n\u00b03: 913 correct (67.181751%), 446 incorrect (32.818249%) "
       ]
      },
      {
       "output_type": "stream",
       "stream": "stdout",
       "text": [
        "\n",
        "Iteration n\u00b04: 897 correct (66.004415%), 462 incorrect (33.995585%) "
       ]
      },
      {
       "output_type": "stream",
       "stream": "stdout",
       "text": [
        "\n",
        "Iteration n\u00b05: 883 correct (64.974246%), 476 incorrect (35.025754%) "
       ]
      },
      {
       "output_type": "stream",
       "stream": "stdout",
       "text": [
        "\n",
        "Iteration n\u00b06: 923 correct (67.917586%), 436 incorrect (32.082414%) "
       ]
      },
      {
       "output_type": "stream",
       "stream": "stdout",
       "text": [
        "\n",
        "Iteration n\u00b07: 973 correct (71.596762%), 386 incorrect (28.403238%) "
       ]
      },
      {
       "output_type": "stream",
       "stream": "stdout",
       "text": [
        "\n",
        "Iteration n\u00b08: 990 correct (72.847682%), 369 incorrect (27.152318%) "
       ]
      },
      {
       "output_type": "stream",
       "stream": "stdout",
       "text": [
        "\n",
        "Iteration n\u00b09: 1009 correct (74.245769%), 350 incorrect (25.754231%) "
       ]
      },
      {
       "output_type": "stream",
       "stream": "stdout",
       "text": [
        "\n",
        "Iteration n\u00b010: 1021 correct (75.128771%), 338 incorrect (24.871229%) "
       ]
      },
      {
       "output_type": "stream",
       "stream": "stdout",
       "text": [
        "\n",
        "Iteration n\u00b011: 1050 correct (77.262693%), 309 incorrect (22.737307%) "
       ]
      },
      {
       "output_type": "stream",
       "stream": "stdout",
       "text": [
        "\n",
        "Iteration n\u00b012: 1067 correct (78.513613%), 292 incorrect (21.486387%) "
       ]
      },
      {
       "output_type": "stream",
       "stream": "stdout",
       "text": [
        "\n",
        "Iteration n\u00b013: 1083 correct (79.690949%), 276 incorrect (20.309051%) "
       ]
      },
      {
       "output_type": "stream",
       "stream": "stdout",
       "text": [
        "\n",
        "Iteration n\u00b014: 1096 correct (80.647535%), 263 incorrect (19.352465%) "
       ]
      },
      {
       "output_type": "stream",
       "stream": "stdout",
       "text": [
        "\n",
        "Iteration n\u00b015: 1105 correct (81.309787%), 254 incorrect (18.690213%) "
       ]
      },
      {
       "output_type": "stream",
       "stream": "stdout",
       "text": [
        "\n",
        "Iteration n\u00b016: 1119 correct (82.339956%), 240 incorrect (17.660044%) "
       ]
      },
      {
       "output_type": "stream",
       "stream": "stdout",
       "text": [
        "\n",
        "Iteration n\u00b017: 1131 correct (83.222958%), 228 incorrect (16.777042%) "
       ]
      },
      {
       "output_type": "stream",
       "stream": "stdout",
       "text": [
        "\n",
        "Iteration n\u00b018: 1143 correct (84.105960%), 216 incorrect (15.894040%) "
       ]
      },
      {
       "output_type": "stream",
       "stream": "stdout",
       "text": [
        "\n",
        "Iteration n\u00b019: 1154 correct (84.915379%), 205 incorrect (15.084621%) "
       ]
      },
      {
       "output_type": "stream",
       "stream": "stdout",
       "text": [
        "\n",
        "Iteration n\u00b020: 1163 correct (85.577631%), 196 incorrect (14.422369%) "
       ]
      },
      {
       "output_type": "stream",
       "stream": "stdout",
       "text": [
        "\n",
        "Iteration n\u00b021: 1171 correct (86.166299%), 188 incorrect (13.833701%) "
       ]
      },
      {
       "output_type": "stream",
       "stream": "stdout",
       "text": [
        "\n",
        "Iteration n\u00b022: 1176 correct (86.534216%), 183 incorrect (13.465784%) "
       ]
      },
      {
       "output_type": "stream",
       "stream": "stdout",
       "text": [
        "\n",
        "Iteration n\u00b023: 1180 correct (86.828550%), 179 incorrect (13.171450%) "
       ]
      },
      {
       "output_type": "stream",
       "stream": "stdout",
       "text": [
        "\n",
        "Iteration n\u00b024: 1183 correct (87.049301%), 176 incorrect (12.950699%) "
       ]
      },
      {
       "output_type": "stream",
       "stream": "stdout",
       "text": [
        "\n",
        "Iteration n\u00b025: 1193 correct (87.785136%), 166 incorrect (12.214864%) "
       ]
      },
      {
       "output_type": "stream",
       "stream": "stdout",
       "text": [
        "\n",
        "Iteration n\u00b026: 1197 correct (88.079470%), 162 incorrect (11.920530%) "
       ]
      },
      {
       "output_type": "stream",
       "stream": "stdout",
       "text": [
        "\n",
        "Iteration n\u00b027: 1200 correct (88.300221%), 159 incorrect (11.699779%) "
       ]
      },
      {
       "output_type": "stream",
       "stream": "stdout",
       "text": [
        "\n",
        "Iteration n\u00b028: 1208 correct (88.888889%), 151 incorrect (11.111111%) "
       ]
      },
      {
       "output_type": "stream",
       "stream": "stdout",
       "text": [
        "\n",
        "Iteration n\u00b029: 1211 correct (89.109639%), 148 incorrect (10.890361%) "
       ]
      },
      {
       "output_type": "stream",
       "stream": "stdout",
       "text": [
        "\n",
        "Iteration n\u00b030: 1215 correct (89.403974%), 144 incorrect (10.596026%) "
       ]
      },
      {
       "output_type": "stream",
       "stream": "stdout",
       "text": [
        "\n",
        "Iteration n\u00b031: 1215 correct (89.403974%), 144 incorrect (10.596026%) "
       ]
      },
      {
       "output_type": "stream",
       "stream": "stdout",
       "text": [
        "\n",
        "Iteration n\u00b032: 1220 correct (89.771891%), 139 incorrect (10.228109%) "
       ]
      },
      {
       "output_type": "stream",
       "stream": "stdout",
       "text": [
        "\n",
        "Iteration n\u00b033: 1222 correct (89.919058%), 137 incorrect (10.080942%) "
       ]
      },
      {
       "output_type": "stream",
       "stream": "stdout",
       "text": [
        "\n",
        "Iteration n\u00b034: 1224 correct (90.066225%), 135 incorrect (9.933775%) "
       ]
      },
      {
       "output_type": "stream",
       "stream": "stdout",
       "text": [
        "\n",
        "Iteration n\u00b035: 1225 correct (90.139809%), 134 incorrect (9.860191%) "
       ]
      },
      {
       "output_type": "stream",
       "stream": "stdout",
       "text": [
        "\n",
        "Iteration n\u00b036: 1230 correct (90.507726%), 129 incorrect (9.492274%) "
       ]
      },
      {
       "output_type": "stream",
       "stream": "stdout",
       "text": [
        "\n",
        "Iteration n\u00b037: 1233 correct (90.728477%), 126 incorrect (9.271523%) "
       ]
      },
      {
       "output_type": "stream",
       "stream": "stdout",
       "text": [
        "\n",
        "Iteration n\u00b038: 1237 correct (91.022811%), 122 incorrect (8.977189%) "
       ]
      },
      {
       "output_type": "stream",
       "stream": "stdout",
       "text": [
        "\n",
        "Iteration n\u00b039: 1237 correct (91.022811%), 122 incorrect (8.977189%) "
       ]
      },
      {
       "output_type": "stream",
       "stream": "stdout",
       "text": [
        "\n",
        "Iteration n\u00b040: 1238 correct (91.096394%), 121 incorrect (8.903606%) "
       ]
      },
      {
       "output_type": "stream",
       "stream": "stdout",
       "text": [
        "\n",
        "Iteration n\u00b041: 1238 correct (91.096394%), 121 incorrect (8.903606%) "
       ]
      },
      {
       "output_type": "stream",
       "stream": "stdout",
       "text": [
        "\n",
        "Iteration n\u00b042: 1242 correct (91.390728%), 117 incorrect (8.609272%) "
       ]
      },
      {
       "output_type": "stream",
       "stream": "stdout",
       "text": [
        "\n",
        "Iteration n\u00b043: 1245 correct (91.611479%), 114 incorrect (8.388521%) "
       ]
      },
      {
       "output_type": "stream",
       "stream": "stdout",
       "text": [
        "\n",
        "Iteration n\u00b044: 1245 correct (91.611479%), 114 incorrect (8.388521%) "
       ]
      },
      {
       "output_type": "stream",
       "stream": "stdout",
       "text": [
        "\n",
        "Iteration n\u00b045: 1244 correct (91.537896%), 115 incorrect (8.462104%) "
       ]
      },
      {
       "output_type": "stream",
       "stream": "stdout",
       "text": [
        "\n",
        "Iteration n\u00b046: 1244 correct (91.537896%), 115 incorrect (8.462104%) "
       ]
      },
      {
       "output_type": "stream",
       "stream": "stdout",
       "text": [
        "\n",
        "Iteration n\u00b047: 1244 correct (91.537896%), 115 incorrect (8.462104%) "
       ]
      },
      {
       "output_type": "stream",
       "stream": "stdout",
       "text": [
        "\n",
        "Iteration n\u00b048: 1242 correct (91.390728%), 117 incorrect (8.609272%) "
       ]
      },
      {
       "output_type": "stream",
       "stream": "stdout",
       "text": [
        "\n",
        "Iteration n\u00b049: 1242 correct (91.390728%), 117 incorrect (8.609272%) "
       ]
      },
      {
       "output_type": "stream",
       "stream": "stdout",
       "text": [
        "\n",
        "=======TEST ERROR=======\n",
        "1246 correct (92.159763%), 106 incorrect (7.840237%) "
       ]
      },
      {
       "output_type": "stream",
       "stream": "stdout",
       "text": [
        "\n"
       ]
      }
     ],
     "prompt_number": 9
    },
    {
     "cell_type": "code",
     "collapsed": false,
     "input": [
      "mod2 = LinearModule(50,1)\n",
      "mod1 = LinearModule(28*28,50)\n",
      "\n",
      "MLP = MultiModule([mod1,TanhModule(20,20),mod2],SquareLoss())\n",
      "\n",
      "#print mod1.parameters\n",
      "NBITER = 50\n",
      "print \"=======TRAIN ERROR=======\"\n",
      "for i in xrange(0,NBITER):\n",
      "    MLP.batchIter(train_data, train_label,gradient_step=0.000001, verbose=False)\n",
      "    predicted = MLP.forwardAll(train_data)\n",
      "    ok=0\n",
      "    ko=0\n",
      "    for pred,exp in zip(predicted,train_label):\n",
      "        if pred[0]*exp[0] > 0:\n",
      "            ok+=1\n",
      "        else:\n",
      "            ko+=1\n",
      "    print \"Iteration n\u00b0%d: %d correct (%f%%), %d incorrect (%f%%) \" % (i,ok,ok/(ok+ko+0.0)*100,ko,ko/(ok+ko+0.0)*100)\n",
      "\n",
      "#print mod1.parameters\n",
      "    \n",
      "print \"=======TEST ERROR=======\"  \n",
      "predicted = MLP.forwardAll(test_data)\n",
      "\n",
      "ok=0\n",
      "ko=0\n",
      "for pred,exp in zip(predicted,test_label):\n",
      "    if pred[0]*exp[0] > 0:\n",
      "        ok+=1\n",
      "    else:\n",
      "        ko+=1\n",
      "        \n",
      "print \"%d correct (%f%%), %d incorrect (%f%%) \" % (ok,ok/(ok+ko+0.0)*100,ko,ko/(ok+ko+0.0)*100)\n",
      "\n"
     ],
     "language": "python",
     "metadata": {},
     "outputs": [
      {
       "output_type": "stream",
       "stream": "stdout",
       "text": [
        "=======TRAIN ERROR=======\n",
        "Iteration n\u00b00: 807 correct (59.381898%), 552 incorrect (40.618102%) "
       ]
      },
      {
       "output_type": "stream",
       "stream": "stdout",
       "text": [
        "\n",
        "Iteration n\u00b01: 812 correct (59.749816%), 547 incorrect (40.250184%) "
       ]
      },
      {
       "output_type": "stream",
       "stream": "stdout",
       "text": [
        "\n",
        "Iteration n\u00b02: 805 correct (59.234731%), 554 incorrect (40.765269%) "
       ]
      },
      {
       "output_type": "stream",
       "stream": "stdout",
       "text": [
        "\n",
        "Iteration n\u00b03: 807 correct (59.381898%), 552 incorrect (40.618102%) "
       ]
      },
      {
       "output_type": "stream",
       "stream": "stdout",
       "text": [
        "\n",
        "Iteration n\u00b04: 802 correct (59.013981%), 557 incorrect (40.986019%) "
       ]
      },
      {
       "output_type": "stream",
       "stream": "stdout",
       "text": [
        "\n",
        "Iteration n\u00b05: 800 correct (58.866814%), 559 incorrect (41.133186%) "
       ]
      },
      {
       "output_type": "stream",
       "stream": "stdout",
       "text": [
        "\n",
        "Iteration n\u00b06: 797 correct (58.646063%), 562 incorrect (41.353937%) "
       ]
      },
      {
       "output_type": "stream",
       "stream": "stdout",
       "text": [
        "\n",
        "Iteration n\u00b07: 801 correct (58.940397%), 558 incorrect (41.059603%) "
       ]
      },
      {
       "output_type": "stream",
       "stream": "stdout",
       "text": [
        "\n",
        "Iteration n\u00b08: 799 correct (58.793230%), 560 incorrect (41.206770%) "
       ]
      },
      {
       "output_type": "stream",
       "stream": "stdout",
       "text": [
        "\n",
        "Iteration n\u00b09: 798 correct (58.719647%), 561 incorrect (41.280353%) "
       ]
      },
      {
       "output_type": "stream",
       "stream": "stdout",
       "text": [
        "\n",
        "Iteration n\u00b010: 793 correct (58.351729%), 566 incorrect (41.648271%) "
       ]
      },
      {
       "output_type": "stream",
       "stream": "stdout",
       "text": [
        "\n",
        "Iteration n\u00b011: 799 correct (58.793230%), 560 incorrect (41.206770%) "
       ]
      },
      {
       "output_type": "stream",
       "stream": "stdout",
       "text": [
        "\n",
        "Iteration n\u00b012: 796 correct (58.572480%), 563 incorrect (41.427520%) "
       ]
      },
      {
       "output_type": "stream",
       "stream": "stdout",
       "text": [
        "\n",
        "Iteration n\u00b013: 794 correct (58.425313%), 565 incorrect (41.574687%) "
       ]
      },
      {
       "output_type": "stream",
       "stream": "stdout",
       "text": [
        "\n",
        "Iteration n\u00b014: 796 correct (58.572480%), 563 incorrect (41.427520%) "
       ]
      },
      {
       "output_type": "stream",
       "stream": "stdout",
       "text": [
        "\n",
        "Iteration n\u00b015: 796 correct (58.572480%), 563 incorrect (41.427520%) "
       ]
      },
      {
       "output_type": "stream",
       "stream": "stdout",
       "text": [
        "\n",
        "Iteration n\u00b016: 794 correct (58.425313%), 565 incorrect (41.574687%) "
       ]
      },
      {
       "output_type": "stream",
       "stream": "stdout",
       "text": [
        "\n",
        "Iteration n\u00b017: 796 correct (58.572480%), 563 incorrect (41.427520%) "
       ]
      },
      {
       "output_type": "stream",
       "stream": "stdout",
       "text": [
        "\n",
        "Iteration n\u00b018: 796 correct (58.572480%), 563 incorrect (41.427520%) "
       ]
      },
      {
       "output_type": "stream",
       "stream": "stdout",
       "text": [
        "\n",
        "Iteration n\u00b019: 792 correct (58.278146%), 567 incorrect (41.721854%) "
       ]
      },
      {
       "output_type": "stream",
       "stream": "stdout",
       "text": [
        "\n",
        "Iteration n\u00b020: 790 correct (58.130979%), 569 incorrect (41.869021%) "
       ]
      },
      {
       "output_type": "stream",
       "stream": "stdout",
       "text": [
        "\n",
        "Iteration n\u00b021: 789 correct (58.057395%), 570 incorrect (41.942605%) "
       ]
      },
      {
       "output_type": "stream",
       "stream": "stdout",
       "text": [
        "\n",
        "Iteration n\u00b022: 786 correct (57.836645%), 573 incorrect (42.163355%) "
       ]
      },
      {
       "output_type": "stream",
       "stream": "stdout",
       "text": [
        "\n",
        "Iteration n\u00b023: 778 correct (57.247976%), 581 incorrect (42.752024%) "
       ]
      },
      {
       "output_type": "stream",
       "stream": "stdout",
       "text": [
        "\n",
        "Iteration n\u00b024: 778 correct (57.247976%), 581 incorrect (42.752024%) "
       ]
      },
      {
       "output_type": "stream",
       "stream": "stdout",
       "text": [
        "\n",
        "Iteration n\u00b025: 777 correct (57.174393%), 582 incorrect (42.825607%) "
       ]
      },
      {
       "output_type": "stream",
       "stream": "stdout",
       "text": [
        "\n",
        "Iteration n\u00b026: 777 correct (57.174393%), 582 incorrect (42.825607%) "
       ]
      },
      {
       "output_type": "stream",
       "stream": "stdout",
       "text": [
        "\n",
        "Iteration n\u00b027: 779 correct (57.321560%), 580 incorrect (42.678440%) "
       ]
      },
      {
       "output_type": "stream",
       "stream": "stdout",
       "text": [
        "\n",
        "Iteration n\u00b028: 780 correct (57.395143%), 579 incorrect (42.604857%) "
       ]
      },
      {
       "output_type": "stream",
       "stream": "stdout",
       "text": [
        "\n",
        "Iteration n\u00b029: 780 correct (57.395143%), 579 incorrect (42.604857%) "
       ]
      },
      {
       "output_type": "stream",
       "stream": "stdout",
       "text": [
        "\n",
        "Iteration n\u00b030: 779 correct (57.321560%), 580 incorrect (42.678440%) "
       ]
      },
      {
       "output_type": "stream",
       "stream": "stdout",
       "text": [
        "\n",
        "Iteration n\u00b031: 774 correct (56.953642%), 585 incorrect (43.046358%) "
       ]
      },
      {
       "output_type": "stream",
       "stream": "stdout",
       "text": [
        "\n",
        "Iteration n\u00b032: 774 correct (56.953642%), 585 incorrect (43.046358%) "
       ]
      },
      {
       "output_type": "stream",
       "stream": "stdout",
       "text": [
        "\n",
        "Iteration n\u00b033: 774 correct (56.953642%), 585 incorrect (43.046358%) "
       ]
      },
      {
       "output_type": "stream",
       "stream": "stdout",
       "text": [
        "\n",
        "Iteration n\u00b034: 779 correct (57.321560%), 580 incorrect (42.678440%) "
       ]
      },
      {
       "output_type": "stream",
       "stream": "stdout",
       "text": [
        "\n",
        "Iteration n\u00b035: 776 correct (57.100809%), 583 incorrect (42.899191%) "
       ]
      },
      {
       "output_type": "stream",
       "stream": "stdout",
       "text": [
        "\n",
        "Iteration n\u00b036: 776 correct (57.100809%), 583 incorrect (42.899191%) "
       ]
      },
      {
       "output_type": "stream",
       "stream": "stdout",
       "text": [
        "\n",
        "Iteration n\u00b037: 776 correct (57.100809%), 583 incorrect (42.899191%) "
       ]
      },
      {
       "output_type": "stream",
       "stream": "stdout",
       "text": [
        "\n",
        "Iteration n\u00b038: 776 correct (57.100809%), 583 incorrect (42.899191%) "
       ]
      },
      {
       "output_type": "stream",
       "stream": "stdout",
       "text": [
        "\n",
        "Iteration n\u00b039: 776 correct (57.100809%), 583 incorrect (42.899191%) "
       ]
      },
      {
       "output_type": "stream",
       "stream": "stdout",
       "text": [
        "\n",
        "Iteration n\u00b040: 774 correct (56.953642%), 585 incorrect (43.046358%) "
       ]
      },
      {
       "output_type": "stream",
       "stream": "stdout",
       "text": [
        "\n",
        "Iteration n\u00b041: 775 correct (57.027226%), 584 incorrect (42.972774%) "
       ]
      },
      {
       "output_type": "stream",
       "stream": "stdout",
       "text": [
        "\n",
        "Iteration n\u00b042: 776 correct (57.100809%), 583 incorrect (42.899191%) "
       ]
      },
      {
       "output_type": "stream",
       "stream": "stdout",
       "text": [
        "\n",
        "Iteration n\u00b043: 776 correct (57.100809%), 583 incorrect (42.899191%) "
       ]
      },
      {
       "output_type": "stream",
       "stream": "stdout",
       "text": [
        "\n",
        "Iteration n\u00b044: 776 correct (57.100809%), 583 incorrect (42.899191%) "
       ]
      },
      {
       "output_type": "stream",
       "stream": "stdout",
       "text": [
        "\n",
        "Iteration n\u00b045: 776 correct (57.100809%), 583 incorrect (42.899191%) "
       ]
      },
      {
       "output_type": "stream",
       "stream": "stdout",
       "text": [
        "\n",
        "Iteration n\u00b046: 775 correct (57.027226%), 584 incorrect (42.972774%) "
       ]
      },
      {
       "output_type": "stream",
       "stream": "stdout",
       "text": [
        "\n",
        "Iteration n\u00b047: 774 correct (56.953642%), 585 incorrect (43.046358%) "
       ]
      },
      {
       "output_type": "stream",
       "stream": "stdout",
       "text": [
        "\n",
        "Iteration n\u00b048: 773 correct (56.880059%), 586 incorrect (43.119941%) "
       ]
      },
      {
       "output_type": "stream",
       "stream": "stdout",
       "text": [
        "\n",
        "Iteration n\u00b049: 772 correct (56.806475%), 587 incorrect (43.193525%) "
       ]
      },
      {
       "output_type": "stream",
       "stream": "stdout",
       "text": [
        "\n",
        "=======TEST ERROR=======\n",
        "765 correct (56.582840%), 587 incorrect (43.417160%) "
       ]
      },
      {
       "output_type": "stream",
       "stream": "stdout",
       "text": [
        "\n"
       ]
      }
     ],
     "prompt_number": 10
    },
    {
     "cell_type": "code",
     "collapsed": false,
     "input": [
      "mod2 = LinearModule(50,1)\n",
      "mod1 = LinearModule(28*28,50)\n",
      "\n",
      "MLP = MultiModule([mod1,TanhModule(20,20),mod2],SquareLoss())\n",
      "\n",
      "#print mod1.parameters\n",
      "NBITER = 50\n",
      "print \"=======TRAIN ERROR=======\"\n",
      "for i in xrange(0,NBITER):\n",
      "    MLP.miniBatchIter(train_data, train_label,batch_size=20,gradient_step=0.000001, verbose=False)\n",
      "    predicted = MLP.forwardAll(train_data)\n",
      "    ok=0\n",
      "    ko=0\n",
      "    for pred,exp in zip(predicted,train_label):\n",
      "        if pred[0]*exp[0] > 0:\n",
      "            ok+=1\n",
      "        else:\n",
      "            ko+=1\n",
      "    print \"Iteration n\u00b0%d: %d correct (%f%%), %d incorrect (%f%%) \" % (i,ok,ok/(ok+ko+0.0)*100,ko,ko/(ok+ko+0.0)*100)\n",
      "\n",
      "#print mod1.parameters\n",
      "    \n",
      "print \"=======TEST ERROR=======\"  \n",
      "predicted = MLP.forwardAll(test_data)\n",
      "\n",
      "ok=0\n",
      "ko=0\n",
      "for pred,exp in zip(predicted,test_label):\n",
      "    if pred[0]*exp[0] > 0:\n",
      "        ok+=1\n",
      "    else:\n",
      "        ko+=1\n",
      "        \n",
      "print \"%d correct (%f%%), %d incorrect (%f%%) \" % (ok,ok/(ok+ko+0.0)*100,ko,ko/(ok+ko+0.0)*100)\n",
      "\n"
     ],
     "language": "python",
     "metadata": {},
     "outputs": [
      {
       "output_type": "stream",
       "stream": "stdout",
       "text": [
        "=======TRAIN ERROR=======\n",
        "Iteration n\u00b00: 583 correct (42.899191%), 776 incorrect (57.100809%) "
       ]
      },
      {
       "output_type": "stream",
       "stream": "stdout",
       "text": [
        "\n",
        "Iteration n\u00b01: 584 correct (42.972774%), 775 incorrect (57.027226%) "
       ]
      },
      {
       "output_type": "stream",
       "stream": "stdout",
       "text": [
        "\n",
        "Iteration n\u00b02: 585 correct (43.046358%), 774 incorrect (56.953642%) "
       ]
      },
      {
       "output_type": "stream",
       "stream": "stdout",
       "text": [
        "\n",
        "Iteration n\u00b03: 587 correct (43.193525%), 772 incorrect (56.806475%) "
       ]
      },
      {
       "output_type": "stream",
       "stream": "stdout",
       "text": [
        "\n",
        "Iteration n\u00b04: 588 correct (43.267108%), 771 incorrect (56.732892%) "
       ]
      },
      {
       "output_type": "stream",
       "stream": "stdout",
       "text": [
        "\n",
        "Iteration n\u00b05: 591 correct (43.487859%), 768 incorrect (56.512141%) "
       ]
      },
      {
       "output_type": "stream",
       "stream": "stdout",
       "text": [
        "\n",
        "Iteration n\u00b06: 596 correct (43.855776%), 763 incorrect (56.144224%) "
       ]
      },
      {
       "output_type": "stream",
       "stream": "stdout",
       "text": [
        "\n",
        "Iteration n\u00b07: 597 correct (43.929360%), 762 incorrect (56.070640%) "
       ]
      },
      {
       "output_type": "stream",
       "stream": "stdout",
       "text": [
        "\n",
        "Iteration n\u00b08: 603 correct (44.370861%), 756 incorrect (55.629139%) "
       ]
      },
      {
       "output_type": "stream",
       "stream": "stdout",
       "text": [
        "\n",
        "Iteration n\u00b09: 603 correct (44.370861%), 756 incorrect (55.629139%) "
       ]
      },
      {
       "output_type": "stream",
       "stream": "stdout",
       "text": [
        "\n",
        "Iteration n\u00b010: 606 correct (44.591611%), 753 incorrect (55.408389%) "
       ]
      },
      {
       "output_type": "stream",
       "stream": "stdout",
       "text": [
        "\n",
        "Iteration n\u00b011: 609 correct (44.812362%), 750 incorrect (55.187638%) "
       ]
      },
      {
       "output_type": "stream",
       "stream": "stdout",
       "text": [
        "\n",
        "Iteration n\u00b012: 610 correct (44.885946%), 749 incorrect (55.114054%) "
       ]
      },
      {
       "output_type": "stream",
       "stream": "stdout",
       "text": [
        "\n",
        "Iteration n\u00b013: 611 correct (44.959529%), 748 incorrect (55.040471%) "
       ]
      },
      {
       "output_type": "stream",
       "stream": "stdout",
       "text": [
        "\n",
        "Iteration n\u00b014: 611 correct (44.959529%), 748 incorrect (55.040471%) "
       ]
      },
      {
       "output_type": "stream",
       "stream": "stdout",
       "text": [
        "\n",
        "Iteration n\u00b015: 614 correct (45.180280%), 745 incorrect (54.819720%) "
       ]
      },
      {
       "output_type": "stream",
       "stream": "stdout",
       "text": [
        "\n",
        "Iteration n\u00b016: 617 correct (45.401030%), 742 incorrect (54.598970%) "
       ]
      },
      {
       "output_type": "stream",
       "stream": "stdout",
       "text": [
        "\n",
        "Iteration n\u00b017: 620 correct (45.621781%), 739 incorrect (54.378219%) "
       ]
      },
      {
       "output_type": "stream",
       "stream": "stdout",
       "text": [
        "\n",
        "Iteration n\u00b018: 622 correct (45.768948%), 737 incorrect (54.231052%) "
       ]
      },
      {
       "output_type": "stream",
       "stream": "stdout",
       "text": [
        "\n",
        "Iteration n\u00b019: 621 correct (45.695364%), 738 incorrect (54.304636%) "
       ]
      },
      {
       "output_type": "stream",
       "stream": "stdout",
       "text": [
        "\n",
        "Iteration n\u00b020: 621 correct (45.695364%), 738 incorrect (54.304636%) "
       ]
      },
      {
       "output_type": "stream",
       "stream": "stdout",
       "text": [
        "\n",
        "Iteration n\u00b021: 623 correct (45.842531%), 736 incorrect (54.157469%) "
       ]
      },
      {
       "output_type": "stream",
       "stream": "stdout",
       "text": [
        "\n",
        "Iteration n\u00b022: 626 correct (46.063282%), 733 incorrect (53.936718%) "
       ]
      },
      {
       "output_type": "stream",
       "stream": "stdout",
       "text": [
        "\n",
        "Iteration n\u00b023: 628 correct (46.210449%), 731 incorrect (53.789551%) "
       ]
      },
      {
       "output_type": "stream",
       "stream": "stdout",
       "text": [
        "\n",
        "Iteration n\u00b024: 629 correct (46.284032%), 730 incorrect (53.715968%) "
       ]
      },
      {
       "output_type": "stream",
       "stream": "stdout",
       "text": [
        "\n",
        "Iteration n\u00b025: 629 correct (46.284032%), 730 incorrect (53.715968%) "
       ]
      },
      {
       "output_type": "stream",
       "stream": "stdout",
       "text": [
        "\n",
        "Iteration n\u00b026: 636 correct (46.799117%), 723 incorrect (53.200883%) "
       ]
      },
      {
       "output_type": "stream",
       "stream": "stdout",
       "text": [
        "\n",
        "Iteration n\u00b027: 637 correct (46.872701%), 722 incorrect (53.127299%) "
       ]
      },
      {
       "output_type": "stream",
       "stream": "stdout",
       "text": [
        "\n",
        "Iteration n\u00b028: 639 correct (47.019868%), 720 incorrect (52.980132%) "
       ]
      },
      {
       "output_type": "stream",
       "stream": "stdout",
       "text": [
        "\n",
        "Iteration n\u00b029: 641 correct (47.167035%), 718 incorrect (52.832965%) "
       ]
      },
      {
       "output_type": "stream",
       "stream": "stdout",
       "text": [
        "\n",
        "Iteration n\u00b030: 638 correct (46.946284%), 721 incorrect (53.053716%) "
       ]
      },
      {
       "output_type": "stream",
       "stream": "stdout",
       "text": [
        "\n",
        "Iteration n\u00b031: 637 correct (46.872701%), 722 incorrect (53.127299%) "
       ]
      },
      {
       "output_type": "stream",
       "stream": "stdout",
       "text": [
        "\n",
        "Iteration n\u00b032: 641 correct (47.167035%), 718 incorrect (52.832965%) "
       ]
      },
      {
       "output_type": "stream",
       "stream": "stdout",
       "text": [
        "\n",
        "Iteration n\u00b033: 642 correct (47.240618%), 717 incorrect (52.759382%) "
       ]
      },
      {
       "output_type": "stream",
       "stream": "stdout",
       "text": [
        "\n",
        "Iteration n\u00b034: 645 correct (47.461369%), 714 incorrect (52.538631%) "
       ]
      },
      {
       "output_type": "stream",
       "stream": "stdout",
       "text": [
        "\n",
        "Iteration n\u00b035: 647 correct (47.608536%), 712 incorrect (52.391464%) "
       ]
      },
      {
       "output_type": "stream",
       "stream": "stdout",
       "text": [
        "\n",
        "Iteration n\u00b036: 649 correct (47.755703%), 710 incorrect (52.244297%) "
       ]
      },
      {
       "output_type": "stream",
       "stream": "stdout",
       "text": [
        "\n",
        "Iteration n\u00b037: 650 correct (47.829286%), 709 incorrect (52.170714%) "
       ]
      },
      {
       "output_type": "stream",
       "stream": "stdout",
       "text": [
        "\n",
        "Iteration n\u00b038: 650 correct (47.829286%), 709 incorrect (52.170714%) "
       ]
      },
      {
       "output_type": "stream",
       "stream": "stdout",
       "text": [
        "\n",
        "Iteration n\u00b039: 652 correct (47.976453%), 707 incorrect (52.023547%) "
       ]
      },
      {
       "output_type": "stream",
       "stream": "stdout",
       "text": [
        "\n",
        "Iteration n\u00b040: 653 correct (48.050037%), 706 incorrect (51.949963%) "
       ]
      },
      {
       "output_type": "stream",
       "stream": "stdout",
       "text": [
        "\n",
        "Iteration n\u00b041: 655 correct (48.197204%), 704 incorrect (51.802796%) "
       ]
      },
      {
       "output_type": "stream",
       "stream": "stdout",
       "text": [
        "\n",
        "Iteration n\u00b042: 655 correct (48.197204%), 704 incorrect (51.802796%) "
       ]
      },
      {
       "output_type": "stream",
       "stream": "stdout",
       "text": [
        "\n",
        "Iteration n\u00b043: 655 correct (48.197204%), 704 incorrect (51.802796%) "
       ]
      },
      {
       "output_type": "stream",
       "stream": "stdout",
       "text": [
        "\n",
        "Iteration n\u00b044: 657 correct (48.344371%), 702 incorrect (51.655629%) "
       ]
      },
      {
       "output_type": "stream",
       "stream": "stdout",
       "text": [
        "\n",
        "Iteration n\u00b045: 659 correct (48.491538%), 700 incorrect (51.508462%) "
       ]
      },
      {
       "output_type": "stream",
       "stream": "stdout",
       "text": [
        "\n",
        "Iteration n\u00b046: 662 correct (48.712288%), 697 incorrect (51.287712%) "
       ]
      },
      {
       "output_type": "stream",
       "stream": "stdout",
       "text": [
        "\n",
        "Iteration n\u00b047: 665 correct (48.933039%), 694 incorrect (51.066961%) "
       ]
      },
      {
       "output_type": "stream",
       "stream": "stdout",
       "text": [
        "\n",
        "Iteration n\u00b048: 664 correct (48.859455%), 695 incorrect (51.140545%) "
       ]
      },
      {
       "output_type": "stream",
       "stream": "stdout",
       "text": [
        "\n",
        "Iteration n\u00b049: 666 correct (49.006623%), 693 incorrect (50.993377%) "
       ]
      },
      {
       "output_type": "stream",
       "stream": "stdout",
       "text": [
        "\n",
        "=======TEST ERROR=======\n",
        "623 correct (46.079882%), 729 incorrect (53.920118%) "
       ]
      },
      {
       "output_type": "stream",
       "stream": "stdout",
       "text": [
        "\n"
       ]
      }
     ],
     "prompt_number": 15
    },
    {
     "cell_type": "code",
     "collapsed": false,
     "input": [
      "mod = LinearModule(3,2)\n",
      "mod.parameters = np.ones((2,3))\n",
      "mod.parameters[1,:]*=2\n",
      "dj = np.array([10,5])\n",
      "\n",
      "print mod.parameters\n",
      "print dj\n",
      "print mod.backward_delta(dj)\n",
      "print mod.backward_update_gradient(5)\n",
      "print dj*mod.parameters.T\n",
      "np.sum((dj*mod.parameters.T).T,axis=0)\n",
      "\n",
      "res = np.zeros((self.dimensionEntry))\n",
      "       for it in range(0, self.dimensionEntry):\n",
      "           res[it] = np.sum(input[it]*delta_module_suivant)\n",
      "       return res\n"
     ],
     "language": "python",
     "metadata": {},
     "outputs": [
      {
       "ename": "IndentationError",
       "evalue": "unexpected indent (<ipython-input-11-1ea0577fc9b4>, line 14)",
       "output_type": "pyerr",
       "traceback": [
        "\u001b[0;31mIndentationError\u001b[0m\u001b[0;31m:\u001b[0m unexpected indent\n"
       ]
      }
     ],
     "prompt_number": 11
    },
    {
     "cell_type": "code",
     "collapsed": false,
     "input": [],
     "language": "python",
     "metadata": {},
     "outputs": []
    },
    {
     "cell_type": "code",
     "collapsed": false,
     "input": [],
     "language": "python",
     "metadata": {},
     "outputs": []
    },
    {
     "cell_type": "markdown",
     "metadata": {},
     "source": [
      "Impl\u00e9mentation des Auto-encodeurs\n",
      "====="
     ]
    },
    {
     "cell_type": "markdown",
     "metadata": {},
     "source": [
      "Impl\u00e9mentez des auto-encodeurs et visualisez les patches appris"
     ]
    },
    {
     "cell_type": "code",
     "collapsed": false,
     "input": [
      "mod2 = LinearModule(100,28*28)\n",
      "mod1 = LinearModule(28*28,100)\n",
      "\n",
      "AE = MultiModule([mod1,mod2],SquareLoss())\n",
      "\n",
      "sq = SquareLoss()\n",
      "\n",
      "#print sq.getLossValue(train_data[0],train_data[0])\n",
      "\n",
      "\n",
      "#print mod1.parameters\n",
      "NBITER = 200\n",
      "print \"=======TRAIN ERROR=======\"\n",
      "for i in xrange(0,NBITER):\n",
      "   loss = AE.miniBatchIter(train_data, train_data,batch_size=150,gradient_step=0.000000000001, verbose=False)\n",
      "   predicted = AE.forwardAll(train_data)\n",
      "   err=0\n",
      "    \n",
      "   for pred,exp in zip(predicted,train_data):\n",
      "       err += np.sum(np.power(pred-exp,2))\n",
      "    \n",
      "        \n",
      "   #print loss\n",
      "   print \"Iteration n\u00b0%d - MSE: %f\" % (i,err/len(predicted))"
     ],
     "language": "python",
     "metadata": {},
     "outputs": [
      {
       "output_type": "stream",
       "stream": "stdout",
       "text": [
        "=======TRAIN ERROR=======\n",
        "Iteration n\u00b00 - MSE: 166021727987.599457"
       ]
      },
      {
       "output_type": "stream",
       "stream": "stdout",
       "text": [
        "\n",
        "Iteration n\u00b01 - MSE: 122143492625.978531"
       ]
      },
      {
       "output_type": "stream",
       "stream": "stdout",
       "text": [
        "\n",
        "Iteration n\u00b02 - MSE: 100487735920.768707"
       ]
      },
      {
       "output_type": "stream",
       "stream": "stdout",
       "text": [
        "\n",
        "Iteration n\u00b03 - MSE: 87037646272.574783"
       ]
      },
      {
       "output_type": "stream",
       "stream": "stdout",
       "text": [
        "\n",
        "Iteration n\u00b04 - MSE: 77558704349.099045"
       ]
      },
      {
       "output_type": "stream",
       "stream": "stdout",
       "text": [
        "\n",
        "Iteration n\u00b05 - MSE: 70363386247.994370"
       ]
      },
      {
       "output_type": "stream",
       "stream": "stdout",
       "text": [
        "\n",
        "Iteration n\u00b06 - MSE: 64639728215.449783"
       ]
      },
      {
       "output_type": "stream",
       "stream": "stdout",
       "text": [
        "\n",
        "Iteration n\u00b07 - MSE: 59940079989.730042"
       ]
      },
      {
       "output_type": "stream",
       "stream": "stdout",
       "text": [
        "\n",
        "Iteration n\u00b08 - MSE: 55991747489.922989"
       ]
      },
      {
       "output_type": "stream",
       "stream": "stdout",
       "text": [
        "\n",
        "Iteration n\u00b09 - MSE: 52616015250.980911"
       ]
      },
      {
       "output_type": "stream",
       "stream": "stdout",
       "text": [
        "\n",
        "Iteration n\u00b010 - MSE: 49689270742.220665"
       ]
      },
      {
       "output_type": "stream",
       "stream": "stdout",
       "text": [
        "\n",
        "Iteration n\u00b011 - MSE: 47122481207.087051"
       ]
      },
      {
       "output_type": "stream",
       "stream": "stdout",
       "text": [
        "\n",
        "Iteration n\u00b012 - MSE: 44849485078.385956"
       ]
      },
      {
       "output_type": "stream",
       "stream": "stdout",
       "text": [
        "\n",
        "Iteration n\u00b013 - MSE: 42819880338.848785"
       ]
      },
      {
       "output_type": "stream",
       "stream": "stdout",
       "text": [
        "\n",
        "Iteration n\u00b014 - MSE: 40994482457.468361"
       ]
      },
      {
       "output_type": "stream",
       "stream": "stdout",
       "text": [
        "\n",
        "Iteration n\u00b015 - MSE: 39342303999.184975"
       ]
      },
      {
       "output_type": "stream",
       "stream": "stdout",
       "text": [
        "\n",
        "Iteration n\u00b016 - MSE: 37838479298.894402"
       ]
      },
      {
       "output_type": "stream",
       "stream": "stdout",
       "text": [
        "\n",
        "Iteration n\u00b017 - MSE: 36462799551.772491"
       ]
      },
      {
       "output_type": "stream",
       "stream": "stdout",
       "text": [
        "\n",
        "Iteration n\u00b018 - MSE: 35198655165.821060"
       ]
      },
      {
       "output_type": "stream",
       "stream": "stdout",
       "text": [
        "\n",
        "Iteration n\u00b019 - MSE: 34032257299.433807"
       ]
      },
      {
       "output_type": "stream",
       "stream": "stdout",
       "text": [
        "\n",
        "Iteration n\u00b020 - MSE: 32952055230.172421"
       ]
      },
      {
       "output_type": "stream",
       "stream": "stdout",
       "text": [
        "\n",
        "Iteration n\u00b021 - MSE: 31948293826.524292"
       ]
      },
      {
       "output_type": "stream",
       "stream": "stdout",
       "text": [
        "\n",
        "Iteration n\u00b022 - MSE: 31012672995.422871"
       ]
      },
      {
       "output_type": "stream",
       "stream": "stdout",
       "text": [
        "\n",
        "Iteration n\u00b023 - MSE: 30138082494.111435"
       ]
      },
      {
       "output_type": "stream",
       "stream": "stdout",
       "text": [
        "\n",
        "Iteration n\u00b024 - MSE: 29318393204.185619"
       ]
      },
      {
       "output_type": "stream",
       "stream": "stdout",
       "text": [
        "\n",
        "Iteration n\u00b025 - MSE: 28548291230.939281"
       ]
      },
      {
       "output_type": "stream",
       "stream": "stdout",
       "text": [
        "\n",
        "Iteration n\u00b026 - MSE: 27823144851.277409"
       ]
      },
      {
       "output_type": "stream",
       "stream": "stdout",
       "text": [
        "\n",
        "Iteration n\u00b027 - MSE: 27138896918.163563"
       ]
      },
      {
       "output_type": "stream",
       "stream": "stdout",
       "text": [
        "\n",
        "Iteration n\u00b028 - MSE: 26491977180.888428"
       ]
      },
      {
       "output_type": "stream",
       "stream": "stdout",
       "text": [
        "\n",
        "Iteration n\u00b029 - MSE: 25879230323.672646"
       ]
      },
      {
       "output_type": "stream",
       "stream": "stdout",
       "text": [
        "\n",
        "Iteration n\u00b030 - MSE: 25297856511.272076"
       ]
      },
      {
       "output_type": "stream",
       "stream": "stdout",
       "text": [
        "\n",
        "Iteration n\u00b031 - MSE: 24745361962.183674"
       ]
      },
      {
       "output_type": "stream",
       "stream": "stdout",
       "text": [
        "\n",
        "Iteration n\u00b032 - MSE: 24219517618.795673"
       ]
      },
      {
       "output_type": "stream",
       "stream": "stdout",
       "text": [
        "\n",
        "Iteration n\u00b033 - MSE: 23718324399.124313"
       ]
      },
      {
       "output_type": "stream",
       "stream": "stdout",
       "text": [
        "\n",
        "Iteration n\u00b034 - MSE: 23239983831.844009"
       ]
      },
      {
       "output_type": "stream",
       "stream": "stdout",
       "text": [
        "\n",
        "Iteration n\u00b035 - MSE: 22782873120.395584"
       ]
      },
      {
       "output_type": "stream",
       "stream": "stdout",
       "text": [
        "\n",
        "Iteration n\u00b036 - MSE: 22345523871.294090"
       ]
      },
      {
       "output_type": "stream",
       "stream": "stdout",
       "text": [
        "\n",
        "Iteration n\u00b037 - MSE: 21926603869.713676"
       ]
      },
      {
       "output_type": "stream",
       "stream": "stdout",
       "text": [
        "\n",
        "Iteration n\u00b038 - MSE: 21524901401.838371"
       ]
      },
      {
       "output_type": "stream",
       "stream": "stdout",
       "text": [
        "\n",
        "Iteration n\u00b039 - MSE: 21139311715.650909"
       ]
      },
      {
       "output_type": "stream",
       "stream": "stdout",
       "text": [
        "\n",
        "Iteration n\u00b040 - MSE: 20768825285.291603"
       ]
      },
      {
       "output_type": "stream",
       "stream": "stdout",
       "text": [
        "\n",
        "Iteration n\u00b041 - MSE: 20412517602.982338"
       ]
      },
      {
       "output_type": "stream",
       "stream": "stdout",
       "text": [
        "\n",
        "Iteration n\u00b042 - MSE: 20069540269.954449"
       ]
      },
      {
       "output_type": "stream",
       "stream": "stdout",
       "text": [
        "\n",
        "Iteration n\u00b043 - MSE: 19739113196.252003"
       ]
      },
      {
       "output_type": "stream",
       "stream": "stdout",
       "text": [
        "\n",
        "Iteration n\u00b044 - MSE: 19420517750.569386"
       ]
      },
      {
       "output_type": "stream",
       "stream": "stdout",
       "text": [
        "\n",
        "Iteration n\u00b045 - MSE: 19113090726.880451"
       ]
      },
      {
       "output_type": "stream",
       "stream": "stdout",
       "text": [
        "\n",
        "Iteration n\u00b046 - MSE: 18816219015.648720"
       ]
      },
      {
       "output_type": "stream",
       "stream": "stdout",
       "text": [
        "\n",
        "Iteration n\u00b047 - MSE: 18529334884.768856"
       ]
      },
      {
       "output_type": "stream",
       "stream": "stdout",
       "text": [
        "\n",
        "Iteration n\u00b048 - MSE: 18251911789.774120"
       ]
      },
      {
       "output_type": "stream",
       "stream": "stdout",
       "text": [
        "\n",
        "Iteration n\u00b049 - MSE: 17983460644.816200"
       ]
      },
      {
       "output_type": "stream",
       "stream": "stdout",
       "text": [
        "\n",
        "Iteration n\u00b050 - MSE: 17723526495.918652"
       ]
      },
      {
       "output_type": "stream",
       "stream": "stdout",
       "text": [
        "\n",
        "Iteration n\u00b051 - MSE: 17471685546.386417"
       ]
      },
      {
       "output_type": "stream",
       "stream": "stdout",
       "text": [
        "\n",
        "Iteration n\u00b052 - MSE: 17227542491.300793"
       ]
      },
      {
       "output_type": "stream",
       "stream": "stdout",
       "text": [
        "\n",
        "Iteration n\u00b053 - MSE: 16990728123.979799"
       ]
      },
      {
       "output_type": "stream",
       "stream": "stdout",
       "text": [
        "\n",
        "Iteration n\u00b054 - MSE: 16760897182.318800"
       ]
      },
      {
       "output_type": "stream",
       "stream": "stdout",
       "text": [
        "\n",
        "Iteration n\u00b055 - MSE: 16537726407.205822"
       ]
      },
      {
       "output_type": "stream",
       "stream": "stdout",
       "text": [
        "\n",
        "Iteration n\u00b056 - MSE: 16320912788.850670"
       ]
      },
      {
       "output_type": "stream",
       "stream": "stdout",
       "text": [
        "\n",
        "Iteration n\u00b057 - MSE: 16110171979.978199"
       ]
      },
      {
       "output_type": "stream",
       "stream": "stdout",
       "text": [
        "\n",
        "Iteration n\u00b058 - MSE: 15905236857.507631"
       ]
      },
      {
       "output_type": "stream",
       "stream": "stdout",
       "text": [
        "\n",
        "Iteration n\u00b059 - MSE: 15705856216.627752"
       ]
      },
      {
       "output_type": "stream",
       "stream": "stdout",
       "text": [
        "\n",
        "Iteration n\u00b060 - MSE: 15511793583.154043"
       ]
      },
      {
       "output_type": "stream",
       "stream": "stdout",
       "text": [
        "\n",
        "Iteration n\u00b061 - MSE: 15322826131.757193"
       ]
      },
      {
       "output_type": "stream",
       "stream": "stdout",
       "text": [
        "\n",
        "Iteration n\u00b062 - MSE: 15138743699.127686"
       ]
      },
      {
       "output_type": "stream",
       "stream": "stdout",
       "text": [
        "\n",
        "Iteration n\u00b063 - MSE: 14959347882.421242"
       ]
      },
      {
       "output_type": "stream",
       "stream": "stdout",
       "text": [
        "\n",
        "Iteration n\u00b064 - MSE: 14784451214.442955"
       ]
      },
      {
       "output_type": "stream",
       "stream": "stdout",
       "text": [
        "\n",
        "Iteration n\u00b065 - MSE: 14613876407.998301"
       ]
      },
      {
       "output_type": "stream",
       "stream": "stdout",
       "text": [
        "\n",
        "Iteration n\u00b066 - MSE: 14447455662.685720"
       ]
      },
      {
       "output_type": "stream",
       "stream": "stdout",
       "text": [
        "\n",
        "Iteration n\u00b067 - MSE: 14285030028.147526"
       ]
      },
      {
       "output_type": "stream",
       "stream": "stdout",
       "text": [
        "\n",
        "Iteration n\u00b068 - MSE: 14126448818.447140"
       ]
      },
      {
       "output_type": "stream",
       "stream": "stdout",
       "text": [
        "\n",
        "Iteration n\u00b069 - MSE: 13971569072.810106"
       ]
      },
      {
       "output_type": "stream",
       "stream": "stdout",
       "text": [
        "\n",
        "Iteration n\u00b070 - MSE: 13820255058.471783"
       ]
      },
      {
       "output_type": "stream",
       "stream": "stdout",
       "text": [
        "\n",
        "Iteration n\u00b071 - MSE: 13672377811.816746"
       ]
      },
      {
       "output_type": "stream",
       "stream": "stdout",
       "text": [
        "\n",
        "Iteration n\u00b072 - MSE: 13527814714.387915"
       ]
      },
      {
       "output_type": "stream",
       "stream": "stdout",
       "text": [
        "\n",
        "Iteration n\u00b073 - MSE: 13386449100.690958"
       ]
      },
      {
       "output_type": "stream",
       "stream": "stdout",
       "text": [
        "\n",
        "Iteration n\u00b074 - MSE: 13248169895.026217"
       ]
      },
      {
       "output_type": "stream",
       "stream": "stdout",
       "text": [
        "\n",
        "Iteration n\u00b075 - MSE: 13112871274.854998"
       ]
      },
      {
       "output_type": "stream",
       "stream": "stdout",
       "text": [
        "\n",
        "Iteration n\u00b076 - MSE: 12980452358.449783"
       ]
      },
      {
       "output_type": "stream",
       "stream": "stdout",
       "text": [
        "\n",
        "Iteration n\u00b077 - MSE: 12850816914.794363"
       ]
      },
      {
       "output_type": "stream",
       "stream": "stdout",
       "text": [
        "\n",
        "Iteration n\u00b078 - MSE: 12723873093.894339"
       ]
      },
      {
       "output_type": "stream",
       "stream": "stdout",
       "text": [
        "\n",
        "Iteration n\u00b079 - MSE: 12599533175.830059"
       ]
      },
      {
       "output_type": "stream",
       "stream": "stdout",
       "text": [
        "\n",
        "Iteration n\u00b080 - MSE: 12477713337.039734"
       ]
      },
      {
       "output_type": "stream",
       "stream": "stdout",
       "text": [
        "\n",
        "Iteration n\u00b081 - MSE: 12358333432.458597"
       ]
      },
      {
       "output_type": "stream",
       "stream": "stdout",
       "text": [
        "\n",
        "Iteration n\u00b082 - MSE: 12241316792.264837"
       ]
      },
      {
       "output_type": "stream",
       "stream": "stdout",
       "text": [
        "\n",
        "Iteration n\u00b083 - MSE: 12126590032.094595"
       ]
      },
      {
       "output_type": "stream",
       "stream": "stdout",
       "text": [
        "\n",
        "Iteration n\u00b084 - MSE: 12014082875.689030"
       ]
      },
      {
       "output_type": "stream",
       "stream": "stdout",
       "text": [
        "\n",
        "Iteration n\u00b085 - MSE: 11903727989.027454"
       ]
      },
      {
       "output_type": "stream",
       "stream": "stdout",
       "text": [
        "\n",
        "Iteration n\u00b086 - MSE: 11795460825.081841"
       ]
      },
      {
       "output_type": "stream",
       "stream": "stdout",
       "text": [
        "\n",
        "Iteration n\u00b087 - MSE: 11689219478.402750"
       ]
      },
      {
       "output_type": "stream",
       "stream": "stdout",
       "text": [
        "\n",
        "Iteration n\u00b088 - MSE: 11584944548.812378"
       ]
      },
      {
       "output_type": "stream",
       "stream": "stdout",
       "text": [
        "\n",
        "Iteration n\u00b089 - MSE: 11482579013.542507"
       ]
      },
      {
       "output_type": "stream",
       "stream": "stdout",
       "text": [
        "\n",
        "Iteration n\u00b090 - MSE: 11382068107.208397"
       ]
      },
      {
       "output_type": "stream",
       "stream": "stdout",
       "text": [
        "\n",
        "Iteration n\u00b091 - MSE: 11283359209.060743"
       ]
      },
      {
       "output_type": "stream",
       "stream": "stdout",
       "text": [
        "\n",
        "Iteration n\u00b092 - MSE: 11186401737.002373"
       ]
      },
      {
       "output_type": "stream",
       "stream": "stdout",
       "text": [
        "\n",
        "Iteration n\u00b093 - MSE: 11091147047.897726"
       ]
      },
      {
       "output_type": "stream",
       "stream": "stdout",
       "text": [
        "\n",
        "Iteration n\u00b094 - MSE: 10997548343.740122"
       ]
      },
      {
       "output_type": "stream",
       "stream": "stdout",
       "text": [
        "\n",
        "Iteration n\u00b095 - MSE: 10905560583.277399"
       ]
      },
      {
       "output_type": "stream",
       "stream": "stdout",
       "text": [
        "\n",
        "Iteration n\u00b096 - MSE: 10815140398.725342"
       ]
      },
      {
       "output_type": "stream",
       "stream": "stdout",
       "text": [
        "\n",
        "Iteration n\u00b097 - MSE: 10726246017.228867"
       ]
      },
      {
       "output_type": "stream",
       "stream": "stdout",
       "text": [
        "\n",
        "Iteration n\u00b098 - MSE: 10638837186.755936"
       ]
      },
      {
       "output_type": "stream",
       "stream": "stdout",
       "text": [
        "\n",
        "Iteration n\u00b099 - MSE: 10552875106.132612"
       ]
      },
      {
       "output_type": "stream",
       "stream": "stdout",
       "text": [
        "\n",
        "Iteration n\u00b0100 - MSE: 10468322358.950336"
       ]
      },
      {
       "output_type": "stream",
       "stream": "stdout",
       "text": [
        "\n",
        "Iteration n\u00b0101 - MSE: 10385142851.095686"
       ]
      },
      {
       "output_type": "stream",
       "stream": "stdout",
       "text": [
        "\n",
        "Iteration n\u00b0102 - MSE: 10303301751.671700"
       ]
      },
      {
       "output_type": "stream",
       "stream": "stdout",
       "text": [
        "\n",
        "Iteration n\u00b0103 - MSE: 10222765437.095903"
       ]
      },
      {
       "output_type": "stream",
       "stream": "stdout",
       "text": [
        "\n",
        "Iteration n\u00b0104 - MSE: 10143501438.176598"
       ]
      },
      {
       "output_type": "stream",
       "stream": "stdout",
       "text": [
        "\n",
        "Iteration n\u00b0105 - MSE: 10065478389.982399"
       ]
      },
      {
       "output_type": "stream",
       "stream": "stdout",
       "text": [
        "\n",
        "Iteration n\u00b0106 - MSE: 9988665984.333010"
       ]
      },
      {
       "output_type": "stream",
       "stream": "stdout",
       "text": [
        "\n",
        "Iteration n\u00b0107 - MSE: 9913034924.752279"
       ]
      },
      {
       "output_type": "stream",
       "stream": "stdout",
       "text": [
        "\n",
        "Iteration n\u00b0108 - MSE: 9838556883.733807"
       ]
      },
      {
       "output_type": "stream",
       "stream": "stdout",
       "text": [
        "\n",
        "Iteration n\u00b0109 - MSE: 9765204462.181814"
       ]
      },
      {
       "output_type": "stream",
       "stream": "stdout",
       "text": [
        "\n",
        "Iteration n\u00b0110 - MSE: 9692951150.897346"
       ]
      },
      {
       "output_type": "stream",
       "stream": "stdout",
       "text": [
        "\n",
        "Iteration n\u00b0111 - MSE: 9621771293.990242"
       ]
      },
      {
       "output_type": "stream",
       "stream": "stdout",
       "text": [
        "\n",
        "Iteration n\u00b0112 - MSE: 9551640054.104057"
       ]
      },
      {
       "output_type": "stream",
       "stream": "stdout",
       "text": [
        "\n",
        "Iteration n\u00b0113 - MSE: 9482533379.349617"
       ]
      },
      {
       "output_type": "stream",
       "stream": "stdout",
       "text": [
        "\n",
        "Iteration n\u00b0114 - MSE: 9414427971.849129"
       ]
      },
      {
       "output_type": "stream",
       "stream": "stdout",
       "text": [
        "\n",
        "Iteration n\u00b0115 - MSE: 9347301257.799267"
       ]
      },
      {
       "output_type": "stream",
       "stream": "stdout",
       "text": [
        "\n",
        "Iteration n\u00b0116 - MSE: 9281131358.967815"
       ]
      },
      {
       "output_type": "stream",
       "stream": "stdout",
       "text": [
        "\n",
        "Iteration n\u00b0117 - MSE: 9215897065.543802"
       ]
      },
      {
       "output_type": "stream",
       "stream": "stdout",
       "text": [
        "\n",
        "Iteration n\u00b0118 - MSE: 9151577810.266054"
       ]
      },
      {
       "output_type": "stream",
       "stream": "stdout",
       "text": [
        "\n",
        "Iteration n\u00b0119 - MSE: 9088153643.759808"
       ]
      },
      {
       "output_type": "stream",
       "stream": "stdout",
       "text": [
        "\n",
        "Iteration n\u00b0120 - MSE: 9025605211.015936"
       ]
      },
      {
       "output_type": "stream",
       "stream": "stdout",
       "text": [
        "\n",
        "Iteration n\u00b0121 - MSE: 8963913728.950415"
       ]
      },
      {
       "output_type": "stream",
       "stream": "stdout",
       "text": [
        "\n",
        "Iteration n\u00b0122 - MSE: 8903060964.986826"
       ]
      },
      {
       "output_type": "stream",
       "stream": "stdout",
       "text": [
        "\n",
        "Iteration n\u00b0123 - MSE: 8843029216.606791"
       ]
      },
      {
       "output_type": "stream",
       "stream": "stdout",
       "text": [
        "\n",
        "Iteration n\u00b0124 - MSE: 8783801291.817606"
       ]
      },
      {
       "output_type": "stream",
       "stream": "stdout",
       "text": [
        "\n",
        "Iteration n\u00b0125 - MSE: 8725360490.489063"
       ]
      },
      {
       "output_type": "stream",
       "stream": "stdout",
       "text": [
        "\n",
        "Iteration n\u00b0126 - MSE: 8667690586.514042"
       ]
      },
      {
       "output_type": "stream",
       "stream": "stdout",
       "text": [
        "\n",
        "Iteration n\u00b0127 - MSE: 8610775810.750631"
       ]
      },
      {
       "output_type": "stream",
       "stream": "stdout",
       "text": [
        "\n",
        "Iteration n\u00b0128 - MSE: 8554600834.705772"
       ]
      },
      {
       "output_type": "stream",
       "stream": "stdout",
       "text": [
        "\n",
        "Iteration n\u00b0129 - MSE: 8499150754.922436"
       ]
      },
      {
       "output_type": "stream",
       "stream": "stdout",
       "text": [
        "\n",
        "Iteration n\u00b0130 - MSE: 8444411078.035473"
       ]
      },
      {
       "output_type": "stream",
       "stream": "stdout",
       "text": [
        "\n",
        "Iteration n\u00b0131 - MSE: 8390367706.462133"
       ]
      },
      {
       "output_type": "stream",
       "stream": "stdout",
       "text": [
        "\n",
        "Iteration n\u00b0132 - MSE: 8337006924.695945"
       ]
      },
      {
       "output_type": "stream",
       "stream": "stdout",
       "text": [
        "\n",
        "Iteration n\u00b0133 - MSE: 8284315386.174359"
       ]
      },
      {
       "output_type": "stream",
       "stream": "stdout",
       "text": [
        "\n",
        "Iteration n\u00b0134 - MSE: 8232280100.691877"
       ]
      },
      {
       "output_type": "stream",
       "stream": "stdout",
       "text": [
        "\n",
        "Iteration n\u00b0135 - MSE: 8180888422.332195"
       ]
      },
      {
       "output_type": "stream",
       "stream": "stdout",
       "text": [
        "\n",
        "Iteration n\u00b0136 - MSE: 8130128037.894485"
       ]
      },
      {
       "output_type": "stream",
       "stream": "stdout",
       "text": [
        "\n",
        "Iteration n\u00b0137 - MSE: 8079986955.790070"
       ]
      },
      {
       "output_type": "stream",
       "stream": "stdout",
       "text": [
        "\n",
        "Iteration n\u00b0138 - MSE: 8030453495.387019"
       ]
      },
      {
       "output_type": "stream",
       "stream": "stdout",
       "text": [
        "\n",
        "Iteration n\u00b0139 - MSE: 7981516276.781703"
       ]
      },
      {
       "output_type": "stream",
       "stream": "stdout",
       "text": [
        "\n",
        "Iteration n\u00b0140 - MSE: 7933164210.977278"
       ]
      },
      {
       "output_type": "stream",
       "stream": "stdout",
       "text": [
        "\n",
        "Iteration n\u00b0141 - MSE: 7885386490.449964"
       ]
      },
      {
       "output_type": "stream",
       "stream": "stdout",
       "text": [
        "\n",
        "Iteration n\u00b0142 - MSE: 7838172580.085497"
       ]
      },
      {
       "output_type": "stream",
       "stream": "stdout",
       "text": [
        "\n",
        "Iteration n\u00b0143 - MSE: 7791512208.468554"
       ]
      },
      {
       "output_type": "stream",
       "stream": "stdout",
       "text": [
        "\n",
        "Iteration n\u00b0144 - MSE: 7745395359.509061"
       ]
      },
      {
       "output_type": "stream",
       "stream": "stdout",
       "text": [
        "\n",
        "Iteration n\u00b0145 - MSE: 7699812264.390318"
       ]
      },
      {
       "output_type": "stream",
       "stream": "stdout",
       "text": [
        "\n",
        "Iteration n\u00b0146 - MSE: 7654753393.824235"
       ]
      },
      {
       "output_type": "stream",
       "stream": "stdout",
       "text": [
        "\n",
        "Iteration n\u00b0147 - MSE: 7610209450.600162"
       ]
      },
      {
       "output_type": "stream",
       "stream": "stdout",
       "text": [
        "\n",
        "Iteration n\u00b0148 - MSE: 7566171362.414093"
       ]
      },
      {
       "output_type": "stream",
       "stream": "stdout",
       "text": [
        "\n",
        "Iteration n\u00b0149 - MSE: 7522630274.966072"
       ]
      },
      {
       "output_type": "stream",
       "stream": "stdout",
       "text": [
        "\n",
        "Iteration n\u00b0150 - MSE: 7479577545.314068"
       ]
      },
      {
       "output_type": "stream",
       "stream": "stdout",
       "text": [
        "\n",
        "Iteration n\u00b0151 - MSE: 7437004735.472830"
       ]
      },
      {
       "output_type": "stream",
       "stream": "stdout",
       "text": [
        "\n",
        "Iteration n\u00b0152 - MSE: 7394903606.247619"
       ]
      },
      {
       "output_type": "stream",
       "stream": "stdout",
       "text": [
        "\n",
        "Iteration n\u00b0153 - MSE: 7353266111.292450"
       ]
      },
      {
       "output_type": "stream",
       "stream": "stdout",
       "text": [
        "\n",
        "Iteration n\u00b0154 - MSE: 7312084391.383169"
       ]
      },
      {
       "output_type": "stream",
       "stream": "stdout",
       "text": [
        "\n",
        "Iteration n\u00b0155 - MSE: 7271350768.896633"
       ]
      },
      {
       "output_type": "stream",
       "stream": "stdout",
       "text": [
        "\n",
        "Iteration n\u00b0156 - MSE: 7231057742.486901"
       ]
      },
      {
       "output_type": "stream",
       "stream": "stdout",
       "text": [
        "\n",
        "Iteration n\u00b0157 - MSE: 7191197981.950549"
       ]
      },
      {
       "output_type": "stream",
       "stream": "stdout",
       "text": [
        "\n",
        "Iteration n\u00b0158 - MSE: 7151764323.272882"
       ]
      },
      {
       "output_type": "stream",
       "stream": "stdout",
       "text": [
        "\n",
        "Iteration n\u00b0159 - MSE: 7112749763.847914"
       ]
      },
      {
       "output_type": "stream",
       "stream": "stdout",
       "text": [
        "\n",
        "Iteration n\u00b0160 - MSE: 7074147457.864800"
       ]
      },
      {
       "output_type": "stream",
       "stream": "stdout",
       "text": [
        "\n",
        "Iteration n\u00b0161 - MSE: 7035950711.853900"
       ]
      },
      {
       "output_type": "stream",
       "stream": "stdout",
       "text": [
        "\n",
        "Iteration n\u00b0162 - MSE: 6998152980.386081"
       ]
      },
      {
       "output_type": "stream",
       "stream": "stdout",
       "text": [
        "\n",
        "Iteration n\u00b0163 - MSE: 6960747861.919088"
       ]
      },
      {
       "output_type": "stream",
       "stream": "stdout",
       "text": [
        "\n",
        "Iteration n\u00b0164 - MSE: 6923729094.784943"
       ]
      },
      {
       "output_type": "stream",
       "stream": "stdout",
       "text": [
        "\n",
        "Iteration n\u00b0165 - MSE: 6887090553.313059"
       ]
      },
      {
       "output_type": "stream",
       "stream": "stdout",
       "text": [
        "\n",
        "Iteration n\u00b0166 - MSE: 6850826244.083296"
       ]
      },
      {
       "output_type": "stream",
       "stream": "stdout",
       "text": [
        "\n",
        "Iteration n\u00b0167 - MSE: 6814930302.304121"
       ]
      },
      {
       "output_type": "stream",
       "stream": "stdout",
       "text": [
        "\n",
        "Iteration n\u00b0168 - MSE: 6779396988.311089"
       ]
      },
      {
       "output_type": "stream",
       "stream": "stdout",
       "text": [
        "\n",
        "Iteration n\u00b0169 - MSE: 6744220684.180367"
       ]
      },
      {
       "output_type": "stream",
       "stream": "stdout",
       "text": [
        "\n",
        "Iteration n\u00b0170 - MSE: 6709395890.453726"
       ]
      },
      {
       "output_type": "stream",
       "stream": "stdout",
       "text": [
        "\n",
        "Iteration n\u00b0171 - MSE: 6674917222.970027"
       ]
      },
      {
       "output_type": "stream",
       "stream": "stdout",
       "text": [
        "\n",
        "Iteration n\u00b0172 - MSE: 6640779409.799262"
       ]
      },
      {
       "output_type": "stream",
       "stream": "stdout",
       "text": [
        "\n",
        "Iteration n\u00b0173 - MSE: 6606977288.275688"
       ]
      },
      {
       "output_type": "stream",
       "stream": "stdout",
       "text": [
        "\n",
        "Iteration n\u00b0174 - MSE: 6573505802.125623"
       ]
      },
      {
       "output_type": "stream",
       "stream": "stdout",
       "text": [
        "\n",
        "Iteration n\u00b0175 - MSE: 6540359998.686929"
       ]
      },
      {
       "output_type": "stream",
       "stream": "stdout",
       "text": [
        "\n",
        "Iteration n\u00b0176 - MSE: 6507535026.216434"
       ]
      },
      {
       "output_type": "stream",
       "stream": "stdout",
       "text": [
        "\n",
        "Iteration n\u00b0177 - MSE: 6475026131.282176"
       ]
      },
      {
       "output_type": "stream",
       "stream": "stdout",
       "text": [
        "\n",
        "Iteration n\u00b0178 - MSE: 6442828656.237186"
       ]
      },
      {
       "output_type": "stream",
       "stream": "stdout",
       "text": [
        "\n",
        "Iteration n\u00b0179 - MSE: 6410938036.772110"
       ]
      },
      {
       "output_type": "stream",
       "stream": "stdout",
       "text": [
        "\n",
        "Iteration n\u00b0180 - MSE: 6379349799.543394"
       ]
      },
      {
       "output_type": "stream",
       "stream": "stdout",
       "text": [
        "\n",
        "Iteration n\u00b0181 - MSE: 6348059559.874510"
       ]
      },
      {
       "output_type": "stream",
       "stream": "stdout",
       "text": [
        "\n",
        "Iteration n\u00b0182 - MSE: 6317063019.527762"
       ]
      },
      {
       "output_type": "stream",
       "stream": "stdout",
       "text": [
        "\n",
        "Iteration n\u00b0183 - MSE: 6286355964.543645"
       ]
      },
      {
       "output_type": "stream",
       "stream": "stdout",
       "text": [
        "\n",
        "Iteration n\u00b0184 - MSE: 6255934263.145871"
       ]
      },
      {
       "output_type": "stream",
       "stream": "stdout",
       "text": [
        "\n",
        "Iteration n\u00b0185 - MSE: 6225793863.709394"
       ]
      },
      {
       "output_type": "stream",
       "stream": "stdout",
       "text": [
        "\n",
        "Iteration n\u00b0186 - MSE: 6195930792.789299"
       ]
      },
      {
       "output_type": "stream",
       "stream": "stdout",
       "text": [
        "\n",
        "Iteration n\u00b0187 - MSE: 6166341153.208449"
       ]
      },
      {
       "output_type": "stream",
       "stream": "stdout",
       "text": [
        "\n",
        "Iteration n\u00b0188 - MSE: 6137021122.201773"
       ]
      },
      {
       "output_type": "stream",
       "stream": "stdout",
       "text": [
        "\n",
        "Iteration n\u00b0189 - MSE: 6107966949.615359"
       ]
      },
      {
       "output_type": "stream",
       "stream": "stdout",
       "text": [
        "\n",
        "Iteration n\u00b0190 - MSE: 6079174956.158216"
       ]
      },
      {
       "output_type": "stream",
       "stream": "stdout",
       "text": [
        "\n",
        "Iteration n\u00b0191 - MSE: 6050641531.705123"
       ]
      },
      {
       "output_type": "stream",
       "stream": "stdout",
       "text": [
        "\n",
        "Iteration n\u00b0192 - MSE: 6022363133.648727"
       ]
      },
      {
       "output_type": "stream",
       "stream": "stdout",
       "text": [
        "\n",
        "Iteration n\u00b0193 - MSE: 5994336285.299201"
       ]
      },
      {
       "output_type": "stream",
       "stream": "stdout",
       "text": [
        "\n",
        "Iteration n\u00b0194 - MSE: 5966557574.329814"
       ]
      },
      {
       "output_type": "stream",
       "stream": "stdout",
       "text": [
        "\n",
        "Iteration n\u00b0195 - MSE: 5939023651.266987"
       ]
      },
      {
       "output_type": "stream",
       "stream": "stdout",
       "text": [
        "\n",
        "Iteration n\u00b0196 - MSE: 5911731228.023202"
       ]
      },
      {
       "output_type": "stream",
       "stream": "stdout",
       "text": [
        "\n",
        "Iteration n\u00b0197 - MSE: 5884677076.471476"
       ]
      },
      {
       "output_type": "stream",
       "stream": "stdout",
       "text": [
        "\n",
        "Iteration n\u00b0198 - MSE: 5857858027.059848"
       ]
      },
      {
       "output_type": "stream",
       "stream": "stdout",
       "text": [
        "\n",
        "Iteration n\u00b0199 - MSE: 5831270967.464776"
       ]
      },
      {
       "output_type": "stream",
       "stream": "stdout",
       "text": [
        "\n"
       ]
      }
     ],
     "prompt_number": 25
    },
    {
     "cell_type": "code",
     "collapsed": false,
     "input": [
      "mod2 = LinearModule(100,28*28)\n",
      "mod1 = LinearModule(28*28,100)\n",
      "\n",
      "AE = MultiModule([mod1,TanhModule(1,1),mod2],SquareLoss())\n",
      "\n",
      "sq = SquareLoss()\n",
      "\n",
      "#print sq.getLossValue(train_data[0],train_data[0])\n",
      "\n",
      "\n",
      "#print mod1.parameters\n",
      "NBITER = 50\n",
      "print \"=======TRAIN ERROR=======\"\n",
      "for i in xrange(0,NBITER):\n",
      "   loss = AE.miniBatchIter(train_data, train_data,batch_size=150,gradient_step=0.000001, verbose=False)\n",
      "   predicted = AE.forwardAll(train_data)\n",
      "   err=0\n",
      "    \n",
      "   for pred,exp in zip(predicted,train_data):\n",
      "       err += np.sum(np.power(pred-exp,2))\n",
      "    \n",
      "        \n",
      "   #print loss\n",
      "   print \"Iteration n\u00b0%d - MSE: %f\" % (i,err/len(predicted))\n",
      "\n",
      "   "
     ],
     "language": "python",
     "metadata": {},
     "outputs": [
      {
       "output_type": "stream",
       "stream": "stdout",
       "text": [
        "=======TRAIN ERROR=======\n",
        "Iteration n\u00b00 - MSE: 5474544.805493"
       ]
      },
      {
       "output_type": "stream",
       "stream": "stdout",
       "text": [
        "\n",
        "Iteration n\u00b01 - MSE: 4691296.058353"
       ]
      },
      {
       "output_type": "stream",
       "stream": "stdout",
       "text": [
        "\n",
        "Iteration n\u00b02 - MSE: 4139160.515617"
       ]
      },
      {
       "output_type": "stream",
       "stream": "stdout",
       "text": [
        "\n",
        "Iteration n\u00b03 - MSE: 3779764.220062"
       ]
      },
      {
       "output_type": "stream",
       "stream": "stdout",
       "text": [
        "\n",
        "Iteration n\u00b04 - MSE: 3553208.713446"
       ]
      },
      {
       "output_type": "stream",
       "stream": "stdout",
       "text": [
        "\n",
        "Iteration n\u00b05 - MSE: 3412589.999868"
       ]
      },
      {
       "output_type": "stream",
       "stream": "stdout",
       "text": [
        "\n",
        "Iteration n\u00b06 - MSE: 3323332.653554"
       ]
      },
      {
       "output_type": "stream",
       "stream": "stdout",
       "text": [
        "\n",
        "Iteration n\u00b07 - MSE: 3267631.267727"
       ]
      },
      {
       "output_type": "stream",
       "stream": "stdout",
       "text": [
        "\n",
        "Iteration n\u00b08 - MSE: 3235355.539840"
       ]
      },
      {
       "output_type": "stream",
       "stream": "stdout",
       "text": [
        "\n",
        "Iteration n\u00b09 - MSE: 3212449.550038"
       ]
      },
      {
       "output_type": "stream",
       "stream": "stdout",
       "text": [
        "\n",
        "Iteration n\u00b010 - MSE: 3196961.497173"
       ]
      },
      {
       "output_type": "stream",
       "stream": "stdout",
       "text": [
        "\n",
        "Iteration n\u00b011 - MSE: 3185971.564809"
       ]
      },
      {
       "output_type": "stream",
       "stream": "stdout",
       "text": [
        "\n",
        "Iteration n\u00b012 - MSE: 3177670.031438"
       ]
      },
      {
       "output_type": "stream",
       "stream": "stdout",
       "text": [
        "\n",
        "Iteration n\u00b013 - MSE: 3173222.553728"
       ]
      },
      {
       "output_type": "stream",
       "stream": "stdout",
       "text": [
        "\n",
        "Iteration n\u00b014 - MSE: 3167941.138180"
       ]
      },
      {
       "output_type": "stream",
       "stream": "stdout",
       "text": [
        "\n",
        "Iteration n\u00b015 - MSE: 3163190.743178"
       ]
      },
      {
       "output_type": "stream",
       "stream": "stdout",
       "text": [
        "\n",
        "Iteration n\u00b016 - MSE: 3158768.362022"
       ]
      },
      {
       "output_type": "stream",
       "stream": "stdout",
       "text": [
        "\n",
        "Iteration n\u00b017 - MSE: 3158572.783054"
       ]
      },
      {
       "output_type": "stream",
       "stream": "stdout",
       "text": [
        "\n",
        "Iteration n\u00b018 - MSE: 3152991.882212"
       ]
      },
      {
       "output_type": "stream",
       "stream": "stdout",
       "text": [
        "\n",
        "Iteration n\u00b019 - MSE: 3147975.929005"
       ]
      },
      {
       "output_type": "stream",
       "stream": "stdout",
       "text": [
        "\n",
        "Iteration n\u00b020 - MSE: 3143291.917147"
       ]
      },
      {
       "output_type": "stream",
       "stream": "stdout",
       "text": [
        "\n",
        "Iteration n\u00b021 - MSE: 3144513.853090"
       ]
      },
      {
       "output_type": "stream",
       "stream": "stdout",
       "text": [
        "\n",
        "Iteration n\u00b022 - MSE: 3139318.945214"
       ]
      },
      {
       "output_type": "stream",
       "stream": "stdout",
       "text": [
        "\n",
        "Iteration n\u00b023 - MSE: 3134607.763933"
       ]
      },
      {
       "output_type": "stream",
       "stream": "stdout",
       "text": [
        "\n",
        "Iteration n\u00b024 - MSE: 3130238.137083"
       ]
      },
      {
       "output_type": "stream",
       "stream": "stdout",
       "text": [
        "\n",
        "Iteration n\u00b025 - MSE: 3126065.335902"
       ]
      },
      {
       "output_type": "stream",
       "stream": "stdout",
       "text": [
        "\n",
        "Iteration n\u00b026 - MSE: 3122018.614280"
       ]
      },
      {
       "output_type": "stream",
       "stream": "stdout",
       "text": [
        "\n",
        "Iteration n\u00b027 - MSE: 3118055.787697"
       ]
      },
      {
       "output_type": "stream",
       "stream": "stdout",
       "text": [
        "\n",
        "Iteration n\u00b028 - MSE: 3114151.787742"
       ]
      },
      {
       "output_type": "stream",
       "stream": "stdout",
       "text": [
        "\n",
        "Iteration n\u00b029 - MSE: 3110291.777949"
       ]
      },
      {
       "output_type": "stream",
       "stream": "stdout",
       "text": [
        "\n",
        "Iteration n\u00b030 - MSE: 3106467.018811"
       ]
      },
      {
       "output_type": "stream",
       "stream": "stdout",
       "text": [
        "\n",
        "Iteration n\u00b031 - MSE: 3102672.388471"
       ]
      },
      {
       "output_type": "stream",
       "stream": "stdout",
       "text": [
        "\n",
        "Iteration n\u00b032 - MSE: 3098904.899574"
       ]
      },
      {
       "output_type": "stream",
       "stream": "stdout",
       "text": [
        "\n",
        "Iteration n\u00b033 - MSE: 3095162.814727"
       ]
      },
      {
       "output_type": "stream",
       "stream": "stdout",
       "text": [
        "\n",
        "Iteration n\u00b034 - MSE: 3091445.121047"
       ]
      },
      {
       "output_type": "stream",
       "stream": "stdout",
       "text": [
        "\n",
        "Iteration n\u00b035 - MSE: 3087751.219676"
       ]
      },
      {
       "output_type": "stream",
       "stream": "stdout",
       "text": [
        "\n",
        "Iteration n\u00b036 - MSE: 3084080.743626"
       ]
      },
      {
       "output_type": "stream",
       "stream": "stdout",
       "text": [
        "\n",
        "Iteration n\u00b037 - MSE: 3080433.451930"
       ]
      },
      {
       "output_type": "stream",
       "stream": "stdout",
       "text": [
        "\n",
        "Iteration n\u00b038 - MSE: 3076809.168974"
       ]
      },
      {
       "output_type": "stream",
       "stream": "stdout",
       "text": [
        "\n",
        "Iteration n\u00b039 - MSE: 3073207.750371"
       ]
      },
      {
       "output_type": "stream",
       "stream": "stdout",
       "text": [
        "\n",
        "Iteration n\u00b040 - MSE: 3069629.064322"
       ]
      },
      {
       "output_type": "stream",
       "stream": "stdout",
       "text": [
        "\n",
        "Iteration n\u00b041 - MSE: 3066072.981878"
       ]
      },
      {
       "output_type": "stream",
       "stream": "stdout",
       "text": [
        "\n",
        "Iteration n\u00b042 - MSE: 3062539.372242"
       ]
      },
      {
       "output_type": "stream",
       "stream": "stdout",
       "text": [
        "\n",
        "Iteration n\u00b043 - MSE: 3059028.100855"
       ]
      },
      {
       "output_type": "stream",
       "stream": "stdout",
       "text": [
        "\n",
        "Iteration n\u00b044 - MSE: 3055539.028939"
       ]
      },
      {
       "output_type": "stream",
       "stream": "stdout",
       "text": [
        "\n",
        "Iteration n\u00b045 - MSE: 3052072.013786"
       ]
      },
      {
       "output_type": "stream",
       "stream": "stdout",
       "text": [
        "\n",
        "Iteration n\u00b046 - MSE: 3048626.909346"
       ]
      },
      {
       "output_type": "stream",
       "stream": "stdout",
       "text": [
        "\n",
        "Iteration n\u00b047 - MSE: 3045203.566924"
       ]
      },
      {
       "output_type": "stream",
       "stream": "stdout",
       "text": [
        "\n",
        "Iteration n\u00b048 - MSE: 3041801.835846"
       ]
      },
      {
       "output_type": "stream",
       "stream": "stdout",
       "text": [
        "\n",
        "Iteration n\u00b049 - MSE: 3038421.564064"
       ]
      },
      {
       "output_type": "stream",
       "stream": "stdout",
       "text": [
        "\n"
       ]
      }
     ],
     "prompt_number": 27
    },
    {
     "cell_type": "code",
     "collapsed": false,
     "input": [
      "init = mod1.forward(train_data[10])\n",
      "b = TanhModule(1,1)\n",
      "comp = b.forward(init)\n",
      "patch = np.zeros(100)\n",
      "patch[10] = 1\n",
      "#plt.imshow(train_data[0].reshape(28,28))\n",
      "plt.imshow(recomp.reshape(28,28))\n",
      "plt.show()"
     ],
     "language": "python",
     "metadata": {},
     "outputs": [],
     "prompt_number": 32
    },
    {
     "cell_type": "code",
     "collapsed": false,
     "input": [],
     "language": "python",
     "metadata": {},
     "outputs": []
    }
   ],
   "metadata": {}
  }
 ]
}