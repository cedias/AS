{
 "metadata": {
  "name": ""
 },
 "nbformat": 3,
 "nbformat_minor": 0,
 "worksheets": [
  {
   "cells": [
    {
     "cell_type": "markdown",
     "metadata": {},
     "source": [
      "Word 2 Vec\n",
      "======"
     ]
    },
    {
     "cell_type": "markdown",
     "metadata": {},
     "source": [
      "Chargement du fichier de phrases"
     ]
    },
    {
     "cell_type": "code",
     "collapsed": false,
     "input": [
      "import io\n",
      "\n",
      "#filename=\"enwiki_20000words\"\n",
      "#filename=\"enwiki_500000words\"\n",
      "filename=\"enwiki_5millions\"\n",
      "\n",
      "file=open(filename,\"r\")\n",
      "lines=file.readlines()\n",
      "file.close()\n",
      "\n",
      "sentences=[]\n",
      "words={}\n",
      "\n",
      "\n",
      "for l in lines:\n",
      "    l=l.rstrip()\n",
      "    l=l.lstrip()\n",
      "    tab=l.split(\" \")\n",
      "    for t in tab:\n",
      "        words[t]=1\n",
      "        sentences.append(t)\n",
      "\n",
      "print \"%d different words and %d length\" % (len(words),len(sentences))"
     ],
     "language": "python",
     "metadata": {},
     "outputs": [
      {
       "output_type": "stream",
       "stream": "stdout",
       "text": [
        "137541 different words and 5291754 length\n"
       ]
      }
     ],
     "prompt_number": 3
    },
    {
     "cell_type": "markdown",
     "metadata": {},
     "source": [
      "Cr\u00e9ation des modules unique par mot"
     ]
    },
    {
     "cell_type": "code",
     "collapsed": false,
     "input": [],
     "language": "python",
     "metadata": {},
     "outputs": []
    },
    {
     "cell_type": "markdown",
     "metadata": {},
     "source": [
      "Apprentissage"
     ]
    },
    {
     "cell_type": "code",
     "collapsed": false,
     "input": [],
     "language": "python",
     "metadata": {},
     "outputs": []
    },
    {
     "cell_type": "markdown",
     "metadata": {},
     "source": [
      "Visualisation"
     ]
    },
    {
     "cell_type": "code",
     "collapsed": false,
     "input": [],
     "language": "python",
     "metadata": {},
     "outputs": []
    }
   ],
   "metadata": {}
  }
 ]
}