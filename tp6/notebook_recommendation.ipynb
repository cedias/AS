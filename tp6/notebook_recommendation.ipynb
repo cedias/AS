{
 "metadata": {
  "name": ""
 },
 "nbformat": 3,
 "nbformat_minor": 0,
 "worksheets": [
  {
   "cells": [
    {
     "cell_type": "markdown",
     "metadata": {},
     "source": [
      "Collaborative Filtering\n",
      "======"
     ]
    },
    {
     "cell_type": "markdown",
     "metadata": {},
     "source": [
      "Chargement des donn\u00e9es Movie Lens"
     ]
    },
    {
     "cell_type": "code",
     "collapsed": false,
     "input": [
      "import io\n",
      "import sys\n",
      "\n",
      "ratings=[]\n",
      "\n",
      "\n",
      "file=open(\"ml-1m/ratings.dat\",\"r\")\n",
      "lines=file.readlines()\n",
      "file.close()\n",
      "\n",
      "for l in lines:\n",
      "    l=l.rstrip()\n",
      "    l=l.lstrip()\n",
      "    tab=l.split(\"::\")\n",
      "    ratings.append([tab[0],tab[1],tab[2]])\n",
      "    \n",
      "print \"Found %d ratings\" % len(ratings)"
     ],
     "language": "python",
     "metadata": {},
     "outputs": [
      {
       "output_type": "stream",
       "stream": "stdout",
       "text": [
        "Found 1000209 ratings\n"
       ]
      }
     ],
     "prompt_number": 3
    },
    {
     "cell_type": "markdown",
     "metadata": {},
     "source": [
      "Calcul des utilisateurs et des items"
     ]
    },
    {
     "cell_type": "code",
     "collapsed": false,
     "input": [
      "users={}\n",
      "items={}\n",
      "\n",
      "for r in ratings:\n",
      "    u=r[0]\n",
      "    if (not u in users):\n",
      "        users[u]=1\n",
      "    i=r[1]\n",
      "    if (not i in items):\n",
      "        items[i]=1\n",
      "\n",
      "print \"Found %d users and %d items.\" % (len(users),len(items))"
     ],
     "language": "python",
     "metadata": {},
     "outputs": [
      {
       "output_type": "stream",
       "stream": "stdout",
       "text": [
        "Found 6040 users and 3706 items.\n"
       ]
      }
     ],
     "prompt_number": 7
    },
    {
     "cell_type": "markdown",
     "metadata": {},
     "source": [
      "S\u00e9paration en train et test"
     ]
    },
    {
     "cell_type": "code",
     "collapsed": false,
     "input": [
      "import random\n",
      "\n",
      "train_ratings=[]\n",
      "test_ratings=[]\n",
      "train_proportion=0.5\n",
      "\n",
      "for r in ratings:\n",
      "    if (random.random()<train_proportion):\n",
      "        train_ratings.append(r)\n",
      "    else:\n",
      "        test_ratings.append(r)\n",
      "\n",
      "print \"Found %d training ratings and %d testing ratings\"%(len(train_ratings),len(test_ratings))\n"
     ],
     "language": "python",
     "metadata": {},
     "outputs": [
      {
       "output_type": "stream",
       "stream": "stdout",
       "text": [
        "Found 500879 training ratings and 499330 testing ratings\n"
       ]
      }
     ],
     "prompt_number": 8
    },
    {
     "cell_type": "markdown",
     "metadata": {},
     "source": [
      "Maintenant il faut:\n",
      "    * initialiser un module unique par user et par item\n",
      "    * Impl\u00e9menter le gradient stochastique\n",
      "    * Calculer le RMSE en test et en train\n"
     ]
    },
    {
     "cell_type": "code",
     "collapsed": false,
     "input": [],
     "language": "python",
     "metadata": {},
     "outputs": []
    }
   ],
   "metadata": {}
  }
 ]
}